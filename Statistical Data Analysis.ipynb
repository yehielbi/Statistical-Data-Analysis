{
 "cells": [
  {
   "cell_type": "markdown",
   "metadata": {},
   "source": [
    "# **Project description and introduction**\n",
    "\n",
    "i'm an analyst for the telecom operator Megaline. The company offers its clients two prepaid plans, Surf and Ultimate. \n",
    "\n",
    "The commercial department wants to know which of the plans brings in more revenue in order to adjust the advertising budget.\n",
    "i am going to carry out a preliminary analysis of the plans based on a relatively small client selection. i have the data on 500 Megaline clients: \n",
    "\n",
    "who the clients are, where they're from, which plan they use, and the number of calls they made and text messages they sent in 2018. i am going to analyze clients' behavior and determine which prepaid plan brings in more revenue to Megaline."
   ]
  },
  {
   "cell_type": "code",
   "execution_count": 1,
   "metadata": {},
   "outputs": [],
   "source": [
    "import pandas as pd\n",
    "import numpy as np\n",
    "import matplotlib.pyplot as plt\n",
    "import plotly.express as px\n",
    "import scipy.stats as st\n",
    "import scipy.stats as levene\n",
    "import datetime as dt\n",
    "import seaborn as sns\n",
    "from functools import reduce"
   ]
  },
  {
   "cell_type": "code",
   "execution_count": 2,
   "metadata": {},
   "outputs": [],
   "source": [
    "ml_calls= pd.read_csv('/datasets/megaline_calls.csv')\n",
    "ml_internet= pd.read_csv('/datasets/megaline_internet.csv') \n",
    "ml_messages= pd.read_csv('/datasets/megaline_messages.csv') \n",
    "ml_plans= pd.read_csv('/datasets/megaline_plans.csv') \n",
    "ml_users= pd.read_csv('/datasets/megaline_users.csv')"
   ]
  },
  {
   "cell_type": "markdown",
   "metadata": {},
   "source": [
    "# my work plan is as follow\n",
    " **1. Prepare the data**\n",
    "* Identify and study missing values and bad dtypes in all of the data sets. and after studying them treat them as follow:\n",
    "* Check for duplicates and NAN in the data sets.\n",
    "* add month column to ml_calls, ml_internet, ml_messages and take the info from the call_date, session_date and message_date       columns. \n",
    "* round up duration in ml_calls\n",
    "* Groupby each of the next data sets, ml_internet, ml_calls, separately by count and sum of user_id and month columns.\n",
    "* Groupby ml_messages dataset by count of user_id, month and id columns.\n",
    "* Merge  ml_internet, ml_calls ml_messages and ml_users into one dataset.\n",
    "* Turn megabytes into gigabytes and round it up.\n",
    "* Check nan in the merged dataset and then fill them with zero.\n",
    "* find For each user the number of calls made and minutes used per month, the number of text messages sent per month, the   \n",
    "  volume of data per month and the monthly revenue from each user.\n",
    " \n",
    "**2. Analyze the data** \n",
    "* in order to examine the mean, variance and standard_deviation of each ultimat and surf plan i intend to plot histograms for   \n",
    "  each of the next parameters insaid the ultimate and surf plan: sms_total, calls_sum_month, giga_sum_month, total_cost.\n",
    "  \n",
    "**3. Test the hypotheses**  \n",
    "* my last step before writing the final conclusion is to find the average revenue from users of Ultimate and Surf calling plans   differs, and find the average revenue from users in NY-NJ area is different from that of the users from other regions. \n",
    "\n",
    "**4. Write an overall conclusion**\n",
    "\n",
    "**5. Write a main conclusion**"
   ]
  },
  {
   "cell_type": "markdown",
   "metadata": {},
   "source": [
    "# 1.  Prepare the data"
   ]
  },
  {
   "cell_type": "code",
   "execution_count": 3,
   "metadata": {},
   "outputs": [
    {
     "data": {
      "text/html": [
       "<div>\n",
       "<style scoped>\n",
       "    .dataframe tbody tr th:only-of-type {\n",
       "        vertical-align: middle;\n",
       "    }\n",
       "\n",
       "    .dataframe tbody tr th {\n",
       "        vertical-align: top;\n",
       "    }\n",
       "\n",
       "    .dataframe thead th {\n",
       "        text-align: right;\n",
       "    }\n",
       "</style>\n",
       "<table border=\"1\" class=\"dataframe\">\n",
       "  <thead>\n",
       "    <tr style=\"text-align: right;\">\n",
       "      <th></th>\n",
       "      <th>id</th>\n",
       "      <th>user_id</th>\n",
       "      <th>call_date</th>\n",
       "      <th>duration</th>\n",
       "    </tr>\n",
       "  </thead>\n",
       "  <tbody>\n",
       "    <tr>\n",
       "      <th>0</th>\n",
       "      <td>1000_93</td>\n",
       "      <td>1000</td>\n",
       "      <td>2018-12-27</td>\n",
       "      <td>8.52</td>\n",
       "    </tr>\n",
       "    <tr>\n",
       "      <th>1</th>\n",
       "      <td>1000_145</td>\n",
       "      <td>1000</td>\n",
       "      <td>2018-12-27</td>\n",
       "      <td>13.66</td>\n",
       "    </tr>\n",
       "    <tr>\n",
       "      <th>2</th>\n",
       "      <td>1000_247</td>\n",
       "      <td>1000</td>\n",
       "      <td>2018-12-27</td>\n",
       "      <td>14.48</td>\n",
       "    </tr>\n",
       "    <tr>\n",
       "      <th>3</th>\n",
       "      <td>1000_309</td>\n",
       "      <td>1000</td>\n",
       "      <td>2018-12-28</td>\n",
       "      <td>5.76</td>\n",
       "    </tr>\n",
       "    <tr>\n",
       "      <th>4</th>\n",
       "      <td>1000_380</td>\n",
       "      <td>1000</td>\n",
       "      <td>2018-12-30</td>\n",
       "      <td>4.22</td>\n",
       "    </tr>\n",
       "    <tr>\n",
       "      <th>...</th>\n",
       "      <td>...</td>\n",
       "      <td>...</td>\n",
       "      <td>...</td>\n",
       "      <td>...</td>\n",
       "    </tr>\n",
       "    <tr>\n",
       "      <th>137730</th>\n",
       "      <td>1499_199</td>\n",
       "      <td>1499</td>\n",
       "      <td>2018-11-21</td>\n",
       "      <td>8.72</td>\n",
       "    </tr>\n",
       "    <tr>\n",
       "      <th>137731</th>\n",
       "      <td>1499_200</td>\n",
       "      <td>1499</td>\n",
       "      <td>2018-10-20</td>\n",
       "      <td>10.89</td>\n",
       "    </tr>\n",
       "    <tr>\n",
       "      <th>137732</th>\n",
       "      <td>1499_201</td>\n",
       "      <td>1499</td>\n",
       "      <td>2018-09-21</td>\n",
       "      <td>8.12</td>\n",
       "    </tr>\n",
       "    <tr>\n",
       "      <th>137733</th>\n",
       "      <td>1499_202</td>\n",
       "      <td>1499</td>\n",
       "      <td>2018-10-10</td>\n",
       "      <td>0.37</td>\n",
       "    </tr>\n",
       "    <tr>\n",
       "      <th>137734</th>\n",
       "      <td>1499_203</td>\n",
       "      <td>1499</td>\n",
       "      <td>2018-12-29</td>\n",
       "      <td>13.86</td>\n",
       "    </tr>\n",
       "  </tbody>\n",
       "</table>\n",
       "<p>137735 rows × 4 columns</p>\n",
       "</div>"
      ],
      "text/plain": [
       "              id  user_id   call_date  duration\n",
       "0        1000_93     1000  2018-12-27      8.52\n",
       "1       1000_145     1000  2018-12-27     13.66\n",
       "2       1000_247     1000  2018-12-27     14.48\n",
       "3       1000_309     1000  2018-12-28      5.76\n",
       "4       1000_380     1000  2018-12-30      4.22\n",
       "...          ...      ...         ...       ...\n",
       "137730  1499_199     1499  2018-11-21      8.72\n",
       "137731  1499_200     1499  2018-10-20     10.89\n",
       "137732  1499_201     1499  2018-09-21      8.12\n",
       "137733  1499_202     1499  2018-10-10      0.37\n",
       "137734  1499_203     1499  2018-12-29     13.86\n",
       "\n",
       "[137735 rows x 4 columns]"
      ]
     },
     "execution_count": 3,
     "metadata": {},
     "output_type": "execute_result"
    }
   ],
   "source": [
    "ml_calls"
   ]
  },
  {
   "cell_type": "code",
   "execution_count": 4,
   "metadata": {},
   "outputs": [
    {
     "data": {
      "text/html": [
       "<div>\n",
       "<style scoped>\n",
       "    .dataframe tbody tr th:only-of-type {\n",
       "        vertical-align: middle;\n",
       "    }\n",
       "\n",
       "    .dataframe tbody tr th {\n",
       "        vertical-align: top;\n",
       "    }\n",
       "\n",
       "    .dataframe thead th {\n",
       "        text-align: right;\n",
       "    }\n",
       "</style>\n",
       "<table border=\"1\" class=\"dataframe\">\n",
       "  <thead>\n",
       "    <tr style=\"text-align: right;\">\n",
       "      <th></th>\n",
       "      <th>user_id</th>\n",
       "      <th>duration</th>\n",
       "    </tr>\n",
       "  </thead>\n",
       "  <tbody>\n",
       "    <tr>\n",
       "      <th>count</th>\n",
       "      <td>137735.000000</td>\n",
       "      <td>137735.000000</td>\n",
       "    </tr>\n",
       "    <tr>\n",
       "      <th>mean</th>\n",
       "      <td>1247.658046</td>\n",
       "      <td>6.745927</td>\n",
       "    </tr>\n",
       "    <tr>\n",
       "      <th>std</th>\n",
       "      <td>139.416268</td>\n",
       "      <td>5.839241</td>\n",
       "    </tr>\n",
       "    <tr>\n",
       "      <th>min</th>\n",
       "      <td>1000.000000</td>\n",
       "      <td>0.000000</td>\n",
       "    </tr>\n",
       "    <tr>\n",
       "      <th>25%</th>\n",
       "      <td>1128.000000</td>\n",
       "      <td>1.290000</td>\n",
       "    </tr>\n",
       "    <tr>\n",
       "      <th>50%</th>\n",
       "      <td>1247.000000</td>\n",
       "      <td>5.980000</td>\n",
       "    </tr>\n",
       "    <tr>\n",
       "      <th>75%</th>\n",
       "      <td>1365.000000</td>\n",
       "      <td>10.690000</td>\n",
       "    </tr>\n",
       "    <tr>\n",
       "      <th>max</th>\n",
       "      <td>1499.000000</td>\n",
       "      <td>37.600000</td>\n",
       "    </tr>\n",
       "  </tbody>\n",
       "</table>\n",
       "</div>"
      ],
      "text/plain": [
       "             user_id       duration\n",
       "count  137735.000000  137735.000000\n",
       "mean     1247.658046       6.745927\n",
       "std       139.416268       5.839241\n",
       "min      1000.000000       0.000000\n",
       "25%      1128.000000       1.290000\n",
       "50%      1247.000000       5.980000\n",
       "75%      1365.000000      10.690000\n",
       "max      1499.000000      37.600000"
      ]
     },
     "execution_count": 4,
     "metadata": {},
     "output_type": "execute_result"
    }
   ],
   "source": [
    "ml_calls.describe()"
   ]
  },
  {
   "cell_type": "code",
   "execution_count": 5,
   "metadata": {},
   "outputs": [
    {
     "name": "stdout",
     "output_type": "stream",
     "text": [
      "<class 'pandas.core.frame.DataFrame'>\n",
      "RangeIndex: 137735 entries, 0 to 137734\n",
      "Data columns (total 4 columns):\n",
      " #   Column     Non-Null Count   Dtype  \n",
      "---  ------     --------------   -----  \n",
      " 0   id         137735 non-null  object \n",
      " 1   user_id    137735 non-null  int64  \n",
      " 2   call_date  137735 non-null  object \n",
      " 3   duration   137735 non-null  float64\n",
      "dtypes: float64(1), int64(1), object(2)\n",
      "memory usage: 4.2+ MB\n"
     ]
    }
   ],
   "source": [
    "ml_calls.info()"
   ]
  },
  {
   "cell_type": "code",
   "execution_count": 6,
   "metadata": {},
   "outputs": [
    {
     "data": {
      "text/plain": [
       "id           0.0\n",
       "user_id      0.0\n",
       "call_date    0.0\n",
       "duration     0.0\n",
       "dtype: float64"
      ]
     },
     "execution_count": 6,
     "metadata": {},
     "output_type": "execute_result"
    }
   ],
   "source": [
    "ml_calls.isnull().sum() / len(ml_calls)"
   ]
  },
  {
   "cell_type": "markdown",
   "metadata": {},
   "source": [
    "**Change the call_date column from an object to a datetime64, and add a month column that will be taken from the call date column.**"
   ]
  },
  {
   "cell_type": "code",
   "execution_count": 7,
   "metadata": {},
   "outputs": [],
   "source": [
    "ml_calls['call_date'] = pd.to_datetime(ml_calls.call_date, format='%Y-%m-%d')"
   ]
  },
  {
   "cell_type": "code",
   "execution_count": 8,
   "metadata": {},
   "outputs": [],
   "source": [
    "ml_calls['month'] = pd.DatetimeIndex(ml_calls['call_date']).month"
   ]
  },
  {
   "cell_type": "code",
   "execution_count": 9,
   "metadata": {},
   "outputs": [
    {
     "name": "stdout",
     "output_type": "stream",
     "text": [
      "<class 'pandas.core.frame.DataFrame'>\n",
      "RangeIndex: 137735 entries, 0 to 137734\n",
      "Data columns (total 5 columns):\n",
      " #   Column     Non-Null Count   Dtype         \n",
      "---  ------     --------------   -----         \n",
      " 0   id         137735 non-null  object        \n",
      " 1   user_id    137735 non-null  int64         \n",
      " 2   call_date  137735 non-null  datetime64[ns]\n",
      " 3   duration   137735 non-null  float64       \n",
      " 4   month      137735 non-null  int64         \n",
      "dtypes: datetime64[ns](1), float64(1), int64(2), object(1)\n",
      "memory usage: 5.3+ MB\n",
      "              id  user_id  call_date  duration  month\n",
      "0        1000_93     1000 2018-12-27      8.52     12\n",
      "1       1000_145     1000 2018-12-27     13.66     12\n",
      "2       1000_247     1000 2018-12-27     14.48     12\n",
      "3       1000_309     1000 2018-12-28      5.76     12\n",
      "4       1000_380     1000 2018-12-30      4.22     12\n",
      "...          ...      ...        ...       ...    ...\n",
      "137730  1499_199     1499 2018-11-21      8.72     11\n",
      "137731  1499_200     1499 2018-10-20     10.89     10\n",
      "137732  1499_201     1499 2018-09-21      8.12      9\n",
      "137733  1499_202     1499 2018-10-10      0.37     10\n",
      "137734  1499_203     1499 2018-12-29     13.86     12\n",
      "\n",
      "[137735 rows x 5 columns]\n"
     ]
    }
   ],
   "source": [
    "ml_calls.info()\n",
    "print(ml_calls)"
   ]
  },
  {
   "cell_type": "code",
   "execution_count": 10,
   "metadata": {},
   "outputs": [
    {
     "data": {
      "text/html": [
       "<div>\n",
       "<style scoped>\n",
       "    .dataframe tbody tr th:only-of-type {\n",
       "        vertical-align: middle;\n",
       "    }\n",
       "\n",
       "    .dataframe tbody tr th {\n",
       "        vertical-align: top;\n",
       "    }\n",
       "\n",
       "    .dataframe thead th {\n",
       "        text-align: right;\n",
       "    }\n",
       "</style>\n",
       "<table border=\"1\" class=\"dataframe\">\n",
       "  <thead>\n",
       "    <tr style=\"text-align: right;\">\n",
       "      <th></th>\n",
       "      <th>id</th>\n",
       "      <th>user_id</th>\n",
       "      <th>session_date</th>\n",
       "      <th>mb_used</th>\n",
       "    </tr>\n",
       "  </thead>\n",
       "  <tbody>\n",
       "    <tr>\n",
       "      <th>0</th>\n",
       "      <td>1000_13</td>\n",
       "      <td>1000</td>\n",
       "      <td>2018-12-29</td>\n",
       "      <td>89.86</td>\n",
       "    </tr>\n",
       "    <tr>\n",
       "      <th>1</th>\n",
       "      <td>1000_204</td>\n",
       "      <td>1000</td>\n",
       "      <td>2018-12-31</td>\n",
       "      <td>0.00</td>\n",
       "    </tr>\n",
       "    <tr>\n",
       "      <th>2</th>\n",
       "      <td>1000_379</td>\n",
       "      <td>1000</td>\n",
       "      <td>2018-12-28</td>\n",
       "      <td>660.40</td>\n",
       "    </tr>\n",
       "    <tr>\n",
       "      <th>3</th>\n",
       "      <td>1000_413</td>\n",
       "      <td>1000</td>\n",
       "      <td>2018-12-26</td>\n",
       "      <td>270.99</td>\n",
       "    </tr>\n",
       "    <tr>\n",
       "      <th>4</th>\n",
       "      <td>1000_442</td>\n",
       "      <td>1000</td>\n",
       "      <td>2018-12-27</td>\n",
       "      <td>880.22</td>\n",
       "    </tr>\n",
       "    <tr>\n",
       "      <th>...</th>\n",
       "      <td>...</td>\n",
       "      <td>...</td>\n",
       "      <td>...</td>\n",
       "      <td>...</td>\n",
       "    </tr>\n",
       "    <tr>\n",
       "      <th>104820</th>\n",
       "      <td>1499_215</td>\n",
       "      <td>1499</td>\n",
       "      <td>2018-10-20</td>\n",
       "      <td>218.06</td>\n",
       "    </tr>\n",
       "    <tr>\n",
       "      <th>104821</th>\n",
       "      <td>1499_216</td>\n",
       "      <td>1499</td>\n",
       "      <td>2018-12-30</td>\n",
       "      <td>304.72</td>\n",
       "    </tr>\n",
       "    <tr>\n",
       "      <th>104822</th>\n",
       "      <td>1499_217</td>\n",
       "      <td>1499</td>\n",
       "      <td>2018-09-22</td>\n",
       "      <td>292.75</td>\n",
       "    </tr>\n",
       "    <tr>\n",
       "      <th>104823</th>\n",
       "      <td>1499_218</td>\n",
       "      <td>1499</td>\n",
       "      <td>2018-12-07</td>\n",
       "      <td>0.00</td>\n",
       "    </tr>\n",
       "    <tr>\n",
       "      <th>104824</th>\n",
       "      <td>1499_219</td>\n",
       "      <td>1499</td>\n",
       "      <td>2018-12-24</td>\n",
       "      <td>758.31</td>\n",
       "    </tr>\n",
       "  </tbody>\n",
       "</table>\n",
       "<p>104825 rows × 4 columns</p>\n",
       "</div>"
      ],
      "text/plain": [
       "              id  user_id session_date  mb_used\n",
       "0        1000_13     1000   2018-12-29    89.86\n",
       "1       1000_204     1000   2018-12-31     0.00\n",
       "2       1000_379     1000   2018-12-28   660.40\n",
       "3       1000_413     1000   2018-12-26   270.99\n",
       "4       1000_442     1000   2018-12-27   880.22\n",
       "...          ...      ...          ...      ...\n",
       "104820  1499_215     1499   2018-10-20   218.06\n",
       "104821  1499_216     1499   2018-12-30   304.72\n",
       "104822  1499_217     1499   2018-09-22   292.75\n",
       "104823  1499_218     1499   2018-12-07     0.00\n",
       "104824  1499_219     1499   2018-12-24   758.31\n",
       "\n",
       "[104825 rows x 4 columns]"
      ]
     },
     "execution_count": 10,
     "metadata": {},
     "output_type": "execute_result"
    }
   ],
   "source": [
    "ml_internet"
   ]
  },
  {
   "cell_type": "code",
   "execution_count": 11,
   "metadata": {},
   "outputs": [
    {
     "data": {
      "text/html": [
       "<div>\n",
       "<style scoped>\n",
       "    .dataframe tbody tr th:only-of-type {\n",
       "        vertical-align: middle;\n",
       "    }\n",
       "\n",
       "    .dataframe tbody tr th {\n",
       "        vertical-align: top;\n",
       "    }\n",
       "\n",
       "    .dataframe thead th {\n",
       "        text-align: right;\n",
       "    }\n",
       "</style>\n",
       "<table border=\"1\" class=\"dataframe\">\n",
       "  <thead>\n",
       "    <tr style=\"text-align: right;\">\n",
       "      <th></th>\n",
       "      <th>user_id</th>\n",
       "      <th>mb_used</th>\n",
       "    </tr>\n",
       "  </thead>\n",
       "  <tbody>\n",
       "    <tr>\n",
       "      <th>count</th>\n",
       "      <td>104825.000000</td>\n",
       "      <td>104825.000000</td>\n",
       "    </tr>\n",
       "    <tr>\n",
       "      <th>mean</th>\n",
       "      <td>1242.496361</td>\n",
       "      <td>366.713701</td>\n",
       "    </tr>\n",
       "    <tr>\n",
       "      <th>std</th>\n",
       "      <td>142.053913</td>\n",
       "      <td>277.170542</td>\n",
       "    </tr>\n",
       "    <tr>\n",
       "      <th>min</th>\n",
       "      <td>1000.000000</td>\n",
       "      <td>0.000000</td>\n",
       "    </tr>\n",
       "    <tr>\n",
       "      <th>25%</th>\n",
       "      <td>1122.000000</td>\n",
       "      <td>136.080000</td>\n",
       "    </tr>\n",
       "    <tr>\n",
       "      <th>50%</th>\n",
       "      <td>1236.000000</td>\n",
       "      <td>343.980000</td>\n",
       "    </tr>\n",
       "    <tr>\n",
       "      <th>75%</th>\n",
       "      <td>1367.000000</td>\n",
       "      <td>554.610000</td>\n",
       "    </tr>\n",
       "    <tr>\n",
       "      <th>max</th>\n",
       "      <td>1499.000000</td>\n",
       "      <td>1693.470000</td>\n",
       "    </tr>\n",
       "  </tbody>\n",
       "</table>\n",
       "</div>"
      ],
      "text/plain": [
       "             user_id        mb_used\n",
       "count  104825.000000  104825.000000\n",
       "mean     1242.496361     366.713701\n",
       "std       142.053913     277.170542\n",
       "min      1000.000000       0.000000\n",
       "25%      1122.000000     136.080000\n",
       "50%      1236.000000     343.980000\n",
       "75%      1367.000000     554.610000\n",
       "max      1499.000000    1693.470000"
      ]
     },
     "execution_count": 11,
     "metadata": {},
     "output_type": "execute_result"
    }
   ],
   "source": [
    "ml_internet.describe()"
   ]
  },
  {
   "cell_type": "code",
   "execution_count": 12,
   "metadata": {
    "scrolled": true
   },
   "outputs": [
    {
     "name": "stdout",
     "output_type": "stream",
     "text": [
      "<class 'pandas.core.frame.DataFrame'>\n",
      "RangeIndex: 104825 entries, 0 to 104824\n",
      "Data columns (total 4 columns):\n",
      " #   Column        Non-Null Count   Dtype  \n",
      "---  ------        --------------   -----  \n",
      " 0   id            104825 non-null  object \n",
      " 1   user_id       104825 non-null  int64  \n",
      " 2   session_date  104825 non-null  object \n",
      " 3   mb_used       104825 non-null  float64\n",
      "dtypes: float64(1), int64(1), object(2)\n",
      "memory usage: 3.2+ MB\n"
     ]
    }
   ],
   "source": [
    "ml_internet.info()"
   ]
  },
  {
   "cell_type": "markdown",
   "metadata": {},
   "source": [
    "**Change the session_date column from an object to a datetime64, and add a month column that will be taken from the session_date column.**\n"
   ]
  },
  {
   "cell_type": "code",
   "execution_count": 13,
   "metadata": {},
   "outputs": [],
   "source": [
    "ml_internet['session_date'] = pd.to_datetime(ml_internet.session_date, format='%Y-%m-%d')"
   ]
  },
  {
   "cell_type": "code",
   "execution_count": 14,
   "metadata": {},
   "outputs": [],
   "source": [
    "ml_internet['month'] = pd.DatetimeIndex(ml_internet['session_date']).month"
   ]
  },
  {
   "cell_type": "code",
   "execution_count": 15,
   "metadata": {},
   "outputs": [
    {
     "name": "stdout",
     "output_type": "stream",
     "text": [
      "<class 'pandas.core.frame.DataFrame'>\n",
      "RangeIndex: 104825 entries, 0 to 104824\n",
      "Data columns (total 5 columns):\n",
      " #   Column        Non-Null Count   Dtype         \n",
      "---  ------        --------------   -----         \n",
      " 0   id            104825 non-null  object        \n",
      " 1   user_id       104825 non-null  int64         \n",
      " 2   session_date  104825 non-null  datetime64[ns]\n",
      " 3   mb_used       104825 non-null  float64       \n",
      " 4   month         104825 non-null  int64         \n",
      "dtypes: datetime64[ns](1), float64(1), int64(2), object(1)\n",
      "memory usage: 4.0+ MB\n"
     ]
    }
   ],
   "source": [
    "ml_internet.info()"
   ]
  },
  {
   "cell_type": "code",
   "execution_count": 16,
   "metadata": {},
   "outputs": [
    {
     "data": {
      "text/plain": [
       "id              0.0\n",
       "user_id         0.0\n",
       "session_date    0.0\n",
       "mb_used         0.0\n",
       "month           0.0\n",
       "dtype: float64"
      ]
     },
     "execution_count": 16,
     "metadata": {},
     "output_type": "execute_result"
    }
   ],
   "source": [
    "ml_internet.isnull().sum()/ len(ml_internet)"
   ]
  },
  {
   "cell_type": "code",
   "execution_count": 17,
   "metadata": {},
   "outputs": [
    {
     "data": {
      "text/html": [
       "<div>\n",
       "<style scoped>\n",
       "    .dataframe tbody tr th:only-of-type {\n",
       "        vertical-align: middle;\n",
       "    }\n",
       "\n",
       "    .dataframe tbody tr th {\n",
       "        vertical-align: top;\n",
       "    }\n",
       "\n",
       "    .dataframe thead th {\n",
       "        text-align: right;\n",
       "    }\n",
       "</style>\n",
       "<table border=\"1\" class=\"dataframe\">\n",
       "  <thead>\n",
       "    <tr style=\"text-align: right;\">\n",
       "      <th></th>\n",
       "      <th>id</th>\n",
       "      <th>user_id</th>\n",
       "      <th>message_date</th>\n",
       "    </tr>\n",
       "  </thead>\n",
       "  <tbody>\n",
       "    <tr>\n",
       "      <th>0</th>\n",
       "      <td>1000_125</td>\n",
       "      <td>1000</td>\n",
       "      <td>2018-12-27</td>\n",
       "    </tr>\n",
       "    <tr>\n",
       "      <th>1</th>\n",
       "      <td>1000_160</td>\n",
       "      <td>1000</td>\n",
       "      <td>2018-12-31</td>\n",
       "    </tr>\n",
       "    <tr>\n",
       "      <th>2</th>\n",
       "      <td>1000_223</td>\n",
       "      <td>1000</td>\n",
       "      <td>2018-12-31</td>\n",
       "    </tr>\n",
       "    <tr>\n",
       "      <th>3</th>\n",
       "      <td>1000_251</td>\n",
       "      <td>1000</td>\n",
       "      <td>2018-12-27</td>\n",
       "    </tr>\n",
       "    <tr>\n",
       "      <th>4</th>\n",
       "      <td>1000_255</td>\n",
       "      <td>1000</td>\n",
       "      <td>2018-12-26</td>\n",
       "    </tr>\n",
       "    <tr>\n",
       "      <th>...</th>\n",
       "      <td>...</td>\n",
       "      <td>...</td>\n",
       "      <td>...</td>\n",
       "    </tr>\n",
       "    <tr>\n",
       "      <th>76046</th>\n",
       "      <td>1497_526</td>\n",
       "      <td>1497</td>\n",
       "      <td>2018-12-24</td>\n",
       "    </tr>\n",
       "    <tr>\n",
       "      <th>76047</th>\n",
       "      <td>1497_536</td>\n",
       "      <td>1497</td>\n",
       "      <td>2018-12-24</td>\n",
       "    </tr>\n",
       "    <tr>\n",
       "      <th>76048</th>\n",
       "      <td>1497_547</td>\n",
       "      <td>1497</td>\n",
       "      <td>2018-12-31</td>\n",
       "    </tr>\n",
       "    <tr>\n",
       "      <th>76049</th>\n",
       "      <td>1497_558</td>\n",
       "      <td>1497</td>\n",
       "      <td>2018-12-24</td>\n",
       "    </tr>\n",
       "    <tr>\n",
       "      <th>76050</th>\n",
       "      <td>1497_613</td>\n",
       "      <td>1497</td>\n",
       "      <td>2018-12-23</td>\n",
       "    </tr>\n",
       "  </tbody>\n",
       "</table>\n",
       "<p>76051 rows × 3 columns</p>\n",
       "</div>"
      ],
      "text/plain": [
       "             id  user_id message_date\n",
       "0      1000_125     1000   2018-12-27\n",
       "1      1000_160     1000   2018-12-31\n",
       "2      1000_223     1000   2018-12-31\n",
       "3      1000_251     1000   2018-12-27\n",
       "4      1000_255     1000   2018-12-26\n",
       "...         ...      ...          ...\n",
       "76046  1497_526     1497   2018-12-24\n",
       "76047  1497_536     1497   2018-12-24\n",
       "76048  1497_547     1497   2018-12-31\n",
       "76049  1497_558     1497   2018-12-24\n",
       "76050  1497_613     1497   2018-12-23\n",
       "\n",
       "[76051 rows x 3 columns]"
      ]
     },
     "execution_count": 17,
     "metadata": {},
     "output_type": "execute_result"
    }
   ],
   "source": [
    "ml_messages"
   ]
  },
  {
   "cell_type": "code",
   "execution_count": 18,
   "metadata": {},
   "outputs": [
    {
     "data": {
      "text/html": [
       "<div>\n",
       "<style scoped>\n",
       "    .dataframe tbody tr th:only-of-type {\n",
       "        vertical-align: middle;\n",
       "    }\n",
       "\n",
       "    .dataframe tbody tr th {\n",
       "        vertical-align: top;\n",
       "    }\n",
       "\n",
       "    .dataframe thead th {\n",
       "        text-align: right;\n",
       "    }\n",
       "</style>\n",
       "<table border=\"1\" class=\"dataframe\">\n",
       "  <thead>\n",
       "    <tr style=\"text-align: right;\">\n",
       "      <th></th>\n",
       "      <th>user_id</th>\n",
       "    </tr>\n",
       "  </thead>\n",
       "  <tbody>\n",
       "    <tr>\n",
       "      <th>count</th>\n",
       "      <td>76051.000000</td>\n",
       "    </tr>\n",
       "    <tr>\n",
       "      <th>mean</th>\n",
       "      <td>1245.972768</td>\n",
       "    </tr>\n",
       "    <tr>\n",
       "      <th>std</th>\n",
       "      <td>139.843635</td>\n",
       "    </tr>\n",
       "    <tr>\n",
       "      <th>min</th>\n",
       "      <td>1000.000000</td>\n",
       "    </tr>\n",
       "    <tr>\n",
       "      <th>25%</th>\n",
       "      <td>1123.000000</td>\n",
       "    </tr>\n",
       "    <tr>\n",
       "      <th>50%</th>\n",
       "      <td>1251.000000</td>\n",
       "    </tr>\n",
       "    <tr>\n",
       "      <th>75%</th>\n",
       "      <td>1362.000000</td>\n",
       "    </tr>\n",
       "    <tr>\n",
       "      <th>max</th>\n",
       "      <td>1497.000000</td>\n",
       "    </tr>\n",
       "  </tbody>\n",
       "</table>\n",
       "</div>"
      ],
      "text/plain": [
       "            user_id\n",
       "count  76051.000000\n",
       "mean    1245.972768\n",
       "std      139.843635\n",
       "min     1000.000000\n",
       "25%     1123.000000\n",
       "50%     1251.000000\n",
       "75%     1362.000000\n",
       "max     1497.000000"
      ]
     },
     "execution_count": 18,
     "metadata": {},
     "output_type": "execute_result"
    }
   ],
   "source": [
    "ml_messages.describe()"
   ]
  },
  {
   "cell_type": "code",
   "execution_count": 19,
   "metadata": {},
   "outputs": [
    {
     "name": "stdout",
     "output_type": "stream",
     "text": [
      "<class 'pandas.core.frame.DataFrame'>\n",
      "RangeIndex: 76051 entries, 0 to 76050\n",
      "Data columns (total 3 columns):\n",
      " #   Column        Non-Null Count  Dtype \n",
      "---  ------        --------------  ----- \n",
      " 0   id            76051 non-null  object\n",
      " 1   user_id       76051 non-null  int64 \n",
      " 2   message_date  76051 non-null  object\n",
      "dtypes: int64(1), object(2)\n",
      "memory usage: 1.7+ MB\n"
     ]
    }
   ],
   "source": [
    "ml_messages.info()"
   ]
  },
  {
   "cell_type": "markdown",
   "metadata": {},
   "source": [
    "**Change the message_date column from an object to a datetime64, and add a month column that will be taken from the message_date column.**\n"
   ]
  },
  {
   "cell_type": "code",
   "execution_count": 20,
   "metadata": {},
   "outputs": [
    {
     "data": {
      "text/plain": [
       "id              0.0\n",
       "user_id         0.0\n",
       "message_date    0.0\n",
       "dtype: float64"
      ]
     },
     "execution_count": 20,
     "metadata": {},
     "output_type": "execute_result"
    }
   ],
   "source": [
    "ml_messages.isnull().sum()/ len(ml_messages)"
   ]
  },
  {
   "cell_type": "code",
   "execution_count": 21,
   "metadata": {},
   "outputs": [],
   "source": [
    "ml_messages['message_date'] = pd.to_datetime(ml_messages.message_date, format='%Y-%m-%d')"
   ]
  },
  {
   "cell_type": "code",
   "execution_count": 22,
   "metadata": {},
   "outputs": [],
   "source": [
    "ml_messages['month'] = pd.DatetimeIndex(ml_messages['message_date']).month"
   ]
  },
  {
   "cell_type": "code",
   "execution_count": 23,
   "metadata": {},
   "outputs": [
    {
     "name": "stdout",
     "output_type": "stream",
     "text": [
      "<class 'pandas.core.frame.DataFrame'>\n",
      "RangeIndex: 76051 entries, 0 to 76050\n",
      "Data columns (total 4 columns):\n",
      " #   Column        Non-Null Count  Dtype         \n",
      "---  ------        --------------  -----         \n",
      " 0   id            76051 non-null  object        \n",
      " 1   user_id       76051 non-null  int64         \n",
      " 2   message_date  76051 non-null  datetime64[ns]\n",
      " 3   month         76051 non-null  int64         \n",
      "dtypes: datetime64[ns](1), int64(2), object(1)\n",
      "memory usage: 2.3+ MB\n"
     ]
    }
   ],
   "source": [
    "ml_messages.info()"
   ]
  },
  {
   "cell_type": "code",
   "execution_count": 24,
   "metadata": {},
   "outputs": [
    {
     "data": {
      "text/html": [
       "<div>\n",
       "<style scoped>\n",
       "    .dataframe tbody tr th:only-of-type {\n",
       "        vertical-align: middle;\n",
       "    }\n",
       "\n",
       "    .dataframe tbody tr th {\n",
       "        vertical-align: top;\n",
       "    }\n",
       "\n",
       "    .dataframe thead th {\n",
       "        text-align: right;\n",
       "    }\n",
       "</style>\n",
       "<table border=\"1\" class=\"dataframe\">\n",
       "  <thead>\n",
       "    <tr style=\"text-align: right;\">\n",
       "      <th></th>\n",
       "      <th>user_id</th>\n",
       "      <th>first_name</th>\n",
       "      <th>last_name</th>\n",
       "      <th>age</th>\n",
       "      <th>city</th>\n",
       "      <th>reg_date</th>\n",
       "      <th>plan</th>\n",
       "      <th>churn_date</th>\n",
       "    </tr>\n",
       "  </thead>\n",
       "  <tbody>\n",
       "    <tr>\n",
       "      <th>0</th>\n",
       "      <td>1000</td>\n",
       "      <td>Anamaria</td>\n",
       "      <td>Bauer</td>\n",
       "      <td>45</td>\n",
       "      <td>Atlanta-Sandy Springs-Roswell, GA MSA</td>\n",
       "      <td>2018-12-24</td>\n",
       "      <td>ultimate</td>\n",
       "      <td>NaN</td>\n",
       "    </tr>\n",
       "    <tr>\n",
       "      <th>1</th>\n",
       "      <td>1001</td>\n",
       "      <td>Mickey</td>\n",
       "      <td>Wilkerson</td>\n",
       "      <td>28</td>\n",
       "      <td>Seattle-Tacoma-Bellevue, WA MSA</td>\n",
       "      <td>2018-08-13</td>\n",
       "      <td>surf</td>\n",
       "      <td>NaN</td>\n",
       "    </tr>\n",
       "    <tr>\n",
       "      <th>2</th>\n",
       "      <td>1002</td>\n",
       "      <td>Carlee</td>\n",
       "      <td>Hoffman</td>\n",
       "      <td>36</td>\n",
       "      <td>Las Vegas-Henderson-Paradise, NV MSA</td>\n",
       "      <td>2018-10-21</td>\n",
       "      <td>surf</td>\n",
       "      <td>NaN</td>\n",
       "    </tr>\n",
       "    <tr>\n",
       "      <th>3</th>\n",
       "      <td>1003</td>\n",
       "      <td>Reynaldo</td>\n",
       "      <td>Jenkins</td>\n",
       "      <td>52</td>\n",
       "      <td>Tulsa, OK MSA</td>\n",
       "      <td>2018-01-28</td>\n",
       "      <td>surf</td>\n",
       "      <td>NaN</td>\n",
       "    </tr>\n",
       "    <tr>\n",
       "      <th>4</th>\n",
       "      <td>1004</td>\n",
       "      <td>Leonila</td>\n",
       "      <td>Thompson</td>\n",
       "      <td>40</td>\n",
       "      <td>Seattle-Tacoma-Bellevue, WA MSA</td>\n",
       "      <td>2018-05-23</td>\n",
       "      <td>surf</td>\n",
       "      <td>NaN</td>\n",
       "    </tr>\n",
       "    <tr>\n",
       "      <th>...</th>\n",
       "      <td>...</td>\n",
       "      <td>...</td>\n",
       "      <td>...</td>\n",
       "      <td>...</td>\n",
       "      <td>...</td>\n",
       "      <td>...</td>\n",
       "      <td>...</td>\n",
       "      <td>...</td>\n",
       "    </tr>\n",
       "    <tr>\n",
       "      <th>495</th>\n",
       "      <td>1495</td>\n",
       "      <td>Fidel</td>\n",
       "      <td>Sharpe</td>\n",
       "      <td>67</td>\n",
       "      <td>New York-Newark-Jersey City, NY-NJ-PA MSA</td>\n",
       "      <td>2018-09-04</td>\n",
       "      <td>surf</td>\n",
       "      <td>NaN</td>\n",
       "    </tr>\n",
       "    <tr>\n",
       "      <th>496</th>\n",
       "      <td>1496</td>\n",
       "      <td>Ariel</td>\n",
       "      <td>Shepherd</td>\n",
       "      <td>49</td>\n",
       "      <td>New Orleans-Metairie, LA MSA</td>\n",
       "      <td>2018-02-20</td>\n",
       "      <td>surf</td>\n",
       "      <td>NaN</td>\n",
       "    </tr>\n",
       "    <tr>\n",
       "      <th>497</th>\n",
       "      <td>1497</td>\n",
       "      <td>Donte</td>\n",
       "      <td>Barrera</td>\n",
       "      <td>49</td>\n",
       "      <td>Los Angeles-Long Beach-Anaheim, CA MSA</td>\n",
       "      <td>2018-12-10</td>\n",
       "      <td>ultimate</td>\n",
       "      <td>NaN</td>\n",
       "    </tr>\n",
       "    <tr>\n",
       "      <th>498</th>\n",
       "      <td>1498</td>\n",
       "      <td>Scot</td>\n",
       "      <td>Williamson</td>\n",
       "      <td>51</td>\n",
       "      <td>New York-Newark-Jersey City, NY-NJ-PA MSA</td>\n",
       "      <td>2018-02-04</td>\n",
       "      <td>surf</td>\n",
       "      <td>NaN</td>\n",
       "    </tr>\n",
       "    <tr>\n",
       "      <th>499</th>\n",
       "      <td>1499</td>\n",
       "      <td>Shena</td>\n",
       "      <td>Dickson</td>\n",
       "      <td>37</td>\n",
       "      <td>Orlando-Kissimmee-Sanford, FL MSA</td>\n",
       "      <td>2018-05-06</td>\n",
       "      <td>surf</td>\n",
       "      <td>NaN</td>\n",
       "    </tr>\n",
       "  </tbody>\n",
       "</table>\n",
       "<p>500 rows × 8 columns</p>\n",
       "</div>"
      ],
      "text/plain": [
       "     user_id first_name   last_name  age  \\\n",
       "0       1000   Anamaria       Bauer   45   \n",
       "1       1001     Mickey   Wilkerson   28   \n",
       "2       1002     Carlee     Hoffman   36   \n",
       "3       1003   Reynaldo     Jenkins   52   \n",
       "4       1004    Leonila    Thompson   40   \n",
       "..       ...        ...         ...  ...   \n",
       "495     1495      Fidel      Sharpe   67   \n",
       "496     1496      Ariel    Shepherd   49   \n",
       "497     1497      Donte     Barrera   49   \n",
       "498     1498       Scot  Williamson   51   \n",
       "499     1499      Shena     Dickson   37   \n",
       "\n",
       "                                          city    reg_date      plan  \\\n",
       "0        Atlanta-Sandy Springs-Roswell, GA MSA  2018-12-24  ultimate   \n",
       "1              Seattle-Tacoma-Bellevue, WA MSA  2018-08-13      surf   \n",
       "2         Las Vegas-Henderson-Paradise, NV MSA  2018-10-21      surf   \n",
       "3                                Tulsa, OK MSA  2018-01-28      surf   \n",
       "4              Seattle-Tacoma-Bellevue, WA MSA  2018-05-23      surf   \n",
       "..                                         ...         ...       ...   \n",
       "495  New York-Newark-Jersey City, NY-NJ-PA MSA  2018-09-04      surf   \n",
       "496               New Orleans-Metairie, LA MSA  2018-02-20      surf   \n",
       "497     Los Angeles-Long Beach-Anaheim, CA MSA  2018-12-10  ultimate   \n",
       "498  New York-Newark-Jersey City, NY-NJ-PA MSA  2018-02-04      surf   \n",
       "499          Orlando-Kissimmee-Sanford, FL MSA  2018-05-06      surf   \n",
       "\n",
       "    churn_date  \n",
       "0          NaN  \n",
       "1          NaN  \n",
       "2          NaN  \n",
       "3          NaN  \n",
       "4          NaN  \n",
       "..         ...  \n",
       "495        NaN  \n",
       "496        NaN  \n",
       "497        NaN  \n",
       "498        NaN  \n",
       "499        NaN  \n",
       "\n",
       "[500 rows x 8 columns]"
      ]
     },
     "execution_count": 24,
     "metadata": {},
     "output_type": "execute_result"
    }
   ],
   "source": [
    "ml_users"
   ]
  },
  {
   "cell_type": "code",
   "execution_count": 25,
   "metadata": {},
   "outputs": [
    {
     "data": {
      "text/html": [
       "<div>\n",
       "<style scoped>\n",
       "    .dataframe tbody tr th:only-of-type {\n",
       "        vertical-align: middle;\n",
       "    }\n",
       "\n",
       "    .dataframe tbody tr th {\n",
       "        vertical-align: top;\n",
       "    }\n",
       "\n",
       "    .dataframe thead th {\n",
       "        text-align: right;\n",
       "    }\n",
       "</style>\n",
       "<table border=\"1\" class=\"dataframe\">\n",
       "  <thead>\n",
       "    <tr style=\"text-align: right;\">\n",
       "      <th></th>\n",
       "      <th>user_id</th>\n",
       "      <th>age</th>\n",
       "    </tr>\n",
       "  </thead>\n",
       "  <tbody>\n",
       "    <tr>\n",
       "      <th>count</th>\n",
       "      <td>500.000000</td>\n",
       "      <td>500.000000</td>\n",
       "    </tr>\n",
       "    <tr>\n",
       "      <th>mean</th>\n",
       "      <td>1249.500000</td>\n",
       "      <td>45.486000</td>\n",
       "    </tr>\n",
       "    <tr>\n",
       "      <th>std</th>\n",
       "      <td>144.481833</td>\n",
       "      <td>16.972269</td>\n",
       "    </tr>\n",
       "    <tr>\n",
       "      <th>min</th>\n",
       "      <td>1000.000000</td>\n",
       "      <td>18.000000</td>\n",
       "    </tr>\n",
       "    <tr>\n",
       "      <th>25%</th>\n",
       "      <td>1124.750000</td>\n",
       "      <td>30.000000</td>\n",
       "    </tr>\n",
       "    <tr>\n",
       "      <th>50%</th>\n",
       "      <td>1249.500000</td>\n",
       "      <td>46.000000</td>\n",
       "    </tr>\n",
       "    <tr>\n",
       "      <th>75%</th>\n",
       "      <td>1374.250000</td>\n",
       "      <td>61.000000</td>\n",
       "    </tr>\n",
       "    <tr>\n",
       "      <th>max</th>\n",
       "      <td>1499.000000</td>\n",
       "      <td>75.000000</td>\n",
       "    </tr>\n",
       "  </tbody>\n",
       "</table>\n",
       "</div>"
      ],
      "text/plain": [
       "           user_id         age\n",
       "count   500.000000  500.000000\n",
       "mean   1249.500000   45.486000\n",
       "std     144.481833   16.972269\n",
       "min    1000.000000   18.000000\n",
       "25%    1124.750000   30.000000\n",
       "50%    1249.500000   46.000000\n",
       "75%    1374.250000   61.000000\n",
       "max    1499.000000   75.000000"
      ]
     },
     "execution_count": 25,
     "metadata": {},
     "output_type": "execute_result"
    }
   ],
   "source": [
    "ml_users.describe()"
   ]
  },
  {
   "cell_type": "code",
   "execution_count": 26,
   "metadata": {},
   "outputs": [
    {
     "name": "stdout",
     "output_type": "stream",
     "text": [
      "<class 'pandas.core.frame.DataFrame'>\n",
      "RangeIndex: 500 entries, 0 to 499\n",
      "Data columns (total 8 columns):\n",
      " #   Column      Non-Null Count  Dtype \n",
      "---  ------      --------------  ----- \n",
      " 0   user_id     500 non-null    int64 \n",
      " 1   first_name  500 non-null    object\n",
      " 2   last_name   500 non-null    object\n",
      " 3   age         500 non-null    int64 \n",
      " 4   city        500 non-null    object\n",
      " 5   reg_date    500 non-null    object\n",
      " 6   plan        500 non-null    object\n",
      " 7   churn_date  34 non-null     object\n",
      "dtypes: int64(2), object(6)\n",
      "memory usage: 31.4+ KB\n"
     ]
    }
   ],
   "source": [
    "ml_users.info()"
   ]
  },
  {
   "cell_type": "code",
   "execution_count": 27,
   "metadata": {},
   "outputs": [
    {
     "data": {
      "text/plain": [
       "user_id       0.000\n",
       "first_name    0.000\n",
       "last_name     0.000\n",
       "age           0.000\n",
       "city          0.000\n",
       "reg_date      0.000\n",
       "plan          0.000\n",
       "churn_date    0.932\n",
       "dtype: float64"
      ]
     },
     "execution_count": 27,
     "metadata": {},
     "output_type": "execute_result"
    }
   ],
   "source": [
    "ml_users.isnull().sum()/len(ml_users)"
   ]
  },
  {
   "cell_type": "markdown",
   "metadata": {},
   "source": [
    "* **add the date 2018-12-31 as the date the user stopped using the service and change the churn_date column from an object to a datetime64.**   \n",
    "\n",
    "* **change reg_date column from an object to a datetime64**"
   ]
  },
  {
   "cell_type": "code",
   "execution_count": 28,
   "metadata": {},
   "outputs": [],
   "source": [
    "ml_users['churn_date']=ml_users['churn_date'].fillna(pd.to_datetime('2018-12-31'))"
   ]
  },
  {
   "cell_type": "code",
   "execution_count": 29,
   "metadata": {},
   "outputs": [],
   "source": [
    "ml_users['reg_date'] = pd.to_datetime(ml_users.reg_date, format='%Y-%m-%d')\n",
    "ml_users['churn_date'] = pd.to_datetime(ml_users.churn_date, format='%Y-%m-%d')\n"
   ]
  },
  {
   "cell_type": "code",
   "execution_count": 30,
   "metadata": {},
   "outputs": [
    {
     "name": "stdout",
     "output_type": "stream",
     "text": [
      "<class 'pandas.core.frame.DataFrame'>\n",
      "RangeIndex: 500 entries, 0 to 499\n",
      "Data columns (total 8 columns):\n",
      " #   Column      Non-Null Count  Dtype         \n",
      "---  ------      --------------  -----         \n",
      " 0   user_id     500 non-null    int64         \n",
      " 1   first_name  500 non-null    object        \n",
      " 2   last_name   500 non-null    object        \n",
      " 3   age         500 non-null    int64         \n",
      " 4   city        500 non-null    object        \n",
      " 5   reg_date    500 non-null    datetime64[ns]\n",
      " 6   plan        500 non-null    object        \n",
      " 7   churn_date  500 non-null    datetime64[ns]\n",
      "dtypes: datetime64[ns](2), int64(2), object(4)\n",
      "memory usage: 31.4+ KB\n"
     ]
    }
   ],
   "source": [
    "ml_users.info()"
   ]
  },
  {
   "cell_type": "code",
   "execution_count": 31,
   "metadata": {},
   "outputs": [
    {
     "data": {
      "text/html": [
       "<div>\n",
       "<style scoped>\n",
       "    .dataframe tbody tr th:only-of-type {\n",
       "        vertical-align: middle;\n",
       "    }\n",
       "\n",
       "    .dataframe tbody tr th {\n",
       "        vertical-align: top;\n",
       "    }\n",
       "\n",
       "    .dataframe thead th {\n",
       "        text-align: right;\n",
       "    }\n",
       "</style>\n",
       "<table border=\"1\" class=\"dataframe\">\n",
       "  <thead>\n",
       "    <tr style=\"text-align: right;\">\n",
       "      <th></th>\n",
       "      <th>user_id</th>\n",
       "      <th>first_name</th>\n",
       "      <th>last_name</th>\n",
       "      <th>age</th>\n",
       "      <th>city</th>\n",
       "      <th>reg_date</th>\n",
       "      <th>plan</th>\n",
       "      <th>churn_date</th>\n",
       "    </tr>\n",
       "  </thead>\n",
       "  <tbody>\n",
       "    <tr>\n",
       "      <th>0</th>\n",
       "      <td>1000</td>\n",
       "      <td>Anamaria</td>\n",
       "      <td>Bauer</td>\n",
       "      <td>45</td>\n",
       "      <td>Atlanta-Sandy Springs-Roswell, GA MSA</td>\n",
       "      <td>2018-12-24</td>\n",
       "      <td>ultimate</td>\n",
       "      <td>2018-12-31</td>\n",
       "    </tr>\n",
       "    <tr>\n",
       "      <th>1</th>\n",
       "      <td>1001</td>\n",
       "      <td>Mickey</td>\n",
       "      <td>Wilkerson</td>\n",
       "      <td>28</td>\n",
       "      <td>Seattle-Tacoma-Bellevue, WA MSA</td>\n",
       "      <td>2018-08-13</td>\n",
       "      <td>surf</td>\n",
       "      <td>2018-12-31</td>\n",
       "    </tr>\n",
       "    <tr>\n",
       "      <th>2</th>\n",
       "      <td>1002</td>\n",
       "      <td>Carlee</td>\n",
       "      <td>Hoffman</td>\n",
       "      <td>36</td>\n",
       "      <td>Las Vegas-Henderson-Paradise, NV MSA</td>\n",
       "      <td>2018-10-21</td>\n",
       "      <td>surf</td>\n",
       "      <td>2018-12-31</td>\n",
       "    </tr>\n",
       "    <tr>\n",
       "      <th>3</th>\n",
       "      <td>1003</td>\n",
       "      <td>Reynaldo</td>\n",
       "      <td>Jenkins</td>\n",
       "      <td>52</td>\n",
       "      <td>Tulsa, OK MSA</td>\n",
       "      <td>2018-01-28</td>\n",
       "      <td>surf</td>\n",
       "      <td>2018-12-31</td>\n",
       "    </tr>\n",
       "    <tr>\n",
       "      <th>4</th>\n",
       "      <td>1004</td>\n",
       "      <td>Leonila</td>\n",
       "      <td>Thompson</td>\n",
       "      <td>40</td>\n",
       "      <td>Seattle-Tacoma-Bellevue, WA MSA</td>\n",
       "      <td>2018-05-23</td>\n",
       "      <td>surf</td>\n",
       "      <td>2018-12-31</td>\n",
       "    </tr>\n",
       "    <tr>\n",
       "      <th>...</th>\n",
       "      <td>...</td>\n",
       "      <td>...</td>\n",
       "      <td>...</td>\n",
       "      <td>...</td>\n",
       "      <td>...</td>\n",
       "      <td>...</td>\n",
       "      <td>...</td>\n",
       "      <td>...</td>\n",
       "    </tr>\n",
       "    <tr>\n",
       "      <th>495</th>\n",
       "      <td>1495</td>\n",
       "      <td>Fidel</td>\n",
       "      <td>Sharpe</td>\n",
       "      <td>67</td>\n",
       "      <td>New York-Newark-Jersey City, NY-NJ-PA MSA</td>\n",
       "      <td>2018-09-04</td>\n",
       "      <td>surf</td>\n",
       "      <td>2018-12-31</td>\n",
       "    </tr>\n",
       "    <tr>\n",
       "      <th>496</th>\n",
       "      <td>1496</td>\n",
       "      <td>Ariel</td>\n",
       "      <td>Shepherd</td>\n",
       "      <td>49</td>\n",
       "      <td>New Orleans-Metairie, LA MSA</td>\n",
       "      <td>2018-02-20</td>\n",
       "      <td>surf</td>\n",
       "      <td>2018-12-31</td>\n",
       "    </tr>\n",
       "    <tr>\n",
       "      <th>497</th>\n",
       "      <td>1497</td>\n",
       "      <td>Donte</td>\n",
       "      <td>Barrera</td>\n",
       "      <td>49</td>\n",
       "      <td>Los Angeles-Long Beach-Anaheim, CA MSA</td>\n",
       "      <td>2018-12-10</td>\n",
       "      <td>ultimate</td>\n",
       "      <td>2018-12-31</td>\n",
       "    </tr>\n",
       "    <tr>\n",
       "      <th>498</th>\n",
       "      <td>1498</td>\n",
       "      <td>Scot</td>\n",
       "      <td>Williamson</td>\n",
       "      <td>51</td>\n",
       "      <td>New York-Newark-Jersey City, NY-NJ-PA MSA</td>\n",
       "      <td>2018-02-04</td>\n",
       "      <td>surf</td>\n",
       "      <td>2018-12-31</td>\n",
       "    </tr>\n",
       "    <tr>\n",
       "      <th>499</th>\n",
       "      <td>1499</td>\n",
       "      <td>Shena</td>\n",
       "      <td>Dickson</td>\n",
       "      <td>37</td>\n",
       "      <td>Orlando-Kissimmee-Sanford, FL MSA</td>\n",
       "      <td>2018-05-06</td>\n",
       "      <td>surf</td>\n",
       "      <td>2018-12-31</td>\n",
       "    </tr>\n",
       "  </tbody>\n",
       "</table>\n",
       "<p>500 rows × 8 columns</p>\n",
       "</div>"
      ],
      "text/plain": [
       "     user_id first_name   last_name  age  \\\n",
       "0       1000   Anamaria       Bauer   45   \n",
       "1       1001     Mickey   Wilkerson   28   \n",
       "2       1002     Carlee     Hoffman   36   \n",
       "3       1003   Reynaldo     Jenkins   52   \n",
       "4       1004    Leonila    Thompson   40   \n",
       "..       ...        ...         ...  ...   \n",
       "495     1495      Fidel      Sharpe   67   \n",
       "496     1496      Ariel    Shepherd   49   \n",
       "497     1497      Donte     Barrera   49   \n",
       "498     1498       Scot  Williamson   51   \n",
       "499     1499      Shena     Dickson   37   \n",
       "\n",
       "                                          city   reg_date      plan churn_date  \n",
       "0        Atlanta-Sandy Springs-Roswell, GA MSA 2018-12-24  ultimate 2018-12-31  \n",
       "1              Seattle-Tacoma-Bellevue, WA MSA 2018-08-13      surf 2018-12-31  \n",
       "2         Las Vegas-Henderson-Paradise, NV MSA 2018-10-21      surf 2018-12-31  \n",
       "3                                Tulsa, OK MSA 2018-01-28      surf 2018-12-31  \n",
       "4              Seattle-Tacoma-Bellevue, WA MSA 2018-05-23      surf 2018-12-31  \n",
       "..                                         ...        ...       ...        ...  \n",
       "495  New York-Newark-Jersey City, NY-NJ-PA MSA 2018-09-04      surf 2018-12-31  \n",
       "496               New Orleans-Metairie, LA MSA 2018-02-20      surf 2018-12-31  \n",
       "497     Los Angeles-Long Beach-Anaheim, CA MSA 2018-12-10  ultimate 2018-12-31  \n",
       "498  New York-Newark-Jersey City, NY-NJ-PA MSA 2018-02-04      surf 2018-12-31  \n",
       "499          Orlando-Kissimmee-Sanford, FL MSA 2018-05-06      surf 2018-12-31  \n",
       "\n",
       "[500 rows x 8 columns]"
      ]
     },
     "execution_count": 31,
     "metadata": {},
     "output_type": "execute_result"
    }
   ],
   "source": [
    "ml_users"
   ]
  },
  {
   "cell_type": "code",
   "execution_count": 32,
   "metadata": {},
   "outputs": [
    {
     "data": {
      "text/html": [
       "<div>\n",
       "<style scoped>\n",
       "    .dataframe tbody tr th:only-of-type {\n",
       "        vertical-align: middle;\n",
       "    }\n",
       "\n",
       "    .dataframe tbody tr th {\n",
       "        vertical-align: top;\n",
       "    }\n",
       "\n",
       "    .dataframe thead th {\n",
       "        text-align: right;\n",
       "    }\n",
       "</style>\n",
       "<table border=\"1\" class=\"dataframe\">\n",
       "  <thead>\n",
       "    <tr style=\"text-align: right;\">\n",
       "      <th></th>\n",
       "      <th>messages_included</th>\n",
       "      <th>mb_per_month_included</th>\n",
       "      <th>minutes_included</th>\n",
       "      <th>usd_monthly_pay</th>\n",
       "      <th>usd_per_gb</th>\n",
       "      <th>usd_per_message</th>\n",
       "      <th>usd_per_minute</th>\n",
       "      <th>plan_name</th>\n",
       "    </tr>\n",
       "  </thead>\n",
       "  <tbody>\n",
       "    <tr>\n",
       "      <th>0</th>\n",
       "      <td>50</td>\n",
       "      <td>15360</td>\n",
       "      <td>500</td>\n",
       "      <td>20</td>\n",
       "      <td>10</td>\n",
       "      <td>0.03</td>\n",
       "      <td>0.03</td>\n",
       "      <td>surf</td>\n",
       "    </tr>\n",
       "    <tr>\n",
       "      <th>1</th>\n",
       "      <td>1000</td>\n",
       "      <td>30720</td>\n",
       "      <td>3000</td>\n",
       "      <td>70</td>\n",
       "      <td>7</td>\n",
       "      <td>0.01</td>\n",
       "      <td>0.01</td>\n",
       "      <td>ultimate</td>\n",
       "    </tr>\n",
       "  </tbody>\n",
       "</table>\n",
       "</div>"
      ],
      "text/plain": [
       "   messages_included  mb_per_month_included  minutes_included  \\\n",
       "0                 50                  15360               500   \n",
       "1               1000                  30720              3000   \n",
       "\n",
       "   usd_monthly_pay  usd_per_gb  usd_per_message  usd_per_minute plan_name  \n",
       "0               20          10             0.03            0.03      surf  \n",
       "1               70           7             0.01            0.01  ultimate  "
      ]
     },
     "execution_count": 32,
     "metadata": {},
     "output_type": "execute_result"
    }
   ],
   "source": [
    "ml_plans"
   ]
  },
  {
   "cell_type": "code",
   "execution_count": 33,
   "metadata": {},
   "outputs": [
    {
     "data": {
      "text/html": [
       "<div>\n",
       "<style scoped>\n",
       "    .dataframe tbody tr th:only-of-type {\n",
       "        vertical-align: middle;\n",
       "    }\n",
       "\n",
       "    .dataframe tbody tr th {\n",
       "        vertical-align: top;\n",
       "    }\n",
       "\n",
       "    .dataframe thead th {\n",
       "        text-align: right;\n",
       "    }\n",
       "</style>\n",
       "<table border=\"1\" class=\"dataframe\">\n",
       "  <thead>\n",
       "    <tr style=\"text-align: right;\">\n",
       "      <th></th>\n",
       "      <th>messages_included</th>\n",
       "      <th>mb_per_month_included</th>\n",
       "      <th>minutes_included</th>\n",
       "      <th>usd_monthly_pay</th>\n",
       "      <th>usd_per_gb</th>\n",
       "      <th>usd_per_message</th>\n",
       "      <th>usd_per_minute</th>\n",
       "    </tr>\n",
       "  </thead>\n",
       "  <tbody>\n",
       "    <tr>\n",
       "      <th>count</th>\n",
       "      <td>2.000000</td>\n",
       "      <td>2.000000</td>\n",
       "      <td>2.000000</td>\n",
       "      <td>2.000000</td>\n",
       "      <td>2.00000</td>\n",
       "      <td>2.000000</td>\n",
       "      <td>2.000000</td>\n",
       "    </tr>\n",
       "    <tr>\n",
       "      <th>mean</th>\n",
       "      <td>525.000000</td>\n",
       "      <td>23040.000000</td>\n",
       "      <td>1750.000000</td>\n",
       "      <td>45.000000</td>\n",
       "      <td>8.50000</td>\n",
       "      <td>0.020000</td>\n",
       "      <td>0.020000</td>\n",
       "    </tr>\n",
       "    <tr>\n",
       "      <th>std</th>\n",
       "      <td>671.751442</td>\n",
       "      <td>10861.160159</td>\n",
       "      <td>1767.766953</td>\n",
       "      <td>35.355339</td>\n",
       "      <td>2.12132</td>\n",
       "      <td>0.014142</td>\n",
       "      <td>0.014142</td>\n",
       "    </tr>\n",
       "    <tr>\n",
       "      <th>min</th>\n",
       "      <td>50.000000</td>\n",
       "      <td>15360.000000</td>\n",
       "      <td>500.000000</td>\n",
       "      <td>20.000000</td>\n",
       "      <td>7.00000</td>\n",
       "      <td>0.010000</td>\n",
       "      <td>0.010000</td>\n",
       "    </tr>\n",
       "    <tr>\n",
       "      <th>25%</th>\n",
       "      <td>287.500000</td>\n",
       "      <td>19200.000000</td>\n",
       "      <td>1125.000000</td>\n",
       "      <td>32.500000</td>\n",
       "      <td>7.75000</td>\n",
       "      <td>0.015000</td>\n",
       "      <td>0.015000</td>\n",
       "    </tr>\n",
       "    <tr>\n",
       "      <th>50%</th>\n",
       "      <td>525.000000</td>\n",
       "      <td>23040.000000</td>\n",
       "      <td>1750.000000</td>\n",
       "      <td>45.000000</td>\n",
       "      <td>8.50000</td>\n",
       "      <td>0.020000</td>\n",
       "      <td>0.020000</td>\n",
       "    </tr>\n",
       "    <tr>\n",
       "      <th>75%</th>\n",
       "      <td>762.500000</td>\n",
       "      <td>26880.000000</td>\n",
       "      <td>2375.000000</td>\n",
       "      <td>57.500000</td>\n",
       "      <td>9.25000</td>\n",
       "      <td>0.025000</td>\n",
       "      <td>0.025000</td>\n",
       "    </tr>\n",
       "    <tr>\n",
       "      <th>max</th>\n",
       "      <td>1000.000000</td>\n",
       "      <td>30720.000000</td>\n",
       "      <td>3000.000000</td>\n",
       "      <td>70.000000</td>\n",
       "      <td>10.00000</td>\n",
       "      <td>0.030000</td>\n",
       "      <td>0.030000</td>\n",
       "    </tr>\n",
       "  </tbody>\n",
       "</table>\n",
       "</div>"
      ],
      "text/plain": [
       "       messages_included  mb_per_month_included  minutes_included  \\\n",
       "count           2.000000               2.000000          2.000000   \n",
       "mean          525.000000           23040.000000       1750.000000   \n",
       "std           671.751442           10861.160159       1767.766953   \n",
       "min            50.000000           15360.000000        500.000000   \n",
       "25%           287.500000           19200.000000       1125.000000   \n",
       "50%           525.000000           23040.000000       1750.000000   \n",
       "75%           762.500000           26880.000000       2375.000000   \n",
       "max          1000.000000           30720.000000       3000.000000   \n",
       "\n",
       "       usd_monthly_pay  usd_per_gb  usd_per_message  usd_per_minute  \n",
       "count         2.000000     2.00000         2.000000        2.000000  \n",
       "mean         45.000000     8.50000         0.020000        0.020000  \n",
       "std          35.355339     2.12132         0.014142        0.014142  \n",
       "min          20.000000     7.00000         0.010000        0.010000  \n",
       "25%          32.500000     7.75000         0.015000        0.015000  \n",
       "50%          45.000000     8.50000         0.020000        0.020000  \n",
       "75%          57.500000     9.25000         0.025000        0.025000  \n",
       "max          70.000000    10.00000         0.030000        0.030000  "
      ]
     },
     "execution_count": 33,
     "metadata": {},
     "output_type": "execute_result"
    }
   ],
   "source": [
    "ml_plans.describe()"
   ]
  },
  {
   "cell_type": "code",
   "execution_count": 34,
   "metadata": {},
   "outputs": [
    {
     "name": "stdout",
     "output_type": "stream",
     "text": [
      "<class 'pandas.core.frame.DataFrame'>\n",
      "RangeIndex: 2 entries, 0 to 1\n",
      "Data columns (total 8 columns):\n",
      " #   Column                 Non-Null Count  Dtype  \n",
      "---  ------                 --------------  -----  \n",
      " 0   messages_included      2 non-null      int64  \n",
      " 1   mb_per_month_included  2 non-null      int64  \n",
      " 2   minutes_included       2 non-null      int64  \n",
      " 3   usd_monthly_pay        2 non-null      int64  \n",
      " 4   usd_per_gb             2 non-null      int64  \n",
      " 5   usd_per_message        2 non-null      float64\n",
      " 6   usd_per_minute         2 non-null      float64\n",
      " 7   plan_name              2 non-null      object \n",
      "dtypes: float64(2), int64(5), object(1)\n",
      "memory usage: 256.0+ bytes\n"
     ]
    }
   ],
   "source": [
    "ml_plans.info()"
   ]
  },
  {
   "cell_type": "markdown",
   "metadata": {},
   "source": [
    " **Check for duplicates**"
   ]
  },
  {
   "cell_type": "code",
   "execution_count": 35,
   "metadata": {},
   "outputs": [
    {
     "data": {
      "text/plain": [
       "0"
      ]
     },
     "execution_count": 35,
     "metadata": {},
     "output_type": "execute_result"
    }
   ],
   "source": [
    "ml_users.duplicated().sum()"
   ]
  },
  {
   "cell_type": "code",
   "execution_count": 36,
   "metadata": {},
   "outputs": [
    {
     "data": {
      "text/plain": [
       "0"
      ]
     },
     "execution_count": 36,
     "metadata": {},
     "output_type": "execute_result"
    }
   ],
   "source": [
    "ml_calls.duplicated().sum()"
   ]
  },
  {
   "cell_type": "code",
   "execution_count": 37,
   "metadata": {},
   "outputs": [
    {
     "data": {
      "text/plain": [
       "0"
      ]
     },
     "execution_count": 37,
     "metadata": {},
     "output_type": "execute_result"
    }
   ],
   "source": [
    "ml_internet.duplicated().sum()"
   ]
  },
  {
   "cell_type": "code",
   "execution_count": 38,
   "metadata": {},
   "outputs": [
    {
     "data": {
      "text/plain": [
       "0"
      ]
     },
     "execution_count": 38,
     "metadata": {},
     "output_type": "execute_result"
    }
   ],
   "source": [
    "ml_messages.duplicated().sum()"
   ]
  },
  {
   "cell_type": "code",
   "execution_count": 39,
   "metadata": {},
   "outputs": [
    {
     "data": {
      "text/plain": [
       "0"
      ]
     },
     "execution_count": 39,
     "metadata": {},
     "output_type": "execute_result"
    }
   ],
   "source": [
    "ml_plans.duplicated().sum()"
   ]
  },
  {
   "cell_type": "markdown",
   "metadata": {},
   "source": [
    "**round up duration in ml_calls**"
   ]
  },
  {
   "cell_type": "code",
   "execution_count": 40,
   "metadata": {},
   "outputs": [],
   "source": [
    "ml_calls['duration'] = ml_calls['duration'].apply(np.ceil)"
   ]
  },
  {
   "cell_type": "code",
   "execution_count": 41,
   "metadata": {},
   "outputs": [
    {
     "data": {
      "text/html": [
       "<div>\n",
       "<style scoped>\n",
       "    .dataframe tbody tr th:only-of-type {\n",
       "        vertical-align: middle;\n",
       "    }\n",
       "\n",
       "    .dataframe tbody tr th {\n",
       "        vertical-align: top;\n",
       "    }\n",
       "\n",
       "    .dataframe thead th {\n",
       "        text-align: right;\n",
       "    }\n",
       "</style>\n",
       "<table border=\"1\" class=\"dataframe\">\n",
       "  <thead>\n",
       "    <tr style=\"text-align: right;\">\n",
       "      <th></th>\n",
       "      <th>id</th>\n",
       "      <th>user_id</th>\n",
       "      <th>call_date</th>\n",
       "      <th>duration</th>\n",
       "      <th>month</th>\n",
       "    </tr>\n",
       "  </thead>\n",
       "  <tbody>\n",
       "    <tr>\n",
       "      <th>0</th>\n",
       "      <td>1000_93</td>\n",
       "      <td>1000</td>\n",
       "      <td>2018-12-27</td>\n",
       "      <td>9.0</td>\n",
       "      <td>12</td>\n",
       "    </tr>\n",
       "    <tr>\n",
       "      <th>1</th>\n",
       "      <td>1000_145</td>\n",
       "      <td>1000</td>\n",
       "      <td>2018-12-27</td>\n",
       "      <td>14.0</td>\n",
       "      <td>12</td>\n",
       "    </tr>\n",
       "    <tr>\n",
       "      <th>2</th>\n",
       "      <td>1000_247</td>\n",
       "      <td>1000</td>\n",
       "      <td>2018-12-27</td>\n",
       "      <td>15.0</td>\n",
       "      <td>12</td>\n",
       "    </tr>\n",
       "    <tr>\n",
       "      <th>3</th>\n",
       "      <td>1000_309</td>\n",
       "      <td>1000</td>\n",
       "      <td>2018-12-28</td>\n",
       "      <td>6.0</td>\n",
       "      <td>12</td>\n",
       "    </tr>\n",
       "    <tr>\n",
       "      <th>4</th>\n",
       "      <td>1000_380</td>\n",
       "      <td>1000</td>\n",
       "      <td>2018-12-30</td>\n",
       "      <td>5.0</td>\n",
       "      <td>12</td>\n",
       "    </tr>\n",
       "    <tr>\n",
       "      <th>...</th>\n",
       "      <td>...</td>\n",
       "      <td>...</td>\n",
       "      <td>...</td>\n",
       "      <td>...</td>\n",
       "      <td>...</td>\n",
       "    </tr>\n",
       "    <tr>\n",
       "      <th>137730</th>\n",
       "      <td>1499_199</td>\n",
       "      <td>1499</td>\n",
       "      <td>2018-11-21</td>\n",
       "      <td>9.0</td>\n",
       "      <td>11</td>\n",
       "    </tr>\n",
       "    <tr>\n",
       "      <th>137731</th>\n",
       "      <td>1499_200</td>\n",
       "      <td>1499</td>\n",
       "      <td>2018-10-20</td>\n",
       "      <td>11.0</td>\n",
       "      <td>10</td>\n",
       "    </tr>\n",
       "    <tr>\n",
       "      <th>137732</th>\n",
       "      <td>1499_201</td>\n",
       "      <td>1499</td>\n",
       "      <td>2018-09-21</td>\n",
       "      <td>9.0</td>\n",
       "      <td>9</td>\n",
       "    </tr>\n",
       "    <tr>\n",
       "      <th>137733</th>\n",
       "      <td>1499_202</td>\n",
       "      <td>1499</td>\n",
       "      <td>2018-10-10</td>\n",
       "      <td>1.0</td>\n",
       "      <td>10</td>\n",
       "    </tr>\n",
       "    <tr>\n",
       "      <th>137734</th>\n",
       "      <td>1499_203</td>\n",
       "      <td>1499</td>\n",
       "      <td>2018-12-29</td>\n",
       "      <td>14.0</td>\n",
       "      <td>12</td>\n",
       "    </tr>\n",
       "  </tbody>\n",
       "</table>\n",
       "<p>137735 rows × 5 columns</p>\n",
       "</div>"
      ],
      "text/plain": [
       "              id  user_id  call_date  duration  month\n",
       "0        1000_93     1000 2018-12-27       9.0     12\n",
       "1       1000_145     1000 2018-12-27      14.0     12\n",
       "2       1000_247     1000 2018-12-27      15.0     12\n",
       "3       1000_309     1000 2018-12-28       6.0     12\n",
       "4       1000_380     1000 2018-12-30       5.0     12\n",
       "...          ...      ...        ...       ...    ...\n",
       "137730  1499_199     1499 2018-11-21       9.0     11\n",
       "137731  1499_200     1499 2018-10-20      11.0     10\n",
       "137732  1499_201     1499 2018-09-21       9.0      9\n",
       "137733  1499_202     1499 2018-10-10       1.0     10\n",
       "137734  1499_203     1499 2018-12-29      14.0     12\n",
       "\n",
       "[137735 rows x 5 columns]"
      ]
     },
     "execution_count": 41,
     "metadata": {},
     "output_type": "execute_result"
    }
   ],
   "source": [
    "ml_calls"
   ]
  },
  {
   "cell_type": "markdown",
   "metadata": {},
   "source": [
    "# sub conclusion and further steps\n",
    "\n",
    "Up to this point we have identified and investigated missing values ​​and poor dtypes in all data sets.\n",
    "I also checked for duplicates and NANs in the data sets.\n",
    "I added a month column to ml_calls, ml_internet, ml_messages and took the information from the call_date, session_date and message_date columns and rounded up duration in ml_calls.\n",
    "\n",
    "from this point on i will separately groupby each of the next data sets, ml_internet, ml_calls, by count and sum of user_id and month columns.\n",
    "* Groupby ml_messages dataset by count of user_id, month and id columns.\n",
    "* Merge  ml_internet, ml_calls ml_messages and ml_users into one dataset.\n",
    "* Turn megabytes into gigabytes and round it up.\n",
    "* Check nan in the merged dataset and then fill them with zero.\n",
    "* find For each user the number of calls made and minutes used per month, the number of text messages sent per month, the   \n",
    "  volume of data per month and the monthly revenue from each user."
   ]
  },
  {
   "cell_type": "markdown",
   "metadata": {},
   "source": [
    "**groupby ml_calls**"
   ]
  },
  {
   "cell_type": "code",
   "execution_count": 42,
   "metadata": {},
   "outputs": [
    {
     "data": {
      "text/html": [
       "<div>\n",
       "<style scoped>\n",
       "    .dataframe tbody tr th:only-of-type {\n",
       "        vertical-align: middle;\n",
       "    }\n",
       "\n",
       "    .dataframe tbody tr th {\n",
       "        vertical-align: top;\n",
       "    }\n",
       "\n",
       "    .dataframe thead th {\n",
       "        text-align: right;\n",
       "    }\n",
       "</style>\n",
       "<table border=\"1\" class=\"dataframe\">\n",
       "  <thead>\n",
       "    <tr style=\"text-align: right;\">\n",
       "      <th></th>\n",
       "      <th></th>\n",
       "      <th>calls_month</th>\n",
       "      <th>sum_calls_per_month</th>\n",
       "    </tr>\n",
       "    <tr>\n",
       "      <th>user_id</th>\n",
       "      <th>month</th>\n",
       "      <th></th>\n",
       "      <th></th>\n",
       "    </tr>\n",
       "  </thead>\n",
       "  <tbody>\n",
       "    <tr>\n",
       "      <th>1000</th>\n",
       "      <th>12</th>\n",
       "      <td>16</td>\n",
       "      <td>124.0</td>\n",
       "    </tr>\n",
       "    <tr>\n",
       "      <th rowspan=\"4\" valign=\"top\">1001</th>\n",
       "      <th>8</th>\n",
       "      <td>27</td>\n",
       "      <td>182.0</td>\n",
       "    </tr>\n",
       "    <tr>\n",
       "      <th>9</th>\n",
       "      <td>49</td>\n",
       "      <td>315.0</td>\n",
       "    </tr>\n",
       "    <tr>\n",
       "      <th>10</th>\n",
       "      <td>65</td>\n",
       "      <td>393.0</td>\n",
       "    </tr>\n",
       "    <tr>\n",
       "      <th>11</th>\n",
       "      <td>64</td>\n",
       "      <td>426.0</td>\n",
       "    </tr>\n",
       "    <tr>\n",
       "      <th>...</th>\n",
       "      <th>...</th>\n",
       "      <td>...</td>\n",
       "      <td>...</td>\n",
       "    </tr>\n",
       "    <tr>\n",
       "      <th>1498</th>\n",
       "      <th>12</th>\n",
       "      <td>39</td>\n",
       "      <td>339.0</td>\n",
       "    </tr>\n",
       "    <tr>\n",
       "      <th rowspan=\"4\" valign=\"top\">1499</th>\n",
       "      <th>9</th>\n",
       "      <td>41</td>\n",
       "      <td>346.0</td>\n",
       "    </tr>\n",
       "    <tr>\n",
       "      <th>10</th>\n",
       "      <td>53</td>\n",
       "      <td>385.0</td>\n",
       "    </tr>\n",
       "    <tr>\n",
       "      <th>11</th>\n",
       "      <td>45</td>\n",
       "      <td>308.0</td>\n",
       "    </tr>\n",
       "    <tr>\n",
       "      <th>12</th>\n",
       "      <td>65</td>\n",
       "      <td>496.0</td>\n",
       "    </tr>\n",
       "  </tbody>\n",
       "</table>\n",
       "<p>2258 rows × 2 columns</p>\n",
       "</div>"
      ],
      "text/plain": [
       "               calls_month  sum_calls_per_month\n",
       "user_id month                                  \n",
       "1000    12              16                124.0\n",
       "1001    8               27                182.0\n",
       "        9               49                315.0\n",
       "        10              65                393.0\n",
       "        11              64                426.0\n",
       "...                    ...                  ...\n",
       "1498    12              39                339.0\n",
       "1499    9               41                346.0\n",
       "        10              53                385.0\n",
       "        11              45                308.0\n",
       "        12              65                496.0\n",
       "\n",
       "[2258 rows x 2 columns]"
      ]
     },
     "execution_count": 42,
     "metadata": {},
     "output_type": "execute_result"
    }
   ],
   "source": [
    "calls_data = ml_calls.groupby(['user_id', 'month']).duration.agg(['count', 'sum'])\n",
    "calls_data.columns = ['calls_month', 'sum_calls_per_month']\n",
    "calls_data"
   ]
  },
  {
   "cell_type": "code",
   "execution_count": 43,
   "metadata": {},
   "outputs": [
    {
     "data": {
      "text/plain": [
       "calls_month            0\n",
       "sum_calls_per_month    0\n",
       "dtype: int64"
      ]
     },
     "execution_count": 43,
     "metadata": {},
     "output_type": "execute_result"
    }
   ],
   "source": [
    "calls_data.isnull().sum()"
   ]
  },
  {
   "cell_type": "code",
   "execution_count": 44,
   "metadata": {},
   "outputs": [
    {
     "data": {
      "text/html": [
       "<div>\n",
       "<style scoped>\n",
       "    .dataframe tbody tr th:only-of-type {\n",
       "        vertical-align: middle;\n",
       "    }\n",
       "\n",
       "    .dataframe tbody tr th {\n",
       "        vertical-align: top;\n",
       "    }\n",
       "\n",
       "    .dataframe thead th {\n",
       "        text-align: right;\n",
       "    }\n",
       "</style>\n",
       "<table border=\"1\" class=\"dataframe\">\n",
       "  <thead>\n",
       "    <tr style=\"text-align: right;\">\n",
       "      <th></th>\n",
       "      <th>id</th>\n",
       "      <th>user_id</th>\n",
       "      <th>session_date</th>\n",
       "      <th>mb_used</th>\n",
       "      <th>month</th>\n",
       "    </tr>\n",
       "  </thead>\n",
       "  <tbody>\n",
       "    <tr>\n",
       "      <th>0</th>\n",
       "      <td>1000_13</td>\n",
       "      <td>1000</td>\n",
       "      <td>2018-12-29</td>\n",
       "      <td>89.86</td>\n",
       "      <td>12</td>\n",
       "    </tr>\n",
       "    <tr>\n",
       "      <th>1</th>\n",
       "      <td>1000_204</td>\n",
       "      <td>1000</td>\n",
       "      <td>2018-12-31</td>\n",
       "      <td>0.00</td>\n",
       "      <td>12</td>\n",
       "    </tr>\n",
       "    <tr>\n",
       "      <th>2</th>\n",
       "      <td>1000_379</td>\n",
       "      <td>1000</td>\n",
       "      <td>2018-12-28</td>\n",
       "      <td>660.40</td>\n",
       "      <td>12</td>\n",
       "    </tr>\n",
       "    <tr>\n",
       "      <th>3</th>\n",
       "      <td>1000_413</td>\n",
       "      <td>1000</td>\n",
       "      <td>2018-12-26</td>\n",
       "      <td>270.99</td>\n",
       "      <td>12</td>\n",
       "    </tr>\n",
       "    <tr>\n",
       "      <th>4</th>\n",
       "      <td>1000_442</td>\n",
       "      <td>1000</td>\n",
       "      <td>2018-12-27</td>\n",
       "      <td>880.22</td>\n",
       "      <td>12</td>\n",
       "    </tr>\n",
       "    <tr>\n",
       "      <th>...</th>\n",
       "      <td>...</td>\n",
       "      <td>...</td>\n",
       "      <td>...</td>\n",
       "      <td>...</td>\n",
       "      <td>...</td>\n",
       "    </tr>\n",
       "    <tr>\n",
       "      <th>104820</th>\n",
       "      <td>1499_215</td>\n",
       "      <td>1499</td>\n",
       "      <td>2018-10-20</td>\n",
       "      <td>218.06</td>\n",
       "      <td>10</td>\n",
       "    </tr>\n",
       "    <tr>\n",
       "      <th>104821</th>\n",
       "      <td>1499_216</td>\n",
       "      <td>1499</td>\n",
       "      <td>2018-12-30</td>\n",
       "      <td>304.72</td>\n",
       "      <td>12</td>\n",
       "    </tr>\n",
       "    <tr>\n",
       "      <th>104822</th>\n",
       "      <td>1499_217</td>\n",
       "      <td>1499</td>\n",
       "      <td>2018-09-22</td>\n",
       "      <td>292.75</td>\n",
       "      <td>9</td>\n",
       "    </tr>\n",
       "    <tr>\n",
       "      <th>104823</th>\n",
       "      <td>1499_218</td>\n",
       "      <td>1499</td>\n",
       "      <td>2018-12-07</td>\n",
       "      <td>0.00</td>\n",
       "      <td>12</td>\n",
       "    </tr>\n",
       "    <tr>\n",
       "      <th>104824</th>\n",
       "      <td>1499_219</td>\n",
       "      <td>1499</td>\n",
       "      <td>2018-12-24</td>\n",
       "      <td>758.31</td>\n",
       "      <td>12</td>\n",
       "    </tr>\n",
       "  </tbody>\n",
       "</table>\n",
       "<p>104825 rows × 5 columns</p>\n",
       "</div>"
      ],
      "text/plain": [
       "              id  user_id session_date  mb_used  month\n",
       "0        1000_13     1000   2018-12-29    89.86     12\n",
       "1       1000_204     1000   2018-12-31     0.00     12\n",
       "2       1000_379     1000   2018-12-28   660.40     12\n",
       "3       1000_413     1000   2018-12-26   270.99     12\n",
       "4       1000_442     1000   2018-12-27   880.22     12\n",
       "...          ...      ...          ...      ...    ...\n",
       "104820  1499_215     1499   2018-10-20   218.06     10\n",
       "104821  1499_216     1499   2018-12-30   304.72     12\n",
       "104822  1499_217     1499   2018-09-22   292.75      9\n",
       "104823  1499_218     1499   2018-12-07     0.00     12\n",
       "104824  1499_219     1499   2018-12-24   758.31     12\n",
       "\n",
       "[104825 rows x 5 columns]"
      ]
     },
     "execution_count": 44,
     "metadata": {},
     "output_type": "execute_result"
    }
   ],
   "source": [
    "ml_internet"
   ]
  },
  {
   "cell_type": "markdown",
   "metadata": {},
   "source": [
    "**groupby ml_internet**"
   ]
  },
  {
   "cell_type": "code",
   "execution_count": 45,
   "metadata": {},
   "outputs": [
    {
     "data": {
      "text/html": [
       "<div>\n",
       "<style scoped>\n",
       "    .dataframe tbody tr th:only-of-type {\n",
       "        vertical-align: middle;\n",
       "    }\n",
       "\n",
       "    .dataframe tbody tr th {\n",
       "        vertical-align: top;\n",
       "    }\n",
       "\n",
       "    .dataframe thead th {\n",
       "        text-align: right;\n",
       "    }\n",
       "</style>\n",
       "<table border=\"1\" class=\"dataframe\">\n",
       "  <thead>\n",
       "    <tr style=\"text-align: right;\">\n",
       "      <th></th>\n",
       "      <th></th>\n",
       "      <th>sessions_month</th>\n",
       "      <th>mb_per_month</th>\n",
       "    </tr>\n",
       "    <tr>\n",
       "      <th>user_id</th>\n",
       "      <th>month</th>\n",
       "      <th></th>\n",
       "      <th></th>\n",
       "    </tr>\n",
       "  </thead>\n",
       "  <tbody>\n",
       "    <tr>\n",
       "      <th>1000</th>\n",
       "      <th>12</th>\n",
       "      <td>5</td>\n",
       "      <td>1901.47</td>\n",
       "    </tr>\n",
       "    <tr>\n",
       "      <th rowspan=\"4\" valign=\"top\">1001</th>\n",
       "      <th>8</th>\n",
       "      <td>25</td>\n",
       "      <td>6919.15</td>\n",
       "    </tr>\n",
       "    <tr>\n",
       "      <th>9</th>\n",
       "      <td>53</td>\n",
       "      <td>13314.82</td>\n",
       "    </tr>\n",
       "    <tr>\n",
       "      <th>10</th>\n",
       "      <td>56</td>\n",
       "      <td>22330.49</td>\n",
       "    </tr>\n",
       "    <tr>\n",
       "      <th>11</th>\n",
       "      <td>51</td>\n",
       "      <td>18504.30</td>\n",
       "    </tr>\n",
       "    <tr>\n",
       "      <th>...</th>\n",
       "      <th>...</th>\n",
       "      <td>...</td>\n",
       "      <td>...</td>\n",
       "    </tr>\n",
       "    <tr>\n",
       "      <th>1498</th>\n",
       "      <th>12</th>\n",
       "      <td>65</td>\n",
       "      <td>23137.69</td>\n",
       "    </tr>\n",
       "    <tr>\n",
       "      <th rowspan=\"4\" valign=\"top\">1499</th>\n",
       "      <th>9</th>\n",
       "      <td>45</td>\n",
       "      <td>12984.76</td>\n",
       "    </tr>\n",
       "    <tr>\n",
       "      <th>10</th>\n",
       "      <td>61</td>\n",
       "      <td>19492.43</td>\n",
       "    </tr>\n",
       "    <tr>\n",
       "      <th>11</th>\n",
       "      <td>49</td>\n",
       "      <td>16813.83</td>\n",
       "    </tr>\n",
       "    <tr>\n",
       "      <th>12</th>\n",
       "      <td>65</td>\n",
       "      <td>22059.21</td>\n",
       "    </tr>\n",
       "  </tbody>\n",
       "</table>\n",
       "<p>2277 rows × 2 columns</p>\n",
       "</div>"
      ],
      "text/plain": [
       "               sessions_month  mb_per_month\n",
       "user_id month                              \n",
       "1000    12                  5       1901.47\n",
       "1001    8                  25       6919.15\n",
       "        9                  53      13314.82\n",
       "        10                 56      22330.49\n",
       "        11                 51      18504.30\n",
       "...                       ...           ...\n",
       "1498    12                 65      23137.69\n",
       "1499    9                  45      12984.76\n",
       "        10                 61      19492.43\n",
       "        11                 49      16813.83\n",
       "        12                 65      22059.21\n",
       "\n",
       "[2277 rows x 2 columns]"
      ]
     },
     "execution_count": 45,
     "metadata": {},
     "output_type": "execute_result"
    }
   ],
   "source": [
    "internet_data = ml_internet.groupby(['user_id', 'month']).mb_used.agg(['count', 'sum'])\n",
    "internet_data.columns = ['sessions_month', 'mb_per_month']\n",
    "internet_data"
   ]
  },
  {
   "cell_type": "code",
   "execution_count": 46,
   "metadata": {},
   "outputs": [
    {
     "data": {
      "text/html": [
       "<div>\n",
       "<style scoped>\n",
       "    .dataframe tbody tr th:only-of-type {\n",
       "        vertical-align: middle;\n",
       "    }\n",
       "\n",
       "    .dataframe tbody tr th {\n",
       "        vertical-align: top;\n",
       "    }\n",
       "\n",
       "    .dataframe thead th {\n",
       "        text-align: right;\n",
       "    }\n",
       "</style>\n",
       "<table border=\"1\" class=\"dataframe\">\n",
       "  <thead>\n",
       "    <tr style=\"text-align: right;\">\n",
       "      <th></th>\n",
       "      <th>id</th>\n",
       "      <th>user_id</th>\n",
       "      <th>message_date</th>\n",
       "      <th>month</th>\n",
       "    </tr>\n",
       "  </thead>\n",
       "  <tbody>\n",
       "    <tr>\n",
       "      <th>0</th>\n",
       "      <td>1000_125</td>\n",
       "      <td>1000</td>\n",
       "      <td>2018-12-27</td>\n",
       "      <td>12</td>\n",
       "    </tr>\n",
       "    <tr>\n",
       "      <th>1</th>\n",
       "      <td>1000_160</td>\n",
       "      <td>1000</td>\n",
       "      <td>2018-12-31</td>\n",
       "      <td>12</td>\n",
       "    </tr>\n",
       "    <tr>\n",
       "      <th>2</th>\n",
       "      <td>1000_223</td>\n",
       "      <td>1000</td>\n",
       "      <td>2018-12-31</td>\n",
       "      <td>12</td>\n",
       "    </tr>\n",
       "    <tr>\n",
       "      <th>3</th>\n",
       "      <td>1000_251</td>\n",
       "      <td>1000</td>\n",
       "      <td>2018-12-27</td>\n",
       "      <td>12</td>\n",
       "    </tr>\n",
       "    <tr>\n",
       "      <th>4</th>\n",
       "      <td>1000_255</td>\n",
       "      <td>1000</td>\n",
       "      <td>2018-12-26</td>\n",
       "      <td>12</td>\n",
       "    </tr>\n",
       "    <tr>\n",
       "      <th>...</th>\n",
       "      <td>...</td>\n",
       "      <td>...</td>\n",
       "      <td>...</td>\n",
       "      <td>...</td>\n",
       "    </tr>\n",
       "    <tr>\n",
       "      <th>76046</th>\n",
       "      <td>1497_526</td>\n",
       "      <td>1497</td>\n",
       "      <td>2018-12-24</td>\n",
       "      <td>12</td>\n",
       "    </tr>\n",
       "    <tr>\n",
       "      <th>76047</th>\n",
       "      <td>1497_536</td>\n",
       "      <td>1497</td>\n",
       "      <td>2018-12-24</td>\n",
       "      <td>12</td>\n",
       "    </tr>\n",
       "    <tr>\n",
       "      <th>76048</th>\n",
       "      <td>1497_547</td>\n",
       "      <td>1497</td>\n",
       "      <td>2018-12-31</td>\n",
       "      <td>12</td>\n",
       "    </tr>\n",
       "    <tr>\n",
       "      <th>76049</th>\n",
       "      <td>1497_558</td>\n",
       "      <td>1497</td>\n",
       "      <td>2018-12-24</td>\n",
       "      <td>12</td>\n",
       "    </tr>\n",
       "    <tr>\n",
       "      <th>76050</th>\n",
       "      <td>1497_613</td>\n",
       "      <td>1497</td>\n",
       "      <td>2018-12-23</td>\n",
       "      <td>12</td>\n",
       "    </tr>\n",
       "  </tbody>\n",
       "</table>\n",
       "<p>76051 rows × 4 columns</p>\n",
       "</div>"
      ],
      "text/plain": [
       "             id  user_id message_date  month\n",
       "0      1000_125     1000   2018-12-27     12\n",
       "1      1000_160     1000   2018-12-31     12\n",
       "2      1000_223     1000   2018-12-31     12\n",
       "3      1000_251     1000   2018-12-27     12\n",
       "4      1000_255     1000   2018-12-26     12\n",
       "...         ...      ...          ...    ...\n",
       "76046  1497_526     1497   2018-12-24     12\n",
       "76047  1497_536     1497   2018-12-24     12\n",
       "76048  1497_547     1497   2018-12-31     12\n",
       "76049  1497_558     1497   2018-12-24     12\n",
       "76050  1497_613     1497   2018-12-23     12\n",
       "\n",
       "[76051 rows x 4 columns]"
      ]
     },
     "execution_count": 46,
     "metadata": {},
     "output_type": "execute_result"
    }
   ],
   "source": [
    "ml_messages"
   ]
  },
  {
   "cell_type": "markdown",
   "metadata": {},
   "source": [
    "**groupby ml_messages**"
   ]
  },
  {
   "cell_type": "code",
   "execution_count": 47,
   "metadata": {},
   "outputs": [
    {
     "data": {
      "text/html": [
       "<div>\n",
       "<style scoped>\n",
       "    .dataframe tbody tr th:only-of-type {\n",
       "        vertical-align: middle;\n",
       "    }\n",
       "\n",
       "    .dataframe tbody tr th {\n",
       "        vertical-align: top;\n",
       "    }\n",
       "\n",
       "    .dataframe thead th {\n",
       "        text-align: right;\n",
       "    }\n",
       "</style>\n",
       "<table border=\"1\" class=\"dataframe\">\n",
       "  <thead>\n",
       "    <tr style=\"text-align: right;\">\n",
       "      <th></th>\n",
       "      <th></th>\n",
       "      <th>sms_total</th>\n",
       "    </tr>\n",
       "    <tr>\n",
       "      <th>user_id</th>\n",
       "      <th>month</th>\n",
       "      <th></th>\n",
       "    </tr>\n",
       "  </thead>\n",
       "  <tbody>\n",
       "    <tr>\n",
       "      <th>1000</th>\n",
       "      <th>12</th>\n",
       "      <td>11</td>\n",
       "    </tr>\n",
       "    <tr>\n",
       "      <th rowspan=\"4\" valign=\"top\">1001</th>\n",
       "      <th>8</th>\n",
       "      <td>30</td>\n",
       "    </tr>\n",
       "    <tr>\n",
       "      <th>9</th>\n",
       "      <td>44</td>\n",
       "    </tr>\n",
       "    <tr>\n",
       "      <th>10</th>\n",
       "      <td>53</td>\n",
       "    </tr>\n",
       "    <tr>\n",
       "      <th>11</th>\n",
       "      <td>36</td>\n",
       "    </tr>\n",
       "    <tr>\n",
       "      <th>...</th>\n",
       "      <th>...</th>\n",
       "      <td>...</td>\n",
       "    </tr>\n",
       "    <tr>\n",
       "      <th rowspan=\"4\" valign=\"top\">1496</th>\n",
       "      <th>9</th>\n",
       "      <td>21</td>\n",
       "    </tr>\n",
       "    <tr>\n",
       "      <th>10</th>\n",
       "      <td>18</td>\n",
       "    </tr>\n",
       "    <tr>\n",
       "      <th>11</th>\n",
       "      <td>13</td>\n",
       "    </tr>\n",
       "    <tr>\n",
       "      <th>12</th>\n",
       "      <td>11</td>\n",
       "    </tr>\n",
       "    <tr>\n",
       "      <th>1497</th>\n",
       "      <th>12</th>\n",
       "      <td>50</td>\n",
       "    </tr>\n",
       "  </tbody>\n",
       "</table>\n",
       "<p>1806 rows × 1 columns</p>\n",
       "</div>"
      ],
      "text/plain": [
       "               sms_total\n",
       "user_id month           \n",
       "1000    12            11\n",
       "1001    8             30\n",
       "        9             44\n",
       "        10            53\n",
       "        11            36\n",
       "...                  ...\n",
       "1496    9             21\n",
       "        10            18\n",
       "        11            13\n",
       "        12            11\n",
       "1497    12            50\n",
       "\n",
       "[1806 rows x 1 columns]"
      ]
     },
     "execution_count": 47,
     "metadata": {},
     "output_type": "execute_result"
    }
   ],
   "source": [
    "messages_data = ml_messages.groupby(['user_id', 'month'])[['id']].count()\n",
    "messages_data.columns = ['sms_total']\n",
    "messages_data"
   ]
  },
  {
   "cell_type": "markdown",
   "metadata": {},
   "source": [
    "**Merge  ml_internet, ml_calls ml_messages and ml_users into one dataset**"
   ]
  },
  {
   "cell_type": "code",
   "execution_count": 48,
   "metadata": {},
   "outputs": [
    {
     "data": {
      "text/html": [
       "<div>\n",
       "<style scoped>\n",
       "    .dataframe tbody tr th:only-of-type {\n",
       "        vertical-align: middle;\n",
       "    }\n",
       "\n",
       "    .dataframe tbody tr th {\n",
       "        vertical-align: top;\n",
       "    }\n",
       "\n",
       "    .dataframe thead th {\n",
       "        text-align: right;\n",
       "    }\n",
       "</style>\n",
       "<table border=\"1\" class=\"dataframe\">\n",
       "  <thead>\n",
       "    <tr style=\"text-align: right;\">\n",
       "      <th></th>\n",
       "      <th></th>\n",
       "      <th>sms_total</th>\n",
       "      <th>calls_month</th>\n",
       "      <th>sum_calls_per_month</th>\n",
       "      <th>sessions_month</th>\n",
       "      <th>mb_per_month</th>\n",
       "    </tr>\n",
       "    <tr>\n",
       "      <th>user_id</th>\n",
       "      <th>month</th>\n",
       "      <th></th>\n",
       "      <th></th>\n",
       "      <th></th>\n",
       "      <th></th>\n",
       "      <th></th>\n",
       "    </tr>\n",
       "  </thead>\n",
       "  <tbody>\n",
       "    <tr>\n",
       "      <th>1000</th>\n",
       "      <th>12</th>\n",
       "      <td>11.0</td>\n",
       "      <td>16.0</td>\n",
       "      <td>124.0</td>\n",
       "      <td>5.0</td>\n",
       "      <td>1901.47</td>\n",
       "    </tr>\n",
       "    <tr>\n",
       "      <th rowspan=\"4\" valign=\"top\">1001</th>\n",
       "      <th>8</th>\n",
       "      <td>30.0</td>\n",
       "      <td>27.0</td>\n",
       "      <td>182.0</td>\n",
       "      <td>25.0</td>\n",
       "      <td>6919.15</td>\n",
       "    </tr>\n",
       "    <tr>\n",
       "      <th>9</th>\n",
       "      <td>44.0</td>\n",
       "      <td>49.0</td>\n",
       "      <td>315.0</td>\n",
       "      <td>53.0</td>\n",
       "      <td>13314.82</td>\n",
       "    </tr>\n",
       "    <tr>\n",
       "      <th>10</th>\n",
       "      <td>53.0</td>\n",
       "      <td>65.0</td>\n",
       "      <td>393.0</td>\n",
       "      <td>56.0</td>\n",
       "      <td>22330.49</td>\n",
       "    </tr>\n",
       "    <tr>\n",
       "      <th>11</th>\n",
       "      <td>36.0</td>\n",
       "      <td>64.0</td>\n",
       "      <td>426.0</td>\n",
       "      <td>51.0</td>\n",
       "      <td>18504.30</td>\n",
       "    </tr>\n",
       "    <tr>\n",
       "      <th>...</th>\n",
       "      <th>...</th>\n",
       "      <td>...</td>\n",
       "      <td>...</td>\n",
       "      <td>...</td>\n",
       "      <td>...</td>\n",
       "      <td>...</td>\n",
       "    </tr>\n",
       "    <tr>\n",
       "      <th rowspan=\"3\" valign=\"top\">1499</th>\n",
       "      <th>10</th>\n",
       "      <td>NaN</td>\n",
       "      <td>53.0</td>\n",
       "      <td>385.0</td>\n",
       "      <td>61.0</td>\n",
       "      <td>19492.43</td>\n",
       "    </tr>\n",
       "    <tr>\n",
       "      <th>11</th>\n",
       "      <td>NaN</td>\n",
       "      <td>45.0</td>\n",
       "      <td>308.0</td>\n",
       "      <td>49.0</td>\n",
       "      <td>16813.83</td>\n",
       "    </tr>\n",
       "    <tr>\n",
       "      <th>12</th>\n",
       "      <td>NaN</td>\n",
       "      <td>65.0</td>\n",
       "      <td>496.0</td>\n",
       "      <td>65.0</td>\n",
       "      <td>22059.21</td>\n",
       "    </tr>\n",
       "    <tr>\n",
       "      <th>1108</th>\n",
       "      <th>12</th>\n",
       "      <td>NaN</td>\n",
       "      <td>NaN</td>\n",
       "      <td>NaN</td>\n",
       "      <td>2.0</td>\n",
       "      <td>233.17</td>\n",
       "    </tr>\n",
       "    <tr>\n",
       "      <th>1311</th>\n",
       "      <th>6</th>\n",
       "      <td>NaN</td>\n",
       "      <td>NaN</td>\n",
       "      <td>NaN</td>\n",
       "      <td>9.0</td>\n",
       "      <td>1498.83</td>\n",
       "    </tr>\n",
       "  </tbody>\n",
       "</table>\n",
       "<p>2293 rows × 5 columns</p>\n",
       "</div>"
      ],
      "text/plain": [
       "               sms_total  calls_month  sum_calls_per_month  sessions_month  \\\n",
       "user_id month                                                                \n",
       "1000    12          11.0         16.0                124.0             5.0   \n",
       "1001    8           30.0         27.0                182.0            25.0   \n",
       "        9           44.0         49.0                315.0            53.0   \n",
       "        10          53.0         65.0                393.0            56.0   \n",
       "        11          36.0         64.0                426.0            51.0   \n",
       "...                  ...          ...                  ...             ...   \n",
       "1499    10           NaN         53.0                385.0            61.0   \n",
       "        11           NaN         45.0                308.0            49.0   \n",
       "        12           NaN         65.0                496.0            65.0   \n",
       "1108    12           NaN          NaN                  NaN             2.0   \n",
       "1311    6            NaN          NaN                  NaN             9.0   \n",
       "\n",
       "               mb_per_month  \n",
       "user_id month                \n",
       "1000    12          1901.47  \n",
       "1001    8           6919.15  \n",
       "        9          13314.82  \n",
       "        10         22330.49  \n",
       "        11         18504.30  \n",
       "...                     ...  \n",
       "1499    10         19492.43  \n",
       "        11         16813.83  \n",
       "        12         22059.21  \n",
       "1108    12           233.17  \n",
       "1311    6           1498.83  \n",
       "\n",
       "[2293 rows x 5 columns]"
      ]
     },
     "execution_count": 48,
     "metadata": {},
     "output_type": "execute_result"
    }
   ],
   "source": [
    "data_frames = [messages_data, calls_data, internet_data]\n",
    "df_merged = reduce(lambda  left,right: pd.merge(left,right,on=['user_id','month'],\n",
    "                                            how='outer'), data_frames)\n",
    "df_merged"
   ]
  },
  {
   "cell_type": "markdown",
   "metadata": {},
   "source": [
    "**Turn megabytes into gigabytes and round it up**"
   ]
  },
  {
   "cell_type": "code",
   "execution_count": 49,
   "metadata": {},
   "outputs": [],
   "source": [
    "df_merged['mb_per_month']=df_merged['mb_per_month']/1024"
   ]
  },
  {
   "cell_type": "code",
   "execution_count": 50,
   "metadata": {},
   "outputs": [],
   "source": [
    "df_merged['mb_per_month'] = df_merged['mb_per_month'].apply(np.ceil)"
   ]
  },
  {
   "cell_type": "markdown",
   "metadata": {},
   "source": [
    "**merge ml_internet, ml_calls ml_messages and ml_users into one dataset**"
   ]
  },
  {
   "cell_type": "code",
   "execution_count": 51,
   "metadata": {},
   "outputs": [
    {
     "data": {
      "text/html": [
       "<div>\n",
       "<style scoped>\n",
       "    .dataframe tbody tr th:only-of-type {\n",
       "        vertical-align: middle;\n",
       "    }\n",
       "\n",
       "    .dataframe tbody tr th {\n",
       "        vertical-align: top;\n",
       "    }\n",
       "\n",
       "    .dataframe thead th {\n",
       "        text-align: right;\n",
       "    }\n",
       "</style>\n",
       "<table border=\"1\" class=\"dataframe\">\n",
       "  <thead>\n",
       "    <tr style=\"text-align: right;\">\n",
       "      <th></th>\n",
       "      <th>user_id</th>\n",
       "      <th>month</th>\n",
       "      <th>sms_total</th>\n",
       "      <th>calls_month</th>\n",
       "      <th>calls_sum_month</th>\n",
       "      <th>sessions_month</th>\n",
       "      <th>giga_sum_month</th>\n",
       "      <th>first_name</th>\n",
       "      <th>last_name</th>\n",
       "      <th>age</th>\n",
       "      <th>city</th>\n",
       "      <th>reg_date</th>\n",
       "      <th>plan</th>\n",
       "      <th>churn_date</th>\n",
       "    </tr>\n",
       "  </thead>\n",
       "  <tbody>\n",
       "    <tr>\n",
       "      <th>0</th>\n",
       "      <td>1000</td>\n",
       "      <td>12</td>\n",
       "      <td>11.0</td>\n",
       "      <td>16.0</td>\n",
       "      <td>124.0</td>\n",
       "      <td>5.0</td>\n",
       "      <td>2.0</td>\n",
       "      <td>Anamaria</td>\n",
       "      <td>Bauer</td>\n",
       "      <td>45</td>\n",
       "      <td>Atlanta-Sandy Springs-Roswell, GA MSA</td>\n",
       "      <td>2018-12-24</td>\n",
       "      <td>ultimate</td>\n",
       "      <td>2018-12-31</td>\n",
       "    </tr>\n",
       "    <tr>\n",
       "      <th>1</th>\n",
       "      <td>1001</td>\n",
       "      <td>8</td>\n",
       "      <td>30.0</td>\n",
       "      <td>27.0</td>\n",
       "      <td>182.0</td>\n",
       "      <td>25.0</td>\n",
       "      <td>7.0</td>\n",
       "      <td>Mickey</td>\n",
       "      <td>Wilkerson</td>\n",
       "      <td>28</td>\n",
       "      <td>Seattle-Tacoma-Bellevue, WA MSA</td>\n",
       "      <td>2018-08-13</td>\n",
       "      <td>surf</td>\n",
       "      <td>2018-12-31</td>\n",
       "    </tr>\n",
       "    <tr>\n",
       "      <th>2</th>\n",
       "      <td>1001</td>\n",
       "      <td>9</td>\n",
       "      <td>44.0</td>\n",
       "      <td>49.0</td>\n",
       "      <td>315.0</td>\n",
       "      <td>53.0</td>\n",
       "      <td>14.0</td>\n",
       "      <td>Mickey</td>\n",
       "      <td>Wilkerson</td>\n",
       "      <td>28</td>\n",
       "      <td>Seattle-Tacoma-Bellevue, WA MSA</td>\n",
       "      <td>2018-08-13</td>\n",
       "      <td>surf</td>\n",
       "      <td>2018-12-31</td>\n",
       "    </tr>\n",
       "    <tr>\n",
       "      <th>3</th>\n",
       "      <td>1001</td>\n",
       "      <td>10</td>\n",
       "      <td>53.0</td>\n",
       "      <td>65.0</td>\n",
       "      <td>393.0</td>\n",
       "      <td>56.0</td>\n",
       "      <td>22.0</td>\n",
       "      <td>Mickey</td>\n",
       "      <td>Wilkerson</td>\n",
       "      <td>28</td>\n",
       "      <td>Seattle-Tacoma-Bellevue, WA MSA</td>\n",
       "      <td>2018-08-13</td>\n",
       "      <td>surf</td>\n",
       "      <td>2018-12-31</td>\n",
       "    </tr>\n",
       "    <tr>\n",
       "      <th>4</th>\n",
       "      <td>1001</td>\n",
       "      <td>11</td>\n",
       "      <td>36.0</td>\n",
       "      <td>64.0</td>\n",
       "      <td>426.0</td>\n",
       "      <td>51.0</td>\n",
       "      <td>19.0</td>\n",
       "      <td>Mickey</td>\n",
       "      <td>Wilkerson</td>\n",
       "      <td>28</td>\n",
       "      <td>Seattle-Tacoma-Bellevue, WA MSA</td>\n",
       "      <td>2018-08-13</td>\n",
       "      <td>surf</td>\n",
       "      <td>2018-12-31</td>\n",
       "    </tr>\n",
       "    <tr>\n",
       "      <th>...</th>\n",
       "      <td>...</td>\n",
       "      <td>...</td>\n",
       "      <td>...</td>\n",
       "      <td>...</td>\n",
       "      <td>...</td>\n",
       "      <td>...</td>\n",
       "      <td>...</td>\n",
       "      <td>...</td>\n",
       "      <td>...</td>\n",
       "      <td>...</td>\n",
       "      <td>...</td>\n",
       "      <td>...</td>\n",
       "      <td>...</td>\n",
       "      <td>...</td>\n",
       "    </tr>\n",
       "    <tr>\n",
       "      <th>2288</th>\n",
       "      <td>1499</td>\n",
       "      <td>9</td>\n",
       "      <td>NaN</td>\n",
       "      <td>41.0</td>\n",
       "      <td>346.0</td>\n",
       "      <td>45.0</td>\n",
       "      <td>13.0</td>\n",
       "      <td>Shena</td>\n",
       "      <td>Dickson</td>\n",
       "      <td>37</td>\n",
       "      <td>Orlando-Kissimmee-Sanford, FL MSA</td>\n",
       "      <td>2018-05-06</td>\n",
       "      <td>surf</td>\n",
       "      <td>2018-12-31</td>\n",
       "    </tr>\n",
       "    <tr>\n",
       "      <th>2289</th>\n",
       "      <td>1499</td>\n",
       "      <td>10</td>\n",
       "      <td>NaN</td>\n",
       "      <td>53.0</td>\n",
       "      <td>385.0</td>\n",
       "      <td>61.0</td>\n",
       "      <td>20.0</td>\n",
       "      <td>Shena</td>\n",
       "      <td>Dickson</td>\n",
       "      <td>37</td>\n",
       "      <td>Orlando-Kissimmee-Sanford, FL MSA</td>\n",
       "      <td>2018-05-06</td>\n",
       "      <td>surf</td>\n",
       "      <td>2018-12-31</td>\n",
       "    </tr>\n",
       "    <tr>\n",
       "      <th>2290</th>\n",
       "      <td>1499</td>\n",
       "      <td>11</td>\n",
       "      <td>NaN</td>\n",
       "      <td>45.0</td>\n",
       "      <td>308.0</td>\n",
       "      <td>49.0</td>\n",
       "      <td>17.0</td>\n",
       "      <td>Shena</td>\n",
       "      <td>Dickson</td>\n",
       "      <td>37</td>\n",
       "      <td>Orlando-Kissimmee-Sanford, FL MSA</td>\n",
       "      <td>2018-05-06</td>\n",
       "      <td>surf</td>\n",
       "      <td>2018-12-31</td>\n",
       "    </tr>\n",
       "    <tr>\n",
       "      <th>2291</th>\n",
       "      <td>1499</td>\n",
       "      <td>12</td>\n",
       "      <td>NaN</td>\n",
       "      <td>65.0</td>\n",
       "      <td>496.0</td>\n",
       "      <td>65.0</td>\n",
       "      <td>22.0</td>\n",
       "      <td>Shena</td>\n",
       "      <td>Dickson</td>\n",
       "      <td>37</td>\n",
       "      <td>Orlando-Kissimmee-Sanford, FL MSA</td>\n",
       "      <td>2018-05-06</td>\n",
       "      <td>surf</td>\n",
       "      <td>2018-12-31</td>\n",
       "    </tr>\n",
       "    <tr>\n",
       "      <th>2292</th>\n",
       "      <td>1108</td>\n",
       "      <td>12</td>\n",
       "      <td>NaN</td>\n",
       "      <td>NaN</td>\n",
       "      <td>NaN</td>\n",
       "      <td>2.0</td>\n",
       "      <td>1.0</td>\n",
       "      <td>Porfirio</td>\n",
       "      <td>Kane</td>\n",
       "      <td>45</td>\n",
       "      <td>Salt Lake City, UT MSA</td>\n",
       "      <td>2018-12-30</td>\n",
       "      <td>ultimate</td>\n",
       "      <td>2018-12-31</td>\n",
       "    </tr>\n",
       "  </tbody>\n",
       "</table>\n",
       "<p>2293 rows × 14 columns</p>\n",
       "</div>"
      ],
      "text/plain": [
       "      user_id  month  sms_total  calls_month  calls_sum_month  sessions_month  \\\n",
       "0        1000     12       11.0         16.0            124.0             5.0   \n",
       "1        1001      8       30.0         27.0            182.0            25.0   \n",
       "2        1001      9       44.0         49.0            315.0            53.0   \n",
       "3        1001     10       53.0         65.0            393.0            56.0   \n",
       "4        1001     11       36.0         64.0            426.0            51.0   \n",
       "...       ...    ...        ...          ...              ...             ...   \n",
       "2288     1499      9        NaN         41.0            346.0            45.0   \n",
       "2289     1499     10        NaN         53.0            385.0            61.0   \n",
       "2290     1499     11        NaN         45.0            308.0            49.0   \n",
       "2291     1499     12        NaN         65.0            496.0            65.0   \n",
       "2292     1108     12        NaN          NaN              NaN             2.0   \n",
       "\n",
       "      giga_sum_month first_name  last_name  age  \\\n",
       "0                2.0   Anamaria      Bauer   45   \n",
       "1                7.0     Mickey  Wilkerson   28   \n",
       "2               14.0     Mickey  Wilkerson   28   \n",
       "3               22.0     Mickey  Wilkerson   28   \n",
       "4               19.0     Mickey  Wilkerson   28   \n",
       "...              ...        ...        ...  ...   \n",
       "2288            13.0      Shena    Dickson   37   \n",
       "2289            20.0      Shena    Dickson   37   \n",
       "2290            17.0      Shena    Dickson   37   \n",
       "2291            22.0      Shena    Dickson   37   \n",
       "2292             1.0   Porfirio       Kane   45   \n",
       "\n",
       "                                       city   reg_date      plan churn_date  \n",
       "0     Atlanta-Sandy Springs-Roswell, GA MSA 2018-12-24  ultimate 2018-12-31  \n",
       "1           Seattle-Tacoma-Bellevue, WA MSA 2018-08-13      surf 2018-12-31  \n",
       "2           Seattle-Tacoma-Bellevue, WA MSA 2018-08-13      surf 2018-12-31  \n",
       "3           Seattle-Tacoma-Bellevue, WA MSA 2018-08-13      surf 2018-12-31  \n",
       "4           Seattle-Tacoma-Bellevue, WA MSA 2018-08-13      surf 2018-12-31  \n",
       "...                                     ...        ...       ...        ...  \n",
       "2288      Orlando-Kissimmee-Sanford, FL MSA 2018-05-06      surf 2018-12-31  \n",
       "2289      Orlando-Kissimmee-Sanford, FL MSA 2018-05-06      surf 2018-12-31  \n",
       "2290      Orlando-Kissimmee-Sanford, FL MSA 2018-05-06      surf 2018-12-31  \n",
       "2291      Orlando-Kissimmee-Sanford, FL MSA 2018-05-06      surf 2018-12-31  \n",
       "2292                 Salt Lake City, UT MSA 2018-12-30  ultimate 2018-12-31  \n",
       "\n",
       "[2293 rows x 14 columns]"
      ]
     },
     "execution_count": 51,
     "metadata": {},
     "output_type": "execute_result"
    }
   ],
   "source": [
    "merged_data = pd.concat([df_merged],axis=1).reset_index().merge(ml_users,on='user_id')\n",
    "merged_data.columns = ['user_id','month','sms_total','calls_month','calls_sum_month','sessions_month','giga_sum_month','first_name','last_name','age','city','reg_date','plan','churn_date']\n",
    "merged_data"
   ]
  },
  {
   "cell_type": "markdown",
   "metadata": {},
   "source": [
    "**Check nan in the merged dataset**"
   ]
  },
  {
   "cell_type": "code",
   "execution_count": 52,
   "metadata": {},
   "outputs": [
    {
     "data": {
      "text/plain": [
       "user_id              0\n",
       "month                0\n",
       "sms_total          487\n",
       "calls_month         35\n",
       "calls_sum_month     35\n",
       "sessions_month      16\n",
       "giga_sum_month      16\n",
       "first_name           0\n",
       "last_name            0\n",
       "age                  0\n",
       "city                 0\n",
       "reg_date             0\n",
       "plan                 0\n",
       "churn_date           0\n",
       "dtype: int64"
      ]
     },
     "execution_count": 52,
     "metadata": {},
     "output_type": "execute_result"
    }
   ],
   "source": [
    "merged_data.isnull().sum()"
   ]
  },
  {
   "cell_type": "markdown",
   "metadata": {},
   "source": [
    "**fill NAN with zero**"
   ]
  },
  {
   "cell_type": "code",
   "execution_count": 53,
   "metadata": {},
   "outputs": [
    {
     "data": {
      "text/html": [
       "<div>\n",
       "<style scoped>\n",
       "    .dataframe tbody tr th:only-of-type {\n",
       "        vertical-align: middle;\n",
       "    }\n",
       "\n",
       "    .dataframe tbody tr th {\n",
       "        vertical-align: top;\n",
       "    }\n",
       "\n",
       "    .dataframe thead th {\n",
       "        text-align: right;\n",
       "    }\n",
       "</style>\n",
       "<table border=\"1\" class=\"dataframe\">\n",
       "  <thead>\n",
       "    <tr style=\"text-align: right;\">\n",
       "      <th></th>\n",
       "      <th>user_id</th>\n",
       "      <th>month</th>\n",
       "      <th>sms_total</th>\n",
       "      <th>calls_month</th>\n",
       "      <th>calls_sum_month</th>\n",
       "      <th>sessions_month</th>\n",
       "      <th>giga_sum_month</th>\n",
       "      <th>first_name</th>\n",
       "      <th>last_name</th>\n",
       "      <th>age</th>\n",
       "      <th>city</th>\n",
       "      <th>reg_date</th>\n",
       "      <th>plan</th>\n",
       "      <th>churn_date</th>\n",
       "    </tr>\n",
       "  </thead>\n",
       "  <tbody>\n",
       "    <tr>\n",
       "      <th>0</th>\n",
       "      <td>1000</td>\n",
       "      <td>12</td>\n",
       "      <td>11.0</td>\n",
       "      <td>16.0</td>\n",
       "      <td>124.0</td>\n",
       "      <td>5.0</td>\n",
       "      <td>2.0</td>\n",
       "      <td>Anamaria</td>\n",
       "      <td>Bauer</td>\n",
       "      <td>45</td>\n",
       "      <td>Atlanta-Sandy Springs-Roswell, GA MSA</td>\n",
       "      <td>2018-12-24</td>\n",
       "      <td>ultimate</td>\n",
       "      <td>2018-12-31</td>\n",
       "    </tr>\n",
       "    <tr>\n",
       "      <th>1</th>\n",
       "      <td>1001</td>\n",
       "      <td>8</td>\n",
       "      <td>30.0</td>\n",
       "      <td>27.0</td>\n",
       "      <td>182.0</td>\n",
       "      <td>25.0</td>\n",
       "      <td>7.0</td>\n",
       "      <td>Mickey</td>\n",
       "      <td>Wilkerson</td>\n",
       "      <td>28</td>\n",
       "      <td>Seattle-Tacoma-Bellevue, WA MSA</td>\n",
       "      <td>2018-08-13</td>\n",
       "      <td>surf</td>\n",
       "      <td>2018-12-31</td>\n",
       "    </tr>\n",
       "    <tr>\n",
       "      <th>2</th>\n",
       "      <td>1001</td>\n",
       "      <td>9</td>\n",
       "      <td>44.0</td>\n",
       "      <td>49.0</td>\n",
       "      <td>315.0</td>\n",
       "      <td>53.0</td>\n",
       "      <td>14.0</td>\n",
       "      <td>Mickey</td>\n",
       "      <td>Wilkerson</td>\n",
       "      <td>28</td>\n",
       "      <td>Seattle-Tacoma-Bellevue, WA MSA</td>\n",
       "      <td>2018-08-13</td>\n",
       "      <td>surf</td>\n",
       "      <td>2018-12-31</td>\n",
       "    </tr>\n",
       "    <tr>\n",
       "      <th>3</th>\n",
       "      <td>1001</td>\n",
       "      <td>10</td>\n",
       "      <td>53.0</td>\n",
       "      <td>65.0</td>\n",
       "      <td>393.0</td>\n",
       "      <td>56.0</td>\n",
       "      <td>22.0</td>\n",
       "      <td>Mickey</td>\n",
       "      <td>Wilkerson</td>\n",
       "      <td>28</td>\n",
       "      <td>Seattle-Tacoma-Bellevue, WA MSA</td>\n",
       "      <td>2018-08-13</td>\n",
       "      <td>surf</td>\n",
       "      <td>2018-12-31</td>\n",
       "    </tr>\n",
       "    <tr>\n",
       "      <th>4</th>\n",
       "      <td>1001</td>\n",
       "      <td>11</td>\n",
       "      <td>36.0</td>\n",
       "      <td>64.0</td>\n",
       "      <td>426.0</td>\n",
       "      <td>51.0</td>\n",
       "      <td>19.0</td>\n",
       "      <td>Mickey</td>\n",
       "      <td>Wilkerson</td>\n",
       "      <td>28</td>\n",
       "      <td>Seattle-Tacoma-Bellevue, WA MSA</td>\n",
       "      <td>2018-08-13</td>\n",
       "      <td>surf</td>\n",
       "      <td>2018-12-31</td>\n",
       "    </tr>\n",
       "    <tr>\n",
       "      <th>...</th>\n",
       "      <td>...</td>\n",
       "      <td>...</td>\n",
       "      <td>...</td>\n",
       "      <td>...</td>\n",
       "      <td>...</td>\n",
       "      <td>...</td>\n",
       "      <td>...</td>\n",
       "      <td>...</td>\n",
       "      <td>...</td>\n",
       "      <td>...</td>\n",
       "      <td>...</td>\n",
       "      <td>...</td>\n",
       "      <td>...</td>\n",
       "      <td>...</td>\n",
       "    </tr>\n",
       "    <tr>\n",
       "      <th>2288</th>\n",
       "      <td>1499</td>\n",
       "      <td>9</td>\n",
       "      <td>0.0</td>\n",
       "      <td>41.0</td>\n",
       "      <td>346.0</td>\n",
       "      <td>45.0</td>\n",
       "      <td>13.0</td>\n",
       "      <td>Shena</td>\n",
       "      <td>Dickson</td>\n",
       "      <td>37</td>\n",
       "      <td>Orlando-Kissimmee-Sanford, FL MSA</td>\n",
       "      <td>2018-05-06</td>\n",
       "      <td>surf</td>\n",
       "      <td>2018-12-31</td>\n",
       "    </tr>\n",
       "    <tr>\n",
       "      <th>2289</th>\n",
       "      <td>1499</td>\n",
       "      <td>10</td>\n",
       "      <td>0.0</td>\n",
       "      <td>53.0</td>\n",
       "      <td>385.0</td>\n",
       "      <td>61.0</td>\n",
       "      <td>20.0</td>\n",
       "      <td>Shena</td>\n",
       "      <td>Dickson</td>\n",
       "      <td>37</td>\n",
       "      <td>Orlando-Kissimmee-Sanford, FL MSA</td>\n",
       "      <td>2018-05-06</td>\n",
       "      <td>surf</td>\n",
       "      <td>2018-12-31</td>\n",
       "    </tr>\n",
       "    <tr>\n",
       "      <th>2290</th>\n",
       "      <td>1499</td>\n",
       "      <td>11</td>\n",
       "      <td>0.0</td>\n",
       "      <td>45.0</td>\n",
       "      <td>308.0</td>\n",
       "      <td>49.0</td>\n",
       "      <td>17.0</td>\n",
       "      <td>Shena</td>\n",
       "      <td>Dickson</td>\n",
       "      <td>37</td>\n",
       "      <td>Orlando-Kissimmee-Sanford, FL MSA</td>\n",
       "      <td>2018-05-06</td>\n",
       "      <td>surf</td>\n",
       "      <td>2018-12-31</td>\n",
       "    </tr>\n",
       "    <tr>\n",
       "      <th>2291</th>\n",
       "      <td>1499</td>\n",
       "      <td>12</td>\n",
       "      <td>0.0</td>\n",
       "      <td>65.0</td>\n",
       "      <td>496.0</td>\n",
       "      <td>65.0</td>\n",
       "      <td>22.0</td>\n",
       "      <td>Shena</td>\n",
       "      <td>Dickson</td>\n",
       "      <td>37</td>\n",
       "      <td>Orlando-Kissimmee-Sanford, FL MSA</td>\n",
       "      <td>2018-05-06</td>\n",
       "      <td>surf</td>\n",
       "      <td>2018-12-31</td>\n",
       "    </tr>\n",
       "    <tr>\n",
       "      <th>2292</th>\n",
       "      <td>1108</td>\n",
       "      <td>12</td>\n",
       "      <td>0.0</td>\n",
       "      <td>0.0</td>\n",
       "      <td>0.0</td>\n",
       "      <td>2.0</td>\n",
       "      <td>1.0</td>\n",
       "      <td>Porfirio</td>\n",
       "      <td>Kane</td>\n",
       "      <td>45</td>\n",
       "      <td>Salt Lake City, UT MSA</td>\n",
       "      <td>2018-12-30</td>\n",
       "      <td>ultimate</td>\n",
       "      <td>2018-12-31</td>\n",
       "    </tr>\n",
       "  </tbody>\n",
       "</table>\n",
       "<p>2293 rows × 14 columns</p>\n",
       "</div>"
      ],
      "text/plain": [
       "      user_id  month  sms_total  calls_month  calls_sum_month  sessions_month  \\\n",
       "0        1000     12       11.0         16.0            124.0             5.0   \n",
       "1        1001      8       30.0         27.0            182.0            25.0   \n",
       "2        1001      9       44.0         49.0            315.0            53.0   \n",
       "3        1001     10       53.0         65.0            393.0            56.0   \n",
       "4        1001     11       36.0         64.0            426.0            51.0   \n",
       "...       ...    ...        ...          ...              ...             ...   \n",
       "2288     1499      9        0.0         41.0            346.0            45.0   \n",
       "2289     1499     10        0.0         53.0            385.0            61.0   \n",
       "2290     1499     11        0.0         45.0            308.0            49.0   \n",
       "2291     1499     12        0.0         65.0            496.0            65.0   \n",
       "2292     1108     12        0.0          0.0              0.0             2.0   \n",
       "\n",
       "      giga_sum_month first_name  last_name  age  \\\n",
       "0                2.0   Anamaria      Bauer   45   \n",
       "1                7.0     Mickey  Wilkerson   28   \n",
       "2               14.0     Mickey  Wilkerson   28   \n",
       "3               22.0     Mickey  Wilkerson   28   \n",
       "4               19.0     Mickey  Wilkerson   28   \n",
       "...              ...        ...        ...  ...   \n",
       "2288            13.0      Shena    Dickson   37   \n",
       "2289            20.0      Shena    Dickson   37   \n",
       "2290            17.0      Shena    Dickson   37   \n",
       "2291            22.0      Shena    Dickson   37   \n",
       "2292             1.0   Porfirio       Kane   45   \n",
       "\n",
       "                                       city   reg_date      plan churn_date  \n",
       "0     Atlanta-Sandy Springs-Roswell, GA MSA 2018-12-24  ultimate 2018-12-31  \n",
       "1           Seattle-Tacoma-Bellevue, WA MSA 2018-08-13      surf 2018-12-31  \n",
       "2           Seattle-Tacoma-Bellevue, WA MSA 2018-08-13      surf 2018-12-31  \n",
       "3           Seattle-Tacoma-Bellevue, WA MSA 2018-08-13      surf 2018-12-31  \n",
       "4           Seattle-Tacoma-Bellevue, WA MSA 2018-08-13      surf 2018-12-31  \n",
       "...                                     ...        ...       ...        ...  \n",
       "2288      Orlando-Kissimmee-Sanford, FL MSA 2018-05-06      surf 2018-12-31  \n",
       "2289      Orlando-Kissimmee-Sanford, FL MSA 2018-05-06      surf 2018-12-31  \n",
       "2290      Orlando-Kissimmee-Sanford, FL MSA 2018-05-06      surf 2018-12-31  \n",
       "2291      Orlando-Kissimmee-Sanford, FL MSA 2018-05-06      surf 2018-12-31  \n",
       "2292                 Salt Lake City, UT MSA 2018-12-30  ultimate 2018-12-31  \n",
       "\n",
       "[2293 rows x 14 columns]"
      ]
     },
     "execution_count": 53,
     "metadata": {},
     "output_type": "execute_result"
    }
   ],
   "source": [
    "merged_data = merged_data.fillna(0)\n",
    "merged_data"
   ]
  },
  {
   "cell_type": "code",
   "execution_count": 54,
   "metadata": {},
   "outputs": [
    {
     "data": {
      "text/plain": [
       "user_id            0\n",
       "month              0\n",
       "sms_total          0\n",
       "calls_month        0\n",
       "calls_sum_month    0\n",
       "sessions_month     0\n",
       "giga_sum_month     0\n",
       "first_name         0\n",
       "last_name          0\n",
       "age                0\n",
       "city               0\n",
       "reg_date           0\n",
       "plan               0\n",
       "churn_date         0\n",
       "dtype: int64"
      ]
     },
     "execution_count": 54,
     "metadata": {},
     "output_type": "execute_result"
    }
   ],
   "source": [
    "merged_data.isnull().sum()"
   ]
  },
  {
   "cell_type": "markdown",
   "metadata": {},
   "source": [
    "# Description of the plans\n",
    "\n",
    "**Surf**\n",
    "\n",
    "* Monthly charge: $20\n",
    "\n",
    "* 500 monthly minutes, 50 texts, and 15 GB of data\n",
    "\n",
    "* After exceeding the package limits:\n",
    "\n",
    "* 1 minute: 3 cents\n",
    "\n",
    "* 1 text message: 3 cents\n",
    "\n",
    "* 1 GB of data: $10"
   ]
  },
  {
   "cell_type": "markdown",
   "metadata": {},
   "source": [
    "**Ultimate**\n",
    "* Monthly charge: $70\n",
    "\n",
    "* 3000 monthly minutes, 1000 text messages, and 30 GB of data\n",
    "\n",
    "* After exceeding the package limits:\n",
    "\n",
    "* 1 minute: 1 cent\n",
    "\n",
    "* 1 text message: 1 cent\n",
    "\n",
    "* 1 GB of data: $7"
   ]
  },
  {
   "cell_type": "markdown",
   "metadata": {},
   "source": [
    "**by using row accessor i will take each row of each user separately\n",
    "so i'm creating variables of prepaid plans/monthly minutes/texts/GB of data inside the function and i can operate them for   \n",
    "  each user.**\n",
    " * find the rate for user using our parameter plan. i will create new variable total_cost.\n",
    " * find the cost of calls.\n",
    " * find the cost of sms.\n",
    " * find the cost of GB_of_data.\n",
    " * calculate the total cost by simply summing it all up."
   ]
  },
  {
   "cell_type": "code",
   "execution_count": 55,
   "metadata": {},
   "outputs": [],
   "source": [
    "def cost(row):\n",
    "    #by using row accessor i will take each row of each user separately\n",
    "    # so i'm creating variables of prepaid plans/monthly minutes/texts/GB of data inside the function\n",
    "    # and i can operate them for each user\n",
    "    prepaid_plan=row['plan']\n",
    "    calls=row['calls_sum_month']\n",
    "    text =row['sms_total']\n",
    "    GB_of_data=row['giga_sum_month']\n",
    "    \n",
    "    # find the rate for user using our parameter plan. i will create new variable total_cost.\n",
    "    if prepaid_plan=='surf':\n",
    "        plan_cost=20\n",
    "    else:\n",
    "        plan_cost=70\n",
    "    \n",
    "    # find the cost of calls. \n",
    "    if  calls>500 and prepaid_plan=='surf':\n",
    "        calls_cost=0.03* (calls-500)\n",
    "    elif calls>3000 and prepaid_plan=='ultimate':\n",
    "        calls_cost= 0.01*(calls-3000)\n",
    "    else:\n",
    "        calls_cost=0\n",
    "    \n",
    "    # find the cost of sms\n",
    "    if text>50 and prepaid_plan == 'surf':\n",
    "        sms_cost=0.03*(text-50)\n",
    "    elif text>1000 and prepaid_plan=='ultimate':\n",
    "        sms_cost= 0.01*(text-1000)\n",
    "    else:\n",
    "        sms_cost=0\n",
    "    # find the cost of GB_of_data\n",
    "    if  GB_of_data>15 and prepaid_plan=='surf':\n",
    "        GB_of_data_cost=10*(GB_of_data-15)\n",
    "    elif GB_of_data>30 and prepaid_plan=='ultimate':\n",
    "        GB_of_data_cost=7*(GB_of_data-30)\n",
    "    else:\n",
    "        GB_of_data_cost=0\n",
    "     \n",
    "    # calculate the total cost by simply summing it all up\n",
    "    total_cost=plan_cost+calls_cost+sms_cost+GB_of_data_cost\n",
    "    return total_cost"
   ]
  },
  {
   "cell_type": "code",
   "execution_count": 56,
   "metadata": {},
   "outputs": [
    {
     "data": {
      "text/html": [
       "<div>\n",
       "<style scoped>\n",
       "    .dataframe tbody tr th:only-of-type {\n",
       "        vertical-align: middle;\n",
       "    }\n",
       "\n",
       "    .dataframe tbody tr th {\n",
       "        vertical-align: top;\n",
       "    }\n",
       "\n",
       "    .dataframe thead th {\n",
       "        text-align: right;\n",
       "    }\n",
       "</style>\n",
       "<table border=\"1\" class=\"dataframe\">\n",
       "  <thead>\n",
       "    <tr style=\"text-align: right;\">\n",
       "      <th></th>\n",
       "      <th>user_id</th>\n",
       "      <th>month</th>\n",
       "      <th>sms_total</th>\n",
       "      <th>calls_month</th>\n",
       "      <th>calls_sum_month</th>\n",
       "      <th>sessions_month</th>\n",
       "      <th>giga_sum_month</th>\n",
       "      <th>first_name</th>\n",
       "      <th>last_name</th>\n",
       "      <th>age</th>\n",
       "      <th>city</th>\n",
       "      <th>reg_date</th>\n",
       "      <th>plan</th>\n",
       "      <th>churn_date</th>\n",
       "      <th>total_cost</th>\n",
       "    </tr>\n",
       "  </thead>\n",
       "  <tbody>\n",
       "    <tr>\n",
       "      <th>0</th>\n",
       "      <td>1000</td>\n",
       "      <td>12</td>\n",
       "      <td>11.0</td>\n",
       "      <td>16.0</td>\n",
       "      <td>124.0</td>\n",
       "      <td>5.0</td>\n",
       "      <td>2.0</td>\n",
       "      <td>Anamaria</td>\n",
       "      <td>Bauer</td>\n",
       "      <td>45</td>\n",
       "      <td>Atlanta-Sandy Springs-Roswell, GA MSA</td>\n",
       "      <td>2018-12-24</td>\n",
       "      <td>ultimate</td>\n",
       "      <td>2018-12-31</td>\n",
       "      <td>70.00</td>\n",
       "    </tr>\n",
       "    <tr>\n",
       "      <th>1</th>\n",
       "      <td>1001</td>\n",
       "      <td>8</td>\n",
       "      <td>30.0</td>\n",
       "      <td>27.0</td>\n",
       "      <td>182.0</td>\n",
       "      <td>25.0</td>\n",
       "      <td>7.0</td>\n",
       "      <td>Mickey</td>\n",
       "      <td>Wilkerson</td>\n",
       "      <td>28</td>\n",
       "      <td>Seattle-Tacoma-Bellevue, WA MSA</td>\n",
       "      <td>2018-08-13</td>\n",
       "      <td>surf</td>\n",
       "      <td>2018-12-31</td>\n",
       "      <td>20.00</td>\n",
       "    </tr>\n",
       "    <tr>\n",
       "      <th>2</th>\n",
       "      <td>1001</td>\n",
       "      <td>9</td>\n",
       "      <td>44.0</td>\n",
       "      <td>49.0</td>\n",
       "      <td>315.0</td>\n",
       "      <td>53.0</td>\n",
       "      <td>14.0</td>\n",
       "      <td>Mickey</td>\n",
       "      <td>Wilkerson</td>\n",
       "      <td>28</td>\n",
       "      <td>Seattle-Tacoma-Bellevue, WA MSA</td>\n",
       "      <td>2018-08-13</td>\n",
       "      <td>surf</td>\n",
       "      <td>2018-12-31</td>\n",
       "      <td>20.00</td>\n",
       "    </tr>\n",
       "    <tr>\n",
       "      <th>3</th>\n",
       "      <td>1001</td>\n",
       "      <td>10</td>\n",
       "      <td>53.0</td>\n",
       "      <td>65.0</td>\n",
       "      <td>393.0</td>\n",
       "      <td>56.0</td>\n",
       "      <td>22.0</td>\n",
       "      <td>Mickey</td>\n",
       "      <td>Wilkerson</td>\n",
       "      <td>28</td>\n",
       "      <td>Seattle-Tacoma-Bellevue, WA MSA</td>\n",
       "      <td>2018-08-13</td>\n",
       "      <td>surf</td>\n",
       "      <td>2018-12-31</td>\n",
       "      <td>90.09</td>\n",
       "    </tr>\n",
       "    <tr>\n",
       "      <th>4</th>\n",
       "      <td>1001</td>\n",
       "      <td>11</td>\n",
       "      <td>36.0</td>\n",
       "      <td>64.0</td>\n",
       "      <td>426.0</td>\n",
       "      <td>51.0</td>\n",
       "      <td>19.0</td>\n",
       "      <td>Mickey</td>\n",
       "      <td>Wilkerson</td>\n",
       "      <td>28</td>\n",
       "      <td>Seattle-Tacoma-Bellevue, WA MSA</td>\n",
       "      <td>2018-08-13</td>\n",
       "      <td>surf</td>\n",
       "      <td>2018-12-31</td>\n",
       "      <td>60.00</td>\n",
       "    </tr>\n",
       "    <tr>\n",
       "      <th>...</th>\n",
       "      <td>...</td>\n",
       "      <td>...</td>\n",
       "      <td>...</td>\n",
       "      <td>...</td>\n",
       "      <td>...</td>\n",
       "      <td>...</td>\n",
       "      <td>...</td>\n",
       "      <td>...</td>\n",
       "      <td>...</td>\n",
       "      <td>...</td>\n",
       "      <td>...</td>\n",
       "      <td>...</td>\n",
       "      <td>...</td>\n",
       "      <td>...</td>\n",
       "      <td>...</td>\n",
       "    </tr>\n",
       "    <tr>\n",
       "      <th>2288</th>\n",
       "      <td>1499</td>\n",
       "      <td>9</td>\n",
       "      <td>0.0</td>\n",
       "      <td>41.0</td>\n",
       "      <td>346.0</td>\n",
       "      <td>45.0</td>\n",
       "      <td>13.0</td>\n",
       "      <td>Shena</td>\n",
       "      <td>Dickson</td>\n",
       "      <td>37</td>\n",
       "      <td>Orlando-Kissimmee-Sanford, FL MSA</td>\n",
       "      <td>2018-05-06</td>\n",
       "      <td>surf</td>\n",
       "      <td>2018-12-31</td>\n",
       "      <td>20.00</td>\n",
       "    </tr>\n",
       "    <tr>\n",
       "      <th>2289</th>\n",
       "      <td>1499</td>\n",
       "      <td>10</td>\n",
       "      <td>0.0</td>\n",
       "      <td>53.0</td>\n",
       "      <td>385.0</td>\n",
       "      <td>61.0</td>\n",
       "      <td>20.0</td>\n",
       "      <td>Shena</td>\n",
       "      <td>Dickson</td>\n",
       "      <td>37</td>\n",
       "      <td>Orlando-Kissimmee-Sanford, FL MSA</td>\n",
       "      <td>2018-05-06</td>\n",
       "      <td>surf</td>\n",
       "      <td>2018-12-31</td>\n",
       "      <td>70.00</td>\n",
       "    </tr>\n",
       "    <tr>\n",
       "      <th>2290</th>\n",
       "      <td>1499</td>\n",
       "      <td>11</td>\n",
       "      <td>0.0</td>\n",
       "      <td>45.0</td>\n",
       "      <td>308.0</td>\n",
       "      <td>49.0</td>\n",
       "      <td>17.0</td>\n",
       "      <td>Shena</td>\n",
       "      <td>Dickson</td>\n",
       "      <td>37</td>\n",
       "      <td>Orlando-Kissimmee-Sanford, FL MSA</td>\n",
       "      <td>2018-05-06</td>\n",
       "      <td>surf</td>\n",
       "      <td>2018-12-31</td>\n",
       "      <td>40.00</td>\n",
       "    </tr>\n",
       "    <tr>\n",
       "      <th>2291</th>\n",
       "      <td>1499</td>\n",
       "      <td>12</td>\n",
       "      <td>0.0</td>\n",
       "      <td>65.0</td>\n",
       "      <td>496.0</td>\n",
       "      <td>65.0</td>\n",
       "      <td>22.0</td>\n",
       "      <td>Shena</td>\n",
       "      <td>Dickson</td>\n",
       "      <td>37</td>\n",
       "      <td>Orlando-Kissimmee-Sanford, FL MSA</td>\n",
       "      <td>2018-05-06</td>\n",
       "      <td>surf</td>\n",
       "      <td>2018-12-31</td>\n",
       "      <td>90.00</td>\n",
       "    </tr>\n",
       "    <tr>\n",
       "      <th>2292</th>\n",
       "      <td>1108</td>\n",
       "      <td>12</td>\n",
       "      <td>0.0</td>\n",
       "      <td>0.0</td>\n",
       "      <td>0.0</td>\n",
       "      <td>2.0</td>\n",
       "      <td>1.0</td>\n",
       "      <td>Porfirio</td>\n",
       "      <td>Kane</td>\n",
       "      <td>45</td>\n",
       "      <td>Salt Lake City, UT MSA</td>\n",
       "      <td>2018-12-30</td>\n",
       "      <td>ultimate</td>\n",
       "      <td>2018-12-31</td>\n",
       "      <td>70.00</td>\n",
       "    </tr>\n",
       "  </tbody>\n",
       "</table>\n",
       "<p>2293 rows × 15 columns</p>\n",
       "</div>"
      ],
      "text/plain": [
       "      user_id  month  sms_total  calls_month  calls_sum_month  sessions_month  \\\n",
       "0        1000     12       11.0         16.0            124.0             5.0   \n",
       "1        1001      8       30.0         27.0            182.0            25.0   \n",
       "2        1001      9       44.0         49.0            315.0            53.0   \n",
       "3        1001     10       53.0         65.0            393.0            56.0   \n",
       "4        1001     11       36.0         64.0            426.0            51.0   \n",
       "...       ...    ...        ...          ...              ...             ...   \n",
       "2288     1499      9        0.0         41.0            346.0            45.0   \n",
       "2289     1499     10        0.0         53.0            385.0            61.0   \n",
       "2290     1499     11        0.0         45.0            308.0            49.0   \n",
       "2291     1499     12        0.0         65.0            496.0            65.0   \n",
       "2292     1108     12        0.0          0.0              0.0             2.0   \n",
       "\n",
       "      giga_sum_month first_name  last_name  age  \\\n",
       "0                2.0   Anamaria      Bauer   45   \n",
       "1                7.0     Mickey  Wilkerson   28   \n",
       "2               14.0     Mickey  Wilkerson   28   \n",
       "3               22.0     Mickey  Wilkerson   28   \n",
       "4               19.0     Mickey  Wilkerson   28   \n",
       "...              ...        ...        ...  ...   \n",
       "2288            13.0      Shena    Dickson   37   \n",
       "2289            20.0      Shena    Dickson   37   \n",
       "2290            17.0      Shena    Dickson   37   \n",
       "2291            22.0      Shena    Dickson   37   \n",
       "2292             1.0   Porfirio       Kane   45   \n",
       "\n",
       "                                       city   reg_date      plan churn_date  \\\n",
       "0     Atlanta-Sandy Springs-Roswell, GA MSA 2018-12-24  ultimate 2018-12-31   \n",
       "1           Seattle-Tacoma-Bellevue, WA MSA 2018-08-13      surf 2018-12-31   \n",
       "2           Seattle-Tacoma-Bellevue, WA MSA 2018-08-13      surf 2018-12-31   \n",
       "3           Seattle-Tacoma-Bellevue, WA MSA 2018-08-13      surf 2018-12-31   \n",
       "4           Seattle-Tacoma-Bellevue, WA MSA 2018-08-13      surf 2018-12-31   \n",
       "...                                     ...        ...       ...        ...   \n",
       "2288      Orlando-Kissimmee-Sanford, FL MSA 2018-05-06      surf 2018-12-31   \n",
       "2289      Orlando-Kissimmee-Sanford, FL MSA 2018-05-06      surf 2018-12-31   \n",
       "2290      Orlando-Kissimmee-Sanford, FL MSA 2018-05-06      surf 2018-12-31   \n",
       "2291      Orlando-Kissimmee-Sanford, FL MSA 2018-05-06      surf 2018-12-31   \n",
       "2292                 Salt Lake City, UT MSA 2018-12-30  ultimate 2018-12-31   \n",
       "\n",
       "      total_cost  \n",
       "0          70.00  \n",
       "1          20.00  \n",
       "2          20.00  \n",
       "3          90.09  \n",
       "4          60.00  \n",
       "...          ...  \n",
       "2288       20.00  \n",
       "2289       70.00  \n",
       "2290       40.00  \n",
       "2291       90.00  \n",
       "2292       70.00  \n",
       "\n",
       "[2293 rows x 15 columns]"
      ]
     },
     "execution_count": 56,
     "metadata": {},
     "output_type": "execute_result"
    }
   ],
   "source": [
    "merged_data['total_cost']=merged_data.apply(cost,axis=1)\n",
    "merged_data"
   ]
  },
  {
   "cell_type": "markdown",
   "metadata": {},
   "source": [
    "# 2. Analyze the data "
   ]
  },
  {
   "cell_type": "code",
   "execution_count": 57,
   "metadata": {},
   "outputs": [],
   "source": [
    "def distribution_percentile(parameter):\n",
    "    print('The histogram of: {}'.format(parameter))\n",
    "    merged_data[parameter].hist()\n",
    "    plt.show()\n",
    "    if merged_data[parameter].mean()>merged_data[parameter].median():\n",
    "        print('The distribution is skewed to the right')\n",
    "    else:\n",
    "        print('The distribution is skewed to the left')\n",
    "        print('---------------------------------------')\n",
    "    print('Statistics on: {}'.format(parameter))\n",
    "    print(merged_data[parameter].describe())\n",
    "    \n",
    "    "
   ]
  },
  {
   "cell_type": "code",
   "execution_count": 58,
   "metadata": {},
   "outputs": [
    {
     "name": "stdout",
     "output_type": "stream",
     "text": [
      "The histogram of: sms_total\n"
     ]
    },
    {
     "data": {
      "image/png": "[encoded data removed]",
      "text/plain": [
       "<Figure size 432x288 with 1 Axes>"
      ]
     },
     "metadata": {
      "needs_background": "light"
     },
     "output_type": "display_data"
    },
    {
     "name": "stdout",
     "output_type": "stream",
     "text": [
      "The distribution is skewed to the right\n",
      "Statistics on: sms_total\n",
      "count    2293.000000\n",
      "mean       33.166594\n",
      "std        34.070085\n",
      "min         0.000000\n",
      "25%         3.000000\n",
      "50%        26.000000\n",
      "75%        51.000000\n",
      "max       266.000000\n",
      "Name: sms_total, dtype: float64\n",
      "The histogram of: calls_sum_month\n"
     ]
    },
    {
     "data": {
      "image/png": "[encoded data removed]",
      "text/plain": [
       "<Figure size 432x288 with 1 Axes>"
      ]
     },
     "metadata": {
      "needs_background": "light"
     },
     "output_type": "display_data"
    },
    {
     "name": "stdout",
     "output_type": "stream",
     "text": [
      "The distribution is skewed to the right\n",
      "Statistics on: calls_sum_month\n",
      "count    2293.000000\n",
      "mean      429.283471\n",
      "std       236.320077\n",
      "min         0.000000\n",
      "25%       265.000000\n",
      "50%       425.000000\n",
      "75%       572.000000\n",
      "max      1510.000000\n",
      "Name: calls_sum_month, dtype: float64\n",
      "The histogram of: giga_sum_month\n"
     ]
    },
    {
     "data": {
      "image/png": "[encoded data removed]",
      "text/plain": [
       "<Figure size 432x288 with 1 Axes>"
      ]
     },
     "metadata": {
      "needs_background": "light"
     },
     "output_type": "display_data"
    },
    {
     "name": "stdout",
     "output_type": "stream",
     "text": [
      "The distribution is skewed to the left\n",
      "---------------------------------------\n",
      "Statistics on: giga_sum_month\n",
      "count    2293.000000\n",
      "mean       16.870475\n",
      "std         7.796174\n",
      "min         0.000000\n",
      "25%        12.000000\n",
      "50%        17.000000\n",
      "75%        21.000000\n",
      "max        70.000000\n",
      "Name: giga_sum_month, dtype: float64\n",
      "The histogram of: total_cost\n"
     ]
    },
    {
     "data": {
      "image/png": "[encoded data removed]",
      "text/plain": [
       "<Figure size 432x288 with 1 Axes>"
      ]
     },
     "metadata": {
      "needs_background": "light"
     },
     "output_type": "display_data"
    },
    {
     "name": "stdout",
     "output_type": "stream",
     "text": [
      "The distribution is skewed to the left\n",
      "---------------------------------------\n",
      "Statistics on: total_cost\n",
      "count    2293.000000\n",
      "mean       64.351147\n",
      "std        46.624945\n",
      "min        20.000000\n",
      "25%        23.480000\n",
      "50%        70.000000\n",
      "75%        70.000000\n",
      "max       590.370000\n",
      "Name: total_cost, dtype: float64\n"
     ]
    }
   ],
   "source": [
    "for parameter in ['sms_total','calls_sum_month', 'giga_sum_month', 'total_cost']:\n",
    "    distribution_percentile(parameter)"
   ]
  },
  {
   "cell_type": "code",
   "execution_count": 59,
   "metadata": {},
   "outputs": [
    {
     "data": {
      "image/png": "[encoded data removed]",
      "text/plain": [
       "<Figure size 432x288 with 1 Axes>"
      ]
     },
     "metadata": {
      "needs_background": "light"
     },
     "output_type": "display_data"
    }
   ],
   "source": [
    "merged_data.hist('sms_total', bins=10, range=(0,266))\n",
    "plt.show()"
   ]
  },
  {
   "cell_type": "code",
   "execution_count": 60,
   "metadata": {},
   "outputs": [
    {
     "data": {
      "image/png": "[encoded data removed]",
      "text/plain": [
       "<Figure size 432x288 with 1 Axes>"
      ]
     },
     "metadata": {
      "needs_background": "light"
     },
     "output_type": "display_data"
    }
   ],
   "source": [
    "merged_data.hist('calls_sum_month', bins=10, range=(0,1510))\n",
    "plt.show()"
   ]
  },
  {
   "cell_type": "code",
   "execution_count": 61,
   "metadata": {},
   "outputs": [
    {
     "data": {
      "image/png": "[encoded data removed]",
      "text/plain": [
       "<Figure size 432x288 with 1 Axes>"
      ]
     },
     "metadata": {
      "needs_background": "light"
     },
     "output_type": "display_data"
    }
   ],
   "source": [
    "merged_data.hist('giga_sum_month', bins=10, range=(0,70))\n",
    "plt.show()"
   ]
  },
  {
   "cell_type": "code",
   "execution_count": 62,
   "metadata": {},
   "outputs": [
    {
     "data": {
      "image/png": "[encoded data removed]",
      "text/plain": [
       "<Figure size 432x288 with 1 Axes>"
      ]
     },
     "metadata": {
      "needs_background": "light"
     },
     "output_type": "display_data"
    }
   ],
   "source": [
    "merged_data.hist('total_cost', bins=10, range=(20,590))\n",
    "plt.show()"
   ]
  },
  {
   "cell_type": "markdown",
   "metadata": {},
   "source": [
    " # plot histograms for the ultimate plan \n",
    " * in order to find and examine the mean, variance and standard_deviation i'm going to plot histograms \n",
    "   for each of the next parameters sms_total, calls_sum_month, giga_sum_month, total_cost."
   ]
  },
  {
   "cell_type": "code",
   "execution_count": 63,
   "metadata": {},
   "outputs": [
    {
     "data": {
      "image/png": "[encoded data removed]",
      "text/plain": [
       "<Figure size 432x288 with 1 Axes>"
      ]
     },
     "metadata": {
      "needs_background": "light"
     },
     "output_type": "display_data"
    },
    {
     "name": "stdout",
     "output_type": "stream",
     "text": [
      "ultimate_minutes_mean: 430.45 ultimate_minutes_variance: 57764.125277777785 ultimate_minutes_standard_deviation: 240.34168443650756\n",
      "most of the data can be found in this range: (-290.57505330952273, 57764.125277777785)\n",
      "\n"
     ]
    },
    {
     "data": {
      "image/png": "[encoded data removed]",
      "text/plain": [
       "<Figure size 432x288 with 1 Axes>"
      ]
     },
     "metadata": {
      "needs_background": "light"
     },
     "output_type": "display_data"
    },
    {
     "name": "stdout",
     "output_type": "stream",
     "text": [
      "ultimate_sms_mean: 37.55138888888889 ultimate_sms_variance: 1207.0779147376545 ultimate_sms_standard_deviation: 34.743026850544474\n",
      "most of the data can be found in this range: (-66.67769166274454, 1207.0779147376545)\n",
      "\n"
     ]
    },
    {
     "data": {
      "image/png": "[encoded data removed]",
      "text/plain": [
       "<Figure size 432x288 with 1 Axes>"
      ]
     },
     "metadata": {
      "needs_background": "light"
     },
     "output_type": "display_data"
    },
    {
     "name": "stdout",
     "output_type": "stream",
     "text": [
      "ultimate_giga_sum_month_mean: 17.306944444444444 ultimate_giga_sum_month_variance: 58.748840663580246 ultimate_giga_sum_month_standard_deviation: 7.664779231235578\n",
      "most of the data can be found in this range: (-5.687393249262289, 58.748840663580246)\n",
      "\n"
     ]
    },
    {
     "data": {
      "image/png": "[encoded data removed]",
      "text/plain": [
       "<Figure size 432x288 with 1 Axes>"
      ]
     },
     "metadata": {
      "needs_background": "light"
     },
     "output_type": "display_data"
    },
    {
     "name": "stdout",
     "output_type": "stream",
     "text": [
      "ultimate_total_cost_mean: 72.31388888888888 ultimate_total_cost_variance: 129.66814043209877 ultimate_total_cost_standard_deviation: 11.387191946748715\n",
      "most of the data can be found in this range: (38.15231304864274, 129.66814043209877)\n",
      "\n"
     ]
    }
   ],
   "source": [
    "#ultimate\n",
    "ultimate_plan_users = merged_data.query('plan == \"ultimate\"')\n",
    "\n",
    "#calls_sum_month\n",
    "ultimate_minutes_mean = ultimate_plan_users['calls_sum_month'].mean()\n",
    "ultimate_minutes_variance = np.var(ultimate_plan_users['calls_sum_month'])\n",
    "ultimate_minutes_standard_deviation = np.sqrt(ultimate_minutes_variance)\n",
    "ultimate_plan_users.hist('calls_sum_month', density=True)\n",
    "plt.xlabel('calls_sum_month')\n",
    "plt.ylabel('Frequency - Density')\n",
    "plt.show()\n",
    "print('ultimate_minutes_mean:', ultimate_minutes_mean, 'ultimate_minutes_variance:', ultimate_minutes_variance, 'ultimate_minutes_standard_deviation:', ultimate_minutes_standard_deviation)\n",
    "print('most of the data can be found in this range:', (ultimate_minutes_mean - 3 * ultimate_minutes_standard_deviation, ultimate_minutes_variance))\n",
    "print()\n",
    "\n",
    "#sms_total\n",
    "ultimate_sms_mean = ultimate_plan_users['sms_total'].mean()\n",
    "ultimate_sms_variance = np.var(ultimate_plan_users['sms_total'])\n",
    "ultimate_sms_standard_deviation = np.sqrt(ultimate_sms_variance)\n",
    "ultimate_plan_users.hist('sms_total', density=True)\n",
    "plt.xlabel('sms_total')\n",
    "plt.ylabel('Frequency - Density')\n",
    "plt.show()\n",
    "print('ultimate_sms_mean:', ultimate_sms_mean, 'ultimate_sms_variance:', ultimate_sms_variance, 'ultimate_sms_standard_deviation:', ultimate_sms_standard_deviation)\n",
    "print('most of the data can be found in this range:', (ultimate_sms_mean - 3 * ultimate_sms_standard_deviation, ultimate_sms_variance))\n",
    "print()\n",
    "\n",
    "#giga_sum_month\n",
    "ultimate_giga_sum_month_mean = ultimate_plan_users['giga_sum_month'].mean()\n",
    "ultimate_giga_sum_month_variance = np.var(ultimate_plan_users['giga_sum_month'])\n",
    "ultimate_giga_sum_month_standard_deviation = np.sqrt(ultimate_giga_sum_month_variance)\n",
    "ultimate_plan_users.hist('giga_sum_month', density=True)\n",
    "plt.xlabel('giga_sum_month')\n",
    "plt.ylabel('Frequency - Density')\n",
    "plt.show()\n",
    "print('ultimate_giga_sum_month_mean:', ultimate_giga_sum_month_mean, 'ultimate_giga_sum_month_variance:', ultimate_giga_sum_month_variance, 'ultimate_giga_sum_month_standard_deviation:', ultimate_giga_sum_month_standard_deviation)\n",
    "print('most of the data can be found in this range:', (ultimate_giga_sum_month_mean - 3 * ultimate_giga_sum_month_standard_deviation, ultimate_giga_sum_month_variance))\n",
    "print()\n",
    "\n",
    "#total_cost\n",
    "ultimate_total_cost_mean = ultimate_plan_users['total_cost'].mean()\n",
    "ultimate_total_cost_variance = np.var(ultimate_plan_users['total_cost'])\n",
    "ultimate_total_cost_standard_deviation = np.sqrt(ultimate_total_cost_variance)\n",
    "ultimate_plan_users.hist('total_cost', density=True)\n",
    "plt.xlabel('total_cost')\n",
    "plt.ylabel('Frequency - Density')\n",
    "plt.show()\n",
    "print('ultimate_total_cost_mean:', ultimate_total_cost_mean, 'ultimate_total_cost_variance:', ultimate_total_cost_variance, 'ultimate_total_cost_standard_deviation:', ultimate_total_cost_standard_deviation)\n",
    "print('most of the data can be found in this range:', (ultimate_total_cost_mean - 3 * ultimate_total_cost_standard_deviation, ultimate_total_cost_variance))\n",
    "print()\n"
   ]
  },
  {
   "cell_type": "markdown",
   "metadata": {},
   "source": [
    " # plot histograms for the surf plan \n",
    " \n",
    " * in order to find and examine the mean, variance and standard_deviation i'm going to plot histograms \n",
    "   for each of the next parameters sms_total, calls_sum_month, giga_sum_month, total_cost."
   ]
  },
  {
   "cell_type": "code",
   "execution_count": 64,
   "metadata": {},
   "outputs": [
    {
     "data": {
      "image/png": "[encoded data removed]",
      "text/plain": [
       "<Figure size 432x288 with 1 Axes>"
      ]
     },
     "metadata": {
      "needs_background": "light"
     },
     "output_type": "display_data"
    },
    {
     "name": "stdout",
     "output_type": "stream",
     "text": [
      "surf_plan_minutes_mean: 428.7495232040687 surf_plan_minutes_variance: 54933.334591317485 surf_plan_minutes_standard_deviation: 234.37861376695076\n",
      "most of the data can be found in this range: (-274.38631809678355, 54933.334591317485)\n",
      "\n"
     ]
    },
    {
     "data": {
      "image/png": "[encoded data removed]",
      "text/plain": [
       "<Figure size 432x288 with 1 Axes>"
      ]
     },
     "metadata": {
      "needs_background": "light"
     },
     "output_type": "display_data"
    },
    {
     "name": "stdout",
     "output_type": "stream",
     "text": [
      "surf_plan_sms_mean: 31.15956770502225 surf_plan_sms_variance: 1126.008231726662 surf_plan_sms_standard_deviation: 33.556046127734746\n",
      "most of the data can be found in this range: (-69.50857067818198, 1126.008231726662)\n",
      "\n"
     ]
    },
    {
     "data": {
      "image/png": "[encoded data removed]",
      "text/plain": [
       "<Figure size 432x288 with 1 Axes>"
      ]
     },
     "metadata": {
      "needs_background": "light"
     },
     "output_type": "display_data"
    },
    {
     "name": "stdout",
     "output_type": "stream",
     "text": [
      "surf_plan_giga_sum_month_mean: 16.670692943420217 surf_plan_giga_sum_month_variance: 61.54444942447023 surf_plan_giga_sum_month_standard_deviation: 7.845027050588814\n",
      "most of the data can be found in this range: (-6.864388208346224, 61.54444942447023)\n",
      "\n"
     ]
    },
    {
     "data": {
      "image/png": "[encoded data removed]",
      "text/plain": [
       "<Figure size 432x288 with 1 Axes>"
      ]
     },
     "metadata": {
      "needs_background": "light"
     },
     "output_type": "display_data"
    },
    {
     "name": "stdout",
     "output_type": "stream",
     "text": [
      "surf_plan_total_cost_mean: 60.706408137317226 surf_plan_total_cost_variance: 3065.8848438690247 surf_plan_total_cost_standard_deviation: 55.37043293915106\n",
      "most of the data can be found in this range: (-105.40489068013596, 3065.8848438690247)\n",
      "\n"
     ]
    }
   ],
   "source": [
    "#surf\n",
    "surf_plan_users = merged_data.query('plan == \"surf\"')\n",
    "\n",
    "#calls_sum_month\n",
    "surf_plan_minutes_mean = surf_plan_users['calls_sum_month'].mean()\n",
    "surf_plan_minutes_variance = np.var(surf_plan_users['calls_sum_month'])\n",
    "surf_plan_minutes_standard_deviation = np.sqrt(surf_plan_minutes_variance)\n",
    "surf_plan_users.hist('calls_sum_month', density=True)\n",
    "plt.xlabel('calls_sum_month')\n",
    "plt.ylabel('Frequency - Density')\n",
    "plt.show()\n",
    "print('surf_plan_minutes_mean:', surf_plan_minutes_mean, 'surf_plan_minutes_variance:', surf_plan_minutes_variance, 'surf_plan_minutes_standard_deviation:', surf_plan_minutes_standard_deviation)\n",
    "print('most of the data can be found in this range:', (surf_plan_minutes_mean - 3 * surf_plan_minutes_standard_deviation, surf_plan_minutes_variance))\n",
    "print()\n",
    "\n",
    "#sms_total\n",
    "surf_plan_sms_mean = surf_plan_users['sms_total'].mean()\n",
    "surf_plan_sms_variance = np.var(surf_plan_users['sms_total'])\n",
    "surf_plan_sms_standard_deviation = np.sqrt(surf_plan_sms_variance)\n",
    "surf_plan_users.hist('sms_total', density=True)\n",
    "plt.xlabel('sms_total')\n",
    "plt.ylabel('Frequency - Density')\n",
    "plt.show()\n",
    "print('surf_plan_sms_mean:', surf_plan_sms_mean, 'surf_plan_sms_variance:', surf_plan_sms_variance, 'surf_plan_sms_standard_deviation:', surf_plan_sms_standard_deviation)\n",
    "print('most of the data can be found in this range:', (surf_plan_sms_mean - 3 * surf_plan_sms_standard_deviation, surf_plan_sms_variance))\n",
    "print()\n",
    "\n",
    "#giga_sum_month\n",
    "surf_plan_giga_sum_month_mean = surf_plan_users['giga_sum_month'].mean()\n",
    "surf_plan_giga_sum_month_variance = np.var(surf_plan_users['giga_sum_month'])\n",
    "surf_plan_giga_sum_month_standard_deviation = np.sqrt(surf_plan_giga_sum_month_variance)\n",
    "surf_plan_users.hist('giga_sum_month', density=True)\n",
    "plt.xlabel('giga_sum_month')\n",
    "plt.ylabel('Frequency - Density')\n",
    "plt.show()\n",
    "print('surf_plan_giga_sum_month_mean:', surf_plan_giga_sum_month_mean, 'surf_plan_giga_sum_month_variance:', surf_plan_giga_sum_month_variance, 'surf_plan_giga_sum_month_standard_deviation:', surf_plan_giga_sum_month_standard_deviation)\n",
    "print('most of the data can be found in this range:', (surf_plan_giga_sum_month_mean - 3 * surf_plan_giga_sum_month_standard_deviation, surf_plan_giga_sum_month_variance))\n",
    "print()\n",
    "\n",
    "#total_cost\n",
    "surf_plan_total_cost_mean = surf_plan_users['total_cost'].mean()\n",
    "surf_plan_total_cost_variance = np.var(surf_plan_users['total_cost'])\n",
    "surf_plan_total_cost_standard_deviation = np.sqrt(surf_plan_total_cost_variance)\n",
    "surf_plan_users.hist('total_cost', density=True)\n",
    "plt.xlabel('total_cost')\n",
    "plt.ylabel('Frequency - Density')\n",
    "plt.show()\n",
    "print('surf_plan_total_cost_mean:', surf_plan_total_cost_mean, 'surf_plan_total_cost_variance:', surf_plan_total_cost_variance, 'surf_plan_total_cost_standard_deviation:', surf_plan_total_cost_standard_deviation)\n",
    "print('most of the data can be found in this range:', (surf_plan_total_cost_mean - 3 * surf_plan_total_cost_standard_deviation, surf_plan_total_cost_variance))\n",
    "print()"
   ]
  },
  {
   "cell_type": "markdown",
   "metadata": {},
   "source": [
    "# 3.Test the hypotheses"
   ]
  },
  {
   "cell_type": "markdown",
   "metadata": {},
   "source": [
    "**find the average revenue from users of Ultimate and Surf calling plans   differs**"
   ]
  },
  {
   "cell_type": "markdown",
   "metadata": {},
   "source": [
    "H0:The average revenue from Surf users is == The average revenue from Ultimate users.\n",
    "\n",
    "H1:The average revenue from Surf users is != The average revenue from Ultimate users."
   ]
  },
  {
   "cell_type": "code",
   "execution_count": 65,
   "metadata": {},
   "outputs": [
    {
     "data": {
      "text/plain": [
       "LeveneResult(statistic=594.6026163420061, pvalue=5.915081558303153e-117)"
      ]
     },
     "execution_count": 65,
     "metadata": {},
     "output_type": "execute_result"
    }
   ],
   "source": [
    "st.levene(surf_plan_users['total_cost'], ultimate_plan_users['total_cost'], center='mean')"
   ]
  },
  {
   "cell_type": "code",
   "execution_count": 66,
   "metadata": {},
   "outputs": [
    {
     "name": "stdout",
     "output_type": "stream",
     "text": [
      "p-valuse:  3.17039054811355e-15\n",
      "We reject the null hypothesis\n",
      "surf mean: $ 60.706408137317226\n",
      "ultimate mean: $ 72.31388888888888\n"
     ]
    }
   ],
   "source": [
    "alpha = 0.05\n",
    "result1 = st.ttest_ind(surf_plan_users['total_cost'],ultimate_plan_users['total_cost'], equal_var = False)\n",
    "print('p-valuse: ', result1.pvalue)\n",
    "\n",
    "if (result1.pvalue < alpha):\n",
    "    print('We reject the null hypothesis')\n",
    "else:\n",
    "    print(\"We can't reject the null hypothesis\")\n",
    "    \n",
    "surf_mean = surf_plan_users['total_cost'].mean()\n",
    "ultimate_mean = ultimate_plan_users['total_cost'].mean()\n",
    "print('surf mean: $' , surf_mean)\n",
    "print('ultimate mean: $', ultimate_mean)"
   ]
  },
  {
   "cell_type": "markdown",
   "metadata": {},
   "source": [
    "**find the average revenue from users in NY-NJ area is different from that of the users from other regions**"
   ]
  },
  {
   "cell_type": "code",
   "execution_count": 67,
   "metadata": {},
   "outputs": [],
   "source": [
    "ny_nj_users = merged_data[merged_data['city'].str.contains(\"NY-NJ\")]"
   ]
  },
  {
   "cell_type": "code",
   "execution_count": 68,
   "metadata": {},
   "outputs": [],
   "source": [
    "other_regions_users = merged_data[~merged_data['city'].str.contains(\"NY-NJ\")]"
   ]
  },
  {
   "cell_type": "markdown",
   "metadata": {},
   "source": [
    "H0:The average revenue from users in NY-NJ area is == The average revenue from the users of other regions.\n",
    "\n",
    "H1:The average revenue from users in NY-NJ area is == The average revenue from the users of other regions."
   ]
  },
  {
   "cell_type": "code",
   "execution_count": 69,
   "metadata": {},
   "outputs": [
    {
     "data": {
      "text/plain": [
       "LeveneResult(statistic=1.8415947578436047, pvalue=0.17489782767369766)"
      ]
     },
     "execution_count": 69,
     "metadata": {},
     "output_type": "execute_result"
    }
   ],
   "source": [
    "st.levene(ny_nj_users['total_cost'], other_regions_users['total_cost'], center='mean')"
   ]
  },
  {
   "cell_type": "code",
   "execution_count": 70,
   "metadata": {},
   "outputs": [
    {
     "name": "stdout",
     "output_type": "stream",
     "text": [
      "p-valuse:  0.043557431621342436\n",
      "We reject the null hypothesis\n",
      "NY NJ users mean: $ 59.921352785145885\n",
      "Other regions users mean: $ 65.2227713987474\n"
     ]
    }
   ],
   "source": [
    "alpha = 0.05\n",
    "result2 = st.ttest_ind(ny_nj_users['total_cost'],other_regions_users['total_cost'], equal_var = True)\n",
    "print('p-valuse: ', result2.pvalue)\n",
    "\n",
    "if (result2.pvalue < alpha):\n",
    "    print('We reject the null hypothesis')\n",
    "else:\n",
    "    print(\"We can't reject the null hypothesis\")\n",
    "    \n",
    "ny_nj_users_mean = ny_nj_users['total_cost'].mean()\n",
    "other_regions_users_mean = other_regions_users['total_cost'].mean()\n",
    "print('NY NJ users mean: $', ny_nj_users_mean)\n",
    "print('Other regions users mean: $', other_regions_users_mean)"
   ]
  },
  {
   "cell_type": "markdown",
   "metadata": {},
   "source": [
    "**find the average revenue from surf users in NY-NJ area is different from that of the ultimate users in NY-NJ area**"
   ]
  },
  {
   "cell_type": "code",
   "execution_count": 71,
   "metadata": {},
   "outputs": [],
   "source": [
    "ny_nj_users_surf = surf_plan_users[surf_plan_users['city'].str.contains(\"NY-NJ\")]"
   ]
  },
  {
   "cell_type": "code",
   "execution_count": 72,
   "metadata": {},
   "outputs": [
    {
     "data": {
      "text/html": [
       "<div>\n",
       "<style scoped>\n",
       "    .dataframe tbody tr th:only-of-type {\n",
       "        vertical-align: middle;\n",
       "    }\n",
       "\n",
       "    .dataframe tbody tr th {\n",
       "        vertical-align: top;\n",
       "    }\n",
       "\n",
       "    .dataframe thead th {\n",
       "        text-align: right;\n",
       "    }\n",
       "</style>\n",
       "<table border=\"1\" class=\"dataframe\">\n",
       "  <thead>\n",
       "    <tr style=\"text-align: right;\">\n",
       "      <th></th>\n",
       "      <th>user_id</th>\n",
       "      <th>month</th>\n",
       "      <th>sms_total</th>\n",
       "      <th>calls_month</th>\n",
       "      <th>calls_sum_month</th>\n",
       "      <th>sessions_month</th>\n",
       "      <th>giga_sum_month</th>\n",
       "      <th>first_name</th>\n",
       "      <th>last_name</th>\n",
       "      <th>age</th>\n",
       "      <th>city</th>\n",
       "      <th>reg_date</th>\n",
       "      <th>plan</th>\n",
       "      <th>churn_date</th>\n",
       "      <th>total_cost</th>\n",
       "    </tr>\n",
       "  </thead>\n",
       "  <tbody>\n",
       "    <tr>\n",
       "      <th>37</th>\n",
       "      <td>1014</td>\n",
       "      <td>11</td>\n",
       "      <td>9.0</td>\n",
       "      <td>28.0</td>\n",
       "      <td>163.0</td>\n",
       "      <td>1.0</td>\n",
       "      <td>2.0</td>\n",
       "      <td>Edmundo</td>\n",
       "      <td>Simon</td>\n",
       "      <td>61</td>\n",
       "      <td>New York-Newark-Jersey City, NY-NJ-PA MSA</td>\n",
       "      <td>2018-11-25</td>\n",
       "      <td>surf</td>\n",
       "      <td>2018-12-31</td>\n",
       "      <td>20.00</td>\n",
       "    </tr>\n",
       "    <tr>\n",
       "      <th>38</th>\n",
       "      <td>1014</td>\n",
       "      <td>12</td>\n",
       "      <td>64.0</td>\n",
       "      <td>150.0</td>\n",
       "      <td>1114.0</td>\n",
       "      <td>19.0</td>\n",
       "      <td>8.0</td>\n",
       "      <td>Edmundo</td>\n",
       "      <td>Simon</td>\n",
       "      <td>61</td>\n",
       "      <td>New York-Newark-Jersey City, NY-NJ-PA MSA</td>\n",
       "      <td>2018-11-25</td>\n",
       "      <td>surf</td>\n",
       "      <td>2018-12-31</td>\n",
       "      <td>38.84</td>\n",
       "    </tr>\n",
       "    <tr>\n",
       "      <th>59</th>\n",
       "      <td>1027</td>\n",
       "      <td>7</td>\n",
       "      <td>18.0</td>\n",
       "      <td>46.0</td>\n",
       "      <td>347.0</td>\n",
       "      <td>38.0</td>\n",
       "      <td>12.0</td>\n",
       "      <td>Georgeanna</td>\n",
       "      <td>Cardenas</td>\n",
       "      <td>38</td>\n",
       "      <td>New York-Newark-Jersey City, NY-NJ-PA MSA</td>\n",
       "      <td>2018-06-26</td>\n",
       "      <td>surf</td>\n",
       "      <td>2018-12-31</td>\n",
       "      <td>20.00</td>\n",
       "    </tr>\n",
       "    <tr>\n",
       "      <th>60</th>\n",
       "      <td>1027</td>\n",
       "      <td>8</td>\n",
       "      <td>13.0</td>\n",
       "      <td>49.0</td>\n",
       "      <td>361.0</td>\n",
       "      <td>54.0</td>\n",
       "      <td>20.0</td>\n",
       "      <td>Georgeanna</td>\n",
       "      <td>Cardenas</td>\n",
       "      <td>38</td>\n",
       "      <td>New York-Newark-Jersey City, NY-NJ-PA MSA</td>\n",
       "      <td>2018-06-26</td>\n",
       "      <td>surf</td>\n",
       "      <td>2018-12-31</td>\n",
       "      <td>70.00</td>\n",
       "    </tr>\n",
       "    <tr>\n",
       "      <th>61</th>\n",
       "      <td>1027</td>\n",
       "      <td>9</td>\n",
       "      <td>12.0</td>\n",
       "      <td>53.0</td>\n",
       "      <td>325.0</td>\n",
       "      <td>48.0</td>\n",
       "      <td>17.0</td>\n",
       "      <td>Georgeanna</td>\n",
       "      <td>Cardenas</td>\n",
       "      <td>38</td>\n",
       "      <td>New York-Newark-Jersey City, NY-NJ-PA MSA</td>\n",
       "      <td>2018-06-26</td>\n",
       "      <td>surf</td>\n",
       "      <td>2018-12-31</td>\n",
       "      <td>40.00</td>\n",
       "    </tr>\n",
       "    <tr>\n",
       "      <th>...</th>\n",
       "      <td>...</td>\n",
       "      <td>...</td>\n",
       "      <td>...</td>\n",
       "      <td>...</td>\n",
       "      <td>...</td>\n",
       "      <td>...</td>\n",
       "      <td>...</td>\n",
       "      <td>...</td>\n",
       "      <td>...</td>\n",
       "      <td>...</td>\n",
       "      <td>...</td>\n",
       "      <td>...</td>\n",
       "      <td>...</td>\n",
       "      <td>...</td>\n",
       "      <td>...</td>\n",
       "    </tr>\n",
       "    <tr>\n",
       "      <th>2283</th>\n",
       "      <td>1498</td>\n",
       "      <td>8</td>\n",
       "      <td>0.0</td>\n",
       "      <td>44.0</td>\n",
       "      <td>266.0</td>\n",
       "      <td>59.0</td>\n",
       "      <td>20.0</td>\n",
       "      <td>Scot</td>\n",
       "      <td>Williamson</td>\n",
       "      <td>51</td>\n",
       "      <td>New York-Newark-Jersey City, NY-NJ-PA MSA</td>\n",
       "      <td>2018-02-04</td>\n",
       "      <td>surf</td>\n",
       "      <td>2018-12-31</td>\n",
       "      <td>70.00</td>\n",
       "    </tr>\n",
       "    <tr>\n",
       "      <th>2284</th>\n",
       "      <td>1498</td>\n",
       "      <td>9</td>\n",
       "      <td>0.0</td>\n",
       "      <td>45.0</td>\n",
       "      <td>363.0</td>\n",
       "      <td>57.0</td>\n",
       "      <td>23.0</td>\n",
       "      <td>Scot</td>\n",
       "      <td>Williamson</td>\n",
       "      <td>51</td>\n",
       "      <td>New York-Newark-Jersey City, NY-NJ-PA MSA</td>\n",
       "      <td>2018-02-04</td>\n",
       "      <td>surf</td>\n",
       "      <td>2018-12-31</td>\n",
       "      <td>100.00</td>\n",
       "    </tr>\n",
       "    <tr>\n",
       "      <th>2285</th>\n",
       "      <td>1498</td>\n",
       "      <td>10</td>\n",
       "      <td>0.0</td>\n",
       "      <td>46.0</td>\n",
       "      <td>298.0</td>\n",
       "      <td>64.0</td>\n",
       "      <td>21.0</td>\n",
       "      <td>Scot</td>\n",
       "      <td>Williamson</td>\n",
       "      <td>51</td>\n",
       "      <td>New York-Newark-Jersey City, NY-NJ-PA MSA</td>\n",
       "      <td>2018-02-04</td>\n",
       "      <td>surf</td>\n",
       "      <td>2018-12-31</td>\n",
       "      <td>80.00</td>\n",
       "    </tr>\n",
       "    <tr>\n",
       "      <th>2286</th>\n",
       "      <td>1498</td>\n",
       "      <td>11</td>\n",
       "      <td>0.0</td>\n",
       "      <td>41.0</td>\n",
       "      <td>223.0</td>\n",
       "      <td>57.0</td>\n",
       "      <td>19.0</td>\n",
       "      <td>Scot</td>\n",
       "      <td>Williamson</td>\n",
       "      <td>51</td>\n",
       "      <td>New York-Newark-Jersey City, NY-NJ-PA MSA</td>\n",
       "      <td>2018-02-04</td>\n",
       "      <td>surf</td>\n",
       "      <td>2018-12-31</td>\n",
       "      <td>60.00</td>\n",
       "    </tr>\n",
       "    <tr>\n",
       "      <th>2287</th>\n",
       "      <td>1498</td>\n",
       "      <td>12</td>\n",
       "      <td>0.0</td>\n",
       "      <td>39.0</td>\n",
       "      <td>339.0</td>\n",
       "      <td>65.0</td>\n",
       "      <td>23.0</td>\n",
       "      <td>Scot</td>\n",
       "      <td>Williamson</td>\n",
       "      <td>51</td>\n",
       "      <td>New York-Newark-Jersey City, NY-NJ-PA MSA</td>\n",
       "      <td>2018-02-04</td>\n",
       "      <td>surf</td>\n",
       "      <td>2018-12-31</td>\n",
       "      <td>100.00</td>\n",
       "    </tr>\n",
       "  </tbody>\n",
       "</table>\n",
       "<p>312 rows × 15 columns</p>\n",
       "</div>"
      ],
      "text/plain": [
       "      user_id  month  sms_total  calls_month  calls_sum_month  sessions_month  \\\n",
       "37       1014     11        9.0         28.0            163.0             1.0   \n",
       "38       1014     12       64.0        150.0           1114.0            19.0   \n",
       "59       1027      7       18.0         46.0            347.0            38.0   \n",
       "60       1027      8       13.0         49.0            361.0            54.0   \n",
       "61       1027      9       12.0         53.0            325.0            48.0   \n",
       "...       ...    ...        ...          ...              ...             ...   \n",
       "2283     1498      8        0.0         44.0            266.0            59.0   \n",
       "2284     1498      9        0.0         45.0            363.0            57.0   \n",
       "2285     1498     10        0.0         46.0            298.0            64.0   \n",
       "2286     1498     11        0.0         41.0            223.0            57.0   \n",
       "2287     1498     12        0.0         39.0            339.0            65.0   \n",
       "\n",
       "      giga_sum_month  first_name   last_name  age  \\\n",
       "37               2.0     Edmundo       Simon   61   \n",
       "38               8.0     Edmundo       Simon   61   \n",
       "59              12.0  Georgeanna    Cardenas   38   \n",
       "60              20.0  Georgeanna    Cardenas   38   \n",
       "61              17.0  Georgeanna    Cardenas   38   \n",
       "...              ...         ...         ...  ...   \n",
       "2283            20.0        Scot  Williamson   51   \n",
       "2284            23.0        Scot  Williamson   51   \n",
       "2285            21.0        Scot  Williamson   51   \n",
       "2286            19.0        Scot  Williamson   51   \n",
       "2287            23.0        Scot  Williamson   51   \n",
       "\n",
       "                                           city   reg_date  plan churn_date  \\\n",
       "37    New York-Newark-Jersey City, NY-NJ-PA MSA 2018-11-25  surf 2018-12-31   \n",
       "38    New York-Newark-Jersey City, NY-NJ-PA MSA 2018-11-25  surf 2018-12-31   \n",
       "59    New York-Newark-Jersey City, NY-NJ-PA MSA 2018-06-26  surf 2018-12-31   \n",
       "60    New York-Newark-Jersey City, NY-NJ-PA MSA 2018-06-26  surf 2018-12-31   \n",
       "61    New York-Newark-Jersey City, NY-NJ-PA MSA 2018-06-26  surf 2018-12-31   \n",
       "...                                         ...        ...   ...        ...   \n",
       "2283  New York-Newark-Jersey City, NY-NJ-PA MSA 2018-02-04  surf 2018-12-31   \n",
       "2284  New York-Newark-Jersey City, NY-NJ-PA MSA 2018-02-04  surf 2018-12-31   \n",
       "2285  New York-Newark-Jersey City, NY-NJ-PA MSA 2018-02-04  surf 2018-12-31   \n",
       "2286  New York-Newark-Jersey City, NY-NJ-PA MSA 2018-02-04  surf 2018-12-31   \n",
       "2287  New York-Newark-Jersey City, NY-NJ-PA MSA 2018-02-04  surf 2018-12-31   \n",
       "\n",
       "      total_cost  \n",
       "37         20.00  \n",
       "38         38.84  \n",
       "59         20.00  \n",
       "60         70.00  \n",
       "61         40.00  \n",
       "...          ...  \n",
       "2283       70.00  \n",
       "2284      100.00  \n",
       "2285       80.00  \n",
       "2286       60.00  \n",
       "2287      100.00  \n",
       "\n",
       "[312 rows x 15 columns]"
      ]
     },
     "execution_count": 72,
     "metadata": {},
     "output_type": "execute_result"
    }
   ],
   "source": [
    "ny_nj_users_surf "
   ]
  },
  {
   "cell_type": "code",
   "execution_count": 73,
   "metadata": {},
   "outputs": [],
   "source": [
    "ny_nj_users_ultimate = ultimate_plan_users[ultimate_plan_users['city'].str.contains(\"NY-NJ\")]"
   ]
  },
  {
   "cell_type": "code",
   "execution_count": 74,
   "metadata": {},
   "outputs": [
    {
     "data": {
      "text/html": [
       "<div>\n",
       "<style scoped>\n",
       "    .dataframe tbody tr th:only-of-type {\n",
       "        vertical-align: middle;\n",
       "    }\n",
       "\n",
       "    .dataframe tbody tr th {\n",
       "        vertical-align: top;\n",
       "    }\n",
       "\n",
       "    .dataframe thead th {\n",
       "        text-align: right;\n",
       "    }\n",
       "</style>\n",
       "<table border=\"1\" class=\"dataframe\">\n",
       "  <thead>\n",
       "    <tr style=\"text-align: right;\">\n",
       "      <th></th>\n",
       "      <th>user_id</th>\n",
       "      <th>month</th>\n",
       "      <th>sms_total</th>\n",
       "      <th>calls_month</th>\n",
       "      <th>calls_sum_month</th>\n",
       "      <th>sessions_month</th>\n",
       "      <th>giga_sum_month</th>\n",
       "      <th>first_name</th>\n",
       "      <th>last_name</th>\n",
       "      <th>age</th>\n",
       "      <th>city</th>\n",
       "      <th>reg_date</th>\n",
       "      <th>plan</th>\n",
       "      <th>churn_date</th>\n",
       "      <th>total_cost</th>\n",
       "    </tr>\n",
       "  </thead>\n",
       "  <tbody>\n",
       "    <tr>\n",
       "      <th>84</th>\n",
       "      <td>1031</td>\n",
       "      <td>7</td>\n",
       "      <td>1.0</td>\n",
       "      <td>36.0</td>\n",
       "      <td>304.0</td>\n",
       "      <td>34.0</td>\n",
       "      <td>11.0</td>\n",
       "      <td>Lane</td>\n",
       "      <td>Martin</td>\n",
       "      <td>52</td>\n",
       "      <td>New York-Newark-Jersey City, NY-NJ-PA MSA</td>\n",
       "      <td>2018-07-15</td>\n",
       "      <td>ultimate</td>\n",
       "      <td>2018-12-31</td>\n",
       "      <td>70.0</td>\n",
       "    </tr>\n",
       "    <tr>\n",
       "      <th>85</th>\n",
       "      <td>1031</td>\n",
       "      <td>8</td>\n",
       "      <td>2.0</td>\n",
       "      <td>62.0</td>\n",
       "      <td>483.0</td>\n",
       "      <td>63.0</td>\n",
       "      <td>22.0</td>\n",
       "      <td>Lane</td>\n",
       "      <td>Martin</td>\n",
       "      <td>52</td>\n",
       "      <td>New York-Newark-Jersey City, NY-NJ-PA MSA</td>\n",
       "      <td>2018-07-15</td>\n",
       "      <td>ultimate</td>\n",
       "      <td>2018-12-31</td>\n",
       "      <td>70.0</td>\n",
       "    </tr>\n",
       "    <tr>\n",
       "      <th>86</th>\n",
       "      <td>1031</td>\n",
       "      <td>9</td>\n",
       "      <td>3.0</td>\n",
       "      <td>76.0</td>\n",
       "      <td>515.0</td>\n",
       "      <td>46.0</td>\n",
       "      <td>13.0</td>\n",
       "      <td>Lane</td>\n",
       "      <td>Martin</td>\n",
       "      <td>52</td>\n",
       "      <td>New York-Newark-Jersey City, NY-NJ-PA MSA</td>\n",
       "      <td>2018-07-15</td>\n",
       "      <td>ultimate</td>\n",
       "      <td>2018-12-31</td>\n",
       "      <td>70.0</td>\n",
       "    </tr>\n",
       "    <tr>\n",
       "      <th>87</th>\n",
       "      <td>1031</td>\n",
       "      <td>10</td>\n",
       "      <td>2.0</td>\n",
       "      <td>74.0</td>\n",
       "      <td>563.0</td>\n",
       "      <td>57.0</td>\n",
       "      <td>19.0</td>\n",
       "      <td>Lane</td>\n",
       "      <td>Martin</td>\n",
       "      <td>52</td>\n",
       "      <td>New York-Newark-Jersey City, NY-NJ-PA MSA</td>\n",
       "      <td>2018-07-15</td>\n",
       "      <td>ultimate</td>\n",
       "      <td>2018-12-31</td>\n",
       "      <td>70.0</td>\n",
       "    </tr>\n",
       "    <tr>\n",
       "      <th>88</th>\n",
       "      <td>1031</td>\n",
       "      <td>11</td>\n",
       "      <td>1.0</td>\n",
       "      <td>85.0</td>\n",
       "      <td>611.0</td>\n",
       "      <td>51.0</td>\n",
       "      <td>16.0</td>\n",
       "      <td>Lane</td>\n",
       "      <td>Martin</td>\n",
       "      <td>52</td>\n",
       "      <td>New York-Newark-Jersey City, NY-NJ-PA MSA</td>\n",
       "      <td>2018-07-15</td>\n",
       "      <td>ultimate</td>\n",
       "      <td>2018-12-31</td>\n",
       "      <td>70.0</td>\n",
       "    </tr>\n",
       "    <tr>\n",
       "      <th>...</th>\n",
       "      <td>...</td>\n",
       "      <td>...</td>\n",
       "      <td>...</td>\n",
       "      <td>...</td>\n",
       "      <td>...</td>\n",
       "      <td>...</td>\n",
       "      <td>...</td>\n",
       "      <td>...</td>\n",
       "      <td>...</td>\n",
       "      <td>...</td>\n",
       "      <td>...</td>\n",
       "      <td>...</td>\n",
       "      <td>...</td>\n",
       "      <td>...</td>\n",
       "      <td>...</td>\n",
       "    </tr>\n",
       "    <tr>\n",
       "      <th>1782</th>\n",
       "      <td>1482</td>\n",
       "      <td>10</td>\n",
       "      <td>2.0</td>\n",
       "      <td>0.0</td>\n",
       "      <td>0.0</td>\n",
       "      <td>0.0</td>\n",
       "      <td>0.0</td>\n",
       "      <td>Armand</td>\n",
       "      <td>Glenn</td>\n",
       "      <td>70</td>\n",
       "      <td>New York-Newark-Jersey City, NY-NJ-PA MSA</td>\n",
       "      <td>2018-01-01</td>\n",
       "      <td>ultimate</td>\n",
       "      <td>2018-12-31</td>\n",
       "      <td>70.0</td>\n",
       "    </tr>\n",
       "    <tr>\n",
       "      <th>1783</th>\n",
       "      <td>1482</td>\n",
       "      <td>11</td>\n",
       "      <td>87.0</td>\n",
       "      <td>115.0</td>\n",
       "      <td>785.0</td>\n",
       "      <td>69.0</td>\n",
       "      <td>20.0</td>\n",
       "      <td>Armand</td>\n",
       "      <td>Glenn</td>\n",
       "      <td>70</td>\n",
       "      <td>New York-Newark-Jersey City, NY-NJ-PA MSA</td>\n",
       "      <td>2018-01-01</td>\n",
       "      <td>ultimate</td>\n",
       "      <td>2018-12-31</td>\n",
       "      <td>70.0</td>\n",
       "    </tr>\n",
       "    <tr>\n",
       "      <th>1784</th>\n",
       "      <td>1482</td>\n",
       "      <td>12</td>\n",
       "      <td>5.0</td>\n",
       "      <td>5.0</td>\n",
       "      <td>56.0</td>\n",
       "      <td>1.0</td>\n",
       "      <td>1.0</td>\n",
       "      <td>Armand</td>\n",
       "      <td>Glenn</td>\n",
       "      <td>70</td>\n",
       "      <td>New York-Newark-Jersey City, NY-NJ-PA MSA</td>\n",
       "      <td>2018-01-01</td>\n",
       "      <td>ultimate</td>\n",
       "      <td>2018-12-31</td>\n",
       "      <td>70.0</td>\n",
       "    </tr>\n",
       "    <tr>\n",
       "      <th>1903</th>\n",
       "      <td>1063</td>\n",
       "      <td>11</td>\n",
       "      <td>0.0</td>\n",
       "      <td>9.0</td>\n",
       "      <td>67.0</td>\n",
       "      <td>35.0</td>\n",
       "      <td>11.0</td>\n",
       "      <td>Larhonda</td>\n",
       "      <td>Hartman</td>\n",
       "      <td>60</td>\n",
       "      <td>New York-Newark-Jersey City, NY-NJ-PA MSA</td>\n",
       "      <td>2018-11-05</td>\n",
       "      <td>ultimate</td>\n",
       "      <td>2018-12-31</td>\n",
       "      <td>70.0</td>\n",
       "    </tr>\n",
       "    <tr>\n",
       "      <th>1904</th>\n",
       "      <td>1063</td>\n",
       "      <td>12</td>\n",
       "      <td>0.0</td>\n",
       "      <td>13.0</td>\n",
       "      <td>100.0</td>\n",
       "      <td>23.0</td>\n",
       "      <td>10.0</td>\n",
       "      <td>Larhonda</td>\n",
       "      <td>Hartman</td>\n",
       "      <td>60</td>\n",
       "      <td>New York-Newark-Jersey City, NY-NJ-PA MSA</td>\n",
       "      <td>2018-11-05</td>\n",
       "      <td>ultimate</td>\n",
       "      <td>2018-12-31</td>\n",
       "      <td>70.0</td>\n",
       "    </tr>\n",
       "  </tbody>\n",
       "</table>\n",
       "<p>65 rows × 15 columns</p>\n",
       "</div>"
      ],
      "text/plain": [
       "      user_id  month  sms_total  calls_month  calls_sum_month  sessions_month  \\\n",
       "84       1031      7        1.0         36.0            304.0            34.0   \n",
       "85       1031      8        2.0         62.0            483.0            63.0   \n",
       "86       1031      9        3.0         76.0            515.0            46.0   \n",
       "87       1031     10        2.0         74.0            563.0            57.0   \n",
       "88       1031     11        1.0         85.0            611.0            51.0   \n",
       "...       ...    ...        ...          ...              ...             ...   \n",
       "1782     1482     10        2.0          0.0              0.0             0.0   \n",
       "1783     1482     11       87.0        115.0            785.0            69.0   \n",
       "1784     1482     12        5.0          5.0             56.0             1.0   \n",
       "1903     1063     11        0.0          9.0             67.0            35.0   \n",
       "1904     1063     12        0.0         13.0            100.0            23.0   \n",
       "\n",
       "      giga_sum_month first_name last_name  age  \\\n",
       "84              11.0       Lane    Martin   52   \n",
       "85              22.0       Lane    Martin   52   \n",
       "86              13.0       Lane    Martin   52   \n",
       "87              19.0       Lane    Martin   52   \n",
       "88              16.0       Lane    Martin   52   \n",
       "...              ...        ...       ...  ...   \n",
       "1782             0.0     Armand     Glenn   70   \n",
       "1783            20.0     Armand     Glenn   70   \n",
       "1784             1.0     Armand     Glenn   70   \n",
       "1903            11.0   Larhonda   Hartman   60   \n",
       "1904            10.0   Larhonda   Hartman   60   \n",
       "\n",
       "                                           city   reg_date      plan  \\\n",
       "84    New York-Newark-Jersey City, NY-NJ-PA MSA 2018-07-15  ultimate   \n",
       "85    New York-Newark-Jersey City, NY-NJ-PA MSA 2018-07-15  ultimate   \n",
       "86    New York-Newark-Jersey City, NY-NJ-PA MSA 2018-07-15  ultimate   \n",
       "87    New York-Newark-Jersey City, NY-NJ-PA MSA 2018-07-15  ultimate   \n",
       "88    New York-Newark-Jersey City, NY-NJ-PA MSA 2018-07-15  ultimate   \n",
       "...                                         ...        ...       ...   \n",
       "1782  New York-Newark-Jersey City, NY-NJ-PA MSA 2018-01-01  ultimate   \n",
       "1783  New York-Newark-Jersey City, NY-NJ-PA MSA 2018-01-01  ultimate   \n",
       "1784  New York-Newark-Jersey City, NY-NJ-PA MSA 2018-01-01  ultimate   \n",
       "1903  New York-Newark-Jersey City, NY-NJ-PA MSA 2018-11-05  ultimate   \n",
       "1904  New York-Newark-Jersey City, NY-NJ-PA MSA 2018-11-05  ultimate   \n",
       "\n",
       "     churn_date  total_cost  \n",
       "84   2018-12-31        70.0  \n",
       "85   2018-12-31        70.0  \n",
       "86   2018-12-31        70.0  \n",
       "87   2018-12-31        70.0  \n",
       "88   2018-12-31        70.0  \n",
       "...         ...         ...  \n",
       "1782 2018-12-31        70.0  \n",
       "1783 2018-12-31        70.0  \n",
       "1784 2018-12-31        70.0  \n",
       "1903 2018-12-31        70.0  \n",
       "1904 2018-12-31        70.0  \n",
       "\n",
       "[65 rows x 15 columns]"
      ]
     },
     "execution_count": 74,
     "metadata": {},
     "output_type": "execute_result"
    }
   ],
   "source": [
    "ny_nj_users_ultimate"
   ]
  },
  {
   "cell_type": "markdown",
   "metadata": {},
   "source": [
    "H0:The average revenue from surf users in NY-NJ area is == The average revenue from the ultimate users in NY-NJ area.\n",
    "\n",
    "H1:The average revenue from surf users in NY-NJ area is != The average revenue from the ultimate users in NY-NJ area."
   ]
  },
  {
   "cell_type": "code",
   "execution_count": 75,
   "metadata": {},
   "outputs": [
    {
     "data": {
      "text/plain": [
       "LeveneResult(statistic=49.85336527325695, pvalue=8.084871416953014e-12)"
      ]
     },
     "execution_count": 75,
     "metadata": {},
     "output_type": "execute_result"
    }
   ],
   "source": [
    "st.levene(ny_nj_users_surf['total_cost'], ny_nj_users_ultimate['total_cost'], center='mean')"
   ]
  },
  {
   "cell_type": "code",
   "execution_count": 76,
   "metadata": {},
   "outputs": [
    {
     "name": "stdout",
     "output_type": "stream",
     "text": [
      "p-valuse:  0.043557431621342436\n",
      "We reject the null hypothesis\n",
      "NY NJ surf users mean: $ 56.789583333333326\n",
      "NY NJ ultimate users mean: $ 74.95384615384616\n"
     ]
    }
   ],
   "source": [
    "alpha = 0.05\n",
    "result3 = st.ttest_ind(ny_nj_users_surf['total_cost'],ny_nj_users_ultimate['total_cost'], equal_var = False)\n",
    "print('p-valuse: ', result2.pvalue)\n",
    "\n",
    "if (result3.pvalue < alpha):\n",
    "    print('We reject the null hypothesis')\n",
    "else:\n",
    "    print(\"We can't reject the null hypothesis\")\n",
    "    \n",
    "ny_nj_users_surf_mean = ny_nj_users_surf['total_cost'].mean()\n",
    "ny_nj_users_ultimate_mean = ny_nj_users_ultimate['total_cost'].mean()\n",
    "print('NY NJ surf users mean: $', ny_nj_users_surf_mean)\n",
    "print('NY NJ ultimate users mean: $', ny_nj_users_ultimate_mean)"
   ]
  },
  {
   "cell_type": "markdown",
   "metadata": {},
   "source": [
    "# 4. overall conclusion"
   ]
  },
  {
   "cell_type": "markdown",
   "metadata": {},
   "source": [
    "I was given 5 seprate data sets containing info about: \n",
    "1.users\n",
    "user_id — unique user identifier\n",
    "first_name — user's name\n",
    "last_name — user's last name\n",
    "age — user's age (years)\n",
    "reg_date — subscription date (dd, mm, yy)\n",
    "churn_date — the date the user stopped using the service (if the value is missing, the calling plan was being used when this data was retrieved)\n",
    "city — user's city of residence\n",
    "plan — calling plan name\n",
    "\n",
    "2.calls\n",
    "id — unique call identifier\n",
    "call_date — call date\n",
    "duration — call duration (in minutes)\n",
    "user_id — the identifier of the user making the call\n",
    "\n",
    "3.messages \n",
    "id — unique text message identifier\n",
    "message_date — text message date\n",
    "user_id — the identifier of the user sending the text\n",
    "\n",
    "4.interenet\n",
    "id — unique session identifier\n",
    "mb_used — the volume of data spent during the session (in megabytes)\n",
    "session_date — web session date\n",
    "user_id — user identifier.\n",
    "\n",
    "5.plans\n",
    "plan_name — calling plan name\n",
    "usd_monthly_fee — monthly charge in US dollars\n",
    "minutes_included — monthly minute allowance\n",
    "messages_included — monthly text allowance\n",
    "mb_per_month_included — data volume allowance (in megabytes)\n",
    "usd_per_minute — price per minute after exceeding the package limits (e.g., if the package includes 100 minutes, the 101st minute will be charged)\n",
    "usd_per_message — price per text after exceeding the package limits\n",
    "usd_per_gb — price per extra gigabyte of data after exceeding the package limits (1 GB = 1024 megabytes)\n",
    "\n",
    "in order to analize the data, i needed to merge the files given to me into one file containing all of the necessary data. i started doing the following steps:\n",
    "\n",
    "## Prepare the data\n",
    "**looking for Missing values in the datasets** \n",
    "* ml_calls- i didn't find any missing values.\n",
    "* ml_internet-i didn't find any missing values.\n",
    "* ml_messages- i didn't find any missing values.\n",
    "* ml_plans- i didn't find any missing values.\n",
    "* ml_users-i didn't find any missing values.\n",
    "\n",
    "**fix dtypes**\n",
    "* ml_calls- change the call_date column from an object to a datetime64.\n",
    "* ml_internet- change the session_date column from an object to a datetime64.\n",
    "* ml_messages- change the message_date column from an object to a datetime64. \n",
    "* ml_users- add the date 2018-12-31 as the date the user stopped using the service, change the churn_date column, from an       object to a datetime64 and change reg_date column from an object to a datetime64.\n",
    "\n",
    "**adding columns to to the datasets**\n",
    "* ml_calls- add a month column that will be taken from the call date column.\n",
    "* ml_internet- add a month column that will be taken from the session_date column.\n",
    "* ml_messages- add a month column that will be taken from the message_date column.\n",
    "\n",
    "after looking for missing values, fixing dtypes and adding necessary month columns i started groupby the relevent datasets.\n",
    "and started merging the data.\n",
    "\n",
    "**groupby the datasets and merging the data** \n",
    "* ml_internet- by count and sum of user_id and month columns.\n",
    "* ml_calls- by count and sum of user_id and month columns.\n",
    "* ml_messages- by count of user_id, month and id columns.\n",
    "* Merge  ml_internet, ml_calls ml_messages and ml_users into one dataset.\n",
    "* Turn megabytes into gigabytes and round it up.\n",
    "* Check NAN in the merged dataset and then fill them with zero sincs  NAN values refer to people who have not used one or more     of the calls, messages or internet.\n",
    "\n",
    "**by using row accessor i looked for each row of each user separately\n",
    "  so creating variables of prepaid plans/monthly minutes/texts/GB of data inside the function and i operated them for   \n",
    "  each user.**\n",
    "  \n",
    "**by doing that i found**\n",
    "* the cost of calls.\n",
    "* the cost of sms.\n",
    "* the cost of GB_of_data.\n",
    "* calculate the total cost by simply summing it all up.\n",
    "* i created new variable called total_cost. to find the rate for each user using our parameter plan.\n",
    "\n",
    "## Analyze the data\n",
    "\n",
    "in order to find and examine the mean, variance and standard_deviation i plot histograms \n",
    "for each plans.  of the next parameters sms_total, calls_sum_month, giga_sum_month, total_cost.\n",
    "\n",
    "**ultimate plan**\n",
    "\n",
    "i ploted histograms for each of the next parameters sms_total, calls_sum_month, giga_sum_month, total_cost and found the following information:\n",
    "\n",
    "\n",
    "* calls_sum_month- \n",
    "  mean: 430.45 \n",
    "\n",
    "  variance: 57764.125277777785 \n",
    "                   \n",
    "  standard_deviation: 240.3416844365\n",
    "\n",
    "  most of the data can be found in this range: (-290.57505330952273, 57764.125277777785)\n",
    "\n",
    "\n",
    "* sms_total-\n",
    "  mean: 37.55138888888889 \n",
    "\n",
    "  variance: 1207.0779147376545 \n",
    "\n",
    "  standard_deviation: 34.743026850544474\n",
    "\n",
    "  most of the data can be found in this range: (-66.67769166274454, 1207.0779147376545)\n",
    "\n",
    "\n",
    "* giga_sum_month-\n",
    "\n",
    "  mean: 17.306944444444444 \n",
    "\n",
    "  variance: 58.748840663580246 \n",
    "\n",
    "  standard_deviation: 7.664779231235578\n",
    "\n",
    "  most of the data can be found in this range: (-5.687393249262289, 58.748840663580246)\n",
    "\n",
    "\n",
    "* total_cost-\n",
    "\n",
    "  mean: 72.31388888888888 \n",
    "\n",
    "  variance: 129.66814043209877 \n",
    "\n",
    "  standard_deviation: 11.387191946748715\n",
    "\n",
    "most of the data can be found in this range: (38.15231304864274, 129.66814043209877)\n",
    "\n",
    "**surf plan**\n",
    "\n",
    "i ploted histograms for each of the next parameters sms_total, calls_sum_month, giga_sum_month, total_cost.\n",
    "\n",
    "\n",
    "* calls_sum_month- \n",
    "\n",
    "  mean: 428.7495232040687 \n",
    "\n",
    "  variance: 54933.334591317485 \n",
    "\n",
    "  standard_deviation: 234.37861376695076\n",
    "\n",
    "  most of the data can be found in this range: (-274.38631809678355, 54933.334591317485)\n",
    "\n",
    "\n",
    "* sms_total-\n",
    "\n",
    "  mean: 31.15956770502225 \n",
    "  \n",
    "  variance: 1126.008231726662 \n",
    "  \n",
    "  standard_deviation: 33.556046127734746\n",
    "  \n",
    "  most of the data can be found in this range: (-69.50857067818198, 1126.008231726662)\n",
    "\n",
    "\n",
    "* giga_sum_month-\n",
    "\n",
    "  giga_sum_month_mean: 16.670692943420217 \n",
    "  \n",
    "  giga_sum_month_variance: 61.54444942447023           \n",
    "  \n",
    "  giga_sum_month_standard_deviation: 7.845027050588814\n",
    "  \n",
    "  most of the data can be found in this range: (-6.864388208346224, 61.54444942447023)\n",
    "\n",
    "\n",
    "* total_cost-\n",
    "\n",
    "  total_cost_mean: 60.706408137317226 \n",
    "  \n",
    "  total_cost_variance: 3065.8848438690247 \n",
    "  \n",
    "  total_cost_standard_deviation: 55.37043293915106\n",
    "\n",
    "  most of the data can be found in this range: (-105.40489068013596, 3065.8848438690247)\n",
    "\n",
    " "
   ]
  },
  {
   "cell_type": "markdown",
   "metadata": {},
   "source": [
    "# 5. Main conclusion"
   ]
  },
  {
   "cell_type": "markdown",
   "metadata": {},
   "source": [
    "**After testing the hypotheses that claims average revenue from users of Ultimate and Surf calling plans differs we can see that the null hypothisis is rejected, the average revenue from users of Ultimate and Surf calling plans do differ and we can see the ultimate users are more profitable.\n",
    "i used st.levene to compare the Ultimate and Surf 'total cost' columns means by that got a  very small p.value which made me set the ttest equal = false, and alpha to 0.05**\n",
    "\n",
    "**After testing the hypotheses that claims that the average revenue from users in NY-NJ area is different of the users from other regions the  we can see that the average revenue from users in NY-NJ area is different from that of the users from other regions, and the null hypothisis rejected again and we can see that NY-NJ area users are more profitable.\n",
    "i used st.levene again to compare the NY-NJ area and other regions 'total cost' columns means by that got a  bit larger but still small p.value which made me set the ttest equal = True, and alpha to 0.05**\n",
    "\n",
    "**After testing the hypotheses that claims the average revenue from surf users in NY-NJ area is different from that of the  ultimate users in NY-NJ area. we can see that the average revenue from surf users in NY-NJ area is different from that of the ultimate users in NY-NJ area and we can see that  ultimate users are more profitable.\n",
    "i used st.levene to compare the NY-NJ area surf and ultimate 'total cost' columns means by that got again a very small p.value which made me set the ttest equal = False, and alpha to 0.05**\n",
    "\n",
    "\n"
   ]
  }
 ],
 "metadata": {
  "ExecuteTimeLog": [
   {
    "duration": 1522,
    "start_time": "2022-02-03T12:07:13.357Z"
   },
   {
    "duration": 80,
    "start_time": "2022-02-03T12:10:20.766Z"
   },
   {
    "duration": 390,
    "start_time": "2022-02-03T12:10:56.234Z"
   },
   {
    "duration": 1509,
    "start_time": "2022-02-03T12:11:02.431Z"
   },
   {
    "duration": 383,
    "start_time": "2022-02-03T12:11:03.942Z"
   },
   {
    "duration": 12,
    "start_time": "2022-02-03T12:13:21.341Z"
   },
   {
    "duration": 8,
    "start_time": "2022-02-03T12:14:03.230Z"
   },
   {
    "duration": 8,
    "start_time": "2022-02-03T12:14:18.236Z"
   },
   {
    "duration": 9,
    "start_time": "2022-02-03T12:14:47.254Z"
   },
   {
    "duration": 10,
    "start_time": "2022-02-03T12:15:16.243Z"
   },
   {
    "duration": 18,
    "start_time": "2022-02-03T12:18:02.984Z"
   },
   {
    "duration": 17,
    "start_time": "2022-02-03T12:18:35.347Z"
   },
   {
    "duration": 13,
    "start_time": "2022-02-03T12:18:49.186Z"
   },
   {
    "duration": 8,
    "start_time": "2022-02-03T12:19:06.546Z"
   },
   {
    "duration": 7,
    "start_time": "2022-02-03T12:19:28.578Z"
   },
   {
    "duration": 19,
    "start_time": "2022-02-03T12:49:54.503Z"
   },
   {
    "duration": 30,
    "start_time": "2022-02-03T12:50:55.191Z"
   },
   {
    "duration": 14,
    "start_time": "2022-02-03T12:51:33.657Z"
   },
   {
    "duration": 22,
    "start_time": "2022-02-03T12:52:06.104Z"
   },
   {
    "duration": 23,
    "start_time": "2022-02-03T12:53:26.202Z"
   },
   {
    "duration": 287,
    "start_time": "2022-02-03T17:32:47.235Z"
   },
   {
    "duration": 287,
    "start_time": "2022-02-03T17:32:56.118Z"
   },
   {
    "duration": 1543,
    "start_time": "2022-02-03T17:33:14.221Z"
   },
   {
    "duration": 309,
    "start_time": "2022-02-03T17:33:15.766Z"
   },
   {
    "duration": 17,
    "start_time": "2022-02-03T17:33:16.077Z"
   },
   {
    "duration": 11,
    "start_time": "2022-02-03T17:33:17.390Z"
   },
   {
    "duration": 23,
    "start_time": "2022-02-03T17:33:20.973Z"
   },
   {
    "duration": 8,
    "start_time": "2022-02-03T17:33:21.531Z"
   },
   {
    "duration": 8,
    "start_time": "2022-02-03T17:37:20.704Z"
   },
   {
    "duration": 8,
    "start_time": "2022-02-03T17:37:29.984Z"
   },
   {
    "duration": 8,
    "start_time": "2022-02-03T17:37:56.917Z"
   },
   {
    "duration": 10,
    "start_time": "2022-02-03T17:38:42.787Z"
   },
   {
    "duration": 9,
    "start_time": "2022-02-03T17:38:53.323Z"
   },
   {
    "duration": 8,
    "start_time": "2022-02-03T17:40:28.858Z"
   },
   {
    "duration": 319,
    "start_time": "2022-02-04T08:39:38.259Z"
   },
   {
    "duration": 1583,
    "start_time": "2022-02-04T08:39:46.380Z"
   },
   {
    "duration": 333,
    "start_time": "2022-02-04T08:39:47.965Z"
   },
   {
    "duration": 18,
    "start_time": "2022-02-04T08:39:48.300Z"
   },
   {
    "duration": 11,
    "start_time": "2022-02-04T08:39:48.321Z"
   },
   {
    "duration": 12,
    "start_time": "2022-02-04T08:39:48.334Z"
   },
   {
    "duration": 17,
    "start_time": "2022-02-04T08:39:48.347Z"
   },
   {
    "duration": 8,
    "start_time": "2022-02-04T08:39:48.366Z"
   },
   {
    "duration": 40,
    "start_time": "2022-02-04T08:39:48.375Z"
   },
   {
    "duration": 11,
    "start_time": "2022-02-04T08:39:48.418Z"
   },
   {
    "duration": 8,
    "start_time": "2022-02-04T08:39:48.431Z"
   },
   {
    "duration": 13,
    "start_time": "2022-02-04T08:39:48.441Z"
   },
   {
    "duration": 9,
    "start_time": "2022-02-04T08:39:48.456Z"
   },
   {
    "duration": 424,
    "start_time": "2022-02-04T08:39:48.468Z"
   },
   {
    "duration": 254,
    "start_time": "2022-02-04T08:40:58.967Z"
   },
   {
    "duration": 330,
    "start_time": "2022-02-04T08:53:58.160Z"
   },
   {
    "duration": 10,
    "start_time": "2022-02-04T08:54:37.575Z"
   },
   {
    "duration": 10,
    "start_time": "2022-02-04T08:55:00.593Z"
   },
   {
    "duration": 9,
    "start_time": "2022-02-04T08:55:23.609Z"
   },
   {
    "duration": 272,
    "start_time": "2022-02-04T08:57:09.946Z"
   },
   {
    "duration": 345,
    "start_time": "2022-02-04T09:03:40.440Z"
   },
   {
    "duration": 1571,
    "start_time": "2022-02-04T09:03:49.189Z"
   },
   {
    "duration": 327,
    "start_time": "2022-02-04T09:03:50.762Z"
   },
   {
    "duration": 14,
    "start_time": "2022-02-04T09:03:51.091Z"
   },
   {
    "duration": 15,
    "start_time": "2022-02-04T09:03:51.107Z"
   },
   {
    "duration": 13,
    "start_time": "2022-02-04T09:03:51.124Z"
   },
   {
    "duration": 397,
    "start_time": "2022-02-04T09:03:51.140Z"
   },
   {
    "duration": 85,
    "start_time": "2022-02-04T09:16:32.716Z"
   },
   {
    "duration": 67,
    "start_time": "2022-02-04T09:16:45.666Z"
   },
   {
    "duration": 53,
    "start_time": "2022-02-04T09:17:47.870Z"
   },
   {
    "duration": 50,
    "start_time": "2022-02-04T09:17:58.602Z"
   },
   {
    "duration": 30,
    "start_time": "2022-02-04T09:18:17.721Z"
   },
   {
    "duration": 30,
    "start_time": "2022-02-04T09:18:33.277Z"
   },
   {
    "duration": 11,
    "start_time": "2022-02-04T09:19:31.884Z"
   },
   {
    "duration": 12,
    "start_time": "2022-02-04T09:20:04.605Z"
   },
   {
    "duration": 12,
    "start_time": "2022-02-04T09:20:51.914Z"
   },
   {
    "duration": 14,
    "start_time": "2022-02-04T09:21:02.863Z"
   },
   {
    "duration": 7,
    "start_time": "2022-02-04T09:21:38.525Z"
   },
   {
    "duration": 6,
    "start_time": "2022-02-04T09:21:56.175Z"
   },
   {
    "duration": 277,
    "start_time": "2022-02-04T09:25:14.237Z"
   },
   {
    "duration": 266,
    "start_time": "2022-02-04T09:25:22.198Z"
   },
   {
    "duration": 1779,
    "start_time": "2022-02-04T09:29:08.106Z"
   },
   {
    "duration": 336,
    "start_time": "2022-02-04T09:29:09.888Z"
   },
   {
    "duration": 14,
    "start_time": "2022-02-04T09:29:10.227Z"
   },
   {
    "duration": 94,
    "start_time": "2022-02-04T09:29:10.243Z"
   },
   {
    "duration": 79,
    "start_time": "2022-02-04T09:29:10.340Z"
   },
   {
    "duration": 507,
    "start_time": "2022-02-04T09:29:10.421Z"
   },
   {
    "duration": 1787,
    "start_time": "2022-02-04T09:29:09.144Z"
   },
   {
    "duration": 1787,
    "start_time": "2022-02-04T09:29:09.145Z"
   },
   {
    "duration": 1787,
    "start_time": "2022-02-04T09:29:09.147Z"
   },
   {
    "duration": 1787,
    "start_time": "2022-02-04T09:29:09.148Z"
   },
   {
    "duration": 1788,
    "start_time": "2022-02-04T09:29:09.149Z"
   },
   {
    "duration": 1789,
    "start_time": "2022-02-04T09:29:09.149Z"
   },
   {
    "duration": 1789,
    "start_time": "2022-02-04T09:29:09.150Z"
   },
   {
    "duration": 1790,
    "start_time": "2022-02-04T09:29:09.150Z"
   },
   {
    "duration": 1790,
    "start_time": "2022-02-04T09:29:09.151Z"
   },
   {
    "duration": 1790,
    "start_time": "2022-02-04T09:29:09.152Z"
   },
   {
    "duration": 1790,
    "start_time": "2022-02-04T09:29:09.153Z"
   },
   {
    "duration": 262,
    "start_time": "2022-02-04T09:34:35.271Z"
   },
   {
    "duration": 39,
    "start_time": "2022-02-04T09:34:55.885Z"
   },
   {
    "duration": 97,
    "start_time": "2022-02-04T09:36:08.739Z"
   },
   {
    "duration": 50,
    "start_time": "2022-02-04T09:36:49.400Z"
   },
   {
    "duration": 11,
    "start_time": "2022-02-04T09:37:53.700Z"
   },
   {
    "duration": 55,
    "start_time": "2022-02-04T09:37:54.344Z"
   },
   {
    "duration": 57,
    "start_time": "2022-02-04T09:37:54.991Z"
   },
   {
    "duration": 43,
    "start_time": "2022-02-04T09:43:28.555Z"
   },
   {
    "duration": 9,
    "start_time": "2022-02-04T09:43:52.087Z"
   },
   {
    "duration": 31,
    "start_time": "2022-02-04T09:43:52.727Z"
   },
   {
    "duration": 32,
    "start_time": "2022-02-04T09:43:53.617Z"
   },
   {
    "duration": 12,
    "start_time": "2022-02-04T09:43:54.528Z"
   },
   {
    "duration": 12,
    "start_time": "2022-02-04T09:43:55.163Z"
   },
   {
    "duration": 12,
    "start_time": "2022-02-04T09:43:56.311Z"
   },
   {
    "duration": 17,
    "start_time": "2022-02-04T09:52:40.333Z"
   },
   {
    "duration": 16,
    "start_time": "2022-02-04T09:52:50.204Z"
   },
   {
    "duration": 17,
    "start_time": "2022-02-04T09:55:07.591Z"
   },
   {
    "duration": 16,
    "start_time": "2022-02-04T09:55:26.323Z"
   },
   {
    "duration": 16,
    "start_time": "2022-02-04T09:55:39.510Z"
   },
   {
    "duration": 293,
    "start_time": "2022-02-04T09:57:34.684Z"
   },
   {
    "duration": 14,
    "start_time": "2022-02-04T09:58:17.308Z"
   },
   {
    "duration": 274,
    "start_time": "2022-02-04T09:59:30.967Z"
   },
   {
    "duration": 312,
    "start_time": "2022-02-04T10:00:10.463Z"
   },
   {
    "duration": 373,
    "start_time": "2022-02-04T15:58:55.443Z"
   },
   {
    "duration": 1539,
    "start_time": "2022-02-04T16:00:49.437Z"
   },
   {
    "duration": 426,
    "start_time": "2022-02-04T16:00:50.978Z"
   },
   {
    "duration": 13,
    "start_time": "2022-02-04T16:00:51.407Z"
   },
   {
    "duration": 100,
    "start_time": "2022-02-04T16:00:51.422Z"
   },
   {
    "duration": 85,
    "start_time": "2022-02-04T16:00:51.524Z"
   },
   {
    "duration": 49,
    "start_time": "2022-02-04T16:00:51.612Z"
   },
   {
    "duration": 10,
    "start_time": "2022-02-04T16:00:51.663Z"
   },
   {
    "duration": 83,
    "start_time": "2022-02-04T16:00:51.675Z"
   },
   {
    "duration": 62,
    "start_time": "2022-02-04T16:00:51.761Z"
   },
   {
    "duration": 42,
    "start_time": "2022-02-04T16:00:51.825Z"
   },
   {
    "duration": 23,
    "start_time": "2022-02-04T16:00:51.868Z"
   },
   {
    "duration": 9,
    "start_time": "2022-02-04T16:00:51.908Z"
   },
   {
    "duration": 39,
    "start_time": "2022-02-04T16:00:51.919Z"
   },
   {
    "duration": 56,
    "start_time": "2022-02-04T16:00:51.959Z"
   },
   {
    "duration": 33,
    "start_time": "2022-02-04T16:00:52.017Z"
   },
   {
    "duration": 9,
    "start_time": "2022-02-04T16:00:52.052Z"
   },
   {
    "duration": 45,
    "start_time": "2022-02-04T16:00:52.063Z"
   },
   {
    "duration": 11,
    "start_time": "2022-02-04T16:00:52.109Z"
   },
   {
    "duration": 11,
    "start_time": "2022-02-04T16:00:52.122Z"
   },
   {
    "duration": 4654,
    "start_time": "2022-02-04T16:00:52.135Z"
   },
   {
    "duration": 2041,
    "start_time": "2022-02-04T16:00:54.750Z"
   },
   {
    "duration": 42,
    "start_time": "2022-02-04T16:05:39.820Z"
   },
   {
    "duration": 40,
    "start_time": "2022-02-04T16:05:52.533Z"
   },
   {
    "duration": 40,
    "start_time": "2022-02-04T16:06:03.587Z"
   },
   {
    "duration": 15,
    "start_time": "2022-02-04T16:07:35.734Z"
   },
   {
    "duration": 10,
    "start_time": "2022-02-04T16:07:36.966Z"
   },
   {
    "duration": 38,
    "start_time": "2022-02-04T16:07:38.315Z"
   },
   {
    "duration": 36,
    "start_time": "2022-02-04T16:07:39.216Z"
   },
   {
    "duration": 33,
    "start_time": "2022-02-04T16:07:44.925Z"
   },
   {
    "duration": 11,
    "start_time": "2022-02-04T16:07:48.128Z"
   },
   {
    "duration": 11,
    "start_time": "2022-02-04T16:07:52.224Z"
   },
   {
    "duration": 10,
    "start_time": "2022-02-04T16:07:54.480Z"
   },
   {
    "duration": 10,
    "start_time": "2022-02-04T16:07:55.397Z"
   },
   {
    "duration": 4484,
    "start_time": "2022-02-04T16:08:03.808Z"
   },
   {
    "duration": 4392,
    "start_time": "2022-02-04T16:08:41.165Z"
   },
   {
    "duration": 1926,
    "start_time": "2022-02-04T16:08:43.633Z"
   },
   {
    "duration": 658,
    "start_time": "2022-02-04T16:12:47.168Z"
   },
   {
    "duration": 1655,
    "start_time": "2022-02-04T16:12:58.633Z"
   },
   {
    "duration": 330,
    "start_time": "2022-02-04T16:13:00.290Z"
   },
   {
    "duration": 12,
    "start_time": "2022-02-04T16:13:00.622Z"
   },
   {
    "duration": 96,
    "start_time": "2022-02-04T16:13:00.636Z"
   },
   {
    "duration": 81,
    "start_time": "2022-02-04T16:13:00.734Z"
   },
   {
    "duration": 51,
    "start_time": "2022-02-04T16:13:00.817Z"
   },
   {
    "duration": 9,
    "start_time": "2022-02-04T16:13:00.870Z"
   },
   {
    "duration": 79,
    "start_time": "2022-02-04T16:13:00.882Z"
   },
   {
    "duration": 81,
    "start_time": "2022-02-04T16:13:00.963Z"
   },
   {
    "duration": 44,
    "start_time": "2022-02-04T16:13:01.046Z"
   },
   {
    "duration": 26,
    "start_time": "2022-02-04T16:13:01.107Z"
   },
   {
    "duration": 18,
    "start_time": "2022-02-04T16:13:01.135Z"
   },
   {
    "duration": 53,
    "start_time": "2022-02-04T16:13:01.156Z"
   },
   {
    "duration": 33,
    "start_time": "2022-02-04T16:13:01.211Z"
   },
   {
    "duration": 36,
    "start_time": "2022-02-04T16:13:01.246Z"
   },
   {
    "duration": 311,
    "start_time": "2022-02-04T16:13:17.549Z"
   },
   {
    "duration": 269,
    "start_time": "2022-02-04T16:13:18.784Z"
   },
   {
    "duration": 279,
    "start_time": "2022-02-04T16:13:32.293Z"
   },
   {
    "duration": 1729,
    "start_time": "2022-02-04T16:13:47.379Z"
   },
   {
    "duration": 348,
    "start_time": "2022-02-04T16:13:49.110Z"
   },
   {
    "duration": 13,
    "start_time": "2022-02-04T16:13:49.461Z"
   },
   {
    "duration": 87,
    "start_time": "2022-02-04T16:13:49.476Z"
   },
   {
    "duration": 77,
    "start_time": "2022-02-04T16:13:49.565Z"
   },
   {
    "duration": 51,
    "start_time": "2022-02-04T16:13:49.643Z"
   },
   {
    "duration": 18,
    "start_time": "2022-02-04T16:13:49.696Z"
   },
   {
    "duration": 54,
    "start_time": "2022-02-04T16:13:49.717Z"
   },
   {
    "duration": 73,
    "start_time": "2022-02-04T16:13:49.773Z"
   },
   {
    "duration": 42,
    "start_time": "2022-02-04T16:13:49.848Z"
   },
   {
    "duration": 36,
    "start_time": "2022-02-04T16:13:49.892Z"
   },
   {
    "duration": 8,
    "start_time": "2022-02-04T16:13:49.930Z"
   },
   {
    "duration": 32,
    "start_time": "2022-02-04T16:13:49.940Z"
   },
   {
    "duration": 55,
    "start_time": "2022-02-04T16:13:49.973Z"
   },
   {
    "duration": 34,
    "start_time": "2022-02-04T16:13:50.030Z"
   },
   {
    "duration": 1600,
    "start_time": "2022-02-04T16:14:10.213Z"
   },
   {
    "duration": 334,
    "start_time": "2022-02-04T16:14:11.815Z"
   },
   {
    "duration": 14,
    "start_time": "2022-02-04T16:14:12.151Z"
   },
   {
    "duration": 73,
    "start_time": "2022-02-04T16:14:12.167Z"
   },
   {
    "duration": 73,
    "start_time": "2022-02-04T16:14:12.242Z"
   },
   {
    "duration": 51,
    "start_time": "2022-02-04T16:14:12.317Z"
   },
   {
    "duration": 8,
    "start_time": "2022-02-04T16:14:12.370Z"
   },
   {
    "duration": 78,
    "start_time": "2022-02-04T16:14:12.381Z"
   },
   {
    "duration": 68,
    "start_time": "2022-02-04T16:14:12.461Z"
   },
   {
    "duration": 43,
    "start_time": "2022-02-04T16:14:12.531Z"
   },
   {
    "duration": 35,
    "start_time": "2022-02-04T16:14:12.576Z"
   },
   {
    "duration": 8,
    "start_time": "2022-02-04T16:14:12.613Z"
   },
   {
    "duration": 42,
    "start_time": "2022-02-04T16:14:12.623Z"
   },
   {
    "duration": 48,
    "start_time": "2022-02-04T16:14:12.667Z"
   },
   {
    "duration": 33,
    "start_time": "2022-02-04T16:14:12.717Z"
   },
   {
    "duration": 297,
    "start_time": "2022-02-04T16:18:11.948Z"
   },
   {
    "duration": 397,
    "start_time": "2022-02-04T16:20:11.770Z"
   },
   {
    "duration": 246,
    "start_time": "2022-02-04T16:20:34.097Z"
   },
   {
    "duration": 2215,
    "start_time": "2022-02-04T16:20:39.962Z"
   },
   {
    "duration": 321,
    "start_time": "2022-02-04T16:20:42.180Z"
   },
   {
    "duration": 15,
    "start_time": "2022-02-04T16:20:42.504Z"
   },
   {
    "duration": 94,
    "start_time": "2022-02-04T16:20:42.522Z"
   },
   {
    "duration": 70,
    "start_time": "2022-02-04T16:20:42.618Z"
   },
   {
    "duration": 65,
    "start_time": "2022-02-04T16:20:42.690Z"
   },
   {
    "duration": 11,
    "start_time": "2022-02-04T16:20:42.758Z"
   },
   {
    "duration": 85,
    "start_time": "2022-02-04T16:20:42.771Z"
   },
   {
    "duration": 64,
    "start_time": "2022-02-04T16:20:42.860Z"
   },
   {
    "duration": 43,
    "start_time": "2022-02-04T16:20:42.927Z"
   },
   {
    "duration": 38,
    "start_time": "2022-02-04T16:20:42.972Z"
   },
   {
    "duration": 8,
    "start_time": "2022-02-04T16:20:43.012Z"
   },
   {
    "duration": 31,
    "start_time": "2022-02-04T16:20:43.022Z"
   },
   {
    "duration": 29,
    "start_time": "2022-02-04T16:20:43.054Z"
   },
   {
    "duration": 33,
    "start_time": "2022-02-04T16:20:43.108Z"
   },
   {
    "duration": 308,
    "start_time": "2022-02-04T16:25:02.581Z"
   },
   {
    "duration": 252,
    "start_time": "2022-02-04T16:31:42.451Z"
   },
   {
    "duration": 1633,
    "start_time": "2022-02-04T16:31:54.436Z"
   },
   {
    "duration": 318,
    "start_time": "2022-02-04T16:31:56.071Z"
   },
   {
    "duration": 14,
    "start_time": "2022-02-04T16:31:56.391Z"
   },
   {
    "duration": 81,
    "start_time": "2022-02-04T16:31:56.892Z"
   },
   {
    "duration": 69,
    "start_time": "2022-02-04T16:31:57.644Z"
   },
   {
    "duration": 52,
    "start_time": "2022-02-04T16:31:58.321Z"
   },
   {
    "duration": 10,
    "start_time": "2022-02-04T16:31:59.040Z"
   },
   {
    "duration": 54,
    "start_time": "2022-02-04T16:31:59.655Z"
   },
   {
    "duration": 56,
    "start_time": "2022-02-04T16:32:00.269Z"
   },
   {
    "duration": 45,
    "start_time": "2022-02-04T16:32:00.997Z"
   },
   {
    "duration": 22,
    "start_time": "2022-02-04T16:32:02.389Z"
   },
   {
    "duration": 10,
    "start_time": "2022-02-04T16:32:03.241Z"
   },
   {
    "duration": 29,
    "start_time": "2022-02-04T16:32:03.961Z"
   },
   {
    "duration": 32,
    "start_time": "2022-02-04T16:32:04.877Z"
   },
   {
    "duration": 33,
    "start_time": "2022-02-04T16:32:05.696Z"
   },
   {
    "duration": 380,
    "start_time": "2022-02-04T16:32:07.242Z"
   },
   {
    "duration": 285,
    "start_time": "2022-02-04T16:32:56.918Z"
   },
   {
    "duration": 1362,
    "start_time": "2022-02-05T08:27:48.779Z"
   },
   {
    "duration": 279,
    "start_time": "2022-02-05T08:27:50.143Z"
   },
   {
    "duration": 14,
    "start_time": "2022-02-05T08:27:50.424Z"
   },
   {
    "duration": 90,
    "start_time": "2022-02-05T08:27:50.440Z"
   },
   {
    "duration": 64,
    "start_time": "2022-02-05T08:27:50.532Z"
   },
   {
    "duration": 54,
    "start_time": "2022-02-05T08:27:50.598Z"
   },
   {
    "duration": 8,
    "start_time": "2022-02-05T08:27:50.654Z"
   },
   {
    "duration": 76,
    "start_time": "2022-02-05T08:27:50.663Z"
   },
   {
    "duration": 51,
    "start_time": "2022-02-05T08:27:50.741Z"
   },
   {
    "duration": 49,
    "start_time": "2022-02-05T08:27:50.793Z"
   },
   {
    "duration": 16,
    "start_time": "2022-02-05T08:27:50.843Z"
   },
   {
    "duration": 6,
    "start_time": "2022-02-05T08:27:50.861Z"
   },
   {
    "duration": 54,
    "start_time": "2022-02-05T08:27:50.869Z"
   },
   {
    "duration": 25,
    "start_time": "2022-02-05T08:27:50.925Z"
   },
   {
    "duration": 29,
    "start_time": "2022-02-05T08:27:50.952Z"
   },
   {
    "duration": 309,
    "start_time": "2022-02-05T08:27:50.982Z"
   },
   {
    "duration": 2801,
    "start_time": "2022-02-05T08:27:48.491Z"
   },
   {
    "duration": 2800,
    "start_time": "2022-02-05T08:27:48.493Z"
   },
   {
    "duration": 2800,
    "start_time": "2022-02-05T08:27:48.494Z"
   },
   {
    "duration": 2799,
    "start_time": "2022-02-05T08:27:48.496Z"
   },
   {
    "duration": 2799,
    "start_time": "2022-02-05T08:27:48.497Z"
   },
   {
    "duration": 188,
    "start_time": "2022-02-05T08:28:33.235Z"
   },
   {
    "duration": 4073,
    "start_time": "2022-02-05T08:33:10.640Z"
   },
   {
    "duration": 247,
    "start_time": "2022-02-05T08:34:26.766Z"
   },
   {
    "duration": 1402,
    "start_time": "2022-02-05T08:34:43.947Z"
   },
   {
    "duration": 273,
    "start_time": "2022-02-05T08:34:45.350Z"
   },
   {
    "duration": 11,
    "start_time": "2022-02-05T08:34:45.625Z"
   },
   {
    "duration": 85,
    "start_time": "2022-02-05T08:34:45.638Z"
   },
   {
    "duration": 63,
    "start_time": "2022-02-05T08:34:45.724Z"
   },
   {
    "duration": 55,
    "start_time": "2022-02-05T08:34:45.789Z"
   },
   {
    "duration": 8,
    "start_time": "2022-02-05T08:34:45.846Z"
   },
   {
    "duration": 68,
    "start_time": "2022-02-05T08:34:45.856Z"
   },
   {
    "duration": 48,
    "start_time": "2022-02-05T08:34:45.925Z"
   },
   {
    "duration": 56,
    "start_time": "2022-02-05T08:34:45.974Z"
   },
   {
    "duration": 17,
    "start_time": "2022-02-05T08:34:46.032Z"
   },
   {
    "duration": 7,
    "start_time": "2022-02-05T08:34:46.050Z"
   },
   {
    "duration": 27,
    "start_time": "2022-02-05T08:34:46.059Z"
   },
   {
    "duration": 47,
    "start_time": "2022-02-05T08:34:46.088Z"
   },
   {
    "duration": 30,
    "start_time": "2022-02-05T08:34:46.137Z"
   },
   {
    "duration": 242,
    "start_time": "2022-02-05T08:35:24.786Z"
   },
   {
    "duration": 197,
    "start_time": "2022-02-05T08:35:25.606Z"
   },
   {
    "duration": 1436,
    "start_time": "2022-02-05T08:35:32.715Z"
   },
   {
    "duration": 283,
    "start_time": "2022-02-05T08:35:34.153Z"
   },
   {
    "duration": 12,
    "start_time": "2022-02-05T08:35:34.438Z"
   },
   {
    "duration": 76,
    "start_time": "2022-02-05T08:35:34.451Z"
   },
   {
    "duration": 63,
    "start_time": "2022-02-05T08:35:34.529Z"
   },
   {
    "duration": 60,
    "start_time": "2022-02-05T08:35:34.593Z"
   },
   {
    "duration": 9,
    "start_time": "2022-02-05T08:35:34.655Z"
   },
   {
    "duration": 65,
    "start_time": "2022-02-05T08:35:34.666Z"
   },
   {
    "duration": 49,
    "start_time": "2022-02-05T08:35:34.733Z"
   },
   {
    "duration": 55,
    "start_time": "2022-02-05T08:35:34.784Z"
   },
   {
    "duration": 17,
    "start_time": "2022-02-05T08:35:34.840Z"
   },
   {
    "duration": 7,
    "start_time": "2022-02-05T08:35:34.858Z"
   },
   {
    "duration": 50,
    "start_time": "2022-02-05T08:35:34.866Z"
   },
   {
    "duration": 27,
    "start_time": "2022-02-05T08:35:34.918Z"
   },
   {
    "duration": 29,
    "start_time": "2022-02-05T08:35:34.947Z"
   },
   {
    "duration": 1351,
    "start_time": "2022-02-05T08:38:35.053Z"
   },
   {
    "duration": 277,
    "start_time": "2022-02-05T08:38:36.406Z"
   },
   {
    "duration": 12,
    "start_time": "2022-02-05T08:38:36.685Z"
   },
   {
    "duration": 77,
    "start_time": "2022-02-05T08:38:36.699Z"
   },
   {
    "duration": 81,
    "start_time": "2022-02-05T08:38:36.778Z"
   },
   {
    "duration": 55,
    "start_time": "2022-02-05T08:38:36.861Z"
   },
   {
    "duration": 8,
    "start_time": "2022-02-05T08:38:36.917Z"
   },
   {
    "duration": 51,
    "start_time": "2022-02-05T08:38:36.928Z"
   },
   {
    "duration": 68,
    "start_time": "2022-02-05T08:38:36.981Z"
   },
   {
    "duration": 38,
    "start_time": "2022-02-05T08:38:37.051Z"
   },
   {
    "duration": 29,
    "start_time": "2022-02-05T08:38:37.091Z"
   },
   {
    "duration": 7,
    "start_time": "2022-02-05T08:38:37.122Z"
   },
   {
    "duration": 28,
    "start_time": "2022-02-05T08:38:37.131Z"
   },
   {
    "duration": 51,
    "start_time": "2022-02-05T08:38:37.161Z"
   },
   {
    "duration": 30,
    "start_time": "2022-02-05T08:38:37.214Z"
   },
   {
    "duration": 218,
    "start_time": "2022-02-05T08:38:54.534Z"
   },
   {
    "duration": 183,
    "start_time": "2022-02-05T08:38:56.246Z"
   },
   {
    "duration": 1444,
    "start_time": "2022-02-05T08:39:03.004Z"
   },
   {
    "duration": 277,
    "start_time": "2022-02-05T08:39:04.449Z"
   },
   {
    "duration": 12,
    "start_time": "2022-02-05T08:39:07.825Z"
   },
   {
    "duration": 75,
    "start_time": "2022-02-05T08:39:08.636Z"
   },
   {
    "duration": 63,
    "start_time": "2022-02-05T08:39:09.247Z"
   },
   {
    "duration": 47,
    "start_time": "2022-02-05T08:39:09.869Z"
   },
   {
    "duration": 8,
    "start_time": "2022-02-05T08:39:10.585Z"
   },
   {
    "duration": 48,
    "start_time": "2022-02-05T08:39:12.020Z"
   },
   {
    "duration": 46,
    "start_time": "2022-02-05T08:39:12.704Z"
   },
   {
    "duration": 40,
    "start_time": "2022-02-05T08:39:13.544Z"
   },
   {
    "duration": 18,
    "start_time": "2022-02-05T08:39:14.380Z"
   },
   {
    "duration": 7,
    "start_time": "2022-02-05T08:39:15.180Z"
   },
   {
    "duration": 28,
    "start_time": "2022-02-05T08:39:15.798Z"
   },
   {
    "duration": 29,
    "start_time": "2022-02-05T08:39:16.722Z"
   },
   {
    "duration": 30,
    "start_time": "2022-02-05T08:39:17.947Z"
   },
   {
    "duration": 1348,
    "start_time": "2022-02-05T08:39:55.074Z"
   },
   {
    "duration": 273,
    "start_time": "2022-02-05T08:39:56.424Z"
   },
   {
    "duration": 12,
    "start_time": "2022-02-05T08:39:56.699Z"
   },
   {
    "duration": 75,
    "start_time": "2022-02-05T08:39:56.713Z"
   },
   {
    "duration": 80,
    "start_time": "2022-02-05T08:39:56.790Z"
   },
   {
    "duration": 55,
    "start_time": "2022-02-05T08:39:56.872Z"
   },
   {
    "duration": 7,
    "start_time": "2022-02-05T08:39:56.929Z"
   },
   {
    "duration": 48,
    "start_time": "2022-02-05T08:39:56.939Z"
   },
   {
    "duration": 66,
    "start_time": "2022-02-05T08:39:56.989Z"
   },
   {
    "duration": 38,
    "start_time": "2022-02-05T08:39:57.057Z"
   },
   {
    "duration": 30,
    "start_time": "2022-02-05T08:39:57.096Z"
   },
   {
    "duration": 7,
    "start_time": "2022-02-05T08:39:57.127Z"
   },
   {
    "duration": 28,
    "start_time": "2022-02-05T08:39:57.136Z"
   },
   {
    "duration": 53,
    "start_time": "2022-02-05T08:39:57.166Z"
   },
   {
    "duration": 28,
    "start_time": "2022-02-05T08:39:57.221Z"
   },
   {
    "duration": 1348,
    "start_time": "2022-02-05T08:40:19.000Z"
   },
   {
    "duration": 278,
    "start_time": "2022-02-05T08:40:20.350Z"
   },
   {
    "duration": 12,
    "start_time": "2022-02-05T08:40:20.630Z"
   },
   {
    "duration": 80,
    "start_time": "2022-02-05T08:40:20.643Z"
   },
   {
    "duration": 72,
    "start_time": "2022-02-05T08:40:20.725Z"
   },
   {
    "duration": 56,
    "start_time": "2022-02-05T08:40:20.799Z"
   },
   {
    "duration": 8,
    "start_time": "2022-02-05T08:40:20.856Z"
   },
   {
    "duration": 71,
    "start_time": "2022-02-05T08:40:20.867Z"
   },
   {
    "duration": 47,
    "start_time": "2022-02-05T08:40:20.940Z"
   },
   {
    "duration": 52,
    "start_time": "2022-02-05T08:40:20.989Z"
   },
   {
    "duration": 16,
    "start_time": "2022-02-05T08:40:21.043Z"
   },
   {
    "duration": 7,
    "start_time": "2022-02-05T08:40:21.060Z"
   },
   {
    "duration": 50,
    "start_time": "2022-02-05T08:40:21.068Z"
   },
   {
    "duration": 26,
    "start_time": "2022-02-05T08:40:21.119Z"
   },
   {
    "duration": 31,
    "start_time": "2022-02-05T08:40:21.147Z"
   },
   {
    "duration": 2,
    "start_time": "2022-02-05T08:40:21.179Z"
   },
   {
    "duration": 5,
    "start_time": "2022-02-05T08:40:21.183Z"
   },
   {
    "duration": 4,
    "start_time": "2022-02-05T08:40:21.189Z"
   },
   {
    "duration": 5,
    "start_time": "2022-02-05T08:40:21.213Z"
   },
   {
    "duration": 6,
    "start_time": "2022-02-05T08:40:21.219Z"
   },
   {
    "duration": 1391,
    "start_time": "2022-02-05T08:41:26.590Z"
   },
   {
    "duration": 277,
    "start_time": "2022-02-05T08:41:27.983Z"
   },
   {
    "duration": 12,
    "start_time": "2022-02-05T08:41:28.262Z"
   },
   {
    "duration": 74,
    "start_time": "2022-02-05T08:41:28.276Z"
   },
   {
    "duration": 69,
    "start_time": "2022-02-05T08:41:28.352Z"
   },
   {
    "duration": 47,
    "start_time": "2022-02-05T08:41:28.424Z"
   },
   {
    "duration": 8,
    "start_time": "2022-02-05T08:41:28.473Z"
   },
   {
    "duration": 45,
    "start_time": "2022-02-05T08:41:28.512Z"
   },
   {
    "duration": 58,
    "start_time": "2022-02-05T08:41:28.559Z"
   },
   {
    "duration": 41,
    "start_time": "2022-02-05T08:41:28.619Z"
   },
   {
    "duration": 18,
    "start_time": "2022-02-05T08:41:28.661Z"
   },
   {
    "duration": 7,
    "start_time": "2022-02-05T08:41:28.681Z"
   },
   {
    "duration": 26,
    "start_time": "2022-02-05T08:41:28.713Z"
   },
   {
    "duration": 27,
    "start_time": "2022-02-05T08:41:28.741Z"
   },
   {
    "duration": 51,
    "start_time": "2022-02-05T08:41:28.769Z"
   },
   {
    "duration": 2,
    "start_time": "2022-02-05T08:41:28.822Z"
   },
   {
    "duration": 10,
    "start_time": "2022-02-05T08:41:28.825Z"
   },
   {
    "duration": 5,
    "start_time": "2022-02-05T08:41:28.836Z"
   },
   {
    "duration": 5,
    "start_time": "2022-02-05T08:41:28.843Z"
   },
   {
    "duration": 3,
    "start_time": "2022-02-05T08:41:28.850Z"
   },
   {
    "duration": 4032,
    "start_time": "2022-02-05T08:41:28.855Z"
   },
   {
    "duration": 240,
    "start_time": "2022-02-05T08:42:04.934Z"
   },
   {
    "duration": 2,
    "start_time": "2022-02-05T08:42:10.369Z"
   },
   {
    "duration": 197,
    "start_time": "2022-02-05T08:42:11.376Z"
   },
   {
    "duration": 1351,
    "start_time": "2022-02-05T08:42:33.865Z"
   },
   {
    "duration": 278,
    "start_time": "2022-02-05T08:42:35.217Z"
   },
   {
    "duration": 12,
    "start_time": "2022-02-05T08:42:35.497Z"
   },
   {
    "duration": 70,
    "start_time": "2022-02-05T08:42:35.511Z"
   },
   {
    "duration": 75,
    "start_time": "2022-02-05T08:42:35.582Z"
   },
   {
    "duration": 55,
    "start_time": "2022-02-05T08:42:35.659Z"
   },
   {
    "duration": 9,
    "start_time": "2022-02-05T08:42:35.715Z"
   },
   {
    "duration": 57,
    "start_time": "2022-02-05T08:42:35.725Z"
   },
   {
    "duration": 60,
    "start_time": "2022-02-05T08:42:35.784Z"
   },
   {
    "duration": 41,
    "start_time": "2022-02-05T08:42:35.846Z"
   },
   {
    "duration": 32,
    "start_time": "2022-02-05T08:42:35.889Z"
   },
   {
    "duration": 7,
    "start_time": "2022-02-05T08:42:35.923Z"
   },
   {
    "duration": 29,
    "start_time": "2022-02-05T08:42:35.931Z"
   },
   {
    "duration": 26,
    "start_time": "2022-02-05T08:42:35.961Z"
   },
   {
    "duration": 29,
    "start_time": "2022-02-05T08:42:36.013Z"
   },
   {
    "duration": 2,
    "start_time": "2022-02-05T08:42:36.043Z"
   },
   {
    "duration": 5,
    "start_time": "2022-02-05T08:42:36.047Z"
   },
   {
    "duration": 6,
    "start_time": "2022-02-05T08:42:36.053Z"
   },
   {
    "duration": 5,
    "start_time": "2022-02-05T08:42:36.060Z"
   },
   {
    "duration": 3,
    "start_time": "2022-02-05T08:42:36.067Z"
   },
   {
    "duration": 4009,
    "start_time": "2022-02-05T08:42:36.072Z"
   },
   {
    "duration": 17,
    "start_time": "2022-02-05T08:42:40.083Z"
   },
   {
    "duration": 246,
    "start_time": "2022-02-05T08:46:48.211Z"
   },
   {
    "duration": 198,
    "start_time": "2022-02-05T08:46:51.186Z"
   },
   {
    "duration": 1348,
    "start_time": "2022-02-05T08:47:13.406Z"
   },
   {
    "duration": 311,
    "start_time": "2022-02-05T08:47:14.756Z"
   },
   {
    "duration": 12,
    "start_time": "2022-02-05T08:47:15.069Z"
   },
   {
    "duration": 83,
    "start_time": "2022-02-05T08:47:15.082Z"
   },
   {
    "duration": 76,
    "start_time": "2022-02-05T08:47:15.167Z"
   },
   {
    "duration": 47,
    "start_time": "2022-02-05T08:47:15.245Z"
   },
   {
    "duration": 20,
    "start_time": "2022-02-05T08:47:15.293Z"
   },
   {
    "duration": 53,
    "start_time": "2022-02-05T08:47:15.315Z"
   },
   {
    "duration": 63,
    "start_time": "2022-02-05T08:47:15.370Z"
   },
   {
    "duration": 39,
    "start_time": "2022-02-05T08:47:15.435Z"
   },
   {
    "duration": 16,
    "start_time": "2022-02-05T08:47:15.475Z"
   },
   {
    "duration": 26,
    "start_time": "2022-02-05T08:47:15.493Z"
   },
   {
    "duration": 29,
    "start_time": "2022-02-05T08:47:15.520Z"
   },
   {
    "duration": 26,
    "start_time": "2022-02-05T08:47:15.551Z"
   },
   {
    "duration": 55,
    "start_time": "2022-02-05T08:47:15.579Z"
   },
   {
    "duration": 3,
    "start_time": "2022-02-05T08:47:15.635Z"
   },
   {
    "duration": 9,
    "start_time": "2022-02-05T08:47:15.639Z"
   },
   {
    "duration": 4,
    "start_time": "2022-02-05T08:47:15.649Z"
   },
   {
    "duration": 6,
    "start_time": "2022-02-05T08:47:15.655Z"
   },
   {
    "duration": 6,
    "start_time": "2022-02-05T08:47:15.662Z"
   },
   {
    "duration": 4063,
    "start_time": "2022-02-05T08:47:15.669Z"
   },
   {
    "duration": 17,
    "start_time": "2022-02-05T08:47:19.734Z"
   },
   {
    "duration": 269,
    "start_time": "2022-02-05T08:47:43.402Z"
   },
   {
    "duration": 193,
    "start_time": "2022-02-05T08:47:48.930Z"
   },
   {
    "duration": 181,
    "start_time": "2022-02-05T08:47:54.698Z"
   },
   {
    "duration": 1355,
    "start_time": "2022-02-05T08:48:06.977Z"
   },
   {
    "duration": 292,
    "start_time": "2022-02-05T08:48:08.334Z"
   },
   {
    "duration": 13,
    "start_time": "2022-02-05T08:48:08.628Z"
   },
   {
    "duration": 83,
    "start_time": "2022-02-05T08:48:08.643Z"
   },
   {
    "duration": 70,
    "start_time": "2022-02-05T08:48:08.727Z"
   },
   {
    "duration": 57,
    "start_time": "2022-02-05T08:48:08.798Z"
   },
   {
    "duration": 8,
    "start_time": "2022-02-05T08:48:08.857Z"
   },
   {
    "duration": 75,
    "start_time": "2022-02-05T08:48:08.867Z"
   },
   {
    "duration": 45,
    "start_time": "2022-02-05T08:48:08.945Z"
   },
   {
    "duration": 51,
    "start_time": "2022-02-05T08:48:08.992Z"
   },
   {
    "duration": 16,
    "start_time": "2022-02-05T08:48:09.044Z"
   },
   {
    "duration": 7,
    "start_time": "2022-02-05T08:48:09.061Z"
   },
   {
    "duration": 52,
    "start_time": "2022-02-05T08:48:09.070Z"
   },
   {
    "duration": 30,
    "start_time": "2022-02-05T08:48:09.124Z"
   },
   {
    "duration": 29,
    "start_time": "2022-02-05T08:48:09.155Z"
   },
   {
    "duration": 2,
    "start_time": "2022-02-05T08:48:09.186Z"
   },
   {
    "duration": 24,
    "start_time": "2022-02-05T08:48:09.189Z"
   },
   {
    "duration": 4,
    "start_time": "2022-02-05T08:48:09.216Z"
   },
   {
    "duration": 4,
    "start_time": "2022-02-05T08:48:09.222Z"
   },
   {
    "duration": 3,
    "start_time": "2022-02-05T08:48:09.229Z"
   },
   {
    "duration": 4065,
    "start_time": "2022-02-05T08:48:09.233Z"
   },
   {
    "duration": 21,
    "start_time": "2022-02-05T08:48:13.299Z"
   },
   {
    "duration": 1421,
    "start_time": "2022-02-05T08:49:04.320Z"
   },
   {
    "duration": 292,
    "start_time": "2022-02-05T08:49:05.742Z"
   },
   {
    "duration": 11,
    "start_time": "2022-02-05T08:49:06.035Z"
   },
   {
    "duration": 77,
    "start_time": "2022-02-05T08:49:06.048Z"
   },
   {
    "duration": 66,
    "start_time": "2022-02-05T08:49:06.126Z"
   },
   {
    "duration": 65,
    "start_time": "2022-02-05T08:49:06.194Z"
   },
   {
    "duration": 8,
    "start_time": "2022-02-05T08:49:06.261Z"
   },
   {
    "duration": 72,
    "start_time": "2022-02-05T08:49:06.272Z"
   },
   {
    "duration": 49,
    "start_time": "2022-02-05T08:49:06.347Z"
   },
   {
    "duration": 53,
    "start_time": "2022-02-05T08:49:06.398Z"
   },
   {
    "duration": 18,
    "start_time": "2022-02-05T08:49:06.453Z"
   },
   {
    "duration": 8,
    "start_time": "2022-02-05T08:49:06.473Z"
   },
   {
    "duration": 56,
    "start_time": "2022-02-05T08:49:06.483Z"
   },
   {
    "duration": 27,
    "start_time": "2022-02-05T08:49:06.541Z"
   },
   {
    "duration": 60,
    "start_time": "2022-02-05T08:49:06.569Z"
   },
   {
    "duration": 2,
    "start_time": "2022-02-05T08:49:06.630Z"
   },
   {
    "duration": 4,
    "start_time": "2022-02-05T08:49:06.634Z"
   },
   {
    "duration": 4,
    "start_time": "2022-02-05T08:49:06.640Z"
   },
   {
    "duration": 3,
    "start_time": "2022-02-05T08:49:06.646Z"
   },
   {
    "duration": 4,
    "start_time": "2022-02-05T08:49:06.651Z"
   },
   {
    "duration": 4043,
    "start_time": "2022-02-05T08:49:06.657Z"
   },
   {
    "duration": 23,
    "start_time": "2022-02-05T08:49:10.702Z"
   },
   {
    "duration": 64,
    "start_time": "2022-02-05T08:52:56.665Z"
   },
   {
    "duration": 219,
    "start_time": "2022-02-05T08:53:07.086Z"
   },
   {
    "duration": 1381,
    "start_time": "2022-02-05T09:04:45.680Z"
   },
   {
    "duration": 288,
    "start_time": "2022-02-05T09:04:47.063Z"
   },
   {
    "duration": 12,
    "start_time": "2022-02-05T09:04:47.353Z"
   },
   {
    "duration": 73,
    "start_time": "2022-02-05T09:04:47.367Z"
   },
   {
    "duration": 72,
    "start_time": "2022-02-05T09:04:47.442Z"
   },
   {
    "duration": 47,
    "start_time": "2022-02-05T09:04:47.516Z"
   },
   {
    "duration": 7,
    "start_time": "2022-02-05T09:04:47.564Z"
   },
   {
    "duration": 73,
    "start_time": "2022-02-05T09:04:47.573Z"
   },
   {
    "duration": 47,
    "start_time": "2022-02-05T09:04:47.648Z"
   },
   {
    "duration": 48,
    "start_time": "2022-02-05T09:04:47.697Z"
   },
   {
    "duration": 15,
    "start_time": "2022-02-05T09:04:47.747Z"
   },
   {
    "duration": 6,
    "start_time": "2022-02-05T09:04:47.763Z"
   },
   {
    "duration": 48,
    "start_time": "2022-02-05T09:04:47.770Z"
   },
   {
    "duration": 25,
    "start_time": "2022-02-05T09:04:47.819Z"
   },
   {
    "duration": 27,
    "start_time": "2022-02-05T09:04:47.845Z"
   },
   {
    "duration": 2,
    "start_time": "2022-02-05T09:04:47.874Z"
   },
   {
    "duration": 6,
    "start_time": "2022-02-05T09:04:47.877Z"
   },
   {
    "duration": 6,
    "start_time": "2022-02-05T09:04:47.884Z"
   },
   {
    "duration": 2,
    "start_time": "2022-02-05T09:04:47.912Z"
   },
   {
    "duration": 5,
    "start_time": "2022-02-05T09:04:47.915Z"
   },
   {
    "duration": 3997,
    "start_time": "2022-02-05T09:04:47.921Z"
   },
   {
    "duration": 16,
    "start_time": "2022-02-05T09:04:51.920Z"
   },
   {
    "duration": 238,
    "start_time": "2022-02-05T09:06:46.598Z"
   },
   {
    "duration": 1366,
    "start_time": "2022-02-05T09:06:53.480Z"
   },
   {
    "duration": 289,
    "start_time": "2022-02-05T09:06:54.848Z"
   },
   {
    "duration": 12,
    "start_time": "2022-02-05T09:06:55.139Z"
   },
   {
    "duration": 76,
    "start_time": "2022-02-05T09:06:55.153Z"
   },
   {
    "duration": 68,
    "start_time": "2022-02-05T09:06:55.231Z"
   },
   {
    "duration": 54,
    "start_time": "2022-02-05T09:06:55.301Z"
   },
   {
    "duration": 8,
    "start_time": "2022-02-05T09:06:55.356Z"
   },
   {
    "duration": 74,
    "start_time": "2022-02-05T09:06:55.366Z"
   },
   {
    "duration": 47,
    "start_time": "2022-02-05T09:06:55.442Z"
   },
   {
    "duration": 50,
    "start_time": "2022-02-05T09:06:55.490Z"
   },
   {
    "duration": 16,
    "start_time": "2022-02-05T09:06:55.542Z"
   },
   {
    "duration": 7,
    "start_time": "2022-02-05T09:06:55.560Z"
   },
   {
    "duration": 55,
    "start_time": "2022-02-05T09:06:55.568Z"
   },
   {
    "duration": 38,
    "start_time": "2022-02-05T09:06:55.625Z"
   },
   {
    "duration": 54,
    "start_time": "2022-02-05T09:06:55.665Z"
   },
   {
    "duration": 2,
    "start_time": "2022-02-05T09:06:55.720Z"
   },
   {
    "duration": 6,
    "start_time": "2022-02-05T09:06:55.724Z"
   },
   {
    "duration": 5,
    "start_time": "2022-02-05T09:06:55.731Z"
   },
   {
    "duration": 4,
    "start_time": "2022-02-05T09:06:55.738Z"
   },
   {
    "duration": 5,
    "start_time": "2022-02-05T09:06:55.743Z"
   },
   {
    "duration": 1165,
    "start_time": "2022-02-05T09:06:55.749Z"
   },
   {
    "duration": 18,
    "start_time": "2022-02-05T09:06:56.916Z"
   },
   {
    "duration": 253,
    "start_time": "2022-02-05T09:07:17.082Z"
   },
   {
    "duration": 1362,
    "start_time": "2022-02-05T09:08:23.589Z"
   },
   {
    "duration": 198,
    "start_time": "2022-02-05T09:08:24.953Z"
   },
   {
    "duration": 101,
    "start_time": "2022-02-05T09:08:25.154Z"
   },
   {
    "duration": 13,
    "start_time": "2022-02-05T09:08:25.257Z"
   },
   {
    "duration": 71,
    "start_time": "2022-02-05T09:08:25.272Z"
   },
   {
    "duration": 72,
    "start_time": "2022-02-05T09:08:25.344Z"
   },
   {
    "duration": 48,
    "start_time": "2022-02-05T09:08:25.418Z"
   },
   {
    "duration": 8,
    "start_time": "2022-02-05T09:08:25.468Z"
   },
   {
    "duration": 74,
    "start_time": "2022-02-05T09:08:25.478Z"
   },
   {
    "duration": 48,
    "start_time": "2022-02-05T09:08:25.553Z"
   },
   {
    "duration": 48,
    "start_time": "2022-02-05T09:08:25.602Z"
   },
   {
    "duration": 17,
    "start_time": "2022-02-05T09:08:25.652Z"
   },
   {
    "duration": 8,
    "start_time": "2022-02-05T09:08:25.671Z"
   },
   {
    "duration": 64,
    "start_time": "2022-02-05T09:08:25.681Z"
   },
   {
    "duration": 27,
    "start_time": "2022-02-05T09:08:25.746Z"
   },
   {
    "duration": 47,
    "start_time": "2022-02-05T09:08:25.774Z"
   },
   {
    "duration": 2,
    "start_time": "2022-02-05T09:08:25.822Z"
   },
   {
    "duration": 6,
    "start_time": "2022-02-05T09:08:25.826Z"
   },
   {
    "duration": 4,
    "start_time": "2022-02-05T09:08:25.833Z"
   },
   {
    "duration": 4,
    "start_time": "2022-02-05T09:08:25.839Z"
   },
   {
    "duration": 4,
    "start_time": "2022-02-05T09:08:25.845Z"
   },
   {
    "duration": 1170,
    "start_time": "2022-02-05T09:08:25.851Z"
   },
   {
    "duration": 18,
    "start_time": "2022-02-05T09:08:27.024Z"
   },
   {
    "duration": 232,
    "start_time": "2022-02-05T09:11:26.460Z"
   },
   {
    "duration": 196,
    "start_time": "2022-02-05T09:11:26.874Z"
   },
   {
    "duration": 3,
    "start_time": "2022-02-05T09:11:28.409Z"
   },
   {
    "duration": 1296,
    "start_time": "2022-02-05T09:13:51.559Z"
   },
   {
    "duration": 191,
    "start_time": "2022-02-05T09:13:52.856Z"
   },
   {
    "duration": 101,
    "start_time": "2022-02-05T09:13:53.049Z"
   },
   {
    "duration": 13,
    "start_time": "2022-02-05T09:13:53.507Z"
   },
   {
    "duration": 78,
    "start_time": "2022-02-05T09:13:54.323Z"
   },
   {
    "duration": 70,
    "start_time": "2022-02-05T09:13:55.859Z"
   },
   {
    "duration": 47,
    "start_time": "2022-02-05T09:13:56.689Z"
   },
   {
    "duration": 8,
    "start_time": "2022-02-05T09:13:57.500Z"
   },
   {
    "duration": 53,
    "start_time": "2022-02-05T09:13:58.224Z"
   },
   {
    "duration": 47,
    "start_time": "2022-02-05T09:13:58.832Z"
   },
   {
    "duration": 37,
    "start_time": "2022-02-05T09:13:59.548Z"
   },
   {
    "duration": 16,
    "start_time": "2022-02-05T09:14:00.468Z"
   },
   {
    "duration": 8,
    "start_time": "2022-02-05T09:14:01.370Z"
   },
   {
    "duration": 28,
    "start_time": "2022-02-05T09:14:05.177Z"
   },
   {
    "duration": 28,
    "start_time": "2022-02-05T09:14:06.317Z"
   },
   {
    "duration": 33,
    "start_time": "2022-02-05T09:14:07.430Z"
   },
   {
    "duration": 4539,
    "start_time": "2022-02-05T09:14:08.764Z"
   },
   {
    "duration": 2808,
    "start_time": "2022-02-05T09:14:10.497Z"
   },
   {
    "duration": 236,
    "start_time": "2022-02-05T09:15:04.825Z"
   },
   {
    "duration": 188,
    "start_time": "2022-02-05T09:15:14.708Z"
   },
   {
    "duration": 211,
    "start_time": "2022-02-05T09:15:37.766Z"
   },
   {
    "duration": 170,
    "start_time": "2022-02-05T09:15:41.547Z"
   },
   {
    "duration": 182,
    "start_time": "2022-02-05T09:15:53.932Z"
   },
   {
    "duration": 222,
    "start_time": "2022-02-05T09:16:01.309Z"
   },
   {
    "duration": 1446,
    "start_time": "2022-02-05T09:16:05.811Z"
   },
   {
    "duration": 193,
    "start_time": "2022-02-05T09:16:09.088Z"
   },
   {
    "duration": 99,
    "start_time": "2022-02-05T09:16:10.112Z"
   },
   {
    "duration": 11,
    "start_time": "2022-02-05T09:16:11.038Z"
   },
   {
    "duration": 81,
    "start_time": "2022-02-05T09:16:11.752Z"
   },
   {
    "duration": 71,
    "start_time": "2022-02-05T09:16:12.365Z"
   },
   {
    "duration": 48,
    "start_time": "2022-02-05T09:16:12.876Z"
   },
   {
    "duration": 9,
    "start_time": "2022-02-05T09:16:13.490Z"
   },
   {
    "duration": 54,
    "start_time": "2022-02-05T09:16:14.107Z"
   },
   {
    "duration": 48,
    "start_time": "2022-02-05T09:16:14.718Z"
   },
   {
    "duration": 38,
    "start_time": "2022-02-05T09:16:15.439Z"
   },
   {
    "duration": 17,
    "start_time": "2022-02-05T09:16:17.650Z"
   },
   {
    "duration": 8,
    "start_time": "2022-02-05T09:16:18.648Z"
   },
   {
    "duration": 29,
    "start_time": "2022-02-05T09:16:19.519Z"
   },
   {
    "duration": 28,
    "start_time": "2022-02-05T09:16:20.736Z"
   },
   {
    "duration": 30,
    "start_time": "2022-02-05T09:16:21.476Z"
   },
   {
    "duration": 223,
    "start_time": "2022-02-05T09:17:38.903Z"
   },
   {
    "duration": 2105,
    "start_time": "2022-02-05T09:17:47.002Z"
   },
   {
    "duration": 188,
    "start_time": "2022-02-05T09:17:49.109Z"
   },
   {
    "duration": 100,
    "start_time": "2022-02-05T09:17:49.299Z"
   },
   {
    "duration": 13,
    "start_time": "2022-02-05T09:17:49.400Z"
   },
   {
    "duration": 79,
    "start_time": "2022-02-05T09:17:49.414Z"
   },
   {
    "duration": 79,
    "start_time": "2022-02-05T09:17:49.496Z"
   },
   {
    "duration": 62,
    "start_time": "2022-02-05T09:17:49.576Z"
   },
   {
    "duration": 8,
    "start_time": "2022-02-05T09:17:49.639Z"
   },
   {
    "duration": 70,
    "start_time": "2022-02-05T09:17:49.650Z"
   },
   {
    "duration": 49,
    "start_time": "2022-02-05T09:17:49.722Z"
   },
   {
    "duration": 54,
    "start_time": "2022-02-05T09:17:49.772Z"
   },
   {
    "duration": 15,
    "start_time": "2022-02-05T09:17:49.827Z"
   },
   {
    "duration": 7,
    "start_time": "2022-02-05T09:17:49.844Z"
   },
   {
    "duration": 39,
    "start_time": "2022-02-05T09:17:49.852Z"
   },
   {
    "duration": 43,
    "start_time": "2022-02-05T09:17:49.893Z"
   },
   {
    "duration": 30,
    "start_time": "2022-02-05T09:17:49.937Z"
   },
   {
    "duration": 4065,
    "start_time": "2022-02-05T09:17:49.969Z"
   },
   {
    "duration": 1967,
    "start_time": "2022-02-05T09:18:29.190Z"
   },
   {
    "duration": 195,
    "start_time": "2022-02-05T09:18:31.159Z"
   },
   {
    "duration": 99,
    "start_time": "2022-02-05T09:18:31.356Z"
   },
   {
    "duration": 11,
    "start_time": "2022-02-05T09:18:31.457Z"
   },
   {
    "duration": 80,
    "start_time": "2022-02-05T09:18:31.470Z"
   },
   {
    "duration": 71,
    "start_time": "2022-02-05T09:18:31.551Z"
   },
   {
    "duration": 47,
    "start_time": "2022-02-05T09:18:31.624Z"
   },
   {
    "duration": 8,
    "start_time": "2022-02-05T09:18:31.673Z"
   },
   {
    "duration": 74,
    "start_time": "2022-02-05T09:18:31.684Z"
   },
   {
    "duration": 55,
    "start_time": "2022-02-05T09:18:31.760Z"
   },
   {
    "duration": 39,
    "start_time": "2022-02-05T09:18:31.817Z"
   },
   {
    "duration": 11,
    "start_time": "2022-02-05T09:18:31.857Z"
   },
   {
    "duration": 8,
    "start_time": "2022-02-05T09:18:31.869Z"
   },
   {
    "duration": 42,
    "start_time": "2022-02-05T09:18:31.878Z"
   },
   {
    "duration": 28,
    "start_time": "2022-02-05T09:18:31.921Z"
   },
   {
    "duration": 26,
    "start_time": "2022-02-05T09:18:31.951Z"
   },
   {
    "duration": 50,
    "start_time": "2022-02-05T09:18:31.979Z"
   },
   {
    "duration": 4032,
    "start_time": "2022-02-05T09:18:32.031Z"
   },
   {
    "duration": 1434,
    "start_time": "2022-02-05T09:19:36.985Z"
   },
   {
    "duration": 192,
    "start_time": "2022-02-05T09:19:38.421Z"
   },
   {
    "duration": 99,
    "start_time": "2022-02-05T09:19:38.615Z"
   },
   {
    "duration": 11,
    "start_time": "2022-02-05T09:19:38.716Z"
   },
   {
    "duration": 84,
    "start_time": "2022-02-05T09:19:38.729Z"
   },
   {
    "duration": 64,
    "start_time": "2022-02-05T09:19:38.815Z"
   },
   {
    "duration": 60,
    "start_time": "2022-02-05T09:19:38.881Z"
   },
   {
    "duration": 8,
    "start_time": "2022-02-05T09:19:38.943Z"
   },
   {
    "duration": 64,
    "start_time": "2022-02-05T09:19:38.953Z"
   },
   {
    "duration": 47,
    "start_time": "2022-02-05T09:19:39.018Z"
   },
   {
    "duration": 57,
    "start_time": "2022-02-05T09:19:39.066Z"
   },
   {
    "duration": 10,
    "start_time": "2022-02-05T09:19:39.124Z"
   },
   {
    "duration": 7,
    "start_time": "2022-02-05T09:19:39.135Z"
   },
   {
    "duration": 8,
    "start_time": "2022-02-05T09:19:39.144Z"
   },
   {
    "duration": 26,
    "start_time": "2022-02-05T09:19:39.154Z"
   },
   {
    "duration": 55,
    "start_time": "2022-02-05T09:19:39.181Z"
   },
   {
    "duration": 30,
    "start_time": "2022-02-05T09:19:39.238Z"
   },
   {
    "duration": 3,
    "start_time": "2022-02-05T09:19:39.269Z"
   },
   {
    "duration": 5,
    "start_time": "2022-02-05T09:19:39.273Z"
   },
   {
    "duration": 3,
    "start_time": "2022-02-05T09:19:39.280Z"
   },
   {
    "duration": 27,
    "start_time": "2022-02-05T09:19:39.285Z"
   },
   {
    "duration": 4,
    "start_time": "2022-02-05T09:19:39.314Z"
   },
   {
    "duration": 4,
    "start_time": "2022-02-05T09:19:39.321Z"
   },
   {
    "duration": 3,
    "start_time": "2022-02-05T09:19:39.327Z"
   },
   {
    "duration": 4,
    "start_time": "2022-02-05T09:19:39.332Z"
   },
   {
    "duration": 6,
    "start_time": "2022-02-05T09:19:39.338Z"
   },
   {
    "duration": 4,
    "start_time": "2022-02-05T09:19:39.346Z"
   },
   {
    "duration": 5,
    "start_time": "2022-02-05T09:19:39.352Z"
   },
   {
    "duration": 4,
    "start_time": "2022-02-05T09:19:39.358Z"
   },
   {
    "duration": 4,
    "start_time": "2022-02-05T09:19:39.364Z"
   },
   {
    "duration": 4,
    "start_time": "2022-02-05T09:19:39.370Z"
   },
   {
    "duration": 1403,
    "start_time": "2022-02-05T09:23:55.364Z"
   },
   {
    "duration": 206,
    "start_time": "2022-02-05T09:23:56.769Z"
   },
   {
    "duration": 100,
    "start_time": "2022-02-05T09:23:56.977Z"
   },
   {
    "duration": 11,
    "start_time": "2022-02-05T09:23:57.079Z"
   },
   {
    "duration": 83,
    "start_time": "2022-02-05T09:23:57.092Z"
   },
   {
    "duration": 81,
    "start_time": "2022-02-05T09:23:57.176Z"
   },
   {
    "duration": 56,
    "start_time": "2022-02-05T09:23:57.259Z"
   },
   {
    "duration": 7,
    "start_time": "2022-02-05T09:23:57.318Z"
   },
   {
    "duration": 57,
    "start_time": "2022-02-05T09:23:57.327Z"
   },
   {
    "duration": 64,
    "start_time": "2022-02-05T09:23:57.385Z"
   },
   {
    "duration": 40,
    "start_time": "2022-02-05T09:23:57.451Z"
   },
   {
    "duration": 23,
    "start_time": "2022-02-05T09:23:57.493Z"
   },
   {
    "duration": 9,
    "start_time": "2022-02-05T09:23:57.518Z"
   },
   {
    "duration": 9,
    "start_time": "2022-02-05T09:23:57.528Z"
   },
   {
    "duration": 31,
    "start_time": "2022-02-05T09:23:57.539Z"
   },
   {
    "duration": 51,
    "start_time": "2022-02-05T09:23:57.571Z"
   },
   {
    "duration": 31,
    "start_time": "2022-02-05T09:23:57.624Z"
   },
   {
    "duration": 2,
    "start_time": "2022-02-05T09:23:57.657Z"
   },
   {
    "duration": 3,
    "start_time": "2022-02-05T09:27:23.521Z"
   },
   {
    "duration": 262,
    "start_time": "2022-02-05T09:27:24.375Z"
   },
   {
    "duration": 1379,
    "start_time": "2022-02-05T09:27:32.802Z"
   },
   {
    "duration": 202,
    "start_time": "2022-02-05T09:27:34.183Z"
   },
   {
    "duration": 108,
    "start_time": "2022-02-05T09:27:35.772Z"
   },
   {
    "duration": 12,
    "start_time": "2022-02-05T09:27:36.809Z"
   },
   {
    "duration": 81,
    "start_time": "2022-02-05T09:27:37.630Z"
   },
   {
    "duration": 74,
    "start_time": "2022-02-05T09:27:38.250Z"
   },
   {
    "duration": 48,
    "start_time": "2022-02-05T09:27:38.958Z"
   },
   {
    "duration": 9,
    "start_time": "2022-02-05T09:27:39.572Z"
   },
   {
    "duration": 55,
    "start_time": "2022-02-05T09:27:40.218Z"
   },
   {
    "duration": 52,
    "start_time": "2022-02-05T09:27:40.771Z"
   },
   {
    "duration": 40,
    "start_time": "2022-02-05T09:27:41.418Z"
   },
   {
    "duration": 12,
    "start_time": "2022-02-05T09:27:42.073Z"
   },
   {
    "duration": 10,
    "start_time": "2022-02-05T09:27:43.077Z"
   },
   {
    "duration": 8,
    "start_time": "2022-02-05T09:27:43.978Z"
   },
   {
    "duration": 29,
    "start_time": "2022-02-05T09:27:44.693Z"
   },
   {
    "duration": 28,
    "start_time": "2022-02-05T09:27:45.409Z"
   },
   {
    "duration": 31,
    "start_time": "2022-02-05T09:27:46.132Z"
   },
   {
    "duration": 3,
    "start_time": "2022-02-05T09:27:46.902Z"
   },
   {
    "duration": 240,
    "start_time": "2022-02-05T09:28:02.934Z"
   },
   {
    "duration": 189,
    "start_time": "2022-02-05T09:28:05.581Z"
   },
   {
    "duration": 219,
    "start_time": "2022-02-05T09:28:23.630Z"
   },
   {
    "duration": 179,
    "start_time": "2022-02-05T09:28:34.831Z"
   },
   {
    "duration": 1373,
    "start_time": "2022-02-05T09:28:41.576Z"
   },
   {
    "duration": 196,
    "start_time": "2022-02-05T09:28:42.951Z"
   },
   {
    "duration": 90,
    "start_time": "2022-02-05T09:28:43.149Z"
   },
   {
    "duration": 12,
    "start_time": "2022-02-05T09:28:43.241Z"
   },
   {
    "duration": 88,
    "start_time": "2022-02-05T09:28:43.254Z"
   },
   {
    "duration": 72,
    "start_time": "2022-02-05T09:28:43.343Z"
   },
   {
    "duration": 47,
    "start_time": "2022-02-05T09:28:43.417Z"
   },
   {
    "duration": 7,
    "start_time": "2022-02-05T09:28:43.466Z"
   },
   {
    "duration": 74,
    "start_time": "2022-02-05T09:28:43.475Z"
   },
   {
    "duration": 48,
    "start_time": "2022-02-05T09:28:43.550Z"
   },
   {
    "duration": 51,
    "start_time": "2022-02-05T09:28:43.599Z"
   },
   {
    "duration": 11,
    "start_time": "2022-02-05T09:28:43.651Z"
   },
   {
    "duration": 7,
    "start_time": "2022-02-05T09:28:43.664Z"
   },
   {
    "duration": 40,
    "start_time": "2022-02-05T09:28:43.673Z"
   },
   {
    "duration": 29,
    "start_time": "2022-02-05T09:28:43.716Z"
   },
   {
    "duration": 27,
    "start_time": "2022-02-05T09:28:43.747Z"
   },
   {
    "duration": 60,
    "start_time": "2022-02-05T09:28:43.776Z"
   },
   {
    "duration": 3,
    "start_time": "2022-02-05T09:28:43.837Z"
   },
   {
    "duration": 1438,
    "start_time": "2022-02-05T09:31:21.908Z"
   },
   {
    "duration": 196,
    "start_time": "2022-02-05T09:31:23.348Z"
   },
   {
    "duration": 92,
    "start_time": "2022-02-05T09:31:23.546Z"
   },
   {
    "duration": 11,
    "start_time": "2022-02-05T09:31:23.640Z"
   },
   {
    "duration": 78,
    "start_time": "2022-02-05T09:31:23.653Z"
   },
   {
    "duration": 70,
    "start_time": "2022-02-05T09:31:23.733Z"
   },
   {
    "duration": 51,
    "start_time": "2022-02-05T09:31:23.805Z"
   },
   {
    "duration": 8,
    "start_time": "2022-02-05T09:31:23.858Z"
   },
   {
    "duration": 80,
    "start_time": "2022-02-05T09:31:23.868Z"
   },
   {
    "duration": 48,
    "start_time": "2022-02-05T09:31:23.950Z"
   },
   {
    "duration": 41,
    "start_time": "2022-02-05T09:31:24.011Z"
   },
   {
    "duration": 11,
    "start_time": "2022-02-05T09:31:24.054Z"
   },
   {
    "duration": 7,
    "start_time": "2022-02-05T09:31:24.067Z"
   },
   {
    "duration": 37,
    "start_time": "2022-02-05T09:31:24.076Z"
   },
   {
    "duration": 27,
    "start_time": "2022-02-05T09:31:24.115Z"
   },
   {
    "duration": 27,
    "start_time": "2022-02-05T09:31:24.144Z"
   },
   {
    "duration": 51,
    "start_time": "2022-02-05T09:31:24.172Z"
   },
   {
    "duration": 4051,
    "start_time": "2022-02-05T09:31:24.224Z"
   },
   {
    "duration": 229,
    "start_time": "2022-02-05T09:31:49.235Z"
   },
   {
    "duration": 1454,
    "start_time": "2022-02-05T09:31:59.690Z"
   },
   {
    "duration": 191,
    "start_time": "2022-02-05T09:32:01.145Z"
   },
   {
    "duration": 91,
    "start_time": "2022-02-05T09:32:01.337Z"
   },
   {
    "duration": 11,
    "start_time": "2022-02-05T09:32:01.430Z"
   },
   {
    "duration": 80,
    "start_time": "2022-02-05T09:32:01.443Z"
   },
   {
    "duration": 70,
    "start_time": "2022-02-05T09:32:01.524Z"
   },
   {
    "duration": 59,
    "start_time": "2022-02-05T09:32:01.596Z"
   },
   {
    "duration": 8,
    "start_time": "2022-02-05T09:32:01.657Z"
   },
   {
    "duration": 75,
    "start_time": "2022-02-05T09:32:01.667Z"
   },
   {
    "duration": 48,
    "start_time": "2022-02-05T09:32:01.744Z"
   },
   {
    "duration": 49,
    "start_time": "2022-02-05T09:32:01.794Z"
   },
   {
    "duration": 11,
    "start_time": "2022-02-05T09:32:01.844Z"
   },
   {
    "duration": 7,
    "start_time": "2022-02-05T09:32:01.857Z"
   },
   {
    "duration": 9,
    "start_time": "2022-02-05T09:32:01.865Z"
   },
   {
    "duration": 55,
    "start_time": "2022-02-05T09:32:01.876Z"
   },
   {
    "duration": 26,
    "start_time": "2022-02-05T09:32:01.933Z"
   },
   {
    "duration": 31,
    "start_time": "2022-02-05T09:32:01.960Z"
   },
   {
    "duration": 4092,
    "start_time": "2022-02-05T09:32:02.012Z"
   },
   {
    "duration": 3,
    "start_time": "2022-02-05T09:32:40.531Z"
   },
   {
    "duration": 1309,
    "start_time": "2022-02-05T09:36:27.766Z"
   },
   {
    "duration": 186,
    "start_time": "2022-02-05T09:36:29.077Z"
   },
   {
    "duration": 91,
    "start_time": "2022-02-05T09:36:29.265Z"
   },
   {
    "duration": 11,
    "start_time": "2022-02-05T09:36:29.358Z"
   },
   {
    "duration": 76,
    "start_time": "2022-02-05T09:36:29.371Z"
   },
   {
    "duration": 69,
    "start_time": "2022-02-05T09:36:29.448Z"
   },
   {
    "duration": 47,
    "start_time": "2022-02-05T09:36:29.519Z"
   },
   {
    "duration": 7,
    "start_time": "2022-02-05T09:36:29.568Z"
   },
   {
    "duration": 73,
    "start_time": "2022-02-05T09:36:29.577Z"
   },
   {
    "duration": 45,
    "start_time": "2022-02-05T09:36:29.652Z"
   },
   {
    "duration": 48,
    "start_time": "2022-02-05T09:36:29.699Z"
   },
   {
    "duration": 11,
    "start_time": "2022-02-05T09:36:29.748Z"
   },
   {
    "duration": 7,
    "start_time": "2022-02-05T09:36:29.761Z"
   },
   {
    "duration": 11,
    "start_time": "2022-02-05T09:36:29.770Z"
   },
   {
    "duration": 55,
    "start_time": "2022-02-05T09:36:29.782Z"
   },
   {
    "duration": 26,
    "start_time": "2022-02-05T09:36:29.838Z"
   },
   {
    "duration": 47,
    "start_time": "2022-02-05T09:36:29.866Z"
   },
   {
    "duration": 1170,
    "start_time": "2022-02-05T09:36:29.914Z"
   },
   {
    "duration": 1332,
    "start_time": "2022-02-05T09:42:24.411Z"
   },
   {
    "duration": 314,
    "start_time": "2022-02-05T09:44:29.750Z"
   },
   {
    "duration": 3,
    "start_time": "2022-02-05T09:44:35.183Z"
   },
   {
    "duration": 190,
    "start_time": "2022-02-05T09:44:35.392Z"
   },
   {
    "duration": 90,
    "start_time": "2022-02-05T09:44:35.597Z"
   },
   {
    "duration": 11,
    "start_time": "2022-02-05T09:44:35.693Z"
   },
   {
    "duration": 76,
    "start_time": "2022-02-05T09:44:35.908Z"
   },
   {
    "duration": 68,
    "start_time": "2022-02-05T09:44:36.107Z"
   },
   {
    "duration": 17,
    "start_time": "2022-02-05T09:44:36.950Z"
   },
   {
    "duration": 19,
    "start_time": "2022-02-05T09:45:46.654Z"
   },
   {
    "duration": 12,
    "start_time": "2022-02-05T09:46:02.933Z"
   },
   {
    "duration": 14,
    "start_time": "2022-02-05T09:47:36.120Z"
   },
   {
    "duration": 17,
    "start_time": "2022-02-05T09:48:31.528Z"
   },
   {
    "duration": 10,
    "start_time": "2022-02-05T09:48:45.644Z"
   },
   {
    "duration": 11,
    "start_time": "2022-02-05T09:52:50.390Z"
   },
   {
    "duration": 13,
    "start_time": "2022-02-05T09:53:43.228Z"
   },
   {
    "duration": 10,
    "start_time": "2022-02-05T09:53:56.228Z"
   },
   {
    "duration": 25,
    "start_time": "2022-02-05T09:54:42.165Z"
   },
   {
    "duration": 12,
    "start_time": "2022-02-05T09:54:42.765Z"
   },
   {
    "duration": 7,
    "start_time": "2022-02-05T09:54:43.615Z"
   },
   {
    "duration": 8,
    "start_time": "2022-02-05T09:54:44.386Z"
   },
   {
    "duration": 305,
    "start_time": "2022-02-05T09:54:45.595Z"
   },
   {
    "duration": 229,
    "start_time": "2022-02-05T09:54:46.119Z"
   },
   {
    "duration": 10,
    "start_time": "2022-02-05T09:54:46.727Z"
   },
   {
    "duration": 6,
    "start_time": "2022-02-05T09:54:53.167Z"
   },
   {
    "duration": 9,
    "start_time": "2022-02-05T09:54:53.880Z"
   },
   {
    "duration": 19,
    "start_time": "2022-02-05T09:55:27.561Z"
   },
   {
    "duration": 10,
    "start_time": "2022-02-05T09:55:28.368Z"
   },
   {
    "duration": 12,
    "start_time": "2022-02-05T09:55:37.734Z"
   },
   {
    "duration": 9,
    "start_time": "2022-02-05T09:55:38.751Z"
   },
   {
    "duration": 3,
    "start_time": "2022-02-05T09:56:21.757Z"
   },
   {
    "duration": 1297,
    "start_time": "2022-02-05T09:56:32.045Z"
   },
   {
    "duration": 192,
    "start_time": "2022-02-05T09:56:34.380Z"
   },
   {
    "duration": 91,
    "start_time": "2022-02-05T09:56:35.487Z"
   },
   {
    "duration": 12,
    "start_time": "2022-02-05T09:56:36.137Z"
   },
   {
    "duration": 80,
    "start_time": "2022-02-05T09:56:36.821Z"
   },
   {
    "duration": 71,
    "start_time": "2022-02-05T09:56:41.133Z"
   },
   {
    "duration": 45,
    "start_time": "2022-02-05T09:56:42.330Z"
   },
   {
    "duration": 18,
    "start_time": "2022-02-05T09:56:45.934Z"
   },
   {
    "duration": 20,
    "start_time": "2022-02-05T09:56:49.703Z"
   },
   {
    "duration": 13,
    "start_time": "2022-02-05T09:56:50.933Z"
   },
   {
    "duration": 9,
    "start_time": "2022-02-05T09:56:58.204Z"
   },
   {
    "duration": 51,
    "start_time": "2022-02-05T09:56:58.934Z"
   },
   {
    "duration": 49,
    "start_time": "2022-02-05T09:56:59.643Z"
   },
   {
    "duration": 41,
    "start_time": "2022-02-05T09:57:00.843Z"
   },
   {
    "duration": 15,
    "start_time": "2022-02-05T09:57:01.889Z"
   },
   {
    "duration": 15,
    "start_time": "2022-02-05T09:57:03.965Z"
   },
   {
    "duration": 11,
    "start_time": "2022-02-05T09:57:05.751Z"
   },
   {
    "duration": 11,
    "start_time": "2022-02-05T09:57:06.971Z"
   },
   {
    "duration": 10,
    "start_time": "2022-02-05T09:57:07.725Z"
   },
   {
    "duration": 8,
    "start_time": "2022-02-05T09:57:09.614Z"
   },
   {
    "duration": 27,
    "start_time": "2022-02-05T09:57:11.791Z"
   },
   {
    "duration": 27,
    "start_time": "2022-02-05T09:57:12.378Z"
   },
   {
    "duration": 32,
    "start_time": "2022-02-05T09:57:13.284Z"
   },
   {
    "duration": 14,
    "start_time": "2022-02-05T09:57:16.540Z"
   },
   {
    "duration": 14,
    "start_time": "2022-02-05T09:57:18.609Z"
   },
   {
    "duration": 11,
    "start_time": "2022-02-05T09:57:19.638Z"
   },
   {
    "duration": 1125,
    "start_time": "2022-02-05T09:57:30.257Z"
   },
   {
    "duration": 3,
    "start_time": "2022-02-05T09:58:03.434Z"
   },
   {
    "duration": 66,
    "start_time": "2022-02-05T09:58:04.560Z"
   },
   {
    "duration": 3,
    "start_time": "2022-02-05T09:58:42.239Z"
   },
   {
    "duration": 3,
    "start_time": "2022-02-05T09:59:28.839Z"
   },
   {
    "duration": 458,
    "start_time": "2022-02-05T09:59:29.657Z"
   },
   {
    "duration": 1305,
    "start_time": "2022-02-05T09:59:37.140Z"
   },
   {
    "duration": 201,
    "start_time": "2022-02-05T09:59:38.446Z"
   },
   {
    "duration": 90,
    "start_time": "2022-02-05T09:59:38.649Z"
   },
   {
    "duration": 11,
    "start_time": "2022-02-05T09:59:38.741Z"
   },
   {
    "duration": 77,
    "start_time": "2022-02-05T09:59:38.753Z"
   },
   {
    "duration": 67,
    "start_time": "2022-02-05T09:59:38.832Z"
   },
   {
    "duration": 54,
    "start_time": "2022-02-05T09:59:38.901Z"
   },
   {
    "duration": 17,
    "start_time": "2022-02-05T09:59:38.957Z"
   },
   {
    "duration": 36,
    "start_time": "2022-02-05T09:59:38.976Z"
   },
   {
    "duration": 11,
    "start_time": "2022-02-05T09:59:39.014Z"
   },
   {
    "duration": 8,
    "start_time": "2022-02-05T09:59:39.027Z"
   },
   {
    "duration": 53,
    "start_time": "2022-02-05T09:59:39.037Z"
   },
   {
    "duration": 62,
    "start_time": "2022-02-05T09:59:39.092Z"
   },
   {
    "duration": 38,
    "start_time": "2022-02-05T09:59:39.155Z"
   },
   {
    "duration": 26,
    "start_time": "2022-02-05T09:59:39.195Z"
   },
   {
    "duration": 14,
    "start_time": "2022-02-05T09:59:39.222Z"
   },
   {
    "duration": 10,
    "start_time": "2022-02-05T09:59:39.237Z"
   },
   {
    "duration": 10,
    "start_time": "2022-02-05T09:59:39.248Z"
   },
   {
    "duration": 7,
    "start_time": "2022-02-05T09:59:39.259Z"
   },
   {
    "duration": 7,
    "start_time": "2022-02-05T09:59:39.268Z"
   },
   {
    "duration": 26,
    "start_time": "2022-02-05T09:59:39.312Z"
   },
   {
    "duration": 25,
    "start_time": "2022-02-05T09:59:39.339Z"
   },
   {
    "duration": 49,
    "start_time": "2022-02-05T09:59:39.367Z"
   },
   {
    "duration": 11,
    "start_time": "2022-02-05T09:59:39.418Z"
   },
   {
    "duration": 12,
    "start_time": "2022-02-05T09:59:39.431Z"
   },
   {
    "duration": 8,
    "start_time": "2022-02-05T09:59:39.444Z"
   },
   {
    "duration": 2,
    "start_time": "2022-02-05T09:59:39.454Z"
   },
   {
    "duration": 3,
    "start_time": "2022-02-05T09:59:39.458Z"
   },
   {
    "duration": 4,
    "start_time": "2022-02-05T09:59:39.463Z"
   },
   {
    "duration": 44,
    "start_time": "2022-02-05T09:59:39.468Z"
   },
   {
    "duration": 322,
    "start_time": "2022-02-05T10:19:18.693Z"
   },
   {
    "duration": 243,
    "start_time": "2022-02-05T10:20:07.487Z"
   },
   {
    "duration": 1484,
    "start_time": "2022-02-05T10:20:07.980Z"
   },
   {
    "duration": 194,
    "start_time": "2022-02-05T10:20:09.466Z"
   },
   {
    "duration": 91,
    "start_time": "2022-02-05T10:20:09.662Z"
   },
   {
    "duration": 12,
    "start_time": "2022-02-05T10:20:09.755Z"
   },
   {
    "duration": 78,
    "start_time": "2022-02-05T10:20:09.769Z"
   },
   {
    "duration": 75,
    "start_time": "2022-02-05T10:20:09.849Z"
   },
   {
    "duration": 51,
    "start_time": "2022-02-05T10:20:09.925Z"
   },
   {
    "duration": 34,
    "start_time": "2022-02-05T10:20:09.978Z"
   },
   {
    "duration": 20,
    "start_time": "2022-02-05T10:20:10.015Z"
   },
   {
    "duration": 12,
    "start_time": "2022-02-05T10:20:10.037Z"
   },
   {
    "duration": 15,
    "start_time": "2022-02-05T10:20:10.051Z"
   },
   {
    "duration": 80,
    "start_time": "2022-02-05T10:20:10.068Z"
   },
   {
    "duration": 48,
    "start_time": "2022-02-05T10:20:10.150Z"
   },
   {
    "duration": 48,
    "start_time": "2022-02-05T10:20:10.199Z"
   },
   {
    "duration": 14,
    "start_time": "2022-02-05T10:20:10.249Z"
   },
   {
    "duration": 15,
    "start_time": "2022-02-05T10:20:10.264Z"
   },
   {
    "duration": 39,
    "start_time": "2022-02-05T10:20:10.280Z"
   },
   {
    "duration": 10,
    "start_time": "2022-02-05T10:20:10.321Z"
   },
   {
    "duration": 7,
    "start_time": "2022-02-05T10:20:10.333Z"
   },
   {
    "duration": 10,
    "start_time": "2022-02-05T10:20:10.342Z"
   },
   {
    "duration": 29,
    "start_time": "2022-02-05T10:20:10.354Z"
   },
   {
    "duration": 53,
    "start_time": "2022-02-05T10:20:10.385Z"
   },
   {
    "duration": 33,
    "start_time": "2022-02-05T10:20:10.439Z"
   },
   {
    "duration": 12,
    "start_time": "2022-02-05T10:20:10.474Z"
   },
   {
    "duration": 36,
    "start_time": "2022-02-05T10:20:10.488Z"
   },
   {
    "duration": 9,
    "start_time": "2022-02-05T10:20:10.526Z"
   },
   {
    "duration": 2,
    "start_time": "2022-02-05T10:20:10.538Z"
   },
   {
    "duration": 8,
    "start_time": "2022-02-05T10:20:10.543Z"
   },
   {
    "duration": 9,
    "start_time": "2022-02-05T10:20:10.552Z"
   },
   {
    "duration": 7,
    "start_time": "2022-02-05T10:20:10.562Z"
   },
   {
    "duration": 1369,
    "start_time": "2022-02-05T10:21:13.559Z"
   },
   {
    "duration": 195,
    "start_time": "2022-02-05T10:21:14.930Z"
   },
   {
    "duration": 92,
    "start_time": "2022-02-05T10:21:15.127Z"
   },
   {
    "duration": 12,
    "start_time": "2022-02-05T10:21:15.329Z"
   },
   {
    "duration": 80,
    "start_time": "2022-02-05T10:21:16.029Z"
   },
   {
    "duration": 70,
    "start_time": "2022-02-05T10:21:18.641Z"
   },
   {
    "duration": 47,
    "start_time": "2022-02-05T10:21:18.877Z"
   },
   {
    "duration": 19,
    "start_time": "2022-02-05T10:21:19.207Z"
   },
   {
    "duration": 20,
    "start_time": "2022-02-05T10:21:19.521Z"
   },
   {
    "duration": 12,
    "start_time": "2022-02-05T10:21:19.794Z"
   },
   {
    "duration": 8,
    "start_time": "2022-02-05T10:21:20.260Z"
   },
   {
    "duration": 54,
    "start_time": "2022-02-05T10:21:20.551Z"
   },
   {
    "duration": 46,
    "start_time": "2022-02-05T10:21:20.944Z"
   },
   {
    "duration": 40,
    "start_time": "2022-02-05T10:21:21.469Z"
   },
   {
    "duration": 15,
    "start_time": "2022-02-05T10:21:22.558Z"
   },
   {
    "duration": 16,
    "start_time": "2022-02-05T10:21:23.744Z"
   },
   {
    "duration": 11,
    "start_time": "2022-02-05T10:21:24.329Z"
   },
   {
    "duration": 11,
    "start_time": "2022-02-05T10:21:24.890Z"
   },
   {
    "duration": 10,
    "start_time": "2022-02-05T10:21:25.759Z"
   },
   {
    "duration": 8,
    "start_time": "2022-02-05T10:21:26.675Z"
   },
   {
    "duration": 29,
    "start_time": "2022-02-05T10:21:27.305Z"
   },
   {
    "duration": 28,
    "start_time": "2022-02-05T10:21:27.886Z"
   },
   {
    "duration": 44,
    "start_time": "2022-02-05T10:21:28.425Z"
   },
   {
    "duration": 13,
    "start_time": "2022-02-05T10:21:29.028Z"
   },
   {
    "duration": 12,
    "start_time": "2022-02-05T10:21:29.800Z"
   },
   {
    "duration": 10,
    "start_time": "2022-02-05T10:21:30.654Z"
   },
   {
    "duration": 2,
    "start_time": "2022-02-05T10:21:31.444Z"
   },
   {
    "duration": 2,
    "start_time": "2022-02-05T10:21:32.648Z"
   },
   {
    "duration": 2,
    "start_time": "2022-02-05T10:21:32.994Z"
   },
   {
    "duration": 235,
    "start_time": "2022-02-05T10:21:45.624Z"
   },
   {
    "duration": 187,
    "start_time": "2022-02-05T10:22:50.038Z"
   },
   {
    "duration": 1415,
    "start_time": "2022-02-05T10:23:01.621Z"
   },
   {
    "duration": 192,
    "start_time": "2022-02-05T10:23:03.038Z"
   },
   {
    "duration": 87,
    "start_time": "2022-02-05T10:23:03.232Z"
   },
   {
    "duration": 11,
    "start_time": "2022-02-05T10:23:03.321Z"
   },
   {
    "duration": 83,
    "start_time": "2022-02-05T10:23:03.334Z"
   },
   {
    "duration": 62,
    "start_time": "2022-02-05T10:23:03.418Z"
   },
   {
    "duration": 58,
    "start_time": "2022-02-05T10:23:03.482Z"
   },
   {
    "duration": 17,
    "start_time": "2022-02-05T10:23:03.542Z"
   },
   {
    "duration": 18,
    "start_time": "2022-02-05T10:23:03.561Z"
   },
   {
    "duration": 37,
    "start_time": "2022-02-05T10:23:03.581Z"
   },
   {
    "duration": 9,
    "start_time": "2022-02-05T10:23:03.619Z"
   },
   {
    "duration": 51,
    "start_time": "2022-02-05T10:23:03.630Z"
   },
   {
    "duration": 69,
    "start_time": "2022-02-05T10:23:03.682Z"
   },
   {
    "duration": 40,
    "start_time": "2022-02-05T10:23:03.752Z"
   },
   {
    "duration": 26,
    "start_time": "2022-02-05T10:23:03.794Z"
   },
   {
    "duration": 14,
    "start_time": "2022-02-05T10:23:03.822Z"
   },
   {
    "duration": 10,
    "start_time": "2022-02-05T10:23:03.838Z"
   },
   {
    "duration": 10,
    "start_time": "2022-02-05T10:23:03.850Z"
   },
   {
    "duration": 8,
    "start_time": "2022-02-05T10:23:03.862Z"
   },
   {
    "duration": 42,
    "start_time": "2022-02-05T10:23:03.872Z"
   },
   {
    "duration": 29,
    "start_time": "2022-02-05T10:23:03.916Z"
   },
   {
    "duration": 29,
    "start_time": "2022-02-05T10:23:03.947Z"
   },
   {
    "duration": 56,
    "start_time": "2022-02-05T10:23:03.977Z"
   },
   {
    "duration": 12,
    "start_time": "2022-02-05T10:23:04.035Z"
   },
   {
    "duration": 12,
    "start_time": "2022-02-05T10:23:04.048Z"
   },
   {
    "duration": 8,
    "start_time": "2022-02-05T10:23:04.062Z"
   },
   {
    "duration": 2,
    "start_time": "2022-02-05T10:23:04.074Z"
   },
   {
    "duration": 34,
    "start_time": "2022-02-05T10:23:04.078Z"
   },
   {
    "duration": 2,
    "start_time": "2022-02-05T10:23:04.114Z"
   },
   {
    "duration": 812,
    "start_time": "2022-02-05T10:23:04.118Z"
   },
   {
    "duration": 12,
    "start_time": "2022-02-05T10:23:04.932Z"
   },
   {
    "duration": 6,
    "start_time": "2022-02-05T10:23:04.945Z"
   },
   {
    "duration": 4,
    "start_time": "2022-02-05T10:23:04.953Z"
   },
   {
    "duration": 5,
    "start_time": "2022-02-05T10:23:04.959Z"
   },
   {
    "duration": 4,
    "start_time": "2022-02-05T10:23:04.966Z"
   },
   {
    "duration": 5,
    "start_time": "2022-02-05T10:23:04.971Z"
   },
   {
    "duration": 4,
    "start_time": "2022-02-05T10:23:04.977Z"
   },
   {
    "duration": 426,
    "start_time": "2022-02-05T10:25:49.005Z"
   },
   {
    "duration": 6,
    "start_time": "2022-02-05T10:27:40.921Z"
   },
   {
    "duration": 522,
    "start_time": "2022-02-05T10:29:54.024Z"
   },
   {
    "duration": 52,
    "start_time": "2022-02-05T10:30:12.407Z"
   },
   {
    "duration": 15,
    "start_time": "2022-02-05T10:30:14.267Z"
   },
   {
    "duration": 42,
    "start_time": "2022-02-05T10:30:19.422Z"
   },
   {
    "duration": 197,
    "start_time": "2022-02-05T10:31:17.071Z"
   },
   {
    "duration": 528,
    "start_time": "2022-02-05T10:31:34.525Z"
   },
   {
    "duration": 80,
    "start_time": "2022-02-05T10:32:00.879Z"
   },
   {
    "duration": 71,
    "start_time": "2022-02-05T10:32:12.582Z"
   },
   {
    "duration": 76,
    "start_time": "2022-02-05T10:32:34.464Z"
   },
   {
    "duration": 100,
    "start_time": "2022-02-05T10:33:09.132Z"
   },
   {
    "duration": 73,
    "start_time": "2022-02-05T10:33:18.260Z"
   },
   {
    "duration": 326,
    "start_time": "2022-02-05T10:34:17.514Z"
   },
   {
    "duration": 69,
    "start_time": "2022-02-05T10:34:25.406Z"
   },
   {
    "duration": 422,
    "start_time": "2022-02-05T10:34:30.399Z"
   },
   {
    "duration": 67,
    "start_time": "2022-02-05T10:34:37.588Z"
   },
   {
    "duration": 345,
    "start_time": "2022-02-05T10:34:59.383Z"
   },
   {
    "duration": 58,
    "start_time": "2022-02-05T10:35:11.838Z"
   },
   {
    "duration": 25,
    "start_time": "2022-02-05T10:35:18.521Z"
   },
   {
    "duration": 8,
    "start_time": "2022-02-05T11:27:41.197Z"
   },
   {
    "duration": 8,
    "start_time": "2022-02-05T11:27:57.524Z"
   },
   {
    "duration": 7,
    "start_time": "2022-02-05T11:28:09.637Z"
   },
   {
    "duration": 17,
    "start_time": "2022-02-05T11:42:27.156Z"
   },
   {
    "duration": 20,
    "start_time": "2022-02-05T11:42:32.699Z"
   },
   {
    "duration": 27,
    "start_time": "2022-02-05T11:42:43.434Z"
   },
   {
    "duration": 1518,
    "start_time": "2022-02-05T13:04:41.040Z"
   },
   {
    "duration": 220,
    "start_time": "2022-02-05T13:04:42.560Z"
   },
   {
    "duration": 146,
    "start_time": "2022-02-05T13:04:42.782Z"
   },
   {
    "duration": 12,
    "start_time": "2022-02-05T13:04:42.930Z"
   },
   {
    "duration": 88,
    "start_time": "2022-02-05T13:04:42.943Z"
   },
   {
    "duration": 75,
    "start_time": "2022-02-05T13:04:43.032Z"
   },
   {
    "duration": 50,
    "start_time": "2022-02-05T13:04:43.109Z"
   },
   {
    "duration": 38,
    "start_time": "2022-02-05T13:04:43.161Z"
   },
   {
    "duration": 20,
    "start_time": "2022-02-05T13:04:43.201Z"
   },
   {
    "duration": 16,
    "start_time": "2022-02-05T13:04:43.223Z"
   },
   {
    "duration": 11,
    "start_time": "2022-02-05T13:04:43.241Z"
   },
   {
    "duration": 84,
    "start_time": "2022-02-05T13:04:43.254Z"
   },
   {
    "duration": 59,
    "start_time": "2022-02-05T13:04:43.339Z"
   },
   {
    "duration": 43,
    "start_time": "2022-02-05T13:04:43.400Z"
   },
   {
    "duration": 16,
    "start_time": "2022-02-05T13:04:43.445Z"
   },
   {
    "duration": 38,
    "start_time": "2022-02-05T13:04:43.462Z"
   },
   {
    "duration": 11,
    "start_time": "2022-02-05T13:04:43.502Z"
   },
   {
    "duration": 15,
    "start_time": "2022-02-05T13:04:43.515Z"
   },
   {
    "duration": 15,
    "start_time": "2022-02-05T13:04:43.532Z"
   },
   {
    "duration": 11,
    "start_time": "2022-02-05T13:04:43.549Z"
   },
   {
    "duration": 50,
    "start_time": "2022-02-05T13:04:43.561Z"
   },
   {
    "duration": 28,
    "start_time": "2022-02-05T13:04:43.613Z"
   },
   {
    "duration": 32,
    "start_time": "2022-02-05T13:04:43.644Z"
   },
   {
    "duration": 12,
    "start_time": "2022-02-05T13:04:43.699Z"
   },
   {
    "duration": 12,
    "start_time": "2022-02-05T13:04:43.713Z"
   },
   {
    "duration": 9,
    "start_time": "2022-02-05T13:04:43.727Z"
   },
   {
    "duration": 13,
    "start_time": "2022-02-05T13:04:43.738Z"
   },
   {
    "duration": 18,
    "start_time": "2022-02-05T13:04:43.752Z"
   },
   {
    "duration": 53,
    "start_time": "2022-02-05T13:04:43.772Z"
   },
   {
    "duration": 24,
    "start_time": "2022-02-05T13:04:43.827Z"
   },
   {
    "duration": 60,
    "start_time": "2022-02-05T13:04:43.852Z"
   },
   {
    "duration": 2,
    "start_time": "2022-02-05T13:04:43.913Z"
   },
   {
    "duration": 36,
    "start_time": "2022-02-05T13:04:43.917Z"
   },
   {
    "duration": 22,
    "start_time": "2022-02-05T13:04:43.955Z"
   },
   {
    "duration": 16,
    "start_time": "2022-02-05T13:04:43.979Z"
   },
   {
    "duration": 16,
    "start_time": "2022-02-05T13:04:43.997Z"
   },
   {
    "duration": 18,
    "start_time": "2022-02-05T13:04:44.014Z"
   },
   {
    "duration": 7,
    "start_time": "2022-02-05T13:04:44.034Z"
   },
   {
    "duration": 27,
    "start_time": "2022-02-05T13:04:44.043Z"
   },
   {
    "duration": 13,
    "start_time": "2022-02-05T13:04:44.072Z"
   },
   {
    "duration": 4063,
    "start_time": "2022-02-05T13:05:26.039Z"
   },
   {
    "duration": 27,
    "start_time": "2022-02-05T13:05:30.104Z"
   },
   {
    "duration": 317,
    "start_time": "2022-02-05T13:06:12.166Z"
   },
   {
    "duration": 324,
    "start_time": "2022-02-05T13:06:19.462Z"
   },
   {
    "duration": 74,
    "start_time": "2022-02-05T13:09:25.659Z"
   },
   {
    "duration": 68,
    "start_time": "2022-02-05T13:09:25.735Z"
   },
   {
    "duration": 51,
    "start_time": "2022-02-05T13:09:25.805Z"
   },
   {
    "duration": 18,
    "start_time": "2022-02-05T13:09:25.858Z"
   },
   {
    "duration": 37,
    "start_time": "2022-02-05T13:09:25.878Z"
   },
   {
    "duration": 15,
    "start_time": "2022-02-05T13:09:25.917Z"
   },
   {
    "duration": 8,
    "start_time": "2022-02-05T13:09:25.934Z"
   },
   {
    "duration": 62,
    "start_time": "2022-02-05T13:09:25.944Z"
   },
   {
    "duration": 52,
    "start_time": "2022-02-05T13:09:26.008Z"
   },
   {
    "duration": 55,
    "start_time": "2022-02-05T13:09:26.062Z"
   },
   {
    "duration": 16,
    "start_time": "2022-02-05T13:09:26.119Z"
   },
   {
    "duration": 16,
    "start_time": "2022-02-05T13:09:26.137Z"
   },
   {
    "duration": 11,
    "start_time": "2022-02-05T13:09:26.155Z"
   },
   {
    "duration": 34,
    "start_time": "2022-02-05T13:09:26.168Z"
   },
   {
    "duration": 9,
    "start_time": "2022-02-05T13:09:26.203Z"
   },
   {
    "duration": 17,
    "start_time": "2022-02-05T13:09:26.214Z"
   },
   {
    "duration": 35,
    "start_time": "2022-02-05T13:09:26.232Z"
   },
   {
    "duration": 4,
    "start_time": "2022-02-05T13:09:28.502Z"
   },
   {
    "duration": 213,
    "start_time": "2022-02-05T13:09:28.508Z"
   },
   {
    "duration": 111,
    "start_time": "2022-02-05T13:09:28.723Z"
   },
   {
    "duration": 9,
    "start_time": "2022-02-05T13:09:28.835Z"
   },
   {
    "duration": 80,
    "start_time": "2022-02-05T13:09:28.846Z"
   },
   {
    "duration": 71,
    "start_time": "2022-02-05T13:09:28.928Z"
   },
   {
    "duration": 52,
    "start_time": "2022-02-05T13:09:29.001Z"
   },
   {
    "duration": 18,
    "start_time": "2022-02-05T13:09:29.054Z"
   },
   {
    "duration": 29,
    "start_time": "2022-02-05T13:09:29.074Z"
   },
   {
    "duration": 20,
    "start_time": "2022-02-05T13:09:29.105Z"
   },
   {
    "duration": 18,
    "start_time": "2022-02-05T13:09:29.127Z"
   },
   {
    "duration": 96,
    "start_time": "2022-02-05T13:09:29.147Z"
   },
   {
    "duration": 66,
    "start_time": "2022-02-05T13:09:29.245Z"
   },
   {
    "duration": 93,
    "start_time": "2022-02-05T13:09:29.313Z"
   },
   {
    "duration": 15,
    "start_time": "2022-02-05T13:09:29.408Z"
   },
   {
    "duration": 75,
    "start_time": "2022-02-05T13:09:29.425Z"
   },
   {
    "duration": 11,
    "start_time": "2022-02-05T13:09:29.502Z"
   },
   {
    "duration": 9,
    "start_time": "2022-02-05T13:09:29.515Z"
   },
   {
    "duration": 8,
    "start_time": "2022-02-05T13:09:29.526Z"
   },
   {
    "duration": 8,
    "start_time": "2022-02-05T13:09:29.536Z"
   },
   {
    "duration": 31,
    "start_time": "2022-02-05T13:09:29.599Z"
   },
   {
    "duration": 67,
    "start_time": "2022-02-05T13:09:29.632Z"
   },
   {
    "duration": 34,
    "start_time": "2022-02-05T13:09:29.701Z"
   },
   {
    "duration": 12,
    "start_time": "2022-02-05T13:09:29.737Z"
   },
   {
    "duration": 13,
    "start_time": "2022-02-05T13:09:29.751Z"
   },
   {
    "duration": 38,
    "start_time": "2022-02-05T13:09:29.766Z"
   },
   {
    "duration": 7,
    "start_time": "2022-02-05T13:09:29.807Z"
   },
   {
    "duration": 10,
    "start_time": "2022-02-05T13:09:29.816Z"
   },
   {
    "duration": 35,
    "start_time": "2022-02-05T13:09:29.828Z"
   },
   {
    "duration": 53,
    "start_time": "2022-02-05T13:09:29.865Z"
   },
   {
    "duration": 46,
    "start_time": "2022-02-05T13:09:29.920Z"
   },
   {
    "duration": 2,
    "start_time": "2022-02-05T13:09:29.969Z"
   },
   {
    "duration": 3,
    "start_time": "2022-02-05T13:09:29.999Z"
   },
   {
    "duration": 26,
    "start_time": "2022-02-05T13:09:30.005Z"
   },
   {
    "duration": 14,
    "start_time": "2022-02-05T13:09:30.033Z"
   },
   {
    "duration": 9,
    "start_time": "2022-02-05T13:09:30.049Z"
   },
   {
    "duration": 22,
    "start_time": "2022-02-05T13:09:30.060Z"
   },
   {
    "duration": 23,
    "start_time": "2022-02-05T13:09:30.084Z"
   },
   {
    "duration": 31,
    "start_time": "2022-02-05T13:09:30.109Z"
   },
   {
    "duration": 17,
    "start_time": "2022-02-05T13:09:30.142Z"
   },
   {
    "duration": 308,
    "start_time": "2022-02-05T13:10:46.535Z"
   },
   {
    "duration": 271,
    "start_time": "2022-02-05T13:11:12.224Z"
   },
   {
    "duration": 1510,
    "start_time": "2022-02-05T13:11:20.144Z"
   },
   {
    "duration": 215,
    "start_time": "2022-02-05T13:11:21.656Z"
   },
   {
    "duration": 134,
    "start_time": "2022-02-05T13:11:21.873Z"
   },
   {
    "duration": 13,
    "start_time": "2022-02-05T13:11:22.010Z"
   },
   {
    "duration": 98,
    "start_time": "2022-02-05T13:11:22.025Z"
   },
   {
    "duration": 82,
    "start_time": "2022-02-05T13:11:22.125Z"
   },
   {
    "duration": 51,
    "start_time": "2022-02-05T13:11:22.208Z"
   },
   {
    "duration": 39,
    "start_time": "2022-02-05T13:11:22.260Z"
   },
   {
    "duration": 21,
    "start_time": "2022-02-05T13:11:22.301Z"
   },
   {
    "duration": 13,
    "start_time": "2022-02-05T13:11:22.324Z"
   },
   {
    "duration": 9,
    "start_time": "2022-02-05T13:11:22.339Z"
   },
   {
    "duration": 92,
    "start_time": "2022-02-05T13:11:22.350Z"
   },
   {
    "duration": 62,
    "start_time": "2022-02-05T13:11:22.443Z"
   },
   {
    "duration": 44,
    "start_time": "2022-02-05T13:11:22.506Z"
   },
   {
    "duration": 16,
    "start_time": "2022-02-05T13:11:22.551Z"
   },
   {
    "duration": 37,
    "start_time": "2022-02-05T13:11:22.569Z"
   },
   {
    "duration": 11,
    "start_time": "2022-02-05T13:11:22.608Z"
   },
   {
    "duration": 12,
    "start_time": "2022-02-05T13:11:22.621Z"
   },
   {
    "duration": 8,
    "start_time": "2022-02-05T13:11:22.634Z"
   },
   {
    "duration": 12,
    "start_time": "2022-02-05T13:11:22.644Z"
   },
   {
    "duration": 64,
    "start_time": "2022-02-05T13:11:22.658Z"
   },
   {
    "duration": 31,
    "start_time": "2022-02-05T13:11:22.723Z"
   },
   {
    "duration": 56,
    "start_time": "2022-02-05T13:11:22.755Z"
   },
   {
    "duration": 13,
    "start_time": "2022-02-05T13:11:22.813Z"
   },
   {
    "duration": 16,
    "start_time": "2022-02-05T13:11:22.828Z"
   },
   {
    "duration": 9,
    "start_time": "2022-02-05T13:11:22.846Z"
   },
   {
    "duration": 7,
    "start_time": "2022-02-05T13:11:22.859Z"
   },
   {
    "duration": 8,
    "start_time": "2022-02-05T13:11:22.900Z"
   },
   {
    "duration": 35,
    "start_time": "2022-02-05T13:11:22.910Z"
   },
   {
    "duration": 24,
    "start_time": "2022-02-05T13:11:22.946Z"
   },
   {
    "duration": 71,
    "start_time": "2022-02-05T13:11:22.971Z"
   },
   {
    "duration": 2,
    "start_time": "2022-02-05T13:11:23.044Z"
   },
   {
    "duration": 7,
    "start_time": "2022-02-05T13:11:23.047Z"
   },
   {
    "duration": 6,
    "start_time": "2022-02-05T13:11:23.056Z"
   },
   {
    "duration": 7,
    "start_time": "2022-02-05T13:11:23.063Z"
   },
   {
    "duration": 15,
    "start_time": "2022-02-05T13:11:23.072Z"
   },
   {
    "duration": 3,
    "start_time": "2022-02-05T13:11:23.099Z"
   },
   {
    "duration": 5,
    "start_time": "2022-02-05T13:11:23.104Z"
   },
   {
    "duration": 7,
    "start_time": "2022-02-05T13:11:23.111Z"
   },
   {
    "duration": 6,
    "start_time": "2022-02-05T13:11:23.120Z"
   },
   {
    "duration": 15,
    "start_time": "2022-02-05T13:12:22.492Z"
   },
   {
    "duration": 394,
    "start_time": "2022-02-05T13:39:15.334Z"
   },
   {
    "duration": 19,
    "start_time": "2022-02-05T13:39:39.202Z"
   },
   {
    "duration": 31,
    "start_time": "2022-02-05T13:40:01.826Z"
   },
   {
    "duration": 22,
    "start_time": "2022-02-05T13:40:03.040Z"
   },
   {
    "duration": 46,
    "start_time": "2022-02-05T13:40:15.099Z"
   },
   {
    "duration": 29,
    "start_time": "2022-02-05T13:41:24.788Z"
   },
   {
    "duration": 22,
    "start_time": "2022-02-05T13:41:27.197Z"
   },
   {
    "duration": 42,
    "start_time": "2022-02-05T13:41:49.940Z"
   },
   {
    "duration": 749,
    "start_time": "2022-02-05T13:42:55.243Z"
   },
   {
    "duration": 28,
    "start_time": "2022-02-05T13:42:59.684Z"
   },
   {
    "duration": 30,
    "start_time": "2022-02-05T13:43:17.376Z"
   },
   {
    "duration": 24,
    "start_time": "2022-02-05T13:43:19.292Z"
   },
   {
    "duration": 846,
    "start_time": "2022-02-05T13:45:49.603Z"
   },
   {
    "duration": 25,
    "start_time": "2022-02-05T13:45:50.628Z"
   },
   {
    "duration": 29,
    "start_time": "2022-02-05T13:46:05.169Z"
   },
   {
    "duration": 25,
    "start_time": "2022-02-05T13:46:07.138Z"
   },
   {
    "duration": 316,
    "start_time": "2022-02-05T13:46:52.110Z"
   },
   {
    "duration": 282,
    "start_time": "2022-02-05T13:46:55.886Z"
   },
   {
    "duration": 267,
    "start_time": "2022-02-05T13:47:01.127Z"
   },
   {
    "duration": 1575,
    "start_time": "2022-02-05T13:47:07.139Z"
   },
   {
    "duration": 236,
    "start_time": "2022-02-05T13:47:08.716Z"
   },
   {
    "duration": 3550,
    "start_time": "2022-02-05T13:47:08.955Z"
   },
   {
    "duration": 13,
    "start_time": "2022-02-05T13:47:12.507Z"
   },
   {
    "duration": 89,
    "start_time": "2022-02-05T13:47:12.522Z"
   },
   {
    "duration": 95,
    "start_time": "2022-02-05T13:47:12.613Z"
   },
   {
    "duration": 56,
    "start_time": "2022-02-05T13:47:12.711Z"
   },
   {
    "duration": 37,
    "start_time": "2022-02-05T13:47:12.770Z"
   },
   {
    "duration": 22,
    "start_time": "2022-02-05T13:47:12.810Z"
   },
   {
    "duration": 15,
    "start_time": "2022-02-05T13:47:12.834Z"
   },
   {
    "duration": 11,
    "start_time": "2022-02-05T13:47:12.851Z"
   },
   {
    "duration": 94,
    "start_time": "2022-02-05T13:47:12.865Z"
   },
   {
    "duration": 67,
    "start_time": "2022-02-05T13:47:12.961Z"
   },
   {
    "duration": 45,
    "start_time": "2022-02-05T13:47:13.030Z"
   },
   {
    "duration": 33,
    "start_time": "2022-02-05T13:47:13.077Z"
   },
   {
    "duration": 15,
    "start_time": "2022-02-05T13:47:13.112Z"
   },
   {
    "duration": 17,
    "start_time": "2022-02-05T13:47:13.129Z"
   },
   {
    "duration": 19,
    "start_time": "2022-02-05T13:47:13.148Z"
   },
   {
    "duration": 19,
    "start_time": "2022-02-05T13:47:13.169Z"
   },
   {
    "duration": 26,
    "start_time": "2022-02-05T13:47:13.189Z"
   },
   {
    "duration": 37,
    "start_time": "2022-02-05T13:47:13.217Z"
   },
   {
    "duration": 30,
    "start_time": "2022-02-05T13:47:13.256Z"
   },
   {
    "duration": 38,
    "start_time": "2022-02-05T13:47:13.289Z"
   },
   {
    "duration": 12,
    "start_time": "2022-02-05T13:47:13.330Z"
   },
   {
    "duration": 13,
    "start_time": "2022-02-05T13:47:13.344Z"
   },
   {
    "duration": 43,
    "start_time": "2022-02-05T13:47:13.359Z"
   },
   {
    "duration": 9,
    "start_time": "2022-02-05T13:47:13.404Z"
   },
   {
    "duration": 25,
    "start_time": "2022-02-05T13:47:13.414Z"
   },
   {
    "duration": 19,
    "start_time": "2022-02-05T13:47:13.441Z"
   },
   {
    "duration": 37,
    "start_time": "2022-02-05T13:47:13.462Z"
   },
   {
    "duration": 42,
    "start_time": "2022-02-05T13:47:13.501Z"
   },
   {
    "duration": 27,
    "start_time": "2022-02-05T13:47:13.546Z"
   },
   {
    "duration": 59,
    "start_time": "2022-02-05T13:47:13.575Z"
   },
   {
    "duration": 2,
    "start_time": "2022-02-05T13:47:13.636Z"
   },
   {
    "duration": 9,
    "start_time": "2022-02-05T13:47:13.640Z"
   },
   {
    "duration": 12,
    "start_time": "2022-02-05T13:47:13.651Z"
   },
   {
    "duration": 5,
    "start_time": "2022-02-05T13:47:13.666Z"
   },
   {
    "duration": 7,
    "start_time": "2022-02-05T13:47:13.673Z"
   },
   {
    "duration": 17,
    "start_time": "2022-02-05T13:47:13.682Z"
   },
   {
    "duration": 170,
    "start_time": "2022-02-05T13:47:13.701Z"
   },
   {
    "duration": 7,
    "start_time": "2022-02-05T13:47:13.873Z"
   },
   {
    "duration": 5,
    "start_time": "2022-02-05T13:47:13.882Z"
   },
   {
    "duration": 20,
    "start_time": "2022-02-05T13:54:44.606Z"
   },
   {
    "duration": 3,
    "start_time": "2022-02-05T14:10:43.743Z"
   },
   {
    "duration": 5,
    "start_time": "2022-02-05T14:10:53.403Z"
   },
   {
    "duration": 409,
    "start_time": "2022-02-05T14:14:26.445Z"
   },
   {
    "duration": 33,
    "start_time": "2022-02-05T14:14:52.589Z"
   },
   {
    "duration": 354,
    "start_time": "2022-02-05T14:29:11.136Z"
   },
   {
    "duration": 14,
    "start_time": "2022-02-05T14:30:21.343Z"
   },
   {
    "duration": 26,
    "start_time": "2022-02-05T14:31:50.709Z"
   },
   {
    "duration": 23,
    "start_time": "2022-02-05T14:32:29.247Z"
   },
   {
    "duration": 15,
    "start_time": "2022-02-05T14:32:32.219Z"
   },
   {
    "duration": 36,
    "start_time": "2022-02-05T14:32:32.982Z"
   },
   {
    "duration": 17,
    "start_time": "2022-02-05T14:32:33.476Z"
   },
   {
    "duration": 17,
    "start_time": "2022-02-05T14:33:08.697Z"
   },
   {
    "duration": 22,
    "start_time": "2022-02-05T14:33:26.943Z"
   },
   {
    "duration": 35,
    "start_time": "2022-02-05T14:33:35.617Z"
   },
   {
    "duration": 25,
    "start_time": "2022-02-05T14:34:01.314Z"
   },
   {
    "duration": 14,
    "start_time": "2022-02-05T14:34:38.471Z"
   },
   {
    "duration": 7,
    "start_time": "2022-02-05T14:35:10.192Z"
   },
   {
    "duration": 8,
    "start_time": "2022-02-05T14:35:35.510Z"
   },
   {
    "duration": 17,
    "start_time": "2022-02-05T14:40:32.884Z"
   },
   {
    "duration": 13,
    "start_time": "2022-02-05T14:40:46.903Z"
   },
   {
    "duration": 31,
    "start_time": "2022-02-05T14:41:32.372Z"
   },
   {
    "duration": 24,
    "start_time": "2022-02-05T14:41:37.246Z"
   },
   {
    "duration": 13,
    "start_time": "2022-02-05T14:42:02.570Z"
   },
   {
    "duration": 13,
    "start_time": "2022-02-05T14:43:04.988Z"
   },
   {
    "duration": 18,
    "start_time": "2022-02-05T14:44:28.146Z"
   },
   {
    "duration": 22,
    "start_time": "2022-02-05T14:44:47.227Z"
   },
   {
    "duration": 19,
    "start_time": "2022-02-05T14:45:37.931Z"
   },
   {
    "duration": 334,
    "start_time": "2022-02-05T14:47:20.269Z"
   },
   {
    "duration": 19,
    "start_time": "2022-02-05T14:47:30.257Z"
   },
   {
    "duration": 21,
    "start_time": "2022-02-05T14:48:43.055Z"
   },
   {
    "duration": 8,
    "start_time": "2022-02-05T14:50:52.646Z"
   },
   {
    "duration": 40,
    "start_time": "2022-02-05T15:15:14.565Z"
   },
   {
    "duration": 21,
    "start_time": "2022-02-05T15:16:39.232Z"
   },
   {
    "duration": 16,
    "start_time": "2022-02-05T15:17:11.949Z"
   },
   {
    "duration": 8,
    "start_time": "2022-02-05T15:17:27.299Z"
   },
   {
    "duration": 19,
    "start_time": "2022-02-05T15:18:30.618Z"
   },
   {
    "duration": 14,
    "start_time": "2022-02-05T15:18:32.259Z"
   },
   {
    "duration": 7,
    "start_time": "2022-02-05T15:19:29.029Z"
   },
   {
    "duration": 15,
    "start_time": "2022-02-05T15:19:30.317Z"
   },
   {
    "duration": 14,
    "start_time": "2022-02-05T15:19:31.111Z"
   },
   {
    "duration": 12,
    "start_time": "2022-02-05T15:20:18.198Z"
   },
   {
    "duration": 10,
    "start_time": "2022-02-05T15:20:20.646Z"
   },
   {
    "duration": 5,
    "start_time": "2022-02-05T15:21:13.551Z"
   },
   {
    "duration": 7,
    "start_time": "2022-02-05T15:21:14.529Z"
   },
   {
    "duration": 35,
    "start_time": "2022-02-05T15:21:15.717Z"
   },
   {
    "duration": 10,
    "start_time": "2022-02-05T15:21:46.267Z"
   },
   {
    "duration": 31,
    "start_time": "2022-02-05T15:21:47.365Z"
   },
   {
    "duration": 7,
    "start_time": "2022-02-05T15:21:48.490Z"
   },
   {
    "duration": 7,
    "start_time": "2022-02-05T15:23:39.688Z"
   },
   {
    "duration": 5,
    "start_time": "2022-02-05T15:23:41.958Z"
   },
   {
    "duration": 9,
    "start_time": "2022-02-05T15:23:43.836Z"
   },
   {
    "duration": 1021,
    "start_time": "2022-02-05T15:35:38.738Z"
   },
   {
    "duration": 653,
    "start_time": "2022-02-05T15:35:47.565Z"
   },
   {
    "duration": 5,
    "start_time": "2022-02-05T15:35:54.788Z"
   },
   {
    "duration": 320,
    "start_time": "2022-02-05T15:37:15.136Z"
   },
   {
    "duration": 6,
    "start_time": "2022-02-05T15:37:26.067Z"
   },
   {
    "duration": 15,
    "start_time": "2022-02-05T15:37:34.103Z"
   },
   {
    "duration": 15,
    "start_time": "2022-02-05T15:37:41.843Z"
   },
   {
    "duration": 13,
    "start_time": "2022-02-05T15:37:54.589Z"
   },
   {
    "duration": 6,
    "start_time": "2022-02-05T15:38:18.844Z"
   },
   {
    "duration": 5,
    "start_time": "2022-02-05T15:38:21.126Z"
   },
   {
    "duration": 256,
    "start_time": "2022-02-05T15:44:44.670Z"
   },
   {
    "duration": 7,
    "start_time": "2022-02-05T15:44:52.722Z"
   },
   {
    "duration": 38,
    "start_time": "2022-02-05T15:45:09.060Z"
   },
   {
    "duration": 43,
    "start_time": "2022-02-05T15:45:23.658Z"
   },
   {
    "duration": 18,
    "start_time": "2022-02-05T15:45:57.813Z"
   },
   {
    "duration": 6,
    "start_time": "2022-02-05T15:46:20.977Z"
   },
   {
    "duration": 1515,
    "start_time": "2022-02-05T16:37:59.951Z"
   },
   {
    "duration": 333,
    "start_time": "2022-02-05T16:38:01.468Z"
   },
   {
    "duration": 17,
    "start_time": "2022-02-05T16:38:01.804Z"
   },
   {
    "duration": 29,
    "start_time": "2022-02-05T16:38:01.823Z"
   },
   {
    "duration": 17,
    "start_time": "2022-02-05T16:38:01.854Z"
   },
   {
    "duration": 23,
    "start_time": "2022-02-05T16:38:01.898Z"
   },
   {
    "duration": 18,
    "start_time": "2022-02-05T16:38:01.923Z"
   },
   {
    "duration": 18,
    "start_time": "2022-02-05T16:38:01.943Z"
   },
   {
    "duration": 42,
    "start_time": "2022-02-05T16:38:01.963Z"
   },
   {
    "duration": 23,
    "start_time": "2022-02-05T16:38:02.008Z"
   },
   {
    "duration": 16,
    "start_time": "2022-02-05T16:38:02.033Z"
   },
   {
    "duration": 48,
    "start_time": "2022-02-05T16:38:02.051Z"
   },
   {
    "duration": 15,
    "start_time": "2022-02-05T16:38:02.101Z"
   },
   {
    "duration": 14,
    "start_time": "2022-02-05T16:38:02.118Z"
   },
   {
    "duration": 12,
    "start_time": "2022-02-05T16:38:02.134Z"
   },
   {
    "duration": 51,
    "start_time": "2022-02-05T16:38:02.149Z"
   },
   {
    "duration": 15,
    "start_time": "2022-02-05T16:38:02.202Z"
   },
   {
    "duration": 18,
    "start_time": "2022-02-05T16:38:02.219Z"
   },
   {
    "duration": 17,
    "start_time": "2022-02-05T16:38:02.239Z"
   },
   {
    "duration": 11,
    "start_time": "2022-02-05T16:38:02.258Z"
   },
   {
    "duration": 17,
    "start_time": "2022-02-05T16:38:02.299Z"
   },
   {
    "duration": 26,
    "start_time": "2022-02-05T16:38:02.317Z"
   },
   {
    "duration": 7,
    "start_time": "2022-02-05T16:38:02.348Z"
   },
   {
    "duration": 16,
    "start_time": "2022-02-05T16:38:02.358Z"
   },
   {
    "duration": 22,
    "start_time": "2022-02-05T16:38:02.376Z"
   },
   {
    "duration": 9,
    "start_time": "2022-02-05T16:38:02.401Z"
   },
   {
    "duration": 19,
    "start_time": "2022-02-05T16:38:02.412Z"
   },
   {
    "duration": 37,
    "start_time": "2022-02-05T16:38:02.433Z"
   },
   {
    "duration": 26,
    "start_time": "2022-02-05T16:38:02.471Z"
   },
   {
    "duration": 6,
    "start_time": "2022-02-05T16:38:02.500Z"
   },
   {
    "duration": 11,
    "start_time": "2022-02-05T16:38:02.508Z"
   },
   {
    "duration": 47,
    "start_time": "2022-02-05T16:38:02.521Z"
   },
   {
    "duration": 71,
    "start_time": "2022-02-05T16:38:02.570Z"
   },
   {
    "duration": 20,
    "start_time": "2022-02-05T16:38:02.643Z"
   },
   {
    "duration": 7,
    "start_time": "2022-02-05T16:38:02.665Z"
   },
   {
    "duration": 26,
    "start_time": "2022-02-05T16:38:02.674Z"
   },
   {
    "duration": 14,
    "start_time": "2022-02-05T16:38:02.702Z"
   },
   {
    "duration": 8,
    "start_time": "2022-02-05T16:38:02.718Z"
   },
   {
    "duration": 7,
    "start_time": "2022-02-05T16:38:02.727Z"
   },
   {
    "duration": 11,
    "start_time": "2022-02-05T16:38:02.736Z"
   },
   {
    "duration": 7,
    "start_time": "2022-02-05T16:38:02.748Z"
   },
   {
    "duration": 10,
    "start_time": "2022-02-05T16:38:02.757Z"
   },
   {
    "duration": 606,
    "start_time": "2022-02-05T16:38:02.768Z"
   },
   {
    "duration": 3,
    "start_time": "2022-02-05T16:38:03.375Z"
   },
   {
    "duration": 13,
    "start_time": "2022-02-05T16:38:03.379Z"
   },
   {
    "duration": 5,
    "start_time": "2022-02-05T16:38:03.394Z"
   },
   {
    "duration": 4,
    "start_time": "2022-02-05T16:38:03.401Z"
   },
   {
    "duration": 7,
    "start_time": "2022-02-05T16:38:03.407Z"
   },
   {
    "duration": 10,
    "start_time": "2022-02-05T16:38:03.416Z"
   },
   {
    "duration": 6,
    "start_time": "2022-02-05T16:38:03.427Z"
   },
   {
    "duration": 6,
    "start_time": "2022-02-05T16:38:03.435Z"
   },
   {
    "duration": 9,
    "start_time": "2022-02-05T16:38:03.443Z"
   },
   {
    "duration": 8,
    "start_time": "2022-02-05T16:38:03.455Z"
   },
   {
    "duration": 12,
    "start_time": "2022-02-05T16:38:03.465Z"
   },
   {
    "duration": 8,
    "start_time": "2022-02-05T16:38:03.479Z"
   },
   {
    "duration": 10,
    "start_time": "2022-02-05T16:38:03.489Z"
   },
   {
    "duration": 7,
    "start_time": "2022-02-05T16:38:03.500Z"
   },
   {
    "duration": 7,
    "start_time": "2022-02-05T16:38:03.508Z"
   },
   {
    "duration": 6,
    "start_time": "2022-02-05T16:38:03.517Z"
   },
   {
    "duration": 8,
    "start_time": "2022-02-05T16:38:03.525Z"
   },
   {
    "duration": 7,
    "start_time": "2022-02-05T16:38:03.535Z"
   },
   {
    "duration": 8,
    "start_time": "2022-02-05T16:38:03.543Z"
   },
   {
    "duration": 6,
    "start_time": "2022-02-05T16:38:03.553Z"
   },
   {
    "duration": 8,
    "start_time": "2022-02-05T16:38:03.561Z"
   },
   {
    "duration": 9,
    "start_time": "2022-02-05T16:38:03.571Z"
   },
   {
    "duration": 98,
    "start_time": "2022-02-05T16:38:03.581Z"
   },
   {
    "duration": 3098,
    "start_time": "2022-02-05T16:38:00.584Z"
   },
   {
    "duration": 3096,
    "start_time": "2022-02-05T16:38:00.587Z"
   },
   {
    "duration": 3095,
    "start_time": "2022-02-05T16:38:00.589Z"
   },
   {
    "duration": 3093,
    "start_time": "2022-02-05T16:38:00.592Z"
   },
   {
    "duration": 3092,
    "start_time": "2022-02-05T16:38:00.594Z"
   },
   {
    "duration": 3090,
    "start_time": "2022-02-05T16:38:00.597Z"
   },
   {
    "duration": 3089,
    "start_time": "2022-02-05T16:38:00.599Z"
   },
   {
    "duration": 3087,
    "start_time": "2022-02-05T16:38:00.602Z"
   },
   {
    "duration": 3085,
    "start_time": "2022-02-05T16:38:00.606Z"
   },
   {
    "duration": 3072,
    "start_time": "2022-02-05T16:38:00.620Z"
   },
   {
    "duration": 3070,
    "start_time": "2022-02-05T16:38:00.623Z"
   },
   {
    "duration": 305,
    "start_time": "2022-02-06T10:05:21.090Z"
   },
   {
    "duration": 1909,
    "start_time": "2022-02-06T10:05:32.413Z"
   },
   {
    "duration": 783,
    "start_time": "2022-02-06T10:05:34.325Z"
   },
   {
    "duration": 22,
    "start_time": "2022-02-06T10:05:35.111Z"
   },
   {
    "duration": 32,
    "start_time": "2022-02-06T10:05:35.136Z"
   },
   {
    "duration": 21,
    "start_time": "2022-02-06T10:05:35.170Z"
   },
   {
    "duration": 31,
    "start_time": "2022-02-06T10:05:35.193Z"
   },
   {
    "duration": 48,
    "start_time": "2022-02-06T10:05:35.226Z"
   },
   {
    "duration": 21,
    "start_time": "2022-02-06T10:05:35.277Z"
   },
   {
    "duration": 21,
    "start_time": "2022-02-06T10:05:35.301Z"
   },
   {
    "duration": 59,
    "start_time": "2022-02-06T10:05:35.325Z"
   },
   {
    "duration": 21,
    "start_time": "2022-02-06T10:05:35.387Z"
   },
   {
    "duration": 22,
    "start_time": "2022-02-06T10:05:35.410Z"
   },
   {
    "duration": 47,
    "start_time": "2022-02-06T10:05:35.434Z"
   },
   {
    "duration": 16,
    "start_time": "2022-02-06T10:05:35.483Z"
   },
   {
    "duration": 14,
    "start_time": "2022-02-06T10:05:35.501Z"
   },
   {
    "duration": 53,
    "start_time": "2022-02-06T10:05:35.518Z"
   },
   {
    "duration": 16,
    "start_time": "2022-02-06T10:05:35.574Z"
   },
   {
    "duration": 19,
    "start_time": "2022-02-06T10:05:35.593Z"
   },
   {
    "duration": 15,
    "start_time": "2022-02-06T10:05:35.614Z"
   },
   {
    "duration": 48,
    "start_time": "2022-02-06T10:05:35.632Z"
   },
   {
    "duration": 23,
    "start_time": "2022-02-06T10:05:35.683Z"
   },
   {
    "duration": 23,
    "start_time": "2022-02-06T10:05:35.709Z"
   },
   {
    "duration": 8,
    "start_time": "2022-02-06T10:05:35.776Z"
   },
   {
    "duration": 8,
    "start_time": "2022-02-06T10:05:35.790Z"
   },
   {
    "duration": 8,
    "start_time": "2022-02-06T10:05:35.801Z"
   },
   {
    "duration": 12,
    "start_time": "2022-02-06T10:05:35.811Z"
   },
   {
    "duration": 51,
    "start_time": "2022-02-06T10:05:35.825Z"
   },
   {
    "duration": 50,
    "start_time": "2022-02-06T10:05:35.878Z"
   },
   {
    "duration": 9,
    "start_time": "2022-02-06T10:05:35.930Z"
   },
   {
    "duration": 35,
    "start_time": "2022-02-06T10:05:35.941Z"
   },
   {
    "duration": 59,
    "start_time": "2022-02-06T10:05:35.978Z"
   },
   {
    "duration": 78,
    "start_time": "2022-02-06T10:05:36.039Z"
   },
   {
    "duration": 27,
    "start_time": "2022-02-06T10:05:36.119Z"
   },
   {
    "duration": 26,
    "start_time": "2022-02-06T10:05:36.148Z"
   },
   {
    "duration": 37,
    "start_time": "2022-02-06T10:05:36.176Z"
   },
   {
    "duration": 4,
    "start_time": "2022-02-06T10:05:36.216Z"
   },
   {
    "duration": 5,
    "start_time": "2022-02-06T10:05:36.223Z"
   },
   {
    "duration": 7,
    "start_time": "2022-02-06T10:05:36.230Z"
   },
   {
    "duration": 32,
    "start_time": "2022-02-06T10:05:36.239Z"
   },
   {
    "duration": 16,
    "start_time": "2022-02-06T10:05:36.273Z"
   },
   {
    "duration": 22,
    "start_time": "2022-02-06T10:05:36.291Z"
   },
   {
    "duration": 27,
    "start_time": "2022-02-06T10:05:36.316Z"
   },
   {
    "duration": 17,
    "start_time": "2022-02-06T10:05:36.346Z"
   },
   {
    "duration": 808,
    "start_time": "2022-02-06T10:05:36.365Z"
   },
   {
    "duration": 2,
    "start_time": "2022-02-06T10:05:37.176Z"
   },
   {
    "duration": 9,
    "start_time": "2022-02-06T10:05:37.181Z"
   },
   {
    "duration": 18,
    "start_time": "2022-02-06T10:05:37.192Z"
   },
   {
    "duration": 11,
    "start_time": "2022-02-06T10:05:37.212Z"
   },
   {
    "duration": 6,
    "start_time": "2022-02-06T10:05:37.225Z"
   },
   {
    "duration": 5,
    "start_time": "2022-02-06T10:05:37.233Z"
   },
   {
    "duration": 9,
    "start_time": "2022-02-06T10:05:37.240Z"
   },
   {
    "duration": 18,
    "start_time": "2022-02-06T10:05:37.251Z"
   },
   {
    "duration": 8,
    "start_time": "2022-02-06T10:05:37.271Z"
   },
   {
    "duration": 10,
    "start_time": "2022-02-06T10:05:37.281Z"
   },
   {
    "duration": 9,
    "start_time": "2022-02-06T10:05:37.293Z"
   },
   {
    "duration": 7,
    "start_time": "2022-02-06T10:05:37.305Z"
   },
   {
    "duration": 5,
    "start_time": "2022-02-06T10:05:37.314Z"
   },
   {
    "duration": 5,
    "start_time": "2022-02-06T10:05:37.322Z"
   },
   {
    "duration": 6,
    "start_time": "2022-02-06T10:05:37.329Z"
   },
   {
    "duration": 32,
    "start_time": "2022-02-06T10:05:37.337Z"
   },
   {
    "duration": 5,
    "start_time": "2022-02-06T10:05:37.372Z"
   },
   {
    "duration": 5,
    "start_time": "2022-02-06T10:05:37.380Z"
   },
   {
    "duration": 5,
    "start_time": "2022-02-06T10:05:37.387Z"
   },
   {
    "duration": 8,
    "start_time": "2022-02-06T10:05:37.395Z"
   },
   {
    "duration": 11,
    "start_time": "2022-02-06T10:05:37.405Z"
   },
   {
    "duration": 11,
    "start_time": "2022-02-06T10:05:37.418Z"
   },
   {
    "duration": 95,
    "start_time": "2022-02-06T10:05:37.432Z"
   },
   {
    "duration": -100,
    "start_time": "2022-02-06T10:05:37.631Z"
   },
   {
    "duration": -100,
    "start_time": "2022-02-06T10:05:37.633Z"
   },
   {
    "duration": -105,
    "start_time": "2022-02-06T10:05:37.639Z"
   },
   {
    "duration": -105,
    "start_time": "2022-02-06T10:05:37.641Z"
   },
   {
    "duration": -105,
    "start_time": "2022-02-06T10:05:37.642Z"
   },
   {
    "duration": -104,
    "start_time": "2022-02-06T10:05:37.643Z"
   },
   {
    "duration": -104,
    "start_time": "2022-02-06T10:05:37.644Z"
   },
   {
    "duration": -105,
    "start_time": "2022-02-06T10:05:37.646Z"
   },
   {
    "duration": -107,
    "start_time": "2022-02-06T10:05:37.650Z"
   },
   {
    "duration": -108,
    "start_time": "2022-02-06T10:05:37.652Z"
   },
   {
    "duration": -107,
    "start_time": "2022-02-06T10:05:37.653Z"
   },
   {
    "duration": 1544,
    "start_time": "2022-02-06T14:06:50.642Z"
   },
   {
    "duration": 840,
    "start_time": "2022-02-06T14:06:52.188Z"
   },
   {
    "duration": 13,
    "start_time": "2022-02-06T14:06:53.030Z"
   },
   {
    "duration": 29,
    "start_time": "2022-02-06T14:06:53.045Z"
   },
   {
    "duration": 25,
    "start_time": "2022-02-06T14:06:53.076Z"
   },
   {
    "duration": 49,
    "start_time": "2022-02-06T14:06:53.103Z"
   },
   {
    "duration": 20,
    "start_time": "2022-02-06T14:06:53.154Z"
   },
   {
    "duration": 19,
    "start_time": "2022-02-06T14:06:53.179Z"
   },
   {
    "duration": 30,
    "start_time": "2022-02-06T14:06:53.200Z"
   },
   {
    "duration": 17,
    "start_time": "2022-02-06T14:06:53.232Z"
   },
   {
    "duration": 12,
    "start_time": "2022-02-06T14:06:53.250Z"
   },
   {
    "duration": 17,
    "start_time": "2022-02-06T14:06:53.263Z"
   },
   {
    "duration": 12,
    "start_time": "2022-02-06T14:06:53.281Z"
   },
   {
    "duration": 35,
    "start_time": "2022-02-06T14:06:53.294Z"
   },
   {
    "duration": 9,
    "start_time": "2022-02-06T14:06:53.330Z"
   },
   {
    "duration": 14,
    "start_time": "2022-02-06T14:06:53.341Z"
   },
   {
    "duration": 9,
    "start_time": "2022-02-06T14:06:53.356Z"
   },
   {
    "duration": 15,
    "start_time": "2022-02-06T14:06:53.367Z"
   },
   {
    "duration": 9,
    "start_time": "2022-02-06T14:06:53.383Z"
   },
   {
    "duration": 33,
    "start_time": "2022-02-06T14:06:53.394Z"
   },
   {
    "duration": 13,
    "start_time": "2022-02-06T14:06:53.429Z"
   },
   {
    "duration": 17,
    "start_time": "2022-02-06T14:06:53.443Z"
   },
   {
    "duration": 6,
    "start_time": "2022-02-06T14:06:53.463Z"
   },
   {
    "duration": 7,
    "start_time": "2022-02-06T14:06:53.471Z"
   },
   {
    "duration": 6,
    "start_time": "2022-02-06T14:06:53.480Z"
   },
   {
    "duration": 8,
    "start_time": "2022-02-06T14:06:53.487Z"
   },
   {
    "duration": 31,
    "start_time": "2022-02-06T14:06:53.497Z"
   },
   {
    "duration": 26,
    "start_time": "2022-02-06T14:06:53.529Z"
   },
   {
    "duration": 5,
    "start_time": "2022-02-06T14:06:53.557Z"
   },
   {
    "duration": 9,
    "start_time": "2022-02-06T14:06:53.563Z"
   },
   {
    "duration": 63,
    "start_time": "2022-02-06T14:06:53.574Z"
   },
   {
    "duration": 38,
    "start_time": "2022-02-06T14:06:53.639Z"
   },
   {
    "duration": 16,
    "start_time": "2022-02-06T14:06:53.679Z"
   },
   {
    "duration": 5,
    "start_time": "2022-02-06T14:06:53.696Z"
   },
   {
    "duration": 41,
    "start_time": "2022-02-06T14:06:53.703Z"
   },
   {
    "duration": 4,
    "start_time": "2022-02-06T14:06:53.746Z"
   },
   {
    "duration": 7,
    "start_time": "2022-02-06T14:06:53.751Z"
   },
   {
    "duration": 5,
    "start_time": "2022-02-06T14:06:53.760Z"
   },
   {
    "duration": 4,
    "start_time": "2022-02-06T14:06:53.767Z"
   },
   {
    "duration": 4,
    "start_time": "2022-02-06T14:06:53.773Z"
   },
   {
    "duration": 6,
    "start_time": "2022-02-06T14:06:53.779Z"
   },
   {
    "duration": 7,
    "start_time": "2022-02-06T14:06:53.786Z"
   },
   {
    "duration": 9,
    "start_time": "2022-02-06T14:06:53.794Z"
   },
   {
    "duration": 523,
    "start_time": "2022-02-06T14:06:53.805Z"
   },
   {
    "duration": 2,
    "start_time": "2022-02-06T14:06:54.330Z"
   },
   {
    "duration": 5,
    "start_time": "2022-02-06T14:06:54.334Z"
   },
   {
    "duration": 4,
    "start_time": "2022-02-06T14:06:54.341Z"
   },
   {
    "duration": 4,
    "start_time": "2022-02-06T14:06:54.347Z"
   },
   {
    "duration": 5,
    "start_time": "2022-02-06T14:06:54.353Z"
   },
   {
    "duration": 5,
    "start_time": "2022-02-06T14:06:54.360Z"
   },
   {
    "duration": 5,
    "start_time": "2022-02-06T14:06:54.366Z"
   },
   {
    "duration": 4,
    "start_time": "2022-02-06T14:06:54.373Z"
   },
   {
    "duration": 5,
    "start_time": "2022-02-06T14:06:54.378Z"
   },
   {
    "duration": 4,
    "start_time": "2022-02-06T14:06:54.384Z"
   },
   {
    "duration": 5,
    "start_time": "2022-02-06T14:06:54.390Z"
   },
   {
    "duration": 31,
    "start_time": "2022-02-06T14:06:54.396Z"
   },
   {
    "duration": 6,
    "start_time": "2022-02-06T14:06:54.429Z"
   },
   {
    "duration": 7,
    "start_time": "2022-02-06T14:06:54.436Z"
   },
   {
    "duration": 9,
    "start_time": "2022-02-06T14:06:54.445Z"
   },
   {
    "duration": 5,
    "start_time": "2022-02-06T14:06:54.455Z"
   },
   {
    "duration": 8,
    "start_time": "2022-02-06T14:06:54.462Z"
   },
   {
    "duration": 4,
    "start_time": "2022-02-06T14:06:54.472Z"
   },
   {
    "duration": 5,
    "start_time": "2022-02-06T14:06:54.477Z"
   },
   {
    "duration": 5,
    "start_time": "2022-02-06T14:06:54.484Z"
   },
   {
    "duration": 4,
    "start_time": "2022-02-06T14:06:54.490Z"
   },
   {
    "duration": 4,
    "start_time": "2022-02-06T14:06:54.496Z"
   },
   {
    "duration": 99,
    "start_time": "2022-02-06T14:06:54.502Z"
   },
   {
    "duration": 2820,
    "start_time": "2022-02-06T14:06:51.783Z"
   },
   {
    "duration": 2820,
    "start_time": "2022-02-06T14:06:51.784Z"
   },
   {
    "duration": 2819,
    "start_time": "2022-02-06T14:06:51.785Z"
   },
   {
    "duration": 2819,
    "start_time": "2022-02-06T14:06:51.786Z"
   },
   {
    "duration": 2818,
    "start_time": "2022-02-06T14:06:51.787Z"
   },
   {
    "duration": 2818,
    "start_time": "2022-02-06T14:06:51.788Z"
   },
   {
    "duration": 2817,
    "start_time": "2022-02-06T14:06:51.789Z"
   },
   {
    "duration": 2812,
    "start_time": "2022-02-06T14:06:51.795Z"
   },
   {
    "duration": 2809,
    "start_time": "2022-02-06T14:06:51.799Z"
   },
   {
    "duration": 2808,
    "start_time": "2022-02-06T14:06:51.800Z"
   },
   {
    "duration": 2808,
    "start_time": "2022-02-06T14:06:51.801Z"
   },
   {
    "duration": 12,
    "start_time": "2022-02-06T14:35:22.838Z"
   },
   {
    "duration": 2886,
    "start_time": "2022-02-06T14:40:23.567Z"
   },
   {
    "duration": 14,
    "start_time": "2022-02-06T14:40:41.366Z"
   },
   {
    "duration": 17,
    "start_time": "2022-02-06T14:41:47.330Z"
   },
   {
    "duration": 20,
    "start_time": "2022-02-06T14:42:39.775Z"
   },
   {
    "duration": 4,
    "start_time": "2022-02-06T14:43:12.010Z"
   },
   {
    "duration": 19,
    "start_time": "2022-02-06T14:43:12.740Z"
   },
   {
    "duration": 4,
    "start_time": "2022-02-06T14:43:34.699Z"
   },
   {
    "duration": 18,
    "start_time": "2022-02-06T14:43:36.120Z"
   },
   {
    "duration": 8730,
    "start_time": "2022-02-06T14:44:16.655Z"
   },
   {
    "duration": 4,
    "start_time": "2022-02-06T14:44:42.857Z"
   },
   {
    "duration": 12,
    "start_time": "2022-02-06T14:44:59.208Z"
   },
   {
    "duration": 4,
    "start_time": "2022-02-06T14:46:06.737Z"
   },
   {
    "duration": 19,
    "start_time": "2022-02-06T14:46:11.364Z"
   },
   {
    "duration": 2,
    "start_time": "2022-02-06T14:46:22.958Z"
   },
   {
    "duration": 16,
    "start_time": "2022-02-06T14:46:23.637Z"
   },
   {
    "duration": 17,
    "start_time": "2022-02-06T14:46:25.917Z"
   },
   {
    "duration": 11,
    "start_time": "2022-02-06T14:46:27.399Z"
   },
   {
    "duration": 3,
    "start_time": "2022-02-06T14:46:42.439Z"
   },
   {
    "duration": 18,
    "start_time": "2022-02-06T14:46:42.865Z"
   },
   {
    "duration": 11,
    "start_time": "2022-02-06T14:54:41.165Z"
   },
   {
    "duration": 9,
    "start_time": "2022-02-06T14:56:59.425Z"
   },
   {
    "duration": 26,
    "start_time": "2022-02-06T15:01:18.579Z"
   },
   {
    "duration": 19,
    "start_time": "2022-02-06T16:10:17.105Z"
   },
   {
    "duration": 8002,
    "start_time": "2022-02-06T16:11:18.597Z"
   },
   {
    "duration": 9,
    "start_time": "2022-02-06T16:12:06.304Z"
   },
   {
    "duration": 314,
    "start_time": "2022-02-06T16:19:43.734Z"
   },
   {
    "duration": 9,
    "start_time": "2022-02-06T16:20:20.407Z"
   },
   {
    "duration": 20,
    "start_time": "2022-02-06T16:21:00.592Z"
   },
   {
    "duration": 21,
    "start_time": "2022-02-06T16:21:32.101Z"
   },
   {
    "duration": 18,
    "start_time": "2022-02-06T16:21:52.687Z"
   },
   {
    "duration": 337,
    "start_time": "2022-02-06T16:33:43.284Z"
   },
   {
    "duration": 377,
    "start_time": "2022-02-06T16:35:01.987Z"
   },
   {
    "duration": 14,
    "start_time": "2022-02-06T16:35:35.843Z"
   },
   {
    "duration": 411,
    "start_time": "2022-02-06T16:36:51.065Z"
   },
   {
    "duration": 10,
    "start_time": "2022-02-06T16:42:29.784Z"
   },
   {
    "duration": 18,
    "start_time": "2022-02-06T16:43:01.047Z"
   },
   {
    "duration": 313,
    "start_time": "2022-02-06T16:43:20.253Z"
   },
   {
    "duration": 344,
    "start_time": "2022-02-06T16:43:47.449Z"
   },
   {
    "duration": 338,
    "start_time": "2022-02-06T16:45:26.980Z"
   },
   {
    "duration": 323,
    "start_time": "2022-02-06T16:45:34.226Z"
   },
   {
    "duration": 17,
    "start_time": "2022-02-06T16:45:53.070Z"
   },
   {
    "duration": 7,
    "start_time": "2022-02-06T16:48:03.655Z"
   },
   {
    "duration": 16,
    "start_time": "2022-02-06T16:48:15.491Z"
   },
   {
    "duration": 4,
    "start_time": "2022-02-06T16:48:29.266Z"
   },
   {
    "duration": 3,
    "start_time": "2022-02-06T16:49:17.076Z"
   },
   {
    "duration": 3,
    "start_time": "2022-02-06T16:49:30.540Z"
   },
   {
    "duration": 2,
    "start_time": "2022-02-06T16:49:41.898Z"
   },
   {
    "duration": 2,
    "start_time": "2022-02-06T16:51:18.379Z"
   },
   {
    "duration": 4,
    "start_time": "2022-02-06T16:51:24.435Z"
   },
   {
    "duration": 9,
    "start_time": "2022-02-06T16:52:44.207Z"
   },
   {
    "duration": 12,
    "start_time": "2022-02-06T17:18:37.216Z"
   },
   {
    "duration": 11,
    "start_time": "2022-02-06T17:18:50.249Z"
   },
   {
    "duration": 338,
    "start_time": "2022-02-06T17:20:30.415Z"
   },
   {
    "duration": 6,
    "start_time": "2022-02-06T17:20:51.933Z"
   },
   {
    "duration": 17,
    "start_time": "2022-02-06T17:21:15.529Z"
   },
   {
    "duration": 164,
    "start_time": "2022-02-06T17:38:54.912Z"
   },
   {
    "duration": 9,
    "start_time": "2022-02-06T17:39:10.298Z"
   },
   {
    "duration": 313,
    "start_time": "2022-02-06T17:43:08.724Z"
   },
   {
    "duration": 365,
    "start_time": "2022-02-06T17:43:36.334Z"
   },
   {
    "duration": 25,
    "start_time": "2022-02-06T17:44:34.322Z"
   },
   {
    "duration": 5,
    "start_time": "2022-02-06T17:47:06.926Z"
   },
   {
    "duration": 24,
    "start_time": "2022-02-06T17:49:33.356Z"
   },
   {
    "duration": 6,
    "start_time": "2022-02-06T17:50:01.971Z"
   },
   {
    "duration": 2,
    "start_time": "2022-02-06T18:04:19.113Z"
   },
   {
    "duration": 14,
    "start_time": "2022-02-06T18:05:25.083Z"
   },
   {
    "duration": 5,
    "start_time": "2022-02-06T18:07:44.863Z"
   },
   {
    "duration": 16,
    "start_time": "2022-02-06T18:08:05.558Z"
   },
   {
    "duration": 122,
    "start_time": "2022-02-06T18:08:29.396Z"
   },
   {
    "duration": 12,
    "start_time": "2022-02-06T18:08:36.642Z"
   },
   {
    "duration": 4,
    "start_time": "2022-02-06T18:14:01.525Z"
   },
   {
    "duration": 6,
    "start_time": "2022-02-06T18:14:06.463Z"
   },
   {
    "duration": 7,
    "start_time": "2022-02-06T18:14:06.839Z"
   },
   {
    "duration": 24,
    "start_time": "2022-02-06T18:14:07.047Z"
   },
   {
    "duration": 5,
    "start_time": "2022-02-06T18:14:07.238Z"
   },
   {
    "duration": 6,
    "start_time": "2022-02-06T18:14:07.617Z"
   },
   {
    "duration": 27,
    "start_time": "2022-02-06T18:14:08.292Z"
   },
   {
    "duration": 33,
    "start_time": "2022-02-06T18:14:08.464Z"
   },
   {
    "duration": 15,
    "start_time": "2022-02-06T18:14:08.636Z"
   },
   {
    "duration": 5,
    "start_time": "2022-02-06T18:14:08.829Z"
   },
   {
    "duration": 3,
    "start_time": "2022-02-06T18:14:08.981Z"
   },
   {
    "duration": 19,
    "start_time": "2022-02-06T18:14:09.200Z"
   },
   {
    "duration": 6,
    "start_time": "2022-02-06T18:14:09.841Z"
   },
   {
    "duration": 12,
    "start_time": "2022-02-06T18:14:10.287Z"
   },
   {
    "duration": 3,
    "start_time": "2022-02-06T18:14:10.494Z"
   },
   {
    "duration": 13,
    "start_time": "2022-02-06T18:14:10.584Z"
   },
   {
    "duration": 10,
    "start_time": "2022-02-06T18:14:10.800Z"
   },
   {
    "duration": 18,
    "start_time": "2022-02-06T18:14:11.059Z"
   },
   {
    "duration": 9,
    "start_time": "2022-02-06T18:14:11.324Z"
   },
   {
    "duration": 19,
    "start_time": "2022-02-06T18:14:15.384Z"
   },
   {
    "duration": 19,
    "start_time": "2022-02-06T18:14:16.305Z"
   },
   {
    "duration": 25,
    "start_time": "2022-02-06T18:14:17.068Z"
   },
   {
    "duration": 7,
    "start_time": "2022-02-06T18:14:18.896Z"
   },
   {
    "duration": 25,
    "start_time": "2022-02-06T18:15:27.659Z"
   },
   {
    "duration": 7,
    "start_time": "2022-02-06T18:15:28.738Z"
   },
   {
    "duration": 18,
    "start_time": "2022-02-06T18:15:29.614Z"
   },
   {
    "duration": 6,
    "start_time": "2022-02-06T18:16:17.216Z"
   },
   {
    "duration": 26,
    "start_time": "2022-02-06T18:18:29.617Z"
   },
   {
    "duration": 26,
    "start_time": "2022-02-06T18:19:57.080Z"
   },
   {
    "duration": 8,
    "start_time": "2022-02-06T18:19:58.280Z"
   },
   {
    "duration": 351,
    "start_time": "2022-02-06T18:23:35.687Z"
   },
   {
    "duration": 9,
    "start_time": "2022-02-06T18:24:17.383Z"
   },
   {
    "duration": 7,
    "start_time": "2022-02-06T18:25:44.262Z"
   },
   {
    "duration": 8307,
    "start_time": "2022-02-06T18:28:04.899Z"
   },
   {
    "duration": 7890,
    "start_time": "2022-02-06T18:28:56.385Z"
   },
   {
    "duration": 8449,
    "start_time": "2022-02-06T18:30:06.082Z"
   },
   {
    "duration": 104,
    "start_time": "2022-02-06T18:31:19.307Z"
   },
   {
    "duration": 341,
    "start_time": "2022-02-06T18:31:27.415Z"
   },
   {
    "duration": 322,
    "start_time": "2022-02-06T18:31:50.721Z"
   },
   {
    "duration": 25,
    "start_time": "2022-02-06T18:33:22.601Z"
   },
   {
    "duration": 6,
    "start_time": "2022-02-06T18:33:42.721Z"
   },
   {
    "duration": 26,
    "start_time": "2022-02-06T18:34:46.415Z"
   },
   {
    "duration": 58479,
    "start_time": "2022-02-06T18:35:01.161Z"
   },
   {
    "duration": 27,
    "start_time": "2022-02-06T18:36:11.175Z"
   },
   {
    "duration": 6,
    "start_time": "2022-02-06T18:36:16.898Z"
   },
   {
    "duration": 24,
    "start_time": "2022-02-06T18:36:46.885Z"
   },
   {
    "duration": 6,
    "start_time": "2022-02-06T18:36:50.311Z"
   },
   {
    "duration": 25,
    "start_time": "2022-02-06T18:38:00.749Z"
   },
   {
    "duration": 27,
    "start_time": "2022-02-06T18:38:06.077Z"
   },
   {
    "duration": 6,
    "start_time": "2022-02-06T18:38:10.805Z"
   },
   {
    "duration": 25,
    "start_time": "2022-02-06T18:38:22.383Z"
   },
   {
    "duration": 6,
    "start_time": "2022-02-06T18:38:32.058Z"
   },
   {
    "duration": 27,
    "start_time": "2022-02-06T18:39:18.770Z"
   },
   {
    "duration": 9,
    "start_time": "2022-02-06T18:39:30.024Z"
   },
   {
    "duration": 116,
    "start_time": "2022-02-06T18:41:41.102Z"
   },
   {
    "duration": 23,
    "start_time": "2022-02-06T18:42:08.631Z"
   },
   {
    "duration": 24,
    "start_time": "2022-02-06T18:42:31.304Z"
   },
   {
    "duration": 24,
    "start_time": "2022-02-06T18:42:53.441Z"
   },
   {
    "duration": 6,
    "start_time": "2022-02-06T18:42:57.187Z"
   },
   {
    "duration": 26,
    "start_time": "2022-02-06T18:43:55.203Z"
   },
   {
    "duration": 26,
    "start_time": "2022-02-06T18:44:07.318Z"
   },
   {
    "duration": 25,
    "start_time": "2022-02-06T18:47:08.056Z"
   },
   {
    "duration": 28,
    "start_time": "2022-02-06T18:47:22.784Z"
   },
   {
    "duration": 6,
    "start_time": "2022-02-06T18:47:27.487Z"
   },
   {
    "duration": 23,
    "start_time": "2022-02-06T18:48:52.161Z"
   },
   {
    "duration": 6,
    "start_time": "2022-02-06T18:49:04.592Z"
   },
   {
    "duration": 375,
    "start_time": "2022-02-06T18:50:20.692Z"
   },
   {
    "duration": 24,
    "start_time": "2022-02-06T18:50:40.100Z"
   },
   {
    "duration": 25,
    "start_time": "2022-02-06T18:51:17.150Z"
   },
   {
    "duration": 128,
    "start_time": "2022-02-06T18:51:35.026Z"
   },
   {
    "duration": 917,
    "start_time": "2022-02-06T18:51:41.381Z"
   },
   {
    "duration": 25,
    "start_time": "2022-02-06T18:52:43.979Z"
   },
   {
    "duration": 7,
    "start_time": "2022-02-06T18:52:49.967Z"
   },
   {
    "duration": 26,
    "start_time": "2022-02-06T18:53:13.074Z"
   },
   {
    "duration": 353,
    "start_time": "2022-02-06T18:55:02.005Z"
   },
   {
    "duration": 26,
    "start_time": "2022-02-06T18:55:18.104Z"
   },
   {
    "duration": 4,
    "start_time": "2022-02-06T18:57:00.790Z"
   },
   {
    "duration": 5,
    "start_time": "2022-02-06T18:57:48.811Z"
   },
   {
    "duration": 19,
    "start_time": "2022-02-06T18:57:49.806Z"
   },
   {
    "duration": 28,
    "start_time": "2022-02-06T18:57:50.526Z"
   },
   {
    "duration": 328,
    "start_time": "2022-02-06T18:58:03.519Z"
   },
   {
    "duration": 345,
    "start_time": "2022-02-06T18:58:41.696Z"
   },
   {
    "duration": 345,
    "start_time": "2022-02-06T18:59:41.995Z"
   },
   {
    "duration": 30,
    "start_time": "2022-02-06T18:59:55.603Z"
   },
   {
    "duration": 26,
    "start_time": "2022-02-06T19:00:04.668Z"
   },
   {
    "duration": 35,
    "start_time": "2022-02-06T19:00:09.915Z"
   },
   {
    "duration": 25,
    "start_time": "2022-02-06T19:00:30.396Z"
   },
   {
    "duration": 31,
    "start_time": "2022-02-06T19:01:28.841Z"
   },
   {
    "duration": 7,
    "start_time": "2022-02-06T19:01:35.861Z"
   },
   {
    "duration": 2650,
    "start_time": "2022-02-06T19:02:31.523Z"
   },
   {
    "duration": 8308,
    "start_time": "2022-02-06T19:02:40.762Z"
   },
   {
    "duration": 2648,
    "start_time": "2022-02-06T19:02:46.424Z"
   },
   {
    "duration": 26,
    "start_time": "2022-02-06T19:03:12.388Z"
   },
   {
    "duration": 1387,
    "start_time": "2022-02-06T19:07:51.012Z"
   },
   {
    "duration": 443,
    "start_time": "2022-02-06T19:10:20.717Z"
   },
   {
    "duration": 547,
    "start_time": "2022-02-06T19:10:36.819Z"
   },
   {
    "duration": 322,
    "start_time": "2022-02-06T19:15:45.740Z"
   },
   {
    "duration": 106,
    "start_time": "2022-02-06T19:15:55.568Z"
   },
   {
    "duration": 326,
    "start_time": "2022-02-06T19:16:02.317Z"
   },
   {
    "duration": 117,
    "start_time": "2022-02-06T19:16:15.801Z"
   },
   {
    "duration": 392,
    "start_time": "2022-02-06T19:16:21.662Z"
   },
   {
    "duration": 3,
    "start_time": "2022-02-06T19:16:47.289Z"
   },
   {
    "duration": 3,
    "start_time": "2022-02-06T19:17:06.167Z"
   },
   {
    "duration": 6,
    "start_time": "2022-02-06T19:17:07.787Z"
   },
   {
    "duration": 1354,
    "start_time": "2022-02-06T19:18:07.748Z"
   },
   {
    "duration": 5,
    "start_time": "2022-02-06T19:19:30.521Z"
   },
   {
    "duration": 6,
    "start_time": "2022-02-06T19:19:31.773Z"
   },
   {
    "duration": 8,
    "start_time": "2022-02-06T19:19:41.658Z"
   },
   {
    "duration": 30,
    "start_time": "2022-02-06T19:19:41.806Z"
   },
   {
    "duration": 7,
    "start_time": "2022-02-06T19:19:41.961Z"
   },
   {
    "duration": 7,
    "start_time": "2022-02-06T19:19:42.299Z"
   },
   {
    "duration": 42,
    "start_time": "2022-02-06T19:19:42.526Z"
   },
   {
    "duration": 47,
    "start_time": "2022-02-06T19:19:42.603Z"
   },
   {
    "duration": 17,
    "start_time": "2022-02-06T19:19:42.807Z"
   },
   {
    "duration": 6,
    "start_time": "2022-02-06T19:19:42.946Z"
   },
   {
    "duration": 5,
    "start_time": "2022-02-06T19:19:43.127Z"
   },
   {
    "duration": 21,
    "start_time": "2022-02-06T19:19:43.266Z"
   },
   {
    "duration": 6,
    "start_time": "2022-02-06T19:19:43.489Z"
   },
   {
    "duration": 25,
    "start_time": "2022-02-06T19:19:43.609Z"
   },
   {
    "duration": 6,
    "start_time": "2022-02-06T19:19:43.791Z"
   },
   {
    "duration": 23,
    "start_time": "2022-02-06T19:19:43.959Z"
   },
   {
    "duration": 10,
    "start_time": "2022-02-06T19:19:44.092Z"
   },
   {
    "duration": 20,
    "start_time": "2022-02-06T19:19:44.287Z"
   },
   {
    "duration": 9,
    "start_time": "2022-02-06T19:19:44.445Z"
   },
   {
    "duration": 4,
    "start_time": "2022-02-06T19:19:44.656Z"
   },
   {
    "duration": 18,
    "start_time": "2022-02-06T19:19:45.872Z"
   },
   {
    "duration": 26,
    "start_time": "2022-02-06T19:19:46.025Z"
   },
   {
    "duration": 1358,
    "start_time": "2022-02-06T19:19:46.187Z"
   },
   {
    "duration": 20,
    "start_time": "2022-02-06T19:19:59.294Z"
   },
   {
    "duration": 3483,
    "start_time": "2022-02-06T19:20:11.519Z"
   },
   {
    "duration": 1602,
    "start_time": "2022-02-06T19:20:40.749Z"
   },
   {
    "duration": 274,
    "start_time": "2022-02-06T19:20:42.353Z"
   },
   {
    "duration": 20,
    "start_time": "2022-02-06T19:20:42.629Z"
   },
   {
    "duration": 25,
    "start_time": "2022-02-06T19:20:42.651Z"
   },
   {
    "duration": 14,
    "start_time": "2022-02-06T19:20:42.677Z"
   },
   {
    "duration": 17,
    "start_time": "2022-02-06T19:20:42.692Z"
   },
   {
    "duration": 32,
    "start_time": "2022-02-06T19:20:42.710Z"
   },
   {
    "duration": 19,
    "start_time": "2022-02-06T19:20:42.745Z"
   },
   {
    "duration": 10,
    "start_time": "2022-02-06T19:20:42.767Z"
   },
   {
    "duration": 42,
    "start_time": "2022-02-06T19:20:42.778Z"
   },
   {
    "duration": 26,
    "start_time": "2022-02-06T19:20:42.821Z"
   },
   {
    "duration": 14,
    "start_time": "2022-02-06T19:20:42.848Z"
   },
   {
    "duration": 17,
    "start_time": "2022-02-06T19:20:42.863Z"
   },
   {
    "duration": 9,
    "start_time": "2022-02-06T19:20:42.882Z"
   },
   {
    "duration": 9,
    "start_time": "2022-02-06T19:20:42.893Z"
   },
   {
    "duration": 30,
    "start_time": "2022-02-06T19:20:42.903Z"
   },
   {
    "duration": 19,
    "start_time": "2022-02-06T19:20:42.935Z"
   },
   {
    "duration": 11,
    "start_time": "2022-02-06T19:20:42.956Z"
   },
   {
    "duration": 9,
    "start_time": "2022-02-06T19:20:42.969Z"
   },
   {
    "duration": 8,
    "start_time": "2022-02-06T19:20:42.980Z"
   },
   {
    "duration": 13,
    "start_time": "2022-02-06T19:20:42.989Z"
   },
   {
    "duration": 19,
    "start_time": "2022-02-06T19:20:43.031Z"
   },
   {
    "duration": 5,
    "start_time": "2022-02-06T19:20:43.053Z"
   },
   {
    "duration": 5,
    "start_time": "2022-02-06T19:20:43.061Z"
   },
   {
    "duration": 7,
    "start_time": "2022-02-06T19:20:43.067Z"
   },
   {
    "duration": 6,
    "start_time": "2022-02-06T19:20:43.075Z"
   },
   {
    "duration": 8,
    "start_time": "2022-02-06T19:20:43.082Z"
   },
   {
    "duration": 8,
    "start_time": "2022-02-06T19:20:43.091Z"
   },
   {
    "duration": 51,
    "start_time": "2022-02-06T19:20:43.100Z"
   },
   {
    "duration": 5,
    "start_time": "2022-02-06T19:20:43.153Z"
   },
   {
    "duration": 7,
    "start_time": "2022-02-06T19:20:43.160Z"
   },
   {
    "duration": 30,
    "start_time": "2022-02-06T19:20:43.169Z"
   },
   {
    "duration": 59,
    "start_time": "2022-02-06T19:20:43.201Z"
   },
   {
    "duration": 16,
    "start_time": "2022-02-06T19:20:43.262Z"
   },
   {
    "duration": 5,
    "start_time": "2022-02-06T19:20:43.279Z"
   },
   {
    "duration": 9,
    "start_time": "2022-02-06T19:20:43.286Z"
   },
   {
    "duration": 43,
    "start_time": "2022-02-06T19:20:43.296Z"
   },
   {
    "duration": 7,
    "start_time": "2022-02-06T19:20:43.341Z"
   },
   {
    "duration": 21,
    "start_time": "2022-02-06T19:20:43.350Z"
   },
   {
    "duration": 6,
    "start_time": "2022-02-06T19:20:43.373Z"
   },
   {
    "duration": 18,
    "start_time": "2022-02-06T19:20:43.381Z"
   },
   {
    "duration": 10,
    "start_time": "2022-02-06T19:20:43.400Z"
   },
   {
    "duration": 32,
    "start_time": "2022-02-06T19:20:43.427Z"
   },
   {
    "duration": 9,
    "start_time": "2022-02-06T19:20:43.460Z"
   },
   {
    "duration": 5,
    "start_time": "2022-02-06T19:20:43.470Z"
   },
   {
    "duration": 23,
    "start_time": "2022-02-06T19:20:43.477Z"
   },
   {
    "duration": 38,
    "start_time": "2022-02-06T19:20:43.501Z"
   },
   {
    "duration": 2,
    "start_time": "2022-02-06T19:20:43.542Z"
   },
   {
    "duration": 4,
    "start_time": "2022-02-06T19:20:43.546Z"
   },
   {
    "duration": 482,
    "start_time": "2022-02-06T19:20:43.551Z"
   },
   {
    "duration": 2338,
    "start_time": "2022-02-06T19:20:41.699Z"
   },
   {
    "duration": 2308,
    "start_time": "2022-02-06T19:20:41.730Z"
   },
   {
    "duration": 2273,
    "start_time": "2022-02-06T19:20:41.767Z"
   },
   {
    "duration": 2249,
    "start_time": "2022-02-06T19:20:41.792Z"
   },
   {
    "duration": 2202,
    "start_time": "2022-02-06T19:20:41.840Z"
   },
   {
    "duration": 2190,
    "start_time": "2022-02-06T19:20:41.853Z"
   },
   {
    "duration": 2181,
    "start_time": "2022-02-06T19:20:41.863Z"
   },
   {
    "duration": 2175,
    "start_time": "2022-02-06T19:20:41.870Z"
   },
   {
    "duration": 2172,
    "start_time": "2022-02-06T19:20:41.874Z"
   },
   {
    "duration": 2171,
    "start_time": "2022-02-06T19:20:41.877Z"
   },
   {
    "duration": 2169,
    "start_time": "2022-02-06T19:20:41.880Z"
   },
   {
    "duration": 2167,
    "start_time": "2022-02-06T19:20:41.883Z"
   },
   {
    "duration": 2164,
    "start_time": "2022-02-06T19:20:41.888Z"
   },
   {
    "duration": 2162,
    "start_time": "2022-02-06T19:20:41.891Z"
   },
   {
    "duration": 2156,
    "start_time": "2022-02-06T19:20:41.898Z"
   },
   {
    "duration": 2153,
    "start_time": "2022-02-06T19:20:41.903Z"
   },
   {
    "duration": 2150,
    "start_time": "2022-02-06T19:20:41.907Z"
   },
   {
    "duration": 2149,
    "start_time": "2022-02-06T19:20:41.910Z"
   },
   {
    "duration": 2146,
    "start_time": "2022-02-06T19:20:41.914Z"
   },
   {
    "duration": 2145,
    "start_time": "2022-02-06T19:20:41.917Z"
   },
   {
    "duration": 2143,
    "start_time": "2022-02-06T19:20:41.920Z"
   },
   {
    "duration": 2125,
    "start_time": "2022-02-06T19:20:41.939Z"
   },
   {
    "duration": 2120,
    "start_time": "2022-02-06T19:20:41.944Z"
   },
   {
    "duration": 2118,
    "start_time": "2022-02-06T19:20:41.947Z"
   },
   {
    "duration": 2100,
    "start_time": "2022-02-06T19:20:41.966Z"
   },
   {
    "duration": 2096,
    "start_time": "2022-02-06T19:20:41.971Z"
   },
   {
    "duration": 2093,
    "start_time": "2022-02-06T19:20:41.975Z"
   },
   {
    "duration": 2091,
    "start_time": "2022-02-06T19:20:41.978Z"
   },
   {
    "duration": 2089,
    "start_time": "2022-02-06T19:20:41.982Z"
   },
   {
    "duration": 2087,
    "start_time": "2022-02-06T19:20:41.985Z"
   },
   {
    "duration": 2083,
    "start_time": "2022-02-06T19:20:41.990Z"
   },
   {
    "duration": 2079,
    "start_time": "2022-02-06T19:20:41.995Z"
   },
   {
    "duration": 2128,
    "start_time": "2022-02-06T19:20:41.999Z"
   },
   {
    "duration": 2126,
    "start_time": "2022-02-06T19:20:42.002Z"
   },
   {
    "duration": 2122,
    "start_time": "2022-02-06T19:20:42.007Z"
   },
   {
    "duration": 2118,
    "start_time": "2022-02-06T19:20:42.013Z"
   },
   {
    "duration": 2120,
    "start_time": "2022-02-06T19:20:42.019Z"
   },
   {
    "duration": 2118,
    "start_time": "2022-02-06T19:20:42.022Z"
   },
   {
    "duration": 2115,
    "start_time": "2022-02-06T19:20:42.027Z"
   },
   {
    "duration": 2113,
    "start_time": "2022-02-06T19:20:42.030Z"
   },
   {
    "duration": 2108,
    "start_time": "2022-02-06T19:20:42.036Z"
   },
   {
    "duration": 2105,
    "start_time": "2022-02-06T19:20:42.040Z"
   },
   {
    "duration": 2101,
    "start_time": "2022-02-06T19:20:42.045Z"
   },
   {
    "duration": 2099,
    "start_time": "2022-02-06T19:20:42.048Z"
   },
   {
    "duration": 2096,
    "start_time": "2022-02-06T19:20:42.052Z"
   },
   {
    "duration": 1334,
    "start_time": "2022-02-06T19:21:12.381Z"
   },
   {
    "duration": 1404,
    "start_time": "2022-02-06T19:21:33.421Z"
   },
   {
    "duration": 1372,
    "start_time": "2022-02-06T19:21:45.842Z"
   },
   {
    "duration": 323,
    "start_time": "2022-02-06T19:22:13.761Z"
   },
   {
    "duration": 332,
    "start_time": "2022-02-06T19:22:31.071Z"
   },
   {
    "duration": 405,
    "start_time": "2022-02-06T19:22:53.561Z"
   },
   {
    "duration": 3,
    "start_time": "2022-02-06T19:24:24.184Z"
   },
   {
    "duration": 21,
    "start_time": "2022-02-06T19:24:26.751Z"
   },
   {
    "duration": 20,
    "start_time": "2022-02-06T19:24:27.949Z"
   },
   {
    "duration": 336,
    "start_time": "2022-02-06T19:24:29.460Z"
   },
   {
    "duration": 1428,
    "start_time": "2022-02-06T19:25:58.829Z"
   },
   {
    "duration": 296,
    "start_time": "2022-02-06T19:26:00.259Z"
   },
   {
    "duration": 14,
    "start_time": "2022-02-06T19:26:00.557Z"
   },
   {
    "duration": 21,
    "start_time": "2022-02-06T19:26:00.572Z"
   },
   {
    "duration": 13,
    "start_time": "2022-02-06T19:26:00.595Z"
   },
   {
    "duration": 29,
    "start_time": "2022-02-06T19:26:00.610Z"
   },
   {
    "duration": 15,
    "start_time": "2022-02-06T19:26:00.641Z"
   },
   {
    "duration": 22,
    "start_time": "2022-02-06T19:26:00.658Z"
   },
   {
    "duration": 10,
    "start_time": "2022-02-06T19:26:00.682Z"
   },
   {
    "duration": 36,
    "start_time": "2022-02-06T19:26:00.694Z"
   },
   {
    "duration": 21,
    "start_time": "2022-02-06T19:26:00.732Z"
   },
   {
    "duration": 20,
    "start_time": "2022-02-06T19:26:00.755Z"
   },
   {
    "duration": 13,
    "start_time": "2022-02-06T19:26:00.776Z"
   },
   {
    "duration": 11,
    "start_time": "2022-02-06T19:26:00.791Z"
   },
   {
    "duration": 16,
    "start_time": "2022-02-06T19:26:00.827Z"
   },
   {
    "duration": 11,
    "start_time": "2022-02-06T19:26:00.845Z"
   },
   {
    "duration": 9,
    "start_time": "2022-02-06T19:26:00.858Z"
   },
   {
    "duration": 13,
    "start_time": "2022-02-06T19:26:00.868Z"
   },
   {
    "duration": 9,
    "start_time": "2022-02-06T19:26:00.883Z"
   },
   {
    "duration": 43,
    "start_time": "2022-02-06T19:26:00.894Z"
   },
   {
    "duration": 14,
    "start_time": "2022-02-06T19:26:00.939Z"
   },
   {
    "duration": 15,
    "start_time": "2022-02-06T19:26:00.954Z"
   },
   {
    "duration": 7,
    "start_time": "2022-02-06T19:26:00.970Z"
   },
   {
    "duration": 8,
    "start_time": "2022-02-06T19:26:00.978Z"
   },
   {
    "duration": 8,
    "start_time": "2022-02-06T19:26:00.987Z"
   },
   {
    "duration": 9,
    "start_time": "2022-02-06T19:26:00.996Z"
   },
   {
    "duration": 24,
    "start_time": "2022-02-06T19:26:01.009Z"
   },
   {
    "duration": 13,
    "start_time": "2022-02-06T19:26:01.037Z"
   },
   {
    "duration": 26,
    "start_time": "2022-02-06T19:26:01.052Z"
   },
   {
    "duration": 5,
    "start_time": "2022-02-06T19:26:01.079Z"
   },
   {
    "duration": 9,
    "start_time": "2022-02-06T19:26:01.086Z"
   },
   {
    "duration": 50,
    "start_time": "2022-02-06T19:26:01.097Z"
   },
   {
    "duration": 37,
    "start_time": "2022-02-06T19:26:01.149Z"
   },
   {
    "duration": 17,
    "start_time": "2022-02-06T19:26:01.188Z"
   },
   {
    "duration": 10,
    "start_time": "2022-02-06T19:26:01.228Z"
   },
   {
    "duration": 12,
    "start_time": "2022-02-06T19:26:01.241Z"
   },
   {
    "duration": 32,
    "start_time": "2022-02-06T19:26:01.255Z"
   },
   {
    "duration": 4,
    "start_time": "2022-02-06T19:26:01.289Z"
   },
   {
    "duration": 13,
    "start_time": "2022-02-06T19:26:01.295Z"
   },
   {
    "duration": 22,
    "start_time": "2022-02-06T19:26:01.309Z"
   },
   {
    "duration": 18,
    "start_time": "2022-02-06T19:26:01.333Z"
   },
   {
    "duration": 21,
    "start_time": "2022-02-06T19:26:01.353Z"
   },
   {
    "duration": 22,
    "start_time": "2022-02-06T19:26:01.375Z"
   },
   {
    "duration": 8,
    "start_time": "2022-02-06T19:26:01.398Z"
   },
   {
    "duration": 13,
    "start_time": "2022-02-06T19:26:01.408Z"
   },
   {
    "duration": 34,
    "start_time": "2022-02-06T19:26:01.423Z"
   },
   {
    "duration": 18,
    "start_time": "2022-02-06T19:26:01.458Z"
   },
   {
    "duration": 465,
    "start_time": "2022-02-06T19:26:01.477Z"
   },
   {
    "duration": 2466,
    "start_time": "2022-02-06T19:25:59.478Z"
   },
   {
    "duration": 2464,
    "start_time": "2022-02-06T19:25:59.481Z"
   },
   {
    "duration": 2461,
    "start_time": "2022-02-06T19:25:59.484Z"
   },
   {
    "duration": 2459,
    "start_time": "2022-02-06T19:25:59.487Z"
   },
   {
    "duration": 2457,
    "start_time": "2022-02-06T19:25:59.490Z"
   },
   {
    "duration": 2455,
    "start_time": "2022-02-06T19:25:59.493Z"
   },
   {
    "duration": 2453,
    "start_time": "2022-02-06T19:25:59.496Z"
   },
   {
    "duration": 2451,
    "start_time": "2022-02-06T19:25:59.499Z"
   },
   {
    "duration": 2450,
    "start_time": "2022-02-06T19:25:59.502Z"
   },
   {
    "duration": 2448,
    "start_time": "2022-02-06T19:25:59.505Z"
   },
   {
    "duration": 2446,
    "start_time": "2022-02-06T19:25:59.508Z"
   },
   {
    "duration": 2445,
    "start_time": "2022-02-06T19:25:59.510Z"
   },
   {
    "duration": 2442,
    "start_time": "2022-02-06T19:25:59.514Z"
   },
   {
    "duration": 2439,
    "start_time": "2022-02-06T19:25:59.517Z"
   },
   {
    "duration": 2373,
    "start_time": "2022-02-06T19:25:59.584Z"
   },
   {
    "duration": 2353,
    "start_time": "2022-02-06T19:25:59.605Z"
   },
   {
    "duration": 2333,
    "start_time": "2022-02-06T19:25:59.626Z"
   },
   {
    "duration": 2308,
    "start_time": "2022-02-06T19:25:59.652Z"
   },
   {
    "duration": 2281,
    "start_time": "2022-02-06T19:25:59.679Z"
   },
   {
    "duration": 2262,
    "start_time": "2022-02-06T19:25:59.699Z"
   },
   {
    "duration": 2242,
    "start_time": "2022-02-06T19:25:59.720Z"
   },
   {
    "duration": 2224,
    "start_time": "2022-02-06T19:25:59.739Z"
   },
   {
    "duration": 2221,
    "start_time": "2022-02-06T19:25:59.743Z"
   },
   {
    "duration": 2219,
    "start_time": "2022-02-06T19:25:59.746Z"
   },
   {
    "duration": 2217,
    "start_time": "2022-02-06T19:25:59.749Z"
   },
   {
    "duration": 2214,
    "start_time": "2022-02-06T19:25:59.752Z"
   },
   {
    "duration": 2212,
    "start_time": "2022-02-06T19:25:59.755Z"
   },
   {
    "duration": 2210,
    "start_time": "2022-02-06T19:25:59.758Z"
   },
   {
    "duration": 2208,
    "start_time": "2022-02-06T19:25:59.761Z"
   },
   {
    "duration": 2206,
    "start_time": "2022-02-06T19:25:59.764Z"
   },
   {
    "duration": 2204,
    "start_time": "2022-02-06T19:25:59.767Z"
   },
   {
    "duration": 2202,
    "start_time": "2022-02-06T19:25:59.770Z"
   },
   {
    "duration": 2200,
    "start_time": "2022-02-06T19:25:59.773Z"
   },
   {
    "duration": 2199,
    "start_time": "2022-02-06T19:25:59.775Z"
   },
   {
    "duration": 2196,
    "start_time": "2022-02-06T19:25:59.779Z"
   },
   {
    "duration": 2194,
    "start_time": "2022-02-06T19:25:59.781Z"
   },
   {
    "duration": 2192,
    "start_time": "2022-02-06T19:25:59.784Z"
   },
   {
    "duration": 2190,
    "start_time": "2022-02-06T19:25:59.787Z"
   },
   {
    "duration": 2188,
    "start_time": "2022-02-06T19:25:59.790Z"
   },
   {
    "duration": 2186,
    "start_time": "2022-02-06T19:25:59.793Z"
   },
   {
    "duration": 2184,
    "start_time": "2022-02-06T19:25:59.796Z"
   },
   {
    "duration": 2182,
    "start_time": "2022-02-06T19:25:59.799Z"
   },
   {
    "duration": 2179,
    "start_time": "2022-02-06T19:25:59.802Z"
   },
   {
    "duration": 2177,
    "start_time": "2022-02-06T19:25:59.805Z"
   },
   {
    "duration": 2223,
    "start_time": "2022-02-06T19:25:59.808Z"
   },
   {
    "duration": 2222,
    "start_time": "2022-02-06T19:25:59.811Z"
   },
   {
    "duration": 2221,
    "start_time": "2022-02-06T19:25:59.813Z"
   },
   {
    "duration": 26,
    "start_time": "2022-02-06T19:26:15.192Z"
   },
   {
    "duration": 2,
    "start_time": "2022-02-06T19:26:29.696Z"
   },
   {
    "duration": 2,
    "start_time": "2022-02-06T19:26:30.142Z"
   },
   {
    "duration": 9,
    "start_time": "2022-02-06T19:26:30.552Z"
   },
   {
    "duration": 8,
    "start_time": "2022-02-06T19:26:35.671Z"
   },
   {
    "duration": 6,
    "start_time": "2022-02-06T19:26:37.207Z"
   },
   {
    "duration": 9,
    "start_time": "2022-02-06T19:26:49.597Z"
   },
   {
    "duration": 27,
    "start_time": "2022-02-06T19:27:52.985Z"
   },
   {
    "duration": 8912,
    "start_time": "2022-02-06T19:28:03.942Z"
   },
   {
    "duration": 2556,
    "start_time": "2022-02-06T19:28:33.827Z"
   },
   {
    "duration": 32,
    "start_time": "2022-02-06T19:28:41.728Z"
   },
   {
    "duration": 6,
    "start_time": "2022-02-06T19:28:48.689Z"
   },
   {
    "duration": 25,
    "start_time": "2022-02-06T19:29:20.647Z"
   },
   {
    "duration": 7,
    "start_time": "2022-02-06T19:29:21.779Z"
   },
   {
    "duration": 3,
    "start_time": "2022-02-06T19:30:09.599Z"
   },
   {
    "duration": 25,
    "start_time": "2022-02-06T19:31:50.567Z"
   },
   {
    "duration": 35,
    "start_time": "2022-02-06T19:32:33.678Z"
   },
   {
    "duration": 6,
    "start_time": "2022-02-06T19:33:19.746Z"
   },
   {
    "duration": 9,
    "start_time": "2022-02-06T19:33:55.791Z"
   },
   {
    "duration": 413,
    "start_time": "2022-02-06T19:36:12.521Z"
   },
   {
    "duration": 3,
    "start_time": "2022-02-06T19:36:17.719Z"
   },
   {
    "duration": 352,
    "start_time": "2022-02-06T19:36:18.846Z"
   },
   {
    "duration": 413,
    "start_time": "2022-02-06T19:36:56.542Z"
   },
   {
    "duration": 1441,
    "start_time": "2022-02-06T19:37:07.403Z"
   },
   {
    "duration": 678,
    "start_time": "2022-02-06T19:37:08.846Z"
   },
   {
    "duration": 20,
    "start_time": "2022-02-06T19:37:09.526Z"
   },
   {
    "duration": 22,
    "start_time": "2022-02-06T19:37:09.548Z"
   },
   {
    "duration": 13,
    "start_time": "2022-02-06T19:37:09.572Z"
   },
   {
    "duration": 19,
    "start_time": "2022-02-06T19:37:11.977Z"
   },
   {
    "duration": 14,
    "start_time": "2022-02-06T19:37:12.162Z"
   },
   {
    "duration": 17,
    "start_time": "2022-02-06T19:37:12.400Z"
   },
   {
    "duration": 11,
    "start_time": "2022-02-06T19:37:12.605Z"
   },
   {
    "duration": 28,
    "start_time": "2022-02-06T19:37:12.811Z"
   },
   {
    "duration": 19,
    "start_time": "2022-02-06T19:37:13.425Z"
   },
   {
    "duration": 15,
    "start_time": "2022-02-06T19:37:13.640Z"
   },
   {
    "duration": 12,
    "start_time": "2022-02-06T19:37:13.738Z"
   },
   {
    "duration": 11,
    "start_time": "2022-02-06T19:37:13.942Z"
   },
   {
    "duration": 10,
    "start_time": "2022-02-06T19:37:14.142Z"
   },
   {
    "duration": 12,
    "start_time": "2022-02-06T19:37:14.243Z"
   },
   {
    "duration": 19,
    "start_time": "2022-02-06T19:37:14.420Z"
   },
   {
    "duration": 12,
    "start_time": "2022-02-06T19:37:14.639Z"
   },
   {
    "duration": 11,
    "start_time": "2022-02-06T19:37:14.837Z"
   },
   {
    "duration": 10,
    "start_time": "2022-02-06T19:37:15.038Z"
   },
   {
    "duration": 15,
    "start_time": "2022-02-06T19:37:15.241Z"
   },
   {
    "duration": 14,
    "start_time": "2022-02-06T19:37:15.438Z"
   },
   {
    "duration": 6,
    "start_time": "2022-02-06T19:37:15.613Z"
   },
   {
    "duration": 6,
    "start_time": "2022-02-06T19:37:15.791Z"
   },
   {
    "duration": 5,
    "start_time": "2022-02-06T19:37:15.962Z"
   },
   {
    "duration": 3,
    "start_time": "2022-02-06T19:37:16.149Z"
   },
   {
    "duration": 7,
    "start_time": "2022-02-06T19:37:16.769Z"
   },
   {
    "duration": 8,
    "start_time": "2022-02-06T19:37:16.946Z"
   },
   {
    "duration": 29,
    "start_time": "2022-02-06T19:37:17.130Z"
   },
   {
    "duration": 6,
    "start_time": "2022-02-06T19:37:17.323Z"
   },
   {
    "duration": 7,
    "start_time": "2022-02-06T19:37:17.922Z"
   },
   {
    "duration": 46,
    "start_time": "2022-02-06T19:37:18.121Z"
   },
   {
    "duration": 43,
    "start_time": "2022-02-06T19:37:18.299Z"
   },
   {
    "duration": 16,
    "start_time": "2022-02-06T19:37:18.457Z"
   },
   {
    "duration": 5,
    "start_time": "2022-02-06T19:37:18.637Z"
   },
   {
    "duration": 3,
    "start_time": "2022-02-06T19:37:18.820Z"
   },
   {
    "duration": 24,
    "start_time": "2022-02-06T19:37:19.008Z"
   },
   {
    "duration": 5,
    "start_time": "2022-02-06T19:37:19.645Z"
   },
   {
    "duration": 12,
    "start_time": "2022-02-06T19:37:19.857Z"
   },
   {
    "duration": 5,
    "start_time": "2022-02-06T19:37:20.425Z"
   },
   {
    "duration": 13,
    "start_time": "2022-02-06T19:37:20.610Z"
   },
   {
    "duration": 11,
    "start_time": "2022-02-06T19:37:21.073Z"
   },
   {
    "duration": 20,
    "start_time": "2022-02-06T19:37:21.266Z"
   },
   {
    "duration": 11,
    "start_time": "2022-02-06T19:37:22.098Z"
   },
   {
    "duration": 3,
    "start_time": "2022-02-06T19:37:22.291Z"
   },
   {
    "duration": 2,
    "start_time": "2022-02-06T19:37:23.154Z"
   },
   {
    "duration": 42,
    "start_time": "2022-02-06T19:37:23.564Z"
   },
   {
    "duration": 35,
    "start_time": "2022-02-06T19:37:38.840Z"
   },
   {
    "duration": 45,
    "start_time": "2022-02-06T19:37:59.096Z"
   },
   {
    "duration": 10,
    "start_time": "2022-02-06T19:38:00.325Z"
   },
   {
    "duration": 33,
    "start_time": "2022-02-06T19:38:21.317Z"
   },
   {
    "duration": 6,
    "start_time": "2022-02-06T19:38:30.605Z"
   },
   {
    "duration": 10,
    "start_time": "2022-02-06T19:44:58.221Z"
   },
   {
    "duration": 4,
    "start_time": "2022-02-06T19:44:59.656Z"
   },
   {
    "duration": 3,
    "start_time": "2022-02-06T19:45:00.682Z"
   },
   {
    "duration": 6,
    "start_time": "2022-02-06T19:45:01.395Z"
   },
   {
    "duration": 8,
    "start_time": "2022-02-06T19:45:01.908Z"
   },
   {
    "duration": 23,
    "start_time": "2022-02-06T19:45:04.468Z"
   },
   {
    "duration": 6,
    "start_time": "2022-02-06T19:45:04.789Z"
   },
   {
    "duration": 6,
    "start_time": "2022-02-06T19:45:05.299Z"
   },
   {
    "duration": 36,
    "start_time": "2022-02-06T19:45:05.493Z"
   },
   {
    "duration": 46,
    "start_time": "2022-02-06T19:45:05.697Z"
   },
   {
    "duration": 15,
    "start_time": "2022-02-06T19:45:05.901Z"
   },
   {
    "duration": 6,
    "start_time": "2022-02-06T19:45:06.107Z"
   },
   {
    "duration": 4,
    "start_time": "2022-02-06T19:45:06.312Z"
   },
   {
    "duration": 30,
    "start_time": "2022-02-06T19:45:06.518Z"
   },
   {
    "duration": 5,
    "start_time": "2022-02-06T19:45:06.643Z"
   },
   {
    "duration": 17,
    "start_time": "2022-02-06T19:45:06.840Z"
   },
   {
    "duration": 4,
    "start_time": "2022-02-06T19:45:07.045Z"
   },
   {
    "duration": 13,
    "start_time": "2022-02-06T19:45:07.248Z"
   },
   {
    "duration": 11,
    "start_time": "2022-02-06T19:45:07.541Z"
   },
   {
    "duration": 18,
    "start_time": "2022-02-06T19:45:07.849Z"
   },
   {
    "duration": 10,
    "start_time": "2022-02-06T19:45:08.038Z"
   },
   {
    "duration": 2,
    "start_time": "2022-02-06T19:45:08.351Z"
   },
   {
    "duration": 2,
    "start_time": "2022-02-06T19:45:08.811Z"
   },
   {
    "duration": 32,
    "start_time": "2022-02-06T19:45:09.216Z"
   },
   {
    "duration": 6,
    "start_time": "2022-02-06T19:45:09.740Z"
   },
   {
    "duration": 5,
    "start_time": "2022-02-06T19:45:10.205Z"
   },
   {
    "duration": 18,
    "start_time": "2022-02-06T19:45:10.746Z"
   },
   {
    "duration": 28,
    "start_time": "2022-02-06T19:45:11.124Z"
   },
   {
    "duration": 34,
    "start_time": "2022-02-06T19:45:11.510Z"
   },
   {
    "duration": 8,
    "start_time": "2022-02-06T19:45:12.262Z"
   },
   {
    "duration": 21,
    "start_time": "2022-02-06T19:45:41.336Z"
   },
   {
    "duration": 19,
    "start_time": "2022-02-06T19:45:59.560Z"
   },
   {
    "duration": 7,
    "start_time": "2022-02-06T19:46:08.161Z"
   },
   {
    "duration": 19,
    "start_time": "2022-02-06T19:46:21.898Z"
   },
   {
    "duration": 31,
    "start_time": "2022-02-06T19:46:32.124Z"
   },
   {
    "duration": 8,
    "start_time": "2022-02-06T19:46:34.786Z"
   },
   {
    "duration": 26,
    "start_time": "2022-02-06T19:46:49.636Z"
   },
   {
    "duration": 7,
    "start_time": "2022-02-06T19:46:59.375Z"
   },
   {
    "duration": 29,
    "start_time": "2022-02-06T19:47:16.464Z"
   },
   {
    "duration": 8,
    "start_time": "2022-02-06T19:47:20.252Z"
   },
   {
    "duration": 26,
    "start_time": "2022-02-06T19:47:45.344Z"
   },
   {
    "duration": 6,
    "start_time": "2022-02-06T19:47:59.676Z"
   },
   {
    "duration": 8,
    "start_time": "2022-02-06T19:48:15.446Z"
   },
   {
    "duration": 27,
    "start_time": "2022-02-06T19:48:25.998Z"
   },
   {
    "duration": 23,
    "start_time": "2022-02-06T19:48:41.879Z"
   },
   {
    "duration": 25,
    "start_time": "2022-02-06T19:49:00.811Z"
   },
   {
    "duration": 25,
    "start_time": "2022-02-06T19:49:08.196Z"
   },
   {
    "duration": 8225,
    "start_time": "2022-02-06T19:49:18.633Z"
   },
   {
    "duration": 25,
    "start_time": "2022-02-06T19:49:35.115Z"
   },
   {
    "duration": 26,
    "start_time": "2022-02-06T19:50:11.057Z"
   },
   {
    "duration": 26,
    "start_time": "2022-02-06T19:50:37.170Z"
   },
   {
    "duration": 107,
    "start_time": "2022-02-06T19:50:50.585Z"
   },
   {
    "duration": 42,
    "start_time": "2022-02-06T19:51:06.763Z"
   },
   {
    "duration": 7,
    "start_time": "2022-02-06T19:51:11.575Z"
   },
   {
    "duration": 4,
    "start_time": "2022-02-06T19:51:31.133Z"
   },
   {
    "duration": 2,
    "start_time": "2022-02-06T19:51:33.388Z"
   },
   {
    "duration": 35,
    "start_time": "2022-02-06T19:51:34.002Z"
   },
   {
    "duration": 7,
    "start_time": "2022-02-06T19:51:38.200Z"
   },
   {
    "duration": 4,
    "start_time": "2022-02-06T19:51:50.385Z"
   },
   {
    "duration": 3,
    "start_time": "2022-02-06T19:51:51.614Z"
   },
   {
    "duration": 62,
    "start_time": "2022-02-06T19:51:52.338Z"
   },
   {
    "duration": 6,
    "start_time": "2022-02-06T19:51:55.301Z"
   },
   {
    "duration": 4,
    "start_time": "2022-02-06T19:52:12.925Z"
   },
   {
    "duration": 2,
    "start_time": "2022-02-06T19:52:13.733Z"
   },
   {
    "duration": 543,
    "start_time": "2022-02-06T19:52:29.341Z"
   },
   {
    "duration": 5,
    "start_time": "2022-02-06T19:52:34.520Z"
   },
   {
    "duration": 34,
    "start_time": "2022-02-06T19:53:09.748Z"
   },
   {
    "duration": 6,
    "start_time": "2022-02-06T19:53:14.560Z"
   },
   {
    "duration": 2,
    "start_time": "2022-02-06T19:53:31.352Z"
   },
   {
    "duration": 35,
    "start_time": "2022-02-06T19:53:34.939Z"
   },
   {
    "duration": 7,
    "start_time": "2022-02-06T19:53:39.853Z"
   },
   {
    "duration": 9,
    "start_time": "2022-02-06T19:53:51.321Z"
   },
   {
    "duration": 21,
    "start_time": "2022-02-06T19:53:55.845Z"
   },
   {
    "duration": 25,
    "start_time": "2022-02-06T19:53:57.772Z"
   },
   {
    "duration": 20,
    "start_time": "2022-02-06T19:54:23.988Z"
   },
   {
    "duration": 19,
    "start_time": "2022-02-06T19:54:27.832Z"
   },
   {
    "duration": 27,
    "start_time": "2022-02-06T19:54:31.667Z"
   },
   {
    "duration": 7,
    "start_time": "2022-02-06T19:54:35.046Z"
   },
   {
    "duration": 24,
    "start_time": "2022-02-06T19:54:50.208Z"
   },
   {
    "duration": 7,
    "start_time": "2022-02-06T19:54:53.478Z"
   },
   {
    "duration": 14,
    "start_time": "2022-02-06T19:55:35.054Z"
   },
   {
    "duration": 26,
    "start_time": "2022-02-06T19:56:21.446Z"
   },
   {
    "duration": 7,
    "start_time": "2022-02-06T19:57:50.120Z"
   },
   {
    "duration": 4,
    "start_time": "2022-02-06T19:57:50.532Z"
   },
   {
    "duration": 6,
    "start_time": "2022-02-06T19:57:51.248Z"
   },
   {
    "duration": 7,
    "start_time": "2022-02-06T19:57:51.658Z"
   },
   {
    "duration": 8,
    "start_time": "2022-02-06T19:57:52.065Z"
   },
   {
    "duration": 25,
    "start_time": "2022-02-06T19:57:52.271Z"
   },
   {
    "duration": 6,
    "start_time": "2022-02-06T19:57:52.476Z"
   },
   {
    "duration": 6,
    "start_time": "2022-02-06T19:57:52.783Z"
   },
   {
    "duration": 25,
    "start_time": "2022-02-06T19:57:52.904Z"
   },
   {
    "duration": 30,
    "start_time": "2022-02-06T19:57:53.090Z"
   },
   {
    "duration": 15,
    "start_time": "2022-02-06T19:57:53.295Z"
   },
   {
    "duration": 5,
    "start_time": "2022-02-06T19:57:53.501Z"
   },
   {
    "duration": 4,
    "start_time": "2022-02-06T19:57:53.614Z"
   },
   {
    "duration": 33,
    "start_time": "2022-02-06T19:57:53.811Z"
   },
   {
    "duration": 7,
    "start_time": "2022-02-06T19:57:54.023Z"
   },
   {
    "duration": 12,
    "start_time": "2022-02-06T19:57:54.115Z"
   },
   {
    "duration": 4,
    "start_time": "2022-02-06T19:57:54.319Z"
   },
   {
    "duration": 12,
    "start_time": "2022-02-06T19:57:54.782Z"
   },
   {
    "duration": 10,
    "start_time": "2022-02-06T19:57:54.965Z"
   },
   {
    "duration": 18,
    "start_time": "2022-02-06T19:57:55.155Z"
   },
   {
    "duration": 9,
    "start_time": "2022-02-06T19:57:55.359Z"
   },
   {
    "duration": 3,
    "start_time": "2022-02-06T19:57:56.144Z"
   },
   {
    "duration": 3,
    "start_time": "2022-02-06T19:57:56.314Z"
   },
   {
    "duration": 36,
    "start_time": "2022-02-06T19:57:56.496Z"
   },
   {
    "duration": 8,
    "start_time": "2022-02-06T19:58:02.614Z"
   },
   {
    "duration": 10,
    "start_time": "2022-02-06T19:58:05.079Z"
   },
   {
    "duration": 24,
    "start_time": "2022-02-06T19:58:06.718Z"
   },
   {
    "duration": 18,
    "start_time": "2022-02-06T19:58:08.042Z"
   },
   {
    "duration": 37,
    "start_time": "2022-02-06T19:58:09.271Z"
   },
   {
    "duration": 8,
    "start_time": "2022-02-06T19:58:11.215Z"
   },
   {
    "duration": 13,
    "start_time": "2022-02-06T19:58:22.582Z"
   },
   {
    "duration": 26,
    "start_time": "2022-02-06T20:00:15.120Z"
   },
   {
    "duration": 7,
    "start_time": "2022-02-06T20:00:19.216Z"
   },
   {
    "duration": 28,
    "start_time": "2022-02-06T20:00:32.636Z"
   },
   {
    "duration": 7,
    "start_time": "2022-02-06T20:00:37.239Z"
   },
   {
    "duration": 26,
    "start_time": "2022-02-06T20:00:55.467Z"
   },
   {
    "duration": 7,
    "start_time": "2022-02-06T20:01:01.612Z"
   },
   {
    "duration": 1427,
    "start_time": "2022-02-06T20:02:30.013Z"
   },
   {
    "duration": 300,
    "start_time": "2022-02-06T20:02:31.442Z"
   },
   {
    "duration": 13,
    "start_time": "2022-02-06T20:02:31.744Z"
   },
   {
    "duration": 20,
    "start_time": "2022-02-06T20:02:31.759Z"
   },
   {
    "duration": 14,
    "start_time": "2022-02-06T20:02:31.781Z"
   },
   {
    "duration": 17,
    "start_time": "2022-02-06T20:02:31.796Z"
   },
   {
    "duration": 14,
    "start_time": "2022-02-06T20:02:31.827Z"
   },
   {
    "duration": 18,
    "start_time": "2022-02-06T20:02:31.843Z"
   },
   {
    "duration": 10,
    "start_time": "2022-02-06T20:02:31.863Z"
   },
   {
    "duration": 17,
    "start_time": "2022-02-06T20:02:31.874Z"
   },
   {
    "duration": 36,
    "start_time": "2022-02-06T20:02:31.892Z"
   },
   {
    "duration": 13,
    "start_time": "2022-02-06T20:02:31.929Z"
   },
   {
    "duration": 12,
    "start_time": "2022-02-06T20:02:31.944Z"
   },
   {
    "duration": 11,
    "start_time": "2022-02-06T20:02:31.957Z"
   },
   {
    "duration": 9,
    "start_time": "2022-02-06T20:02:31.970Z"
   },
   {
    "duration": 11,
    "start_time": "2022-02-06T20:02:31.981Z"
   },
   {
    "duration": 10,
    "start_time": "2022-02-06T20:02:32.028Z"
   },
   {
    "duration": 12,
    "start_time": "2022-02-06T20:02:32.039Z"
   },
   {
    "duration": 9,
    "start_time": "2022-02-06T20:02:32.052Z"
   },
   {
    "duration": 8,
    "start_time": "2022-02-06T20:02:32.062Z"
   },
   {
    "duration": 14,
    "start_time": "2022-02-06T20:02:32.071Z"
   },
   {
    "duration": 12,
    "start_time": "2022-02-06T20:02:32.086Z"
   },
   {
    "duration": 6,
    "start_time": "2022-02-06T20:02:32.129Z"
   },
   {
    "duration": 425,
    "start_time": "2022-02-06T20:02:32.138Z"
   },
   {
    "duration": 2657,
    "start_time": "2022-02-06T20:02:29.909Z"
   },
   {
    "duration": 2655,
    "start_time": "2022-02-06T20:02:29.912Z"
   },
   {
    "duration": 2652,
    "start_time": "2022-02-06T20:02:29.916Z"
   },
   {
    "duration": 2650,
    "start_time": "2022-02-06T20:02:29.919Z"
   },
   {
    "duration": 2648,
    "start_time": "2022-02-06T20:02:29.922Z"
   },
   {
    "duration": 2645,
    "start_time": "2022-02-06T20:02:29.926Z"
   },
   {
    "duration": 2644,
    "start_time": "2022-02-06T20:02:29.928Z"
   },
   {
    "duration": 2640,
    "start_time": "2022-02-06T20:02:29.932Z"
   },
   {
    "duration": 2638,
    "start_time": "2022-02-06T20:02:29.935Z"
   },
   {
    "duration": 2635,
    "start_time": "2022-02-06T20:02:29.939Z"
   },
   {
    "duration": 2633,
    "start_time": "2022-02-06T20:02:29.942Z"
   },
   {
    "duration": 2631,
    "start_time": "2022-02-06T20:02:29.945Z"
   },
   {
    "duration": 2624,
    "start_time": "2022-02-06T20:02:29.953Z"
   },
   {
    "duration": 2622,
    "start_time": "2022-02-06T20:02:29.956Z"
   },
   {
    "duration": 2620,
    "start_time": "2022-02-06T20:02:29.959Z"
   },
   {
    "duration": 2618,
    "start_time": "2022-02-06T20:02:29.962Z"
   },
   {
    "duration": 2616,
    "start_time": "2022-02-06T20:02:29.965Z"
   },
   {
    "duration": 2614,
    "start_time": "2022-02-06T20:02:29.968Z"
   },
   {
    "duration": 2612,
    "start_time": "2022-02-06T20:02:29.971Z"
   },
   {
    "duration": 2611,
    "start_time": "2022-02-06T20:02:29.974Z"
   },
   {
    "duration": 2608,
    "start_time": "2022-02-06T20:02:29.978Z"
   },
   {
    "duration": 2604,
    "start_time": "2022-02-06T20:02:29.982Z"
   },
   {
    "duration": 2603,
    "start_time": "2022-02-06T20:02:29.985Z"
   },
   {
    "duration": 2599,
    "start_time": "2022-02-06T20:02:29.989Z"
   },
   {
    "duration": 2597,
    "start_time": "2022-02-06T20:02:29.992Z"
   },
   {
    "duration": 2595,
    "start_time": "2022-02-06T20:02:29.995Z"
   },
   {
    "duration": 2592,
    "start_time": "2022-02-06T20:02:29.999Z"
   },
   {
    "duration": 2589,
    "start_time": "2022-02-06T20:02:30.003Z"
   },
   {
    "duration": 2587,
    "start_time": "2022-02-06T20:02:30.006Z"
   },
   {
    "duration": 2568,
    "start_time": "2022-02-06T20:02:30.025Z"
   },
   {
    "duration": 2565,
    "start_time": "2022-02-06T20:02:30.029Z"
   },
   {
    "duration": 2562,
    "start_time": "2022-02-06T20:02:30.033Z"
   },
   {
    "duration": 2560,
    "start_time": "2022-02-06T20:02:30.036Z"
   },
   {
    "duration": 2557,
    "start_time": "2022-02-06T20:02:30.040Z"
   },
   {
    "duration": 2555,
    "start_time": "2022-02-06T20:02:30.043Z"
   },
   {
    "duration": 2550,
    "start_time": "2022-02-06T20:02:30.048Z"
   },
   {
    "duration": 2549,
    "start_time": "2022-02-06T20:02:30.050Z"
   },
   {
    "duration": 2547,
    "start_time": "2022-02-06T20:02:30.053Z"
   },
   {
    "duration": 2545,
    "start_time": "2022-02-06T20:02:30.056Z"
   },
   {
    "duration": 2543,
    "start_time": "2022-02-06T20:02:30.059Z"
   },
   {
    "duration": 2540,
    "start_time": "2022-02-06T20:02:30.062Z"
   },
   {
    "duration": 2562,
    "start_time": "2022-02-06T20:02:30.065Z"
   },
   {
    "duration": 2558,
    "start_time": "2022-02-06T20:02:30.069Z"
   },
   {
    "duration": 2556,
    "start_time": "2022-02-06T20:02:30.072Z"
   },
   {
    "duration": 2554,
    "start_time": "2022-02-06T20:02:30.075Z"
   },
   {
    "duration": 2552,
    "start_time": "2022-02-06T20:02:30.078Z"
   },
   {
    "duration": 2550,
    "start_time": "2022-02-06T20:02:30.081Z"
   },
   {
    "duration": 2547,
    "start_time": "2022-02-06T20:02:30.085Z"
   },
   {
    "duration": 2544,
    "start_time": "2022-02-06T20:02:30.088Z"
   },
   {
    "duration": 2542,
    "start_time": "2022-02-06T20:02:30.091Z"
   },
   {
    "duration": 2540,
    "start_time": "2022-02-06T20:02:30.094Z"
   },
   {
    "duration": 2537,
    "start_time": "2022-02-06T20:02:30.098Z"
   },
   {
    "duration": 2535,
    "start_time": "2022-02-06T20:02:30.100Z"
   },
   {
    "duration": 2532,
    "start_time": "2022-02-06T20:02:30.104Z"
   },
   {
    "duration": 2531,
    "start_time": "2022-02-06T20:02:30.106Z"
   },
   {
    "duration": 2528,
    "start_time": "2022-02-06T20:02:30.110Z"
   },
   {
    "duration": 2526,
    "start_time": "2022-02-06T20:02:30.113Z"
   },
   {
    "duration": 2523,
    "start_time": "2022-02-06T20:02:30.116Z"
   },
   {
    "duration": 2520,
    "start_time": "2022-02-06T20:02:30.120Z"
   },
   {
    "duration": 2518,
    "start_time": "2022-02-06T20:02:30.123Z"
   },
   {
    "duration": 2499,
    "start_time": "2022-02-06T20:02:30.143Z"
   },
   {
    "duration": 2496,
    "start_time": "2022-02-06T20:02:30.147Z"
   },
   {
    "duration": 2493,
    "start_time": "2022-02-06T20:02:30.151Z"
   },
   {
    "duration": 2490,
    "start_time": "2022-02-06T20:02:30.154Z"
   },
   {
    "duration": 2488,
    "start_time": "2022-02-06T20:02:30.157Z"
   },
   {
    "duration": 2458,
    "start_time": "2022-02-06T20:02:30.188Z"
   },
   {
    "duration": 2424,
    "start_time": "2022-02-06T20:02:30.223Z"
   },
   {
    "duration": 2399,
    "start_time": "2022-02-06T20:02:30.249Z"
   },
   {
    "duration": 2375,
    "start_time": "2022-02-06T20:02:30.273Z"
   },
   {
    "duration": 2347,
    "start_time": "2022-02-06T20:02:30.302Z"
   },
   {
    "duration": 2344,
    "start_time": "2022-02-06T20:02:30.306Z"
   },
   {
    "duration": 2342,
    "start_time": "2022-02-06T20:02:30.309Z"
   },
   {
    "duration": 2340,
    "start_time": "2022-02-06T20:02:30.312Z"
   },
   {
    "duration": 357,
    "start_time": "2022-02-06T20:03:39.914Z"
   },
   {
    "duration": 3,
    "start_time": "2022-02-06T20:03:46.364Z"
   },
   {
    "duration": 291,
    "start_time": "2022-02-06T20:03:46.674Z"
   },
   {
    "duration": 11,
    "start_time": "2022-02-06T20:03:46.967Z"
   },
   {
    "duration": 20,
    "start_time": "2022-02-06T20:03:47.082Z"
   },
   {
    "duration": 14,
    "start_time": "2022-02-06T20:03:47.291Z"
   },
   {
    "duration": 19,
    "start_time": "2022-02-06T20:03:47.494Z"
   },
   {
    "duration": 15,
    "start_time": "2022-02-06T20:03:47.699Z"
   },
   {
    "duration": 18,
    "start_time": "2022-02-06T20:03:47.904Z"
   },
   {
    "duration": 10,
    "start_time": "2022-02-06T20:03:48.312Z"
   },
   {
    "duration": 17,
    "start_time": "2022-02-06T20:03:48.324Z"
   },
   {
    "duration": 13,
    "start_time": "2022-02-06T20:03:48.673Z"
   },
   {
    "duration": 14,
    "start_time": "2022-02-06T20:03:48.929Z"
   },
   {
    "duration": 12,
    "start_time": "2022-02-06T20:03:49.309Z"
   },
   {
    "duration": 11,
    "start_time": "2022-02-06T20:03:49.644Z"
   },
   {
    "duration": 11,
    "start_time": "2022-02-06T20:03:50.106Z"
   },
   {
    "duration": 13,
    "start_time": "2022-02-06T20:03:50.614Z"
   },
   {
    "duration": 10,
    "start_time": "2022-02-06T20:03:51.418Z"
   },
   {
    "duration": 13,
    "start_time": "2022-02-06T20:03:51.926Z"
   },
   {
    "duration": 10,
    "start_time": "2022-02-06T20:03:53.328Z"
   },
   {
    "duration": 10,
    "start_time": "2022-02-06T20:03:54.044Z"
   },
   {
    "duration": 13,
    "start_time": "2022-02-06T20:03:54.864Z"
   },
   {
    "duration": 13,
    "start_time": "2022-02-06T20:03:55.786Z"
   },
   {
    "duration": 6,
    "start_time": "2022-02-06T20:03:57.841Z"
   },
   {
    "duration": 319,
    "start_time": "2022-02-06T20:03:59.472Z"
   },
   {
    "duration": 6,
    "start_time": "2022-02-06T20:04:26.506Z"
   },
   {
    "duration": 5,
    "start_time": "2022-02-06T20:04:29.396Z"
   },
   {
    "duration": 4,
    "start_time": "2022-02-06T20:04:30.083Z"
   },
   {
    "duration": 7,
    "start_time": "2022-02-06T20:04:31.421Z"
   },
   {
    "duration": 7,
    "start_time": "2022-02-06T20:04:31.832Z"
   },
   {
    "duration": 24,
    "start_time": "2022-02-06T20:04:32.445Z"
   },
   {
    "duration": 6,
    "start_time": "2022-02-06T20:04:32.752Z"
   },
   {
    "duration": 6,
    "start_time": "2022-02-06T20:04:33.161Z"
   },
   {
    "duration": 31,
    "start_time": "2022-02-06T20:04:33.388Z"
   },
   {
    "duration": 36,
    "start_time": "2022-02-06T20:04:33.573Z"
   },
   {
    "duration": 15,
    "start_time": "2022-02-06T20:04:33.778Z"
   },
   {
    "duration": 6,
    "start_time": "2022-02-06T20:04:33.983Z"
   },
   {
    "duration": 4,
    "start_time": "2022-02-06T20:04:34.187Z"
   },
   {
    "duration": 20,
    "start_time": "2022-02-06T20:04:34.302Z"
   },
   {
    "duration": 5,
    "start_time": "2022-02-06T20:04:34.487Z"
   },
   {
    "duration": 12,
    "start_time": "2022-02-06T20:04:34.663Z"
   },
   {
    "duration": 3,
    "start_time": "2022-02-06T20:04:34.846Z"
   },
   {
    "duration": 12,
    "start_time": "2022-02-06T20:04:35.024Z"
   },
   {
    "duration": 10,
    "start_time": "2022-02-06T20:04:35.215Z"
   },
   {
    "duration": 18,
    "start_time": "2022-02-06T20:04:35.398Z"
   },
   {
    "duration": 9,
    "start_time": "2022-02-06T20:04:35.573Z"
   },
   {
    "duration": 3,
    "start_time": "2022-02-06T20:04:35.747Z"
   },
   {
    "duration": 3,
    "start_time": "2022-02-06T20:04:35.951Z"
   },
   {
    "duration": 34,
    "start_time": "2022-02-06T20:04:36.147Z"
   },
   {
    "duration": 6,
    "start_time": "2022-02-06T20:04:36.338Z"
   },
   {
    "duration": 8,
    "start_time": "2022-02-06T20:04:36.529Z"
   },
   {
    "duration": 18,
    "start_time": "2022-02-06T20:04:37.120Z"
   },
   {
    "duration": 20,
    "start_time": "2022-02-06T20:04:37.313Z"
   },
   {
    "duration": 25,
    "start_time": "2022-02-06T20:04:37.787Z"
   },
   {
    "duration": 6,
    "start_time": "2022-02-06T20:04:37.994Z"
   },
   {
    "duration": 12,
    "start_time": "2022-02-06T20:04:41.661Z"
   },
   {
    "duration": 40,
    "start_time": "2022-02-06T20:05:06.443Z"
   },
   {
    "duration": 36,
    "start_time": "2022-02-06T20:05:13.303Z"
   },
   {
    "duration": 99,
    "start_time": "2022-02-06T20:05:32.970Z"
   },
   {
    "duration": 18,
    "start_time": "2022-02-06T20:05:51.606Z"
   },
   {
    "duration": 20,
    "start_time": "2022-02-06T20:05:52.523Z"
   },
   {
    "duration": 29,
    "start_time": "2022-02-06T20:05:53.959Z"
   },
   {
    "duration": 7,
    "start_time": "2022-02-06T20:35:12.934Z"
   },
   {
    "duration": 4,
    "start_time": "2022-02-06T20:35:16.483Z"
   },
   {
    "duration": 4,
    "start_time": "2022-02-06T20:35:16.784Z"
   },
   {
    "duration": 6,
    "start_time": "2022-02-06T20:35:17.496Z"
   },
   {
    "duration": 7,
    "start_time": "2022-02-06T20:35:17.890Z"
   },
   {
    "duration": 24,
    "start_time": "2022-02-06T20:35:18.426Z"
   },
   {
    "duration": 6,
    "start_time": "2022-02-06T20:35:18.901Z"
   },
   {
    "duration": 6,
    "start_time": "2022-02-06T20:35:19.651Z"
   },
   {
    "duration": 28,
    "start_time": "2022-02-06T20:35:19.960Z"
   },
   {
    "duration": 32,
    "start_time": "2022-02-06T20:35:20.181Z"
   },
   {
    "duration": 15,
    "start_time": "2022-02-06T20:35:20.420Z"
   },
   {
    "duration": 6,
    "start_time": "2022-02-06T20:35:20.624Z"
   },
   {
    "duration": 4,
    "start_time": "2022-02-06T20:35:20.990Z"
   },
   {
    "duration": 24,
    "start_time": "2022-02-06T20:35:21.864Z"
   },
   {
    "duration": 6,
    "start_time": "2022-02-06T20:35:22.512Z"
   },
   {
    "duration": 12,
    "start_time": "2022-02-06T20:35:23.248Z"
   },
   {
    "duration": 3,
    "start_time": "2022-02-06T20:35:23.829Z"
   },
   {
    "duration": 12,
    "start_time": "2022-02-06T20:35:24.213Z"
   },
   {
    "duration": 12,
    "start_time": "2022-02-06T20:35:24.774Z"
   },
   {
    "duration": 21,
    "start_time": "2022-02-06T20:35:25.286Z"
   },
   {
    "duration": 10,
    "start_time": "2022-02-06T20:35:26.196Z"
   },
   {
    "duration": 2,
    "start_time": "2022-02-06T20:35:26.948Z"
   },
   {
    "duration": 3,
    "start_time": "2022-02-06T20:35:27.834Z"
   },
   {
    "duration": 2,
    "start_time": "2022-02-06T20:35:28.505Z"
   },
   {
    "duration": 2,
    "start_time": "2022-02-06T20:35:29.737Z"
   },
   {
    "duration": 2,
    "start_time": "2022-02-06T20:35:30.220Z"
   },
   {
    "duration": 20,
    "start_time": "2022-02-06T20:35:31.797Z"
   },
   {
    "duration": 20,
    "start_time": "2022-02-06T20:35:32.427Z"
   },
   {
    "duration": 28,
    "start_time": "2022-02-06T20:35:33.499Z"
   },
   {
    "duration": 6,
    "start_time": "2022-02-06T20:35:36.026Z"
   },
   {
    "duration": 25,
    "start_time": "2022-02-06T20:35:50.414Z"
   },
   {
    "duration": 18,
    "start_time": "2022-02-06T20:36:00.991Z"
   },
   {
    "duration": 21,
    "start_time": "2022-02-06T20:36:01.619Z"
   },
   {
    "duration": 48,
    "start_time": "2022-02-06T20:36:02.439Z"
   },
   {
    "duration": 11,
    "start_time": "2022-02-06T20:36:06.086Z"
   },
   {
    "duration": 27,
    "start_time": "2022-02-06T20:36:24.628Z"
   },
   {
    "duration": 8,
    "start_time": "2022-02-06T20:36:34.140Z"
   },
   {
    "duration": 25,
    "start_time": "2022-02-06T20:36:39.076Z"
   },
   {
    "duration": 25,
    "start_time": "2022-02-06T20:36:49.404Z"
   },
   {
    "duration": 6,
    "start_time": "2022-02-06T20:36:55.752Z"
   },
   {
    "duration": 27,
    "start_time": "2022-02-06T20:37:31.390Z"
   },
   {
    "duration": 6,
    "start_time": "2022-02-06T20:37:36.521Z"
   },
   {
    "duration": 65,
    "start_time": "2022-02-06T20:37:50.048Z"
   },
   {
    "duration": 67,
    "start_time": "2022-02-06T20:37:53.220Z"
   },
   {
    "duration": 26,
    "start_time": "2022-02-06T20:38:07.768Z"
   },
   {
    "duration": 6,
    "start_time": "2022-02-06T20:38:11.369Z"
   },
   {
    "duration": 24,
    "start_time": "2022-02-06T20:38:17.930Z"
   },
   {
    "duration": 8,
    "start_time": "2022-02-06T20:38:21.468Z"
   },
   {
    "duration": 2246,
    "start_time": "2022-02-06T20:40:06.474Z"
   },
   {
    "duration": 1145,
    "start_time": "2022-02-06T20:40:28.807Z"
   },
   {
    "duration": 8,
    "start_time": "2022-02-06T20:40:45.914Z"
   },
   {
    "duration": 5,
    "start_time": "2022-02-06T20:40:48.853Z"
   },
   {
    "duration": 6,
    "start_time": "2022-02-06T20:40:57.194Z"
   },
   {
    "duration": 4,
    "start_time": "2022-02-06T20:41:04.472Z"
   },
   {
    "duration": 8,
    "start_time": "2022-02-06T20:41:07.535Z"
   },
   {
    "duration": 8,
    "start_time": "2022-02-06T20:41:22.414Z"
   },
   {
    "duration": 24,
    "start_time": "2022-02-06T20:41:23.065Z"
   },
   {
    "duration": 7,
    "start_time": "2022-02-06T20:41:23.478Z"
   },
   {
    "duration": 7,
    "start_time": "2022-02-06T20:41:24.070Z"
   },
   {
    "duration": 35,
    "start_time": "2022-02-06T20:41:24.311Z"
   },
   {
    "duration": 33,
    "start_time": "2022-02-06T20:41:24.486Z"
   },
   {
    "duration": 16,
    "start_time": "2022-02-06T20:41:24.672Z"
   },
   {
    "duration": 5,
    "start_time": "2022-02-06T20:41:24.847Z"
   },
   {
    "duration": 5,
    "start_time": "2022-02-06T20:41:25.027Z"
   },
   {
    "duration": 20,
    "start_time": "2022-02-06T20:41:25.240Z"
   },
   {
    "duration": 5,
    "start_time": "2022-02-06T20:41:25.689Z"
   },
   {
    "duration": 11,
    "start_time": "2022-02-06T20:41:25.877Z"
   },
   {
    "duration": 4,
    "start_time": "2022-02-06T20:41:26.067Z"
   },
   {
    "duration": 15,
    "start_time": "2022-02-06T20:41:26.524Z"
   },
   {
    "duration": 11,
    "start_time": "2022-02-06T20:41:26.699Z"
   },
   {
    "duration": 19,
    "start_time": "2022-02-06T20:41:26.888Z"
   },
   {
    "duration": 9,
    "start_time": "2022-02-06T20:41:27.291Z"
   },
   {
    "duration": 2,
    "start_time": "2022-02-06T20:41:27.439Z"
   },
   {
    "duration": 2,
    "start_time": "2022-02-06T20:41:31.359Z"
   },
   {
    "duration": 2,
    "start_time": "2022-02-06T20:41:31.616Z"
   },
   {
    "duration": 3,
    "start_time": "2022-02-06T20:41:31.879Z"
   },
   {
    "duration": 2,
    "start_time": "2022-02-06T20:41:32.186Z"
   },
   {
    "duration": 24,
    "start_time": "2022-02-06T20:41:33.826Z"
   },
   {
    "duration": 18,
    "start_time": "2022-02-06T20:41:35.947Z"
   },
   {
    "duration": 33,
    "start_time": "2022-02-06T20:41:39.012Z"
   },
   {
    "duration": 24,
    "start_time": "2022-02-06T20:41:44.686Z"
   },
   {
    "duration": 6,
    "start_time": "2022-02-06T20:41:45.692Z"
   },
   {
    "duration": 26,
    "start_time": "2022-02-06T20:41:59.697Z"
   },
   {
    "duration": 6,
    "start_time": "2022-02-06T20:42:03.661Z"
   },
   {
    "duration": 84,
    "start_time": "2022-02-06T20:42:21.080Z"
   },
   {
    "duration": 26,
    "start_time": "2022-02-06T20:42:30.673Z"
   },
   {
    "duration": 6,
    "start_time": "2022-02-06T20:42:33.259Z"
   },
   {
    "duration": 25,
    "start_time": "2022-02-06T20:42:38.551Z"
   },
   {
    "duration": 6,
    "start_time": "2022-02-06T20:42:40.661Z"
   },
   {
    "duration": 25,
    "start_time": "2022-02-06T20:49:37.093Z"
   },
   {
    "duration": 8,
    "start_time": "2022-02-06T20:49:42.940Z"
   },
   {
    "duration": 3176,
    "start_time": "2022-02-06T20:50:59.172Z"
   },
   {
    "duration": 3,
    "start_time": "2022-02-06T20:51:14.609Z"
   },
   {
    "duration": 44,
    "start_time": "2022-02-06T20:52:56.404Z"
   },
   {
    "duration": 25,
    "start_time": "2022-02-06T20:53:05.550Z"
   },
   {
    "duration": 8,
    "start_time": "2022-02-06T20:57:47.580Z"
   },
   {
    "duration": 19,
    "start_time": "2022-02-06T20:57:59.409Z"
   },
   {
    "duration": 20,
    "start_time": "2022-02-06T20:58:03.890Z"
   },
   {
    "duration": 32,
    "start_time": "2022-02-06T20:58:05.031Z"
   },
   {
    "duration": 7,
    "start_time": "2022-02-06T20:58:09.209Z"
   },
   {
    "duration": 8,
    "start_time": "2022-02-06T20:58:13.356Z"
   },
   {
    "duration": 9,
    "start_time": "2022-02-06T20:58:57.167Z"
   },
   {
    "duration": 347,
    "start_time": "2022-02-06T21:00:49.098Z"
   },
   {
    "duration": 329,
    "start_time": "2022-02-06T21:00:57.570Z"
   },
   {
    "duration": 49,
    "start_time": "2022-02-06T21:01:15.811Z"
   },
   {
    "duration": 24,
    "start_time": "2022-02-06T21:01:39.802Z"
   },
   {
    "duration": 48,
    "start_time": "2022-02-06T21:01:59.198Z"
   },
   {
    "duration": 24,
    "start_time": "2022-02-06T21:03:37.890Z"
   },
   {
    "duration": 29,
    "start_time": "2022-02-06T21:04:30.926Z"
   },
   {
    "duration": 27,
    "start_time": "2022-02-06T21:04:52.040Z"
   },
   {
    "duration": 30,
    "start_time": "2022-02-06T21:05:02.922Z"
   },
   {
    "duration": 30,
    "start_time": "2022-02-06T21:05:25.424Z"
   },
   {
    "duration": 2,
    "start_time": "2022-02-06T21:05:53.594Z"
   },
   {
    "duration": 2,
    "start_time": "2022-02-06T21:05:54.171Z"
   },
   {
    "duration": 6,
    "start_time": "2022-02-06T21:05:54.525Z"
   },
   {
    "duration": 5,
    "start_time": "2022-02-06T21:05:54.928Z"
   },
   {
    "duration": 3,
    "start_time": "2022-02-06T21:05:55.440Z"
   },
   {
    "duration": 2,
    "start_time": "2022-02-06T21:05:56.911Z"
   },
   {
    "duration": 2,
    "start_time": "2022-02-06T21:05:57.358Z"
   },
   {
    "duration": 3,
    "start_time": "2022-02-06T21:05:57.891Z"
   },
   {
    "duration": 6,
    "start_time": "2022-02-06T21:05:58.763Z"
   },
   {
    "duration": 9,
    "start_time": "2022-02-06T21:06:06.317Z"
   },
   {
    "duration": 6,
    "start_time": "2022-02-06T21:06:52.902Z"
   },
   {
    "duration": 9,
    "start_time": "2022-02-06T21:07:40.074Z"
   },
   {
    "duration": 24,
    "start_time": "2022-02-06T21:10:37.891Z"
   },
   {
    "duration": 47,
    "start_time": "2022-02-06T21:10:39.801Z"
   },
   {
    "duration": 26,
    "start_time": "2022-02-06T21:10:41.028Z"
   },
   {
    "duration": 8,
    "start_time": "2022-02-06T21:10:43.860Z"
   },
   {
    "duration": 8,
    "start_time": "2022-02-06T21:10:50.601Z"
   },
   {
    "duration": 25,
    "start_time": "2022-02-06T21:11:06.177Z"
   },
   {
    "duration": 25,
    "start_time": "2022-02-06T21:11:07.340Z"
   },
   {
    "duration": 6,
    "start_time": "2022-02-06T21:11:09.872Z"
   },
   {
    "duration": 110,
    "start_time": "2022-02-06T21:12:37.207Z"
   },
   {
    "duration": 33,
    "start_time": "2022-02-06T21:12:52.304Z"
   },
   {
    "duration": 7,
    "start_time": "2022-02-06T21:12:57.485Z"
   },
   {
    "duration": 27,
    "start_time": "2022-02-06T21:13:11.398Z"
   },
   {
    "duration": 6,
    "start_time": "2022-02-06T21:13:13.647Z"
   },
   {
    "duration": 44,
    "start_time": "2022-02-06T21:13:53.973Z"
   },
   {
    "duration": 25,
    "start_time": "2022-02-06T21:14:10.044Z"
   },
   {
    "duration": 341,
    "start_time": "2022-02-06T21:14:18.222Z"
   },
   {
    "duration": 170,
    "start_time": "2022-02-06T21:14:30.287Z"
   },
   {
    "duration": 31,
    "start_time": "2022-02-06T21:14:36.610Z"
   },
   {
    "duration": 24,
    "start_time": "2022-02-06T21:14:40.288Z"
   },
   {
    "duration": 24,
    "start_time": "2022-02-06T21:14:45.768Z"
   },
   {
    "duration": 6,
    "start_time": "2022-02-06T21:14:47.593Z"
   },
   {
    "duration": 18,
    "start_time": "2022-02-06T21:15:59.412Z"
   },
   {
    "duration": 19,
    "start_time": "2022-02-06T21:16:07.406Z"
   },
   {
    "duration": 28,
    "start_time": "2022-02-06T21:16:09.857Z"
   },
   {
    "duration": 33,
    "start_time": "2022-02-06T21:16:36.006Z"
   },
   {
    "duration": 29,
    "start_time": "2022-02-06T21:16:56.649Z"
   },
   {
    "duration": 29,
    "start_time": "2022-02-06T21:17:03.602Z"
   },
   {
    "duration": 25,
    "start_time": "2022-02-06T21:17:12.039Z"
   },
   {
    "duration": 7,
    "start_time": "2022-02-06T21:17:22.950Z"
   },
   {
    "duration": 24,
    "start_time": "2022-02-06T21:18:38.590Z"
   },
   {
    "duration": 32,
    "start_time": "2022-02-06T21:18:53.118Z"
   },
   {
    "duration": 7,
    "start_time": "2022-02-06T21:18:57.484Z"
   },
   {
    "duration": 26,
    "start_time": "2022-02-06T21:22:54.777Z"
   },
   {
    "duration": 6,
    "start_time": "2022-02-06T21:22:59.047Z"
   },
   {
    "duration": 36,
    "start_time": "2022-02-06T21:23:18.027Z"
   },
   {
    "duration": 25,
    "start_time": "2022-02-06T21:23:23.743Z"
   },
   {
    "duration": 7,
    "start_time": "2022-02-06T21:23:23.950Z"
   },
   {
    "duration": 8,
    "start_time": "2022-02-06T21:23:25.107Z"
   },
   {
    "duration": 355,
    "start_time": "2022-02-07T07:03:38.144Z"
   },
   {
    "duration": 1377,
    "start_time": "2022-02-07T07:03:46.868Z"
   },
   {
    "duration": 280,
    "start_time": "2022-02-07T07:03:48.246Z"
   },
   {
    "duration": 13,
    "start_time": "2022-02-07T07:03:48.528Z"
   },
   {
    "duration": 19,
    "start_time": "2022-02-07T07:03:48.543Z"
   },
   {
    "duration": 14,
    "start_time": "2022-02-07T07:03:48.563Z"
   },
   {
    "duration": 17,
    "start_time": "2022-02-07T07:03:48.578Z"
   },
   {
    "duration": 38,
    "start_time": "2022-02-07T07:03:48.597Z"
   },
   {
    "duration": 18,
    "start_time": "2022-02-07T07:03:48.638Z"
   },
   {
    "duration": 9,
    "start_time": "2022-02-07T07:03:48.658Z"
   },
   {
    "duration": 18,
    "start_time": "2022-02-07T07:03:48.668Z"
   },
   {
    "duration": 11,
    "start_time": "2022-02-07T07:03:48.688Z"
   },
   {
    "duration": 39,
    "start_time": "2022-02-07T07:03:48.700Z"
   },
   {
    "duration": 12,
    "start_time": "2022-02-07T07:03:48.740Z"
   },
   {
    "duration": 10,
    "start_time": "2022-02-07T07:03:48.754Z"
   },
   {
    "duration": 9,
    "start_time": "2022-02-07T07:03:48.765Z"
   },
   {
    "duration": 19,
    "start_time": "2022-02-07T07:03:48.776Z"
   },
   {
    "duration": 30,
    "start_time": "2022-02-07T07:03:48.797Z"
   },
   {
    "duration": 11,
    "start_time": "2022-02-07T07:03:48.829Z"
   },
   {
    "duration": 9,
    "start_time": "2022-02-07T07:03:48.842Z"
   },
   {
    "duration": 18,
    "start_time": "2022-02-07T07:03:48.853Z"
   },
   {
    "duration": 13,
    "start_time": "2022-02-07T07:03:48.872Z"
   },
   {
    "duration": 14,
    "start_time": "2022-02-07T07:03:48.886Z"
   },
   {
    "duration": 5,
    "start_time": "2022-02-07T07:03:48.904Z"
   },
   {
    "duration": 454,
    "start_time": "2022-02-07T07:03:48.911Z"
   },
   {
    "duration": 3958,
    "start_time": "2022-02-07T07:03:45.409Z"
   },
   {
    "duration": 3934,
    "start_time": "2022-02-07T07:03:45.434Z"
   },
   {
    "duration": 3931,
    "start_time": "2022-02-07T07:03:45.438Z"
   },
   {
    "duration": 3909,
    "start_time": "2022-02-07T07:03:45.462Z"
   },
   {
    "duration": 3906,
    "start_time": "2022-02-07T07:03:45.466Z"
   },
   {
    "duration": 3889,
    "start_time": "2022-02-07T07:03:45.483Z"
   },
   {
    "duration": 3875,
    "start_time": "2022-02-07T07:03:45.498Z"
   },
   {
    "duration": 3871,
    "start_time": "2022-02-07T07:03:45.503Z"
   },
   {
    "duration": 3869,
    "start_time": "2022-02-07T07:03:45.506Z"
   },
   {
    "duration": 3866,
    "start_time": "2022-02-07T07:03:45.510Z"
   },
   {
    "duration": 3863,
    "start_time": "2022-02-07T07:03:45.514Z"
   },
   {
    "duration": 3861,
    "start_time": "2022-02-07T07:03:45.517Z"
   },
   {
    "duration": 3859,
    "start_time": "2022-02-07T07:03:45.520Z"
   },
   {
    "duration": 3856,
    "start_time": "2022-02-07T07:03:45.523Z"
   },
   {
    "duration": 3853,
    "start_time": "2022-02-07T07:03:45.527Z"
   },
   {
    "duration": 3852,
    "start_time": "2022-02-07T07:03:45.530Z"
   },
   {
    "duration": 3849,
    "start_time": "2022-02-07T07:03:45.534Z"
   },
   {
    "duration": 3845,
    "start_time": "2022-02-07T07:03:45.538Z"
   },
   {
    "duration": 3844,
    "start_time": "2022-02-07T07:03:45.540Z"
   },
   {
    "duration": 3841,
    "start_time": "2022-02-07T07:03:45.544Z"
   },
   {
    "duration": 3840,
    "start_time": "2022-02-07T07:03:45.546Z"
   },
   {
    "duration": 3836,
    "start_time": "2022-02-07T07:03:45.550Z"
   },
   {
    "duration": 3834,
    "start_time": "2022-02-07T07:03:45.553Z"
   },
   {
    "duration": 3831,
    "start_time": "2022-02-07T07:03:45.557Z"
   },
   {
    "duration": 3829,
    "start_time": "2022-02-07T07:03:45.560Z"
   },
   {
    "duration": 3827,
    "start_time": "2022-02-07T07:03:45.563Z"
   },
   {
    "duration": 3825,
    "start_time": "2022-02-07T07:03:45.566Z"
   },
   {
    "duration": 3821,
    "start_time": "2022-02-07T07:03:45.570Z"
   },
   {
    "duration": 3819,
    "start_time": "2022-02-07T07:03:45.573Z"
   },
   {
    "duration": 3817,
    "start_time": "2022-02-07T07:03:45.576Z"
   },
   {
    "duration": 3815,
    "start_time": "2022-02-07T07:03:45.579Z"
   },
   {
    "duration": 3811,
    "start_time": "2022-02-07T07:03:45.583Z"
   },
   {
    "duration": 3809,
    "start_time": "2022-02-07T07:03:45.586Z"
   },
   {
    "duration": 3806,
    "start_time": "2022-02-07T07:03:45.590Z"
   },
   {
    "duration": 3804,
    "start_time": "2022-02-07T07:03:45.593Z"
   },
   {
    "duration": 3801,
    "start_time": "2022-02-07T07:03:45.596Z"
   },
   {
    "duration": 3785,
    "start_time": "2022-02-07T07:03:45.613Z"
   },
   {
    "duration": 3781,
    "start_time": "2022-02-07T07:03:45.618Z"
   },
   {
    "duration": 3779,
    "start_time": "2022-02-07T07:03:45.621Z"
   },
   {
    "duration": 3776,
    "start_time": "2022-02-07T07:03:45.625Z"
   },
   {
    "duration": 3773,
    "start_time": "2022-02-07T07:03:45.628Z"
   },
   {
    "duration": 3771,
    "start_time": "2022-02-07T07:03:45.631Z"
   },
   {
    "duration": 3793,
    "start_time": "2022-02-07T07:03:45.634Z"
   },
   {
    "duration": 3790,
    "start_time": "2022-02-07T07:03:45.637Z"
   },
   {
    "duration": 3788,
    "start_time": "2022-02-07T07:03:45.640Z"
   },
   {
    "duration": 3787,
    "start_time": "2022-02-07T07:03:45.642Z"
   },
   {
    "duration": 3784,
    "start_time": "2022-02-07T07:03:45.646Z"
   },
   {
    "duration": 3782,
    "start_time": "2022-02-07T07:03:45.649Z"
   },
   {
    "duration": 3780,
    "start_time": "2022-02-07T07:03:45.652Z"
   },
   {
    "duration": 3777,
    "start_time": "2022-02-07T07:03:45.655Z"
   },
   {
    "duration": 3775,
    "start_time": "2022-02-07T07:03:45.658Z"
   },
   {
    "duration": 3772,
    "start_time": "2022-02-07T07:03:45.662Z"
   },
   {
    "duration": 3771,
    "start_time": "2022-02-07T07:03:45.664Z"
   },
   {
    "duration": 3768,
    "start_time": "2022-02-07T07:03:45.668Z"
   },
   {
    "duration": 3765,
    "start_time": "2022-02-07T07:03:45.671Z"
   },
   {
    "duration": 3763,
    "start_time": "2022-02-07T07:03:45.674Z"
   },
   {
    "duration": 3761,
    "start_time": "2022-02-07T07:03:45.677Z"
   },
   {
    "duration": 3759,
    "start_time": "2022-02-07T07:03:45.680Z"
   },
   {
    "duration": 3757,
    "start_time": "2022-02-07T07:03:45.683Z"
   },
   {
    "duration": 3755,
    "start_time": "2022-02-07T07:03:45.686Z"
   },
   {
    "duration": 3753,
    "start_time": "2022-02-07T07:03:45.689Z"
   },
   {
    "duration": 3750,
    "start_time": "2022-02-07T07:03:45.692Z"
   },
   {
    "duration": 3748,
    "start_time": "2022-02-07T07:03:45.695Z"
   },
   {
    "duration": 3746,
    "start_time": "2022-02-07T07:03:45.698Z"
   },
   {
    "duration": 3744,
    "start_time": "2022-02-07T07:03:45.701Z"
   },
   {
    "duration": 3741,
    "start_time": "2022-02-07T07:03:45.704Z"
   },
   {
    "duration": 3739,
    "start_time": "2022-02-07T07:03:45.707Z"
   },
   {
    "duration": 3737,
    "start_time": "2022-02-07T07:03:45.710Z"
   },
   {
    "duration": 3711,
    "start_time": "2022-02-07T07:03:45.737Z"
   },
   {
    "duration": 3698,
    "start_time": "2022-02-07T07:03:45.751Z"
   },
   {
    "duration": 3677,
    "start_time": "2022-02-07T07:03:45.773Z"
   },
   {
    "duration": 3674,
    "start_time": "2022-02-07T07:03:45.776Z"
   },
   {
    "duration": 3653,
    "start_time": "2022-02-07T07:03:45.798Z"
   },
   {
    "duration": 3640,
    "start_time": "2022-02-07T07:03:45.812Z"
   },
   {
    "duration": 3618,
    "start_time": "2022-02-07T07:03:45.834Z"
   },
   {
    "duration": 1381,
    "start_time": "2022-02-07T07:04:50.046Z"
   },
   {
    "duration": 294,
    "start_time": "2022-02-07T07:04:51.429Z"
   },
   {
    "duration": 12,
    "start_time": "2022-02-07T07:04:51.725Z"
   },
   {
    "duration": 20,
    "start_time": "2022-02-07T07:04:51.739Z"
   },
   {
    "duration": 14,
    "start_time": "2022-02-07T07:04:51.760Z"
   },
   {
    "duration": 18,
    "start_time": "2022-02-07T07:04:51.776Z"
   },
   {
    "duration": 43,
    "start_time": "2022-02-07T07:04:51.795Z"
   },
   {
    "duration": 19,
    "start_time": "2022-02-07T07:04:51.840Z"
   },
   {
    "duration": 9,
    "start_time": "2022-02-07T07:04:51.861Z"
   },
   {
    "duration": 22,
    "start_time": "2022-02-07T07:04:51.872Z"
   },
   {
    "duration": 11,
    "start_time": "2022-02-07T07:04:51.895Z"
   },
   {
    "duration": 14,
    "start_time": "2022-02-07T07:04:51.926Z"
   },
   {
    "duration": 12,
    "start_time": "2022-02-07T07:04:51.941Z"
   },
   {
    "duration": 13,
    "start_time": "2022-02-07T07:04:51.954Z"
   },
   {
    "duration": 8,
    "start_time": "2022-02-07T07:04:51.968Z"
   },
   {
    "duration": 10,
    "start_time": "2022-02-07T07:04:51.978Z"
   },
   {
    "duration": 14,
    "start_time": "2022-02-07T07:04:51.989Z"
   },
   {
    "duration": 33,
    "start_time": "2022-02-07T07:04:52.004Z"
   },
   {
    "duration": 9,
    "start_time": "2022-02-07T07:04:52.039Z"
   },
   {
    "duration": 17,
    "start_time": "2022-02-07T07:04:52.049Z"
   },
   {
    "duration": 13,
    "start_time": "2022-02-07T07:04:52.068Z"
   },
   {
    "duration": 14,
    "start_time": "2022-02-07T07:04:52.082Z"
   },
   {
    "duration": 6,
    "start_time": "2022-02-07T07:04:52.097Z"
   },
   {
    "duration": 26,
    "start_time": "2022-02-07T07:04:52.105Z"
   },
   {
    "duration": 6,
    "start_time": "2022-02-07T07:04:52.133Z"
   },
   {
    "duration": 11,
    "start_time": "2022-02-07T07:04:52.141Z"
   },
   {
    "duration": 6,
    "start_time": "2022-02-07T07:04:52.156Z"
   },
   {
    "duration": 12,
    "start_time": "2022-02-07T07:04:52.164Z"
   },
   {
    "duration": 29,
    "start_time": "2022-02-07T07:04:52.177Z"
   },
   {
    "duration": 22,
    "start_time": "2022-02-07T07:04:52.208Z"
   },
   {
    "duration": 6,
    "start_time": "2022-02-07T07:04:52.231Z"
   },
   {
    "duration": 31,
    "start_time": "2022-02-07T07:04:52.238Z"
   },
   {
    "duration": 57,
    "start_time": "2022-02-07T07:04:52.271Z"
   },
   {
    "duration": 17,
    "start_time": "2022-02-07T07:04:52.329Z"
   },
   {
    "duration": 5,
    "start_time": "2022-02-07T07:04:52.347Z"
   },
   {
    "duration": 6,
    "start_time": "2022-02-07T07:04:52.354Z"
   },
   {
    "duration": 23,
    "start_time": "2022-02-07T07:04:52.361Z"
   },
   {
    "duration": 4,
    "start_time": "2022-02-07T07:04:52.386Z"
   },
   {
    "duration": 40,
    "start_time": "2022-02-07T07:04:52.391Z"
   },
   {
    "duration": 3,
    "start_time": "2022-02-07T07:04:52.433Z"
   },
   {
    "duration": 18,
    "start_time": "2022-02-07T07:04:52.437Z"
   },
   {
    "duration": 13,
    "start_time": "2022-02-07T07:04:52.457Z"
   },
   {
    "duration": 24,
    "start_time": "2022-02-07T07:04:52.472Z"
   },
   {
    "duration": 8,
    "start_time": "2022-02-07T07:04:52.498Z"
   },
   {
    "duration": 34,
    "start_time": "2022-02-07T07:04:52.507Z"
   },
   {
    "duration": 17,
    "start_time": "2022-02-07T07:04:52.543Z"
   },
   {
    "duration": 429,
    "start_time": "2022-02-07T07:04:52.561Z"
   },
   {
    "duration": 3932,
    "start_time": "2022-02-07T07:04:49.060Z"
   },
   {
    "duration": 3930,
    "start_time": "2022-02-07T07:04:49.063Z"
   },
   {
    "duration": 3926,
    "start_time": "2022-02-07T07:04:49.067Z"
   },
   {
    "duration": 3924,
    "start_time": "2022-02-07T07:04:49.070Z"
   },
   {
    "duration": 3922,
    "start_time": "2022-02-07T07:04:49.073Z"
   },
   {
    "duration": 3920,
    "start_time": "2022-02-07T07:04:49.076Z"
   },
   {
    "duration": 3918,
    "start_time": "2022-02-07T07:04:49.079Z"
   },
   {
    "duration": 3915,
    "start_time": "2022-02-07T07:04:49.082Z"
   },
   {
    "duration": 3913,
    "start_time": "2022-02-07T07:04:49.085Z"
   },
   {
    "duration": 3911,
    "start_time": "2022-02-07T07:04:49.088Z"
   },
   {
    "duration": 3908,
    "start_time": "2022-02-07T07:04:49.092Z"
   },
   {
    "duration": 3906,
    "start_time": "2022-02-07T07:04:49.095Z"
   },
   {
    "duration": 3903,
    "start_time": "2022-02-07T07:04:49.098Z"
   },
   {
    "duration": 3901,
    "start_time": "2022-02-07T07:04:49.101Z"
   },
   {
    "duration": 3899,
    "start_time": "2022-02-07T07:04:49.104Z"
   },
   {
    "duration": 3897,
    "start_time": "2022-02-07T07:04:49.107Z"
   },
   {
    "duration": 3894,
    "start_time": "2022-02-07T07:04:49.111Z"
   },
   {
    "duration": 3891,
    "start_time": "2022-02-07T07:04:49.114Z"
   },
   {
    "duration": 3889,
    "start_time": "2022-02-07T07:04:49.117Z"
   },
   {
    "duration": 3886,
    "start_time": "2022-02-07T07:04:49.121Z"
   },
   {
    "duration": 3883,
    "start_time": "2022-02-07T07:04:49.125Z"
   },
   {
    "duration": 3865,
    "start_time": "2022-02-07T07:04:49.144Z"
   },
   {
    "duration": 3862,
    "start_time": "2022-02-07T07:04:49.148Z"
   },
   {
    "duration": 3859,
    "start_time": "2022-02-07T07:04:49.152Z"
   },
   {
    "duration": 3857,
    "start_time": "2022-02-07T07:04:49.155Z"
   },
   {
    "duration": 3855,
    "start_time": "2022-02-07T07:04:49.158Z"
   },
   {
    "duration": 3853,
    "start_time": "2022-02-07T07:04:49.161Z"
   },
   {
    "duration": 3852,
    "start_time": "2022-02-07T07:04:49.164Z"
   },
   {
    "duration": 3849,
    "start_time": "2022-02-07T07:04:49.167Z"
   },
   {
    "duration": 3848,
    "start_time": "2022-02-07T07:04:49.169Z"
   },
   {
    "duration": 3846,
    "start_time": "2022-02-07T07:04:49.172Z"
   },
   {
    "duration": 3843,
    "start_time": "2022-02-07T07:04:49.176Z"
   },
   {
    "duration": 3841,
    "start_time": "2022-02-07T07:04:49.179Z"
   },
   {
    "duration": 3840,
    "start_time": "2022-02-07T07:04:49.181Z"
   },
   {
    "duration": 3837,
    "start_time": "2022-02-07T07:04:49.185Z"
   },
   {
    "duration": 3836,
    "start_time": "2022-02-07T07:04:49.187Z"
   },
   {
    "duration": 3834,
    "start_time": "2022-02-07T07:04:49.190Z"
   },
   {
    "duration": 3832,
    "start_time": "2022-02-07T07:04:49.193Z"
   },
   {
    "duration": 3830,
    "start_time": "2022-02-07T07:04:49.196Z"
   },
   {
    "duration": 3829,
    "start_time": "2022-02-07T07:04:49.198Z"
   },
   {
    "duration": 3825,
    "start_time": "2022-02-07T07:04:49.202Z"
   },
   {
    "duration": 3823,
    "start_time": "2022-02-07T07:04:49.205Z"
   },
   {
    "duration": 3821,
    "start_time": "2022-02-07T07:04:49.208Z"
   },
   {
    "duration": 3820,
    "start_time": "2022-02-07T07:04:49.211Z"
   },
   {
    "duration": 3817,
    "start_time": "2022-02-07T07:04:49.214Z"
   },
   {
    "duration": 3814,
    "start_time": "2022-02-07T07:04:49.218Z"
   },
   {
    "duration": 3812,
    "start_time": "2022-02-07T07:04:49.221Z"
   },
   {
    "duration": 3810,
    "start_time": "2022-02-07T07:04:49.224Z"
   },
   {
    "duration": 3808,
    "start_time": "2022-02-07T07:04:49.227Z"
   },
   {
    "duration": 3806,
    "start_time": "2022-02-07T07:04:49.230Z"
   },
   {
    "duration": 3804,
    "start_time": "2022-02-07T07:04:49.233Z"
   },
   {
    "duration": 3802,
    "start_time": "2022-02-07T07:04:49.236Z"
   },
   {
    "duration": 417,
    "start_time": "2022-02-07T07:05:38.057Z"
   },
   {
    "duration": 1374,
    "start_time": "2022-02-07T07:06:40.664Z"
   },
   {
    "duration": 277,
    "start_time": "2022-02-07T07:06:42.040Z"
   },
   {
    "duration": 13,
    "start_time": "2022-02-07T07:06:42.319Z"
   },
   {
    "duration": 21,
    "start_time": "2022-02-07T07:06:42.334Z"
   },
   {
    "duration": 16,
    "start_time": "2022-02-07T07:06:42.357Z"
   },
   {
    "duration": 19,
    "start_time": "2022-02-07T07:06:42.374Z"
   },
   {
    "duration": 43,
    "start_time": "2022-02-07T07:06:42.394Z"
   },
   {
    "duration": 18,
    "start_time": "2022-02-07T07:06:42.439Z"
   },
   {
    "duration": 10,
    "start_time": "2022-02-07T07:06:42.460Z"
   },
   {
    "duration": 18,
    "start_time": "2022-02-07T07:06:42.472Z"
   },
   {
    "duration": 36,
    "start_time": "2022-02-07T07:06:42.491Z"
   },
   {
    "duration": 14,
    "start_time": "2022-02-07T07:06:42.528Z"
   },
   {
    "duration": 11,
    "start_time": "2022-02-07T07:06:42.544Z"
   },
   {
    "duration": 10,
    "start_time": "2022-02-07T07:06:42.556Z"
   },
   {
    "duration": 9,
    "start_time": "2022-02-07T07:06:42.567Z"
   },
   {
    "duration": 13,
    "start_time": "2022-02-07T07:06:42.577Z"
   },
   {
    "duration": 37,
    "start_time": "2022-02-07T07:06:42.591Z"
   },
   {
    "duration": 11,
    "start_time": "2022-02-07T07:06:42.630Z"
   },
   {
    "duration": 9,
    "start_time": "2022-02-07T07:06:42.643Z"
   },
   {
    "duration": 9,
    "start_time": "2022-02-07T07:06:42.653Z"
   },
   {
    "duration": 12,
    "start_time": "2022-02-07T07:06:42.663Z"
   },
   {
    "duration": 13,
    "start_time": "2022-02-07T07:06:42.677Z"
   },
   {
    "duration": 39,
    "start_time": "2022-02-07T07:06:42.691Z"
   },
   {
    "duration": 5,
    "start_time": "2022-02-07T07:06:42.731Z"
   },
   {
    "duration": 9,
    "start_time": "2022-02-07T07:06:42.737Z"
   },
   {
    "duration": 11,
    "start_time": "2022-02-07T07:06:42.748Z"
   },
   {
    "duration": 6,
    "start_time": "2022-02-07T07:06:42.763Z"
   },
   {
    "duration": 8,
    "start_time": "2022-02-07T07:06:42.772Z"
   },
   {
    "duration": 45,
    "start_time": "2022-02-07T07:06:42.782Z"
   },
   {
    "duration": 5,
    "start_time": "2022-02-07T07:06:42.829Z"
   },
   {
    "duration": 7,
    "start_time": "2022-02-07T07:06:42.835Z"
   },
   {
    "duration": 30,
    "start_time": "2022-02-07T07:06:42.844Z"
   },
   {
    "duration": 56,
    "start_time": "2022-02-07T07:06:42.875Z"
   },
   {
    "duration": 16,
    "start_time": "2022-02-07T07:06:42.932Z"
   },
   {
    "duration": 5,
    "start_time": "2022-02-07T07:06:42.949Z"
   },
   {
    "duration": 5,
    "start_time": "2022-02-07T07:06:42.955Z"
   },
   {
    "duration": 22,
    "start_time": "2022-02-07T07:06:42.961Z"
   },
   {
    "duration": 5,
    "start_time": "2022-02-07T07:06:42.985Z"
   },
   {
    "duration": 41,
    "start_time": "2022-02-07T07:06:42.991Z"
   },
   {
    "duration": 3,
    "start_time": "2022-02-07T07:06:43.033Z"
   },
   {
    "duration": 12,
    "start_time": "2022-02-07T07:06:43.037Z"
   },
   {
    "duration": 9,
    "start_time": "2022-02-07T07:06:43.051Z"
   },
   {
    "duration": 18,
    "start_time": "2022-02-07T07:06:43.062Z"
   },
   {
    "duration": 8,
    "start_time": "2022-02-07T07:06:43.082Z"
   },
   {
    "duration": 46,
    "start_time": "2022-02-07T07:06:43.091Z"
   },
   {
    "duration": 17,
    "start_time": "2022-02-07T07:06:43.139Z"
   },
   {
    "duration": 416,
    "start_time": "2022-02-07T07:06:43.157Z"
   },
   {
    "duration": 3956,
    "start_time": "2022-02-07T07:06:39.619Z"
   },
   {
    "duration": 3922,
    "start_time": "2022-02-07T07:06:39.654Z"
   },
   {
    "duration": 3909,
    "start_time": "2022-02-07T07:06:39.668Z"
   },
   {
    "duration": 3885,
    "start_time": "2022-02-07T07:06:39.693Z"
   },
   {
    "duration": 3872,
    "start_time": "2022-02-07T07:06:39.707Z"
   },
   {
    "duration": 3868,
    "start_time": "2022-02-07T07:06:39.712Z"
   },
   {
    "duration": 3865,
    "start_time": "2022-02-07T07:06:39.715Z"
   },
   {
    "duration": 3863,
    "start_time": "2022-02-07T07:06:39.718Z"
   },
   {
    "duration": 3861,
    "start_time": "2022-02-07T07:06:39.721Z"
   },
   {
    "duration": 3858,
    "start_time": "2022-02-07T07:06:39.724Z"
   },
   {
    "duration": 3856,
    "start_time": "2022-02-07T07:06:39.727Z"
   },
   {
    "duration": 3854,
    "start_time": "2022-02-07T07:06:39.730Z"
   },
   {
    "duration": 3852,
    "start_time": "2022-02-07T07:06:39.733Z"
   },
   {
    "duration": 3849,
    "start_time": "2022-02-07T07:06:39.736Z"
   },
   {
    "duration": 3847,
    "start_time": "2022-02-07T07:06:39.739Z"
   },
   {
    "duration": 3845,
    "start_time": "2022-02-07T07:06:39.742Z"
   },
   {
    "duration": 3842,
    "start_time": "2022-02-07T07:06:39.745Z"
   },
   {
    "duration": 3840,
    "start_time": "2022-02-07T07:06:39.748Z"
   },
   {
    "duration": 3839,
    "start_time": "2022-02-07T07:06:39.750Z"
   },
   {
    "duration": 3836,
    "start_time": "2022-02-07T07:06:39.754Z"
   },
   {
    "duration": 3833,
    "start_time": "2022-02-07T07:06:39.757Z"
   },
   {
    "duration": 3831,
    "start_time": "2022-02-07T07:06:39.760Z"
   },
   {
    "duration": 3829,
    "start_time": "2022-02-07T07:06:39.763Z"
   },
   {
    "duration": 3822,
    "start_time": "2022-02-07T07:06:39.771Z"
   },
   {
    "duration": 3819,
    "start_time": "2022-02-07T07:06:39.774Z"
   },
   {
    "duration": 3817,
    "start_time": "2022-02-07T07:06:39.777Z"
   },
   {
    "duration": 3815,
    "start_time": "2022-02-07T07:06:39.780Z"
   },
   {
    "duration": 3813,
    "start_time": "2022-02-07T07:06:39.783Z"
   },
   {
    "duration": 3810,
    "start_time": "2022-02-07T07:06:39.786Z"
   },
   {
    "duration": 3808,
    "start_time": "2022-02-07T07:06:39.789Z"
   },
   {
    "duration": 3805,
    "start_time": "2022-02-07T07:06:39.793Z"
   },
   {
    "duration": 3803,
    "start_time": "2022-02-07T07:06:39.796Z"
   },
   {
    "duration": 3801,
    "start_time": "2022-02-07T07:06:39.799Z"
   },
   {
    "duration": 3798,
    "start_time": "2022-02-07T07:06:39.802Z"
   },
   {
    "duration": 3796,
    "start_time": "2022-02-07T07:06:39.805Z"
   },
   {
    "duration": 3782,
    "start_time": "2022-02-07T07:06:39.820Z"
   },
   {
    "duration": 3780,
    "start_time": "2022-02-07T07:06:39.823Z"
   },
   {
    "duration": 3776,
    "start_time": "2022-02-07T07:06:39.827Z"
   },
   {
    "duration": 3774,
    "start_time": "2022-02-07T07:06:39.830Z"
   },
   {
    "duration": 3772,
    "start_time": "2022-02-07T07:06:39.833Z"
   },
   {
    "duration": 3770,
    "start_time": "2022-02-07T07:06:39.836Z"
   },
   {
    "duration": 3768,
    "start_time": "2022-02-07T07:06:39.839Z"
   },
   {
    "duration": 3765,
    "start_time": "2022-02-07T07:06:39.842Z"
   },
   {
    "duration": 3763,
    "start_time": "2022-02-07T07:06:39.845Z"
   },
   {
    "duration": 3761,
    "start_time": "2022-02-07T07:06:39.848Z"
   },
   {
    "duration": 3758,
    "start_time": "2022-02-07T07:06:39.851Z"
   },
   {
    "duration": 3756,
    "start_time": "2022-02-07T07:06:39.854Z"
   },
   {
    "duration": 3754,
    "start_time": "2022-02-07T07:06:39.857Z"
   },
   {
    "duration": 3753,
    "start_time": "2022-02-07T07:06:39.859Z"
   },
   {
    "duration": 3750,
    "start_time": "2022-02-07T07:06:39.862Z"
   },
   {
    "duration": 3748,
    "start_time": "2022-02-07T07:06:39.865Z"
   },
   {
    "duration": 3745,
    "start_time": "2022-02-07T07:06:39.869Z"
   },
   {
    "duration": 382,
    "start_time": "2022-02-07T07:06:56.234Z"
   },
   {
    "duration": 322,
    "start_time": "2022-02-07T07:07:39.100Z"
   },
   {
    "duration": 8,
    "start_time": "2022-02-07T07:07:54.249Z"
   },
   {
    "duration": 6,
    "start_time": "2022-02-07T07:07:54.455Z"
   },
   {
    "duration": 8,
    "start_time": "2022-02-07T07:08:04.489Z"
   },
   {
    "duration": 25,
    "start_time": "2022-02-07T07:08:04.907Z"
   },
   {
    "duration": 5,
    "start_time": "2022-02-07T07:08:05.105Z"
   },
   {
    "duration": 6,
    "start_time": "2022-02-07T07:08:05.720Z"
   },
   {
    "duration": 28,
    "start_time": "2022-02-07T07:08:05.923Z"
   },
   {
    "duration": 34,
    "start_time": "2022-02-07T07:08:06.128Z"
   },
   {
    "duration": 15,
    "start_time": "2022-02-07T07:08:06.333Z"
   },
   {
    "duration": 6,
    "start_time": "2022-02-07T07:08:06.434Z"
   },
   {
    "duration": 4,
    "start_time": "2022-02-07T07:08:06.643Z"
   },
   {
    "duration": 20,
    "start_time": "2022-02-07T07:08:06.743Z"
   },
   {
    "duration": 6,
    "start_time": "2022-02-07T07:08:06.948Z"
   },
   {
    "duration": 11,
    "start_time": "2022-02-07T07:08:07.260Z"
   },
   {
    "duration": 4,
    "start_time": "2022-02-07T07:08:07.458Z"
   },
   {
    "duration": 11,
    "start_time": "2022-02-07T07:08:07.807Z"
   },
   {
    "duration": 11,
    "start_time": "2022-02-07T07:08:08.178Z"
   },
   {
    "duration": 19,
    "start_time": "2022-02-07T07:08:08.389Z"
   },
   {
    "duration": 9,
    "start_time": "2022-02-07T07:08:08.967Z"
   },
   {
    "duration": 18,
    "start_time": "2022-02-07T07:08:09.492Z"
   },
   {
    "duration": 19,
    "start_time": "2022-02-07T07:08:10.014Z"
   },
   {
    "duration": 387,
    "start_time": "2022-02-07T07:08:11.002Z"
   },
   {
    "duration": 359,
    "start_time": "2022-02-07T07:08:17.910Z"
   },
   {
    "duration": 21,
    "start_time": "2022-02-07T07:09:11.255Z"
   },
   {
    "duration": 3,
    "start_time": "2022-02-07T07:09:14.328Z"
   },
   {
    "duration": 1310,
    "start_time": "2022-02-07T07:09:31.327Z"
   },
   {
    "duration": 343,
    "start_time": "2022-02-07T07:10:32.460Z"
   },
   {
    "duration": 5,
    "start_time": "2022-02-07T07:10:46.898Z"
   },
   {
    "duration": 7,
    "start_time": "2022-02-07T07:10:47.819Z"
   },
   {
    "duration": 8,
    "start_time": "2022-02-07T07:10:56.066Z"
   },
   {
    "duration": 24,
    "start_time": "2022-02-07T07:10:56.075Z"
   },
   {
    "duration": 5,
    "start_time": "2022-02-07T07:10:56.101Z"
   },
   {
    "duration": 7,
    "start_time": "2022-02-07T07:10:56.767Z"
   },
   {
    "duration": 29,
    "start_time": "2022-02-07T07:10:56.996Z"
   },
   {
    "duration": 36,
    "start_time": "2022-02-07T07:10:57.182Z"
   },
   {
    "duration": 15,
    "start_time": "2022-02-07T07:10:57.348Z"
   },
   {
    "duration": 5,
    "start_time": "2022-02-07T07:10:57.541Z"
   },
   {
    "duration": 4,
    "start_time": "2022-02-07T07:10:57.750Z"
   },
   {
    "duration": 18,
    "start_time": "2022-02-07T07:10:57.971Z"
   },
   {
    "duration": 5,
    "start_time": "2022-02-07T07:10:58.235Z"
   },
   {
    "duration": 11,
    "start_time": "2022-02-07T07:10:58.713Z"
   },
   {
    "duration": 4,
    "start_time": "2022-02-07T07:10:58.902Z"
   },
   {
    "duration": 12,
    "start_time": "2022-02-07T07:10:59.092Z"
   },
   {
    "duration": 11,
    "start_time": "2022-02-07T07:10:59.885Z"
   },
   {
    "duration": 23,
    "start_time": "2022-02-07T07:11:00.259Z"
   },
   {
    "duration": 8,
    "start_time": "2022-02-07T07:11:00.954Z"
   },
   {
    "duration": 17,
    "start_time": "2022-02-07T07:11:01.553Z"
   },
   {
    "duration": 19,
    "start_time": "2022-02-07T07:11:02.156Z"
   },
   {
    "duration": 415,
    "start_time": "2022-02-07T07:11:03.180Z"
   },
   {
    "duration": 6,
    "start_time": "2022-02-07T07:12:20.698Z"
   },
   {
    "duration": 7,
    "start_time": "2022-02-07T07:12:21.520Z"
   },
   {
    "duration": 338,
    "start_time": "2022-02-07T07:12:28.902Z"
   },
   {
    "duration": 7,
    "start_time": "2022-02-07T07:12:29.297Z"
   },
   {
    "duration": 6,
    "start_time": "2022-02-07T07:12:29.659Z"
   },
   {
    "duration": 4,
    "start_time": "2022-02-07T07:12:45.896Z"
   },
   {
    "duration": 5,
    "start_time": "2022-02-07T07:12:46.709Z"
   },
   {
    "duration": 8,
    "start_time": "2022-02-07T07:12:48.653Z"
   },
   {
    "duration": 6,
    "start_time": "2022-02-07T07:12:49.992Z"
   },
   {
    "duration": 8,
    "start_time": "2022-02-07T07:12:52.032Z"
   },
   {
    "duration": 26,
    "start_time": "2022-02-07T07:12:52.645Z"
   },
   {
    "duration": 6,
    "start_time": "2022-02-07T07:12:53.158Z"
   },
   {
    "duration": 6,
    "start_time": "2022-02-07T07:12:54.445Z"
   },
   {
    "duration": 28,
    "start_time": "2022-02-07T07:12:55.975Z"
   },
   {
    "duration": 33,
    "start_time": "2022-02-07T07:12:56.004Z"
   },
   {
    "duration": 14,
    "start_time": "2022-02-07T07:12:56.039Z"
   },
   {
    "duration": 5,
    "start_time": "2022-02-07T07:12:56.054Z"
   },
   {
    "duration": 5,
    "start_time": "2022-02-07T07:12:56.060Z"
   },
   {
    "duration": 26,
    "start_time": "2022-02-07T07:12:56.066Z"
   },
   {
    "duration": 4,
    "start_time": "2022-02-07T07:12:56.093Z"
   },
   {
    "duration": 13,
    "start_time": "2022-02-07T07:12:56.099Z"
   },
   {
    "duration": 4,
    "start_time": "2022-02-07T07:12:56.301Z"
   },
   {
    "duration": 14,
    "start_time": "2022-02-07T07:12:56.440Z"
   },
   {
    "duration": 11,
    "start_time": "2022-02-07T07:12:56.914Z"
   },
   {
    "duration": 20,
    "start_time": "2022-02-07T07:12:57.046Z"
   },
   {
    "duration": 11,
    "start_time": "2022-02-07T07:12:57.603Z"
   },
   {
    "duration": 20,
    "start_time": "2022-02-07T07:12:57.758Z"
   },
   {
    "duration": 19,
    "start_time": "2022-02-07T07:12:58.243Z"
   },
   {
    "duration": 354,
    "start_time": "2022-02-07T07:13:00.223Z"
   },
   {
    "duration": 7,
    "start_time": "2022-02-07T07:13:01.760Z"
   },
   {
    "duration": 432,
    "start_time": "2022-02-07T07:14:25.728Z"
   },
   {
    "duration": 3,
    "start_time": "2022-02-07T07:14:38.849Z"
   },
   {
    "duration": 266,
    "start_time": "2022-02-07T07:14:39.259Z"
   },
   {
    "duration": 10,
    "start_time": "2022-02-07T07:14:39.860Z"
   },
   {
    "duration": 21,
    "start_time": "2022-02-07T07:14:40.476Z"
   },
   {
    "duration": 15,
    "start_time": "2022-02-07T07:14:41.203Z"
   },
   {
    "duration": 17,
    "start_time": "2022-02-07T07:14:41.921Z"
   },
   {
    "duration": 15,
    "start_time": "2022-02-07T07:14:42.628Z"
   },
   {
    "duration": 17,
    "start_time": "2022-02-07T07:14:43.239Z"
   },
   {
    "duration": 11,
    "start_time": "2022-02-07T07:14:43.955Z"
   },
   {
    "duration": 18,
    "start_time": "2022-02-07T07:14:44.685Z"
   },
   {
    "duration": 13,
    "start_time": "2022-02-07T07:14:45.299Z"
   },
   {
    "duration": 15,
    "start_time": "2022-02-07T07:14:46.005Z"
   },
   {
    "duration": 12,
    "start_time": "2022-02-07T07:14:47.335Z"
   },
   {
    "duration": 11,
    "start_time": "2022-02-07T07:14:47.962Z"
   },
   {
    "duration": 10,
    "start_time": "2022-02-07T07:14:48.770Z"
   },
   {
    "duration": 11,
    "start_time": "2022-02-07T07:14:51.738Z"
   },
   {
    "duration": 11,
    "start_time": "2022-02-07T07:14:52.570Z"
   },
   {
    "duration": 12,
    "start_time": "2022-02-07T07:14:53.479Z"
   },
   {
    "duration": 10,
    "start_time": "2022-02-07T07:14:56.066Z"
   },
   {
    "duration": 10,
    "start_time": "2022-02-07T07:14:58.394Z"
   },
   {
    "duration": 14,
    "start_time": "2022-02-07T07:14:59.935Z"
   },
   {
    "duration": 14,
    "start_time": "2022-02-07T07:15:00.973Z"
   },
   {
    "duration": 6,
    "start_time": "2022-02-07T07:15:01.888Z"
   },
   {
    "duration": 5,
    "start_time": "2022-02-07T07:15:04.552Z"
   },
   {
    "duration": 3,
    "start_time": "2022-02-07T07:15:06.586Z"
   },
   {
    "duration": 328,
    "start_time": "2022-02-07T07:15:09.672Z"
   },
   {
    "duration": 332,
    "start_time": "2022-02-07T07:15:39.255Z"
   },
   {
    "duration": 3,
    "start_time": "2022-02-07T07:15:42.841Z"
   },
   {
    "duration": 373,
    "start_time": "2022-02-07T07:15:44.172Z"
   },
   {
    "duration": 4,
    "start_time": "2022-02-07T07:16:08.951Z"
   },
   {
    "duration": 4,
    "start_time": "2022-02-07T07:16:09.564Z"
   },
   {
    "duration": 7,
    "start_time": "2022-02-07T07:16:10.691Z"
   },
   {
    "duration": 7,
    "start_time": "2022-02-07T07:16:13.559Z"
   },
   {
    "duration": 8,
    "start_time": "2022-02-07T07:16:18.573Z"
   },
   {
    "duration": 25,
    "start_time": "2022-02-07T07:16:19.087Z"
   },
   {
    "duration": 5,
    "start_time": "2022-02-07T07:16:19.702Z"
   },
   {
    "duration": 6,
    "start_time": "2022-02-07T07:16:20.930Z"
   },
   {
    "duration": 31,
    "start_time": "2022-02-07T07:16:21.342Z"
   },
   {
    "duration": 37,
    "start_time": "2022-02-07T07:16:21.955Z"
   },
   {
    "duration": 16,
    "start_time": "2022-02-07T07:16:22.275Z"
   },
   {
    "duration": 5,
    "start_time": "2022-02-07T07:16:22.685Z"
   },
   {
    "duration": 4,
    "start_time": "2022-02-07T07:16:23.081Z"
   },
   {
    "duration": 22,
    "start_time": "2022-02-07T07:16:23.697Z"
   },
   {
    "duration": 5,
    "start_time": "2022-02-07T07:16:24.309Z"
   },
   {
    "duration": 11,
    "start_time": "2022-02-07T07:16:24.835Z"
   },
   {
    "duration": 4,
    "start_time": "2022-02-07T07:16:25.335Z"
   },
   {
    "duration": 12,
    "start_time": "2022-02-07T07:16:26.065Z"
   },
   {
    "duration": 11,
    "start_time": "2022-02-07T07:16:26.788Z"
   },
   {
    "duration": 19,
    "start_time": "2022-02-07T07:16:27.709Z"
   },
   {
    "duration": 10,
    "start_time": "2022-02-07T07:16:28.713Z"
   },
   {
    "duration": 20,
    "start_time": "2022-02-07T07:16:29.429Z"
   },
   {
    "duration": 19,
    "start_time": "2022-02-07T07:16:30.352Z"
   },
   {
    "duration": 26,
    "start_time": "2022-02-07T07:16:31.377Z"
   },
   {
    "duration": 1145,
    "start_time": "2022-02-07T07:16:46.122Z"
   },
   {
    "duration": 44,
    "start_time": "2022-02-07T07:16:56.461Z"
   },
   {
    "duration": 43,
    "start_time": "2022-02-07T07:17:41.007Z"
   },
   {
    "duration": 41,
    "start_time": "2022-02-07T07:28:40.295Z"
   },
   {
    "duration": 6,
    "start_time": "2022-02-07T07:28:45.693Z"
   },
   {
    "duration": 42,
    "start_time": "2022-02-07T07:33:15.930Z"
   },
   {
    "duration": 24,
    "start_time": "2022-02-07T07:34:04.979Z"
   },
   {
    "duration": 25,
    "start_time": "2022-02-07T07:35:13.591Z"
   },
   {
    "duration": 2,
    "start_time": "2022-02-07T07:36:41.958Z"
   },
   {
    "duration": 6,
    "start_time": "2022-02-07T07:36:45.746Z"
   },
   {
    "duration": 9,
    "start_time": "2022-02-07T07:37:13.600Z"
   },
   {
    "duration": 23,
    "start_time": "2022-02-07T07:43:07.909Z"
   },
   {
    "duration": 56,
    "start_time": "2022-02-07T07:43:12.721Z"
   },
   {
    "duration": 27,
    "start_time": "2022-02-07T07:43:14.676Z"
   },
   {
    "duration": 6,
    "start_time": "2022-02-07T07:43:16.539Z"
   },
   {
    "duration": 40,
    "start_time": "2022-02-07T07:43:35.147Z"
   },
   {
    "duration": 24,
    "start_time": "2022-02-07T07:43:43.340Z"
   },
   {
    "duration": 25,
    "start_time": "2022-02-07T07:43:44.877Z"
   },
   {
    "duration": 6,
    "start_time": "2022-02-07T07:43:48.971Z"
   },
   {
    "duration": 8,
    "start_time": "2022-02-07T07:43:49.693Z"
   },
   {
    "duration": 430,
    "start_time": "2022-02-07T07:57:45.275Z"
   },
   {
    "duration": 23,
    "start_time": "2022-02-07T07:57:51.909Z"
   },
   {
    "duration": 25,
    "start_time": "2022-02-07T07:57:56.728Z"
   },
   {
    "duration": 27,
    "start_time": "2022-02-07T07:58:56.617Z"
   },
   {
    "duration": 6,
    "start_time": "2022-02-07T07:58:56.646Z"
   },
   {
    "duration": 8,
    "start_time": "2022-02-07T07:59:25.026Z"
   },
   {
    "duration": 112,
    "start_time": "2022-02-07T08:01:41.511Z"
   },
   {
    "duration": 4,
    "start_time": "2022-02-07T08:01:50.524Z"
   },
   {
    "duration": 431,
    "start_time": "2022-02-07T08:02:24.863Z"
   },
   {
    "duration": 3,
    "start_time": "2022-02-07T08:02:36.110Z"
   },
   {
    "duration": 4,
    "start_time": "2022-02-07T08:02:48.742Z"
   },
   {
    "duration": 4,
    "start_time": "2022-02-07T08:02:59.765Z"
   },
   {
    "duration": 18,
    "start_time": "2022-02-07T08:06:10.854Z"
   },
   {
    "duration": 3,
    "start_time": "2022-02-07T08:07:47.859Z"
   },
   {
    "duration": 4,
    "start_time": "2022-02-07T08:07:48.455Z"
   },
   {
    "duration": 7,
    "start_time": "2022-02-07T08:07:48.965Z"
   },
   {
    "duration": 7,
    "start_time": "2022-02-07T08:07:49.412Z"
   },
   {
    "duration": 17,
    "start_time": "2022-02-07T08:07:50.880Z"
   },
   {
    "duration": 2,
    "start_time": "2022-02-07T08:09:10.451Z"
   },
   {
    "duration": 4,
    "start_time": "2022-02-07T08:09:11.249Z"
   },
   {
    "duration": 6,
    "start_time": "2022-02-07T08:09:11.708Z"
   },
   {
    "duration": 7,
    "start_time": "2022-02-07T08:09:12.372Z"
   },
   {
    "duration": 18,
    "start_time": "2022-02-07T08:09:15.263Z"
   },
   {
    "duration": 3,
    "start_time": "2022-02-07T08:09:21.976Z"
   },
   {
    "duration": 267,
    "start_time": "2022-02-07T08:09:22.137Z"
   },
   {
    "duration": 10,
    "start_time": "2022-02-07T08:09:22.405Z"
   },
   {
    "duration": 21,
    "start_time": "2022-02-07T08:09:22.510Z"
   },
   {
    "duration": 16,
    "start_time": "2022-02-07T08:09:22.717Z"
   },
   {
    "duration": 19,
    "start_time": "2022-02-07T08:09:22.918Z"
   },
   {
    "duration": 15,
    "start_time": "2022-02-07T08:09:23.067Z"
   },
   {
    "duration": 17,
    "start_time": "2022-02-07T08:09:23.286Z"
   },
   {
    "duration": 10,
    "start_time": "2022-02-07T08:09:23.603Z"
   },
   {
    "duration": 25,
    "start_time": "2022-02-07T08:09:24.045Z"
   },
   {
    "duration": 13,
    "start_time": "2022-02-07T08:09:24.506Z"
   },
   {
    "duration": 15,
    "start_time": "2022-02-07T08:09:25.187Z"
   },
   {
    "duration": 12,
    "start_time": "2022-02-07T08:09:25.636Z"
   },
   {
    "duration": 12,
    "start_time": "2022-02-07T08:09:26.014Z"
   },
   {
    "duration": 10,
    "start_time": "2022-02-07T08:09:26.607Z"
   },
   {
    "duration": 12,
    "start_time": "2022-02-07T08:09:27.048Z"
   },
   {
    "duration": 11,
    "start_time": "2022-02-07T08:09:27.713Z"
   },
   {
    "duration": 12,
    "start_time": "2022-02-07T08:09:28.344Z"
   },
   {
    "duration": 10,
    "start_time": "2022-02-07T08:09:29.276Z"
   },
   {
    "duration": 9,
    "start_time": "2022-02-07T08:09:30.380Z"
   },
   {
    "duration": 12,
    "start_time": "2022-02-07T08:09:31.013Z"
   },
   {
    "duration": 4,
    "start_time": "2022-02-07T08:10:03.857Z"
   },
   {
    "duration": 488,
    "start_time": "2022-02-07T08:10:04.218Z"
   },
   {
    "duration": 9,
    "start_time": "2022-02-07T08:10:04.786Z"
   },
   {
    "duration": 16,
    "start_time": "2022-02-07T08:10:06.791Z"
   },
   {
    "duration": 6,
    "start_time": "2022-02-07T08:10:34.138Z"
   },
   {
    "duration": 6,
    "start_time": "2022-02-07T08:10:35.730Z"
   },
   {
    "duration": 15,
    "start_time": "2022-02-07T08:10:37.559Z"
   },
   {
    "duration": 8,
    "start_time": "2022-02-07T08:10:45.832Z"
   },
   {
    "duration": 24,
    "start_time": "2022-02-07T08:10:46.196Z"
   },
   {
    "duration": 6,
    "start_time": "2022-02-07T08:10:46.527Z"
   },
   {
    "duration": 6,
    "start_time": "2022-02-07T08:10:47.175Z"
   },
   {
    "duration": 37,
    "start_time": "2022-02-07T08:10:47.526Z"
   },
   {
    "duration": 35,
    "start_time": "2022-02-07T08:10:47.820Z"
   },
   {
    "duration": 15,
    "start_time": "2022-02-07T08:10:48.154Z"
   },
   {
    "duration": 5,
    "start_time": "2022-02-07T08:10:48.343Z"
   },
   {
    "duration": 3,
    "start_time": "2022-02-07T08:10:48.608Z"
   },
   {
    "duration": 23,
    "start_time": "2022-02-07T08:10:48.744Z"
   },
   {
    "duration": 5,
    "start_time": "2022-02-07T08:10:49.109Z"
   },
   {
    "duration": 12,
    "start_time": "2022-02-07T08:10:49.340Z"
   },
   {
    "duration": 3,
    "start_time": "2022-02-07T08:10:49.662Z"
   },
   {
    "duration": 12,
    "start_time": "2022-02-07T08:10:50.023Z"
   },
   {
    "duration": 11,
    "start_time": "2022-02-07T08:10:50.299Z"
   },
   {
    "duration": 21,
    "start_time": "2022-02-07T08:10:50.804Z"
   },
   {
    "duration": 9,
    "start_time": "2022-02-07T08:10:51.423Z"
   },
   {
    "duration": 335,
    "start_time": "2022-02-07T08:10:51.936Z"
   },
   {
    "duration": 24,
    "start_time": "2022-02-07T08:10:52.630Z"
   },
   {
    "duration": 22,
    "start_time": "2022-02-07T08:11:09.752Z"
   },
   {
    "duration": 340,
    "start_time": "2022-02-07T08:11:13.590Z"
   },
   {
    "duration": 324,
    "start_time": "2022-02-07T08:11:32.437Z"
   },
   {
    "duration": 26,
    "start_time": "2022-02-07T08:11:49.346Z"
   },
   {
    "duration": 378,
    "start_time": "2022-02-07T08:11:59.115Z"
   },
   {
    "duration": 386,
    "start_time": "2022-02-07T08:12:09.437Z"
   },
   {
    "duration": 18,
    "start_time": "2022-02-07T08:14:29.173Z"
   },
   {
    "duration": 20,
    "start_time": "2022-02-07T08:15:23.650Z"
   },
   {
    "duration": 9181,
    "start_time": "2022-02-07T08:16:50.049Z"
   },
   {
    "duration": 24,
    "start_time": "2022-02-07T08:17:08.752Z"
   },
   {
    "duration": 25,
    "start_time": "2022-02-07T08:17:57.399Z"
   },
   {
    "duration": 6,
    "start_time": "2022-02-07T08:18:22.740Z"
   },
   {
    "duration": 5,
    "start_time": "2022-02-07T08:18:25.043Z"
   },
   {
    "duration": 330,
    "start_time": "2022-02-07T08:19:30.001Z"
   },
   {
    "duration": 369,
    "start_time": "2022-02-07T08:25:37.138Z"
   },
   {
    "duration": 354,
    "start_time": "2022-02-07T08:26:07.993Z"
   },
   {
    "duration": 379,
    "start_time": "2022-02-07T08:26:15.021Z"
   },
   {
    "duration": 23,
    "start_time": "2022-02-07T08:26:28.227Z"
   },
   {
    "duration": 2363,
    "start_time": "2022-02-07T08:32:41.257Z"
   },
   {
    "duration": 3818,
    "start_time": "2022-02-07T08:32:39.804Z"
   },
   {
    "duration": 3,
    "start_time": "2022-02-07T08:32:51.974Z"
   },
   {
    "duration": 271,
    "start_time": "2022-02-07T08:32:52.195Z"
   },
   {
    "duration": 10,
    "start_time": "2022-02-07T08:32:52.468Z"
   },
   {
    "duration": 20,
    "start_time": "2022-02-07T08:32:52.486Z"
   },
   {
    "duration": 15,
    "start_time": "2022-02-07T08:32:52.670Z"
   },
   {
    "duration": 18,
    "start_time": "2022-02-07T08:32:52.845Z"
   },
   {
    "duration": 14,
    "start_time": "2022-02-07T08:32:53.072Z"
   },
   {
    "duration": 17,
    "start_time": "2022-02-07T08:32:53.331Z"
   },
   {
    "duration": 11,
    "start_time": "2022-02-07T08:32:53.478Z"
   },
   {
    "duration": 18,
    "start_time": "2022-02-07T08:32:53.669Z"
   },
   {
    "duration": 19,
    "start_time": "2022-02-07T08:32:54.281Z"
   },
   {
    "duration": 15,
    "start_time": "2022-02-07T08:32:54.883Z"
   },
   {
    "duration": 12,
    "start_time": "2022-02-07T08:32:56.084Z"
   },
   {
    "duration": 12,
    "start_time": "2022-02-07T08:32:56.707Z"
   },
   {
    "duration": 10,
    "start_time": "2022-02-07T08:32:57.367Z"
   },
   {
    "duration": 12,
    "start_time": "2022-02-07T08:32:57.882Z"
   },
   {
    "duration": 11,
    "start_time": "2022-02-07T08:32:58.612Z"
   },
   {
    "duration": 17,
    "start_time": "2022-02-07T08:33:01.253Z"
   },
   {
    "duration": 10,
    "start_time": "2022-02-07T08:33:02.042Z"
   },
   {
    "duration": 9,
    "start_time": "2022-02-07T08:33:02.657Z"
   },
   {
    "duration": 13,
    "start_time": "2022-02-07T08:33:03.375Z"
   },
   {
    "duration": 13,
    "start_time": "2022-02-07T08:33:05.864Z"
   },
   {
    "duration": 5,
    "start_time": "2022-02-07T08:33:07.068Z"
   },
   {
    "duration": 2699,
    "start_time": "2022-02-07T08:33:08.748Z"
   },
   {
    "duration": 3814,
    "start_time": "2022-02-07T08:33:07.634Z"
   },
   {
    "duration": 2,
    "start_time": "2022-02-07T08:34:03.109Z"
   },
   {
    "duration": 4,
    "start_time": "2022-02-07T08:34:05.302Z"
   },
   {
    "duration": 6,
    "start_time": "2022-02-07T08:34:06.014Z"
   },
   {
    "duration": 2,
    "start_time": "2022-02-07T08:34:51.773Z"
   },
   {
    "duration": 4,
    "start_time": "2022-02-07T08:34:52.150Z"
   },
   {
    "duration": 6,
    "start_time": "2022-02-07T08:34:52.723Z"
   },
   {
    "duration": 6,
    "start_time": "2022-02-07T08:34:53.862Z"
   },
   {
    "duration": 16,
    "start_time": "2022-02-07T08:34:54.713Z"
   },
   {
    "duration": 8,
    "start_time": "2022-02-07T08:34:56.990Z"
   },
   {
    "duration": 26,
    "start_time": "2022-02-07T08:34:57.418Z"
   },
   {
    "duration": 6,
    "start_time": "2022-02-07T08:34:57.997Z"
   },
   {
    "duration": 7,
    "start_time": "2022-02-07T08:34:59.162Z"
   },
   {
    "duration": 30,
    "start_time": "2022-02-07T08:34:59.678Z"
   },
   {
    "duration": 38,
    "start_time": "2022-02-07T08:35:00.020Z"
   },
   {
    "duration": 15,
    "start_time": "2022-02-07T08:35:00.404Z"
   },
   {
    "duration": 5,
    "start_time": "2022-02-07T08:35:00.857Z"
   },
   {
    "duration": 4,
    "start_time": "2022-02-07T08:35:01.279Z"
   },
   {
    "duration": 20,
    "start_time": "2022-02-07T08:35:01.797Z"
   },
   {
    "duration": 5,
    "start_time": "2022-02-07T08:35:02.388Z"
   },
   {
    "duration": 13,
    "start_time": "2022-02-07T08:35:02.792Z"
   },
   {
    "duration": 4,
    "start_time": "2022-02-07T08:35:03.378Z"
   },
   {
    "duration": 11,
    "start_time": "2022-02-07T08:35:03.882Z"
   },
   {
    "duration": 10,
    "start_time": "2022-02-07T08:35:04.410Z"
   },
   {
    "duration": 19,
    "start_time": "2022-02-07T08:35:04.934Z"
   },
   {
    "duration": 9,
    "start_time": "2022-02-07T08:35:05.531Z"
   },
   {
    "duration": 201,
    "start_time": "2022-02-07T08:35:06.066Z"
   },
   {
    "duration": 19,
    "start_time": "2022-02-07T08:35:06.622Z"
   },
   {
    "duration": 19,
    "start_time": "2022-02-07T08:35:07.266Z"
   },
   {
    "duration": 23,
    "start_time": "2022-02-07T08:35:07.986Z"
   },
   {
    "duration": 7,
    "start_time": "2022-02-07T08:35:12.985Z"
   },
   {
    "duration": 5,
    "start_time": "2022-02-07T08:35:14.163Z"
   },
   {
    "duration": 8,
    "start_time": "2022-02-07T08:35:14.773Z"
   },
   {
    "duration": 320,
    "start_time": "2022-02-07T08:37:50.511Z"
   },
   {
    "duration": 367,
    "start_time": "2022-02-07T08:39:42.057Z"
   },
   {
    "duration": 26,
    "start_time": "2022-02-07T08:39:49.727Z"
   },
   {
    "duration": 20,
    "start_time": "2022-02-07T08:41:15.053Z"
   },
   {
    "duration": 22,
    "start_time": "2022-02-07T08:47:24.655Z"
   },
   {
    "duration": 333,
    "start_time": "2022-02-07T08:47:44.543Z"
   },
   {
    "duration": 28,
    "start_time": "2022-02-07T08:47:56.853Z"
   },
   {
    "duration": 18,
    "start_time": "2022-02-07T08:48:20.426Z"
   },
   {
    "duration": 19,
    "start_time": "2022-02-07T08:48:21.074Z"
   },
   {
    "duration": 537,
    "start_time": "2022-02-07T08:53:05.690Z"
   },
   {
    "duration": 23,
    "start_time": "2022-02-07T08:53:10.921Z"
   },
   {
    "duration": 6,
    "start_time": "2022-02-07T08:54:09.313Z"
   },
   {
    "duration": 4,
    "start_time": "2022-02-07T08:54:10.943Z"
   },
   {
    "duration": 5,
    "start_time": "2022-02-07T08:54:11.560Z"
   },
   {
    "duration": 6,
    "start_time": "2022-02-07T08:54:12.242Z"
   },
   {
    "duration": 17,
    "start_time": "2022-02-07T08:54:13.081Z"
   },
   {
    "duration": 8,
    "start_time": "2022-02-07T08:54:13.499Z"
   },
   {
    "duration": 26,
    "start_time": "2022-02-07T08:54:14.186Z"
   },
   {
    "duration": 6,
    "start_time": "2022-02-07T08:54:14.625Z"
   },
   {
    "duration": 6,
    "start_time": "2022-02-07T08:54:15.758Z"
   },
   {
    "duration": 28,
    "start_time": "2022-02-07T08:54:15.960Z"
   },
   {
    "duration": 37,
    "start_time": "2022-02-07T08:54:16.144Z"
   },
   {
    "duration": 16,
    "start_time": "2022-02-07T08:54:16.318Z"
   },
   {
    "duration": 5,
    "start_time": "2022-02-07T08:54:16.519Z"
   },
   {
    "duration": 3,
    "start_time": "2022-02-07T08:54:16.911Z"
   },
   {
    "duration": 23,
    "start_time": "2022-02-07T08:54:17.477Z"
   },
   {
    "duration": 5,
    "start_time": "2022-02-07T08:54:17.930Z"
   },
   {
    "duration": 12,
    "start_time": "2022-02-07T08:54:18.671Z"
   },
   {
    "duration": 4,
    "start_time": "2022-02-07T08:54:19.188Z"
   },
   {
    "duration": 13,
    "start_time": "2022-02-07T08:54:19.636Z"
   },
   {
    "duration": 11,
    "start_time": "2022-02-07T08:54:19.984Z"
   },
   {
    "duration": 18,
    "start_time": "2022-02-07T08:54:20.797Z"
   },
   {
    "duration": 9,
    "start_time": "2022-02-07T08:54:21.769Z"
   },
   {
    "duration": 19,
    "start_time": "2022-02-07T08:54:21.875Z"
   },
   {
    "duration": 19,
    "start_time": "2022-02-07T08:54:24.524Z"
   },
   {
    "duration": 24,
    "start_time": "2022-02-07T08:54:26.699Z"
   },
   {
    "duration": 40,
    "start_time": "2022-02-07T08:55:09.885Z"
   },
   {
    "duration": 343,
    "start_time": "2022-02-07T08:58:35.038Z"
   },
   {
    "duration": 1672,
    "start_time": "2022-02-07T08:58:54.706Z"
   },
   {
    "duration": 305,
    "start_time": "2022-02-07T08:58:56.381Z"
   },
   {
    "duration": 13,
    "start_time": "2022-02-07T08:58:56.687Z"
   },
   {
    "duration": 19,
    "start_time": "2022-02-07T08:58:56.702Z"
   },
   {
    "duration": 14,
    "start_time": "2022-02-07T08:58:56.723Z"
   },
   {
    "duration": 17,
    "start_time": "2022-02-07T08:58:56.739Z"
   },
   {
    "duration": 14,
    "start_time": "2022-02-07T08:58:56.757Z"
   },
   {
    "duration": 16,
    "start_time": "2022-02-07T08:58:56.773Z"
   },
   {
    "duration": 8,
    "start_time": "2022-02-07T08:58:56.791Z"
   },
   {
    "duration": 40,
    "start_time": "2022-02-07T08:58:56.801Z"
   },
   {
    "duration": 12,
    "start_time": "2022-02-07T08:58:56.842Z"
   },
   {
    "duration": 14,
    "start_time": "2022-02-07T08:58:56.855Z"
   },
   {
    "duration": 12,
    "start_time": "2022-02-07T08:58:56.870Z"
   },
   {
    "duration": 10,
    "start_time": "2022-02-07T08:58:56.883Z"
   },
   {
    "duration": 38,
    "start_time": "2022-02-07T08:58:56.895Z"
   },
   {
    "duration": 12,
    "start_time": "2022-02-07T08:58:56.934Z"
   },
   {
    "duration": 10,
    "start_time": "2022-02-07T08:58:56.948Z"
   },
   {
    "duration": 13,
    "start_time": "2022-02-07T08:58:56.959Z"
   },
   {
    "duration": 9,
    "start_time": "2022-02-07T08:58:56.973Z"
   },
   {
    "duration": 8,
    "start_time": "2022-02-07T08:58:56.983Z"
   },
   {
    "duration": 36,
    "start_time": "2022-02-07T08:58:56.992Z"
   },
   {
    "duration": 14,
    "start_time": "2022-02-07T08:58:57.029Z"
   },
   {
    "duration": 5,
    "start_time": "2022-02-07T08:58:57.046Z"
   },
   {
    "duration": 5,
    "start_time": "2022-02-07T08:58:57.053Z"
   },
   {
    "duration": 6,
    "start_time": "2022-02-07T08:58:57.060Z"
   },
   {
    "duration": 7,
    "start_time": "2022-02-07T08:58:57.067Z"
   },
   {
    "duration": 9,
    "start_time": "2022-02-07T08:58:57.076Z"
   },
   {
    "duration": 19,
    "start_time": "2022-02-07T08:58:57.086Z"
   },
   {
    "duration": 7,
    "start_time": "2022-02-07T08:58:57.127Z"
   },
   {
    "duration": 24,
    "start_time": "2022-02-07T08:58:57.136Z"
   },
   {
    "duration": 7,
    "start_time": "2022-02-07T08:58:57.161Z"
   },
   {
    "duration": 12,
    "start_time": "2022-02-07T08:58:57.169Z"
   },
   {
    "duration": 54,
    "start_time": "2022-02-07T08:58:57.182Z"
   },
   {
    "duration": 35,
    "start_time": "2022-02-07T08:58:57.238Z"
   },
   {
    "duration": 14,
    "start_time": "2022-02-07T08:58:57.275Z"
   },
   {
    "duration": 5,
    "start_time": "2022-02-07T08:58:57.291Z"
   },
   {
    "duration": 30,
    "start_time": "2022-02-07T08:58:57.297Z"
   },
   {
    "duration": 23,
    "start_time": "2022-02-07T08:58:57.329Z"
   },
   {
    "duration": 4,
    "start_time": "2022-02-07T08:58:57.354Z"
   },
   {
    "duration": 13,
    "start_time": "2022-02-07T08:58:57.359Z"
   },
   {
    "duration": 4,
    "start_time": "2022-02-07T08:58:57.374Z"
   },
   {
    "duration": 15,
    "start_time": "2022-02-07T08:58:57.380Z"
   },
   {
    "duration": 35,
    "start_time": "2022-02-07T08:58:57.396Z"
   },
   {
    "duration": 19,
    "start_time": "2022-02-07T08:58:57.432Z"
   },
   {
    "duration": 9,
    "start_time": "2022-02-07T08:58:57.452Z"
   },
   {
    "duration": 3,
    "start_time": "2022-02-07T08:58:57.462Z"
   },
   {
    "duration": 21,
    "start_time": "2022-02-07T08:58:57.467Z"
   },
   {
    "duration": 39,
    "start_time": "2022-02-07T08:58:57.489Z"
   },
   {
    "duration": 425,
    "start_time": "2022-02-07T08:58:57.529Z"
   },
   {
    "duration": 3943,
    "start_time": "2022-02-07T08:58:54.014Z"
   },
   {
    "duration": 3942,
    "start_time": "2022-02-07T08:58:54.016Z"
   },
   {
    "duration": 3942,
    "start_time": "2022-02-07T08:58:54.017Z"
   },
   {
    "duration": 3941,
    "start_time": "2022-02-07T08:58:54.019Z"
   },
   {
    "duration": 3941,
    "start_time": "2022-02-07T08:58:54.020Z"
   },
   {
    "duration": 3940,
    "start_time": "2022-02-07T08:58:54.022Z"
   },
   {
    "duration": 3940,
    "start_time": "2022-02-07T08:58:54.023Z"
   },
   {
    "duration": 3938,
    "start_time": "2022-02-07T08:58:54.025Z"
   },
   {
    "duration": 3937,
    "start_time": "2022-02-07T08:58:54.027Z"
   },
   {
    "duration": 3937,
    "start_time": "2022-02-07T08:58:54.028Z"
   },
   {
    "duration": 3936,
    "start_time": "2022-02-07T08:58:54.030Z"
   },
   {
    "duration": 3930,
    "start_time": "2022-02-07T08:58:54.037Z"
   },
   {
    "duration": 3929,
    "start_time": "2022-02-07T08:58:54.039Z"
   },
   {
    "duration": 3929,
    "start_time": "2022-02-07T08:58:54.040Z"
   },
   {
    "duration": 3928,
    "start_time": "2022-02-07T08:58:54.042Z"
   },
   {
    "duration": 3927,
    "start_time": "2022-02-07T08:58:54.043Z"
   },
   {
    "duration": 3926,
    "start_time": "2022-02-07T08:58:54.045Z"
   },
   {
    "duration": 3831,
    "start_time": "2022-02-07T08:58:54.141Z"
   },
   {
    "duration": 3786,
    "start_time": "2022-02-07T08:58:54.187Z"
   },
   {
    "duration": 3785,
    "start_time": "2022-02-07T08:58:54.189Z"
   },
   {
    "duration": 3778,
    "start_time": "2022-02-07T08:58:54.197Z"
   },
   {
    "duration": 3759,
    "start_time": "2022-02-07T08:58:54.217Z"
   },
   {
    "duration": 3753,
    "start_time": "2022-02-07T08:58:54.224Z"
   },
   {
    "duration": 3747,
    "start_time": "2022-02-07T08:58:54.231Z"
   },
   {
    "duration": 3740,
    "start_time": "2022-02-07T08:58:54.239Z"
   },
   {
    "duration": 3734,
    "start_time": "2022-02-07T08:58:54.246Z"
   },
   {
    "duration": 3728,
    "start_time": "2022-02-07T08:58:54.253Z"
   },
   {
    "duration": 3722,
    "start_time": "2022-02-07T08:58:54.260Z"
   },
   {
    "duration": 3716,
    "start_time": "2022-02-07T08:58:54.267Z"
   },
   {
    "duration": 3702,
    "start_time": "2022-02-07T08:58:54.282Z"
   },
   {
    "duration": 3692,
    "start_time": "2022-02-07T08:58:54.293Z"
   },
   {
    "duration": 3678,
    "start_time": "2022-02-07T08:58:54.308Z"
   },
   {
    "duration": 3672,
    "start_time": "2022-02-07T08:58:54.315Z"
   },
   {
    "duration": 3659,
    "start_time": "2022-02-07T08:58:54.328Z"
   },
   {
    "duration": 3647,
    "start_time": "2022-02-07T08:58:54.341Z"
   },
   {
    "duration": 3638,
    "start_time": "2022-02-07T08:58:54.351Z"
   },
   {
    "duration": 3622,
    "start_time": "2022-02-07T08:58:54.368Z"
   },
   {
    "duration": 3621,
    "start_time": "2022-02-07T08:58:54.370Z"
   },
   {
    "duration": 3620,
    "start_time": "2022-02-07T08:58:54.372Z"
   },
   {
    "duration": 3620,
    "start_time": "2022-02-07T08:58:54.373Z"
   },
   {
    "duration": 3619,
    "start_time": "2022-02-07T08:58:54.375Z"
   },
   {
    "duration": 3618,
    "start_time": "2022-02-07T08:58:54.376Z"
   },
   {
    "duration": 3650,
    "start_time": "2022-02-07T08:58:54.377Z"
   },
   {
    "duration": 3649,
    "start_time": "2022-02-07T08:58:54.379Z"
   },
   {
    "duration": 3649,
    "start_time": "2022-02-07T08:58:54.380Z"
   },
   {
    "duration": 3645,
    "start_time": "2022-02-07T08:58:54.385Z"
   },
   {
    "duration": 3644,
    "start_time": "2022-02-07T08:58:54.387Z"
   },
   {
    "duration": 3643,
    "start_time": "2022-02-07T08:58:54.388Z"
   },
   {
    "duration": 3642,
    "start_time": "2022-02-07T08:58:54.390Z"
   },
   {
    "duration": 3642,
    "start_time": "2022-02-07T08:58:54.391Z"
   },
   {
    "duration": 3642,
    "start_time": "2022-02-07T08:58:54.392Z"
   },
   {
    "duration": 3641,
    "start_time": "2022-02-07T08:58:54.394Z"
   },
   {
    "duration": 3641,
    "start_time": "2022-02-07T08:58:54.395Z"
   },
   {
    "duration": 3641,
    "start_time": "2022-02-07T08:58:54.396Z"
   },
   {
    "duration": 3640,
    "start_time": "2022-02-07T08:58:54.398Z"
   },
   {
    "duration": 3640,
    "start_time": "2022-02-07T08:58:54.399Z"
   },
   {
    "duration": 327,
    "start_time": "2022-02-07T08:59:32.005Z"
   },
   {
    "duration": 391,
    "start_time": "2022-02-07T08:59:54.903Z"
   },
   {
    "duration": 3,
    "start_time": "2022-02-07T09:00:02.862Z"
   },
   {
    "duration": 20,
    "start_time": "2022-02-07T09:00:04.315Z"
   },
   {
    "duration": 19,
    "start_time": "2022-02-07T09:00:05.470Z"
   },
   {
    "duration": 342,
    "start_time": "2022-02-07T09:00:06.414Z"
   },
   {
    "duration": 349,
    "start_time": "2022-02-07T09:00:24.719Z"
   },
   {
    "duration": 4,
    "start_time": "2022-02-07T09:00:42.289Z"
   },
   {
    "duration": 335,
    "start_time": "2022-02-07T09:01:17.165Z"
   },
   {
    "duration": 310,
    "start_time": "2022-02-07T09:01:23.795Z"
   },
   {
    "duration": 321,
    "start_time": "2022-02-07T09:01:34.876Z"
   },
   {
    "duration": 19,
    "start_time": "2022-02-07T09:01:46.852Z"
   },
   {
    "duration": 20,
    "start_time": "2022-02-07T09:01:47.556Z"
   },
   {
    "duration": 361,
    "start_time": "2022-02-07T09:01:48.620Z"
   },
   {
    "duration": 467,
    "start_time": "2022-02-07T09:02:00.889Z"
   },
   {
    "duration": 326,
    "start_time": "2022-02-07T09:02:22.431Z"
   },
   {
    "duration": 346,
    "start_time": "2022-02-07T09:02:29.482Z"
   },
   {
    "duration": 323,
    "start_time": "2022-02-07T09:02:38.689Z"
   },
   {
    "duration": 109,
    "start_time": "2022-02-07T09:02:50.121Z"
   },
   {
    "duration": 67,
    "start_time": "2022-02-07T09:03:04.796Z"
   },
   {
    "duration": 383,
    "start_time": "2022-02-07T09:03:24.741Z"
   },
   {
    "duration": 23,
    "start_time": "2022-02-07T09:03:50.552Z"
   },
   {
    "duration": 41,
    "start_time": "2022-02-07T09:04:08.888Z"
   },
   {
    "duration": 333,
    "start_time": "2022-02-07T09:10:31.005Z"
   },
   {
    "duration": 329,
    "start_time": "2022-02-07T09:10:42.565Z"
   },
   {
    "duration": 903,
    "start_time": "2022-02-07T09:13:13.831Z"
   },
   {
    "duration": 870,
    "start_time": "2022-02-07T09:13:24.091Z"
   },
   {
    "duration": 27,
    "start_time": "2022-02-07T10:41:41.638Z"
   },
   {
    "duration": 1568,
    "start_time": "2022-02-07T10:47:44.465Z"
   },
   {
    "duration": 287,
    "start_time": "2022-02-07T10:47:46.035Z"
   },
   {
    "duration": 13,
    "start_time": "2022-02-07T10:47:46.324Z"
   },
   {
    "duration": 22,
    "start_time": "2022-02-07T10:47:46.339Z"
   },
   {
    "duration": 13,
    "start_time": "2022-02-07T10:47:46.363Z"
   },
   {
    "duration": 17,
    "start_time": "2022-02-07T10:47:46.378Z"
   },
   {
    "duration": 35,
    "start_time": "2022-02-07T10:47:46.396Z"
   },
   {
    "duration": 18,
    "start_time": "2022-02-07T10:47:46.432Z"
   },
   {
    "duration": 10,
    "start_time": "2022-02-07T10:47:46.452Z"
   },
   {
    "duration": 21,
    "start_time": "2022-02-07T10:47:46.464Z"
   },
   {
    "duration": 11,
    "start_time": "2022-02-07T10:47:46.487Z"
   },
   {
    "duration": 13,
    "start_time": "2022-02-07T10:47:46.527Z"
   },
   {
    "duration": 13,
    "start_time": "2022-02-07T10:47:46.542Z"
   },
   {
    "duration": 10,
    "start_time": "2022-02-07T10:47:46.556Z"
   },
   {
    "duration": 9,
    "start_time": "2022-02-07T10:47:46.567Z"
   },
   {
    "duration": 11,
    "start_time": "2022-02-07T10:47:46.578Z"
   },
   {
    "duration": 37,
    "start_time": "2022-02-07T10:47:46.590Z"
   },
   {
    "duration": 11,
    "start_time": "2022-02-07T10:47:46.629Z"
   },
   {
    "duration": 9,
    "start_time": "2022-02-07T10:47:46.642Z"
   },
   {
    "duration": 10,
    "start_time": "2022-02-07T10:47:46.652Z"
   },
   {
    "duration": 13,
    "start_time": "2022-02-07T10:47:46.664Z"
   },
   {
    "duration": 13,
    "start_time": "2022-02-07T10:47:46.679Z"
   },
   {
    "duration": 39,
    "start_time": "2022-02-07T10:47:46.693Z"
   },
   {
    "duration": 7,
    "start_time": "2022-02-07T10:47:46.733Z"
   },
   {
    "duration": 6,
    "start_time": "2022-02-07T10:47:46.742Z"
   },
   {
    "duration": 7,
    "start_time": "2022-02-07T10:47:46.749Z"
   },
   {
    "duration": 11,
    "start_time": "2022-02-07T10:47:46.759Z"
   },
   {
    "duration": 16,
    "start_time": "2022-02-07T10:47:46.772Z"
   },
   {
    "duration": 7,
    "start_time": "2022-02-07T10:47:46.789Z"
   },
   {
    "duration": 46,
    "start_time": "2022-02-07T10:47:46.797Z"
   },
   {
    "duration": 5,
    "start_time": "2022-02-07T10:47:46.844Z"
   },
   {
    "duration": 19,
    "start_time": "2022-02-07T10:47:46.851Z"
   },
   {
    "duration": 35,
    "start_time": "2022-02-07T10:47:46.871Z"
   },
   {
    "duration": 45,
    "start_time": "2022-02-07T10:47:46.908Z"
   },
   {
    "duration": 14,
    "start_time": "2022-02-07T10:47:46.955Z"
   },
   {
    "duration": 5,
    "start_time": "2022-02-07T10:47:46.970Z"
   },
   {
    "duration": 5,
    "start_time": "2022-02-07T10:47:46.977Z"
   },
   {
    "duration": 22,
    "start_time": "2022-02-07T10:47:46.983Z"
   },
   {
    "duration": 4,
    "start_time": "2022-02-07T10:47:47.027Z"
   },
   {
    "duration": 19,
    "start_time": "2022-02-07T10:47:47.033Z"
   },
   {
    "duration": 7,
    "start_time": "2022-02-07T10:47:47.053Z"
   },
   {
    "duration": 12,
    "start_time": "2022-02-07T10:47:47.061Z"
   },
   {
    "duration": 11,
    "start_time": "2022-02-07T10:47:47.074Z"
   },
   {
    "duration": 19,
    "start_time": "2022-02-07T10:47:47.086Z"
   },
   {
    "duration": 29,
    "start_time": "2022-02-07T10:47:47.106Z"
   },
   {
    "duration": 20,
    "start_time": "2022-02-07T10:47:47.136Z"
   },
   {
    "duration": 17,
    "start_time": "2022-02-07T10:47:47.158Z"
   },
   {
    "duration": 51,
    "start_time": "2022-02-07T10:47:47.177Z"
   },
   {
    "duration": 6,
    "start_time": "2022-02-07T10:47:47.229Z"
   },
   {
    "duration": 9,
    "start_time": "2022-02-07T10:47:47.236Z"
   },
   {
    "duration": 11,
    "start_time": "2022-02-07T10:47:47.246Z"
   },
   {
    "duration": 2,
    "start_time": "2022-02-07T10:47:47.259Z"
   },
   {
    "duration": 5,
    "start_time": "2022-02-07T10:47:47.262Z"
   },
   {
    "duration": 6,
    "start_time": "2022-02-07T10:47:47.268Z"
   },
   {
    "duration": 7,
    "start_time": "2022-02-07T10:47:47.275Z"
   },
   {
    "duration": 4,
    "start_time": "2022-02-07T10:47:47.283Z"
   },
   {
    "duration": 5,
    "start_time": "2022-02-07T10:47:47.289Z"
   },
   {
    "duration": 6,
    "start_time": "2022-02-07T10:47:47.295Z"
   },
   {
    "duration": 25,
    "start_time": "2022-02-07T10:47:47.302Z"
   },
   {
    "duration": 5,
    "start_time": "2022-02-07T10:47:47.329Z"
   },
   {
    "duration": 7,
    "start_time": "2022-02-07T10:47:47.336Z"
   },
   {
    "duration": 7,
    "start_time": "2022-02-07T10:47:47.344Z"
   },
   {
    "duration": 2,
    "start_time": "2022-02-07T10:47:47.353Z"
   },
   {
    "duration": 5,
    "start_time": "2022-02-07T10:47:47.356Z"
   },
   {
    "duration": 4,
    "start_time": "2022-02-07T10:47:47.363Z"
   },
   {
    "duration": 5,
    "start_time": "2022-02-07T10:47:47.368Z"
   },
   {
    "duration": 4,
    "start_time": "2022-02-07T10:47:47.375Z"
   },
   {
    "duration": 4,
    "start_time": "2022-02-07T10:47:47.381Z"
   },
   {
    "duration": 5,
    "start_time": "2022-02-07T10:47:47.387Z"
   },
   {
    "duration": 5,
    "start_time": "2022-02-07T10:47:47.394Z"
   },
   {
    "duration": 27,
    "start_time": "2022-02-07T10:47:47.400Z"
   },
   {
    "duration": 5,
    "start_time": "2022-02-07T10:47:47.428Z"
   },
   {
    "duration": 4,
    "start_time": "2022-02-07T10:47:47.434Z"
   },
   {
    "duration": 6,
    "start_time": "2022-02-07T10:47:47.439Z"
   },
   {
    "duration": 4,
    "start_time": "2022-02-07T10:47:47.446Z"
   },
   {
    "duration": 5,
    "start_time": "2022-02-07T10:47:47.451Z"
   },
   {
    "duration": 5,
    "start_time": "2022-02-07T10:47:47.457Z"
   },
   {
    "duration": 6,
    "start_time": "2022-02-07T10:47:47.463Z"
   },
   {
    "duration": 8,
    "start_time": "2022-02-07T10:47:47.470Z"
   },
   {
    "duration": 4,
    "start_time": "2022-02-07T10:47:47.480Z"
   },
   {
    "duration": 2,
    "start_time": "2022-02-07T10:47:47.489Z"
   },
   {
    "duration": 4,
    "start_time": "2022-02-07T10:47:47.493Z"
   },
   {
    "duration": 4,
    "start_time": "2022-02-07T10:47:47.498Z"
   },
   {
    "duration": 6,
    "start_time": "2022-02-07T10:47:47.504Z"
   },
   {
    "duration": 16,
    "start_time": "2022-02-07T10:47:47.511Z"
   },
   {
    "duration": 4,
    "start_time": "2022-02-07T10:47:47.529Z"
   },
   {
    "duration": 4,
    "start_time": "2022-02-07T10:47:47.535Z"
   },
   {
    "duration": 4,
    "start_time": "2022-02-07T10:47:47.541Z"
   },
   {
    "duration": 4,
    "start_time": "2022-02-07T10:47:47.547Z"
   },
   {
    "duration": 4,
    "start_time": "2022-02-07T10:47:47.552Z"
   },
   {
    "duration": 4,
    "start_time": "2022-02-07T10:47:47.558Z"
   },
   {
    "duration": 4,
    "start_time": "2022-02-07T10:47:47.563Z"
   },
   {
    "duration": 4,
    "start_time": "2022-02-07T10:47:47.568Z"
   },
   {
    "duration": 4,
    "start_time": "2022-02-07T10:47:47.573Z"
   },
   {
    "duration": 5,
    "start_time": "2022-02-07T10:47:47.578Z"
   },
   {
    "duration": 4,
    "start_time": "2022-02-07T10:47:47.584Z"
   },
   {
    "duration": 6,
    "start_time": "2022-02-07T10:47:47.589Z"
   },
   {
    "duration": 5,
    "start_time": "2022-02-07T10:47:47.596Z"
   },
   {
    "duration": 5,
    "start_time": "2022-02-07T10:47:47.602Z"
   },
   {
    "duration": 18,
    "start_time": "2022-02-07T10:47:47.609Z"
   },
   {
    "duration": 4,
    "start_time": "2022-02-07T10:47:47.629Z"
   },
   {
    "duration": 5,
    "start_time": "2022-02-07T10:47:47.634Z"
   },
   {
    "duration": 5,
    "start_time": "2022-02-07T10:47:47.640Z"
   },
   {
    "duration": 4,
    "start_time": "2022-02-07T10:47:47.646Z"
   },
   {
    "duration": 12,
    "start_time": "2022-02-07T10:50:46.591Z"
   },
   {
    "duration": 4,
    "start_time": "2022-02-07T10:50:54.191Z"
   },
   {
    "duration": 23,
    "start_time": "2022-02-07T10:53:11.663Z"
   },
   {
    "duration": 12,
    "start_time": "2022-02-07T10:54:49.837Z"
   },
   {
    "duration": 20,
    "start_time": "2022-02-07T10:54:57.024Z"
   },
   {
    "duration": 11,
    "start_time": "2022-02-07T10:56:26.003Z"
   },
   {
    "duration": 19,
    "start_time": "2022-02-07T10:56:26.605Z"
   },
   {
    "duration": 25,
    "start_time": "2022-02-07T10:57:17.340Z"
   },
   {
    "duration": 1402,
    "start_time": "2022-02-07T10:58:18.447Z"
   },
   {
    "duration": 8024,
    "start_time": "2022-02-07T10:58:39.659Z"
   },
   {
    "duration": 3804,
    "start_time": "2022-02-07T10:58:43.881Z"
   },
   {
    "duration": 3803,
    "start_time": "2022-02-07T10:58:43.883Z"
   },
   {
    "duration": 1407,
    "start_time": "2022-02-07T10:59:10.731Z"
   },
   {
    "duration": 292,
    "start_time": "2022-02-07T10:59:12.140Z"
   },
   {
    "duration": 13,
    "start_time": "2022-02-07T10:59:12.434Z"
   },
   {
    "duration": 20,
    "start_time": "2022-02-07T10:59:12.449Z"
   },
   {
    "duration": 14,
    "start_time": "2022-02-07T10:59:12.471Z"
   },
   {
    "duration": 40,
    "start_time": "2022-02-07T10:59:12.487Z"
   },
   {
    "duration": 15,
    "start_time": "2022-02-07T10:59:12.528Z"
   },
   {
    "duration": 20,
    "start_time": "2022-02-07T10:59:12.546Z"
   },
   {
    "duration": 9,
    "start_time": "2022-02-07T10:59:12.568Z"
   },
   {
    "duration": 19,
    "start_time": "2022-02-07T10:59:12.578Z"
   },
   {
    "duration": 32,
    "start_time": "2022-02-07T10:59:12.598Z"
   },
   {
    "duration": 22,
    "start_time": "2022-02-07T10:59:12.632Z"
   },
   {
    "duration": 24,
    "start_time": "2022-02-07T10:59:12.655Z"
   },
   {
    "duration": 13,
    "start_time": "2022-02-07T10:59:12.681Z"
   },
   {
    "duration": 18,
    "start_time": "2022-02-07T10:59:12.696Z"
   },
   {
    "duration": 31,
    "start_time": "2022-02-07T10:59:12.715Z"
   },
   {
    "duration": 15,
    "start_time": "2022-02-07T10:59:12.748Z"
   },
   {
    "duration": 18,
    "start_time": "2022-02-07T10:59:12.764Z"
   },
   {
    "duration": 13,
    "start_time": "2022-02-07T10:59:12.783Z"
   },
   {
    "duration": 17,
    "start_time": "2022-02-07T10:59:12.797Z"
   },
   {
    "duration": 13,
    "start_time": "2022-02-07T10:59:12.815Z"
   },
   {
    "duration": 18,
    "start_time": "2022-02-07T10:59:12.830Z"
   },
   {
    "duration": 5,
    "start_time": "2022-02-07T10:59:12.851Z"
   },
   {
    "duration": 4,
    "start_time": "2022-02-07T10:59:12.858Z"
   },
   {
    "duration": 9,
    "start_time": "2022-02-07T10:59:12.863Z"
   },
   {
    "duration": 22,
    "start_time": "2022-02-07T10:59:12.874Z"
   },
   {
    "duration": 13,
    "start_time": "2022-02-07T10:59:12.897Z"
   },
   {
    "duration": 25,
    "start_time": "2022-02-07T10:59:12.911Z"
   },
   {
    "duration": 13,
    "start_time": "2022-02-07T10:59:12.938Z"
   },
   {
    "duration": 33,
    "start_time": "2022-02-07T10:59:12.953Z"
   },
   {
    "duration": 5,
    "start_time": "2022-02-07T10:59:12.988Z"
   },
   {
    "duration": 8,
    "start_time": "2022-02-07T10:59:12.994Z"
   },
   {
    "duration": 29,
    "start_time": "2022-02-07T10:59:13.004Z"
   },
   {
    "duration": 33,
    "start_time": "2022-02-07T10:59:13.034Z"
   },
   {
    "duration": 14,
    "start_time": "2022-02-07T10:59:13.069Z"
   },
   {
    "duration": 5,
    "start_time": "2022-02-07T10:59:13.085Z"
   },
   {
    "duration": 8,
    "start_time": "2022-02-07T10:59:13.091Z"
   },
   {
    "duration": 35,
    "start_time": "2022-02-07T10:59:13.100Z"
   },
   {
    "duration": 18,
    "start_time": "2022-02-07T10:59:13.137Z"
   },
   {
    "duration": 4,
    "start_time": "2022-02-07T10:59:13.157Z"
   },
   {
    "duration": 17,
    "start_time": "2022-02-07T10:59:13.163Z"
   },
   {
    "duration": 26,
    "start_time": "2022-02-07T10:59:13.182Z"
   },
   {
    "duration": 18,
    "start_time": "2022-02-07T10:59:13.210Z"
   },
   {
    "duration": 18,
    "start_time": "2022-02-07T10:59:13.229Z"
   },
   {
    "duration": 25,
    "start_time": "2022-02-07T10:59:13.248Z"
   },
   {
    "duration": 8967,
    "start_time": "2022-02-07T10:59:13.274Z"
   },
   {
    "duration": 3780,
    "start_time": "2022-02-07T10:59:18.465Z"
   },
   {
    "duration": 3779,
    "start_time": "2022-02-07T10:59:18.467Z"
   },
   {
    "duration": 3779,
    "start_time": "2022-02-07T10:59:18.468Z"
   },
   {
    "duration": 3777,
    "start_time": "2022-02-07T10:59:18.470Z"
   },
   {
    "duration": 3776,
    "start_time": "2022-02-07T10:59:18.472Z"
   },
   {
    "duration": 3775,
    "start_time": "2022-02-07T10:59:18.474Z"
   },
   {
    "duration": 3774,
    "start_time": "2022-02-07T10:59:18.476Z"
   },
   {
    "duration": 3774,
    "start_time": "2022-02-07T10:59:18.477Z"
   },
   {
    "duration": 3773,
    "start_time": "2022-02-07T10:59:18.479Z"
   },
   {
    "duration": 3773,
    "start_time": "2022-02-07T10:59:18.480Z"
   },
   {
    "duration": 3773,
    "start_time": "2022-02-07T10:59:18.481Z"
   },
   {
    "duration": 3772,
    "start_time": "2022-02-07T10:59:18.483Z"
   },
   {
    "duration": 3771,
    "start_time": "2022-02-07T10:59:18.484Z"
   },
   {
    "duration": 3771,
    "start_time": "2022-02-07T10:59:18.485Z"
   },
   {
    "duration": 3770,
    "start_time": "2022-02-07T10:59:18.487Z"
   },
   {
    "duration": 3770,
    "start_time": "2022-02-07T10:59:18.488Z"
   },
   {
    "duration": 3770,
    "start_time": "2022-02-07T10:59:18.489Z"
   },
   {
    "duration": 3763,
    "start_time": "2022-02-07T10:59:18.497Z"
   },
   {
    "duration": 3758,
    "start_time": "2022-02-07T10:59:18.503Z"
   },
   {
    "duration": 3628,
    "start_time": "2022-02-07T10:59:18.634Z"
   },
   {
    "duration": 3619,
    "start_time": "2022-02-07T10:59:18.643Z"
   },
   {
    "duration": 3619,
    "start_time": "2022-02-07T10:59:18.644Z"
   },
   {
    "duration": 3618,
    "start_time": "2022-02-07T10:59:18.646Z"
   },
   {
    "duration": 3618,
    "start_time": "2022-02-07T10:59:18.647Z"
   },
   {
    "duration": 3618,
    "start_time": "2022-02-07T10:59:18.648Z"
   },
   {
    "duration": 3617,
    "start_time": "2022-02-07T10:59:18.650Z"
   },
   {
    "duration": 3617,
    "start_time": "2022-02-07T10:59:18.651Z"
   },
   {
    "duration": 3615,
    "start_time": "2022-02-07T10:59:18.653Z"
   },
   {
    "duration": 3615,
    "start_time": "2022-02-07T10:59:18.654Z"
   },
   {
    "duration": 3615,
    "start_time": "2022-02-07T10:59:18.655Z"
   },
   {
    "duration": 3615,
    "start_time": "2022-02-07T10:59:18.656Z"
   },
   {
    "duration": 3614,
    "start_time": "2022-02-07T10:59:18.658Z"
   },
   {
    "duration": 3614,
    "start_time": "2022-02-07T10:59:18.659Z"
   },
   {
    "duration": 3613,
    "start_time": "2022-02-07T10:59:18.660Z"
   },
   {
    "duration": 3612,
    "start_time": "2022-02-07T10:59:18.662Z"
   },
   {
    "duration": 3612,
    "start_time": "2022-02-07T10:59:18.663Z"
   },
   {
    "duration": 3612,
    "start_time": "2022-02-07T10:59:18.664Z"
   },
   {
    "duration": 3611,
    "start_time": "2022-02-07T10:59:18.666Z"
   },
   {
    "duration": 3611,
    "start_time": "2022-02-07T10:59:18.667Z"
   },
   {
    "duration": 3611,
    "start_time": "2022-02-07T10:59:18.668Z"
   },
   {
    "duration": 3610,
    "start_time": "2022-02-07T10:59:18.670Z"
   },
   {
    "duration": 3609,
    "start_time": "2022-02-07T10:59:18.671Z"
   },
   {
    "duration": 3609,
    "start_time": "2022-02-07T10:59:18.672Z"
   },
   {
    "duration": 3608,
    "start_time": "2022-02-07T10:59:18.674Z"
   },
   {
    "duration": 3608,
    "start_time": "2022-02-07T10:59:18.675Z"
   },
   {
    "duration": 3607,
    "start_time": "2022-02-07T10:59:18.677Z"
   },
   {
    "duration": 3607,
    "start_time": "2022-02-07T10:59:18.678Z"
   },
   {
    "duration": 3606,
    "start_time": "2022-02-07T10:59:18.679Z"
   },
   {
    "duration": 3646,
    "start_time": "2022-02-07T10:59:18.681Z"
   },
   {
    "duration": 3646,
    "start_time": "2022-02-07T10:59:18.682Z"
   },
   {
    "duration": 3645,
    "start_time": "2022-02-07T10:59:18.684Z"
   },
   {
    "duration": 3644,
    "start_time": "2022-02-07T10:59:18.685Z"
   },
   {
    "duration": 3644,
    "start_time": "2022-02-07T10:59:18.686Z"
   },
   {
    "duration": 3643,
    "start_time": "2022-02-07T10:59:18.688Z"
   },
   {
    "duration": 3643,
    "start_time": "2022-02-07T10:59:18.689Z"
   },
   {
    "duration": 3633,
    "start_time": "2022-02-07T10:59:18.699Z"
   },
   {
    "duration": 3632,
    "start_time": "2022-02-07T10:59:18.701Z"
   },
   {
    "duration": 3631,
    "start_time": "2022-02-07T10:59:18.703Z"
   },
   {
    "duration": 3631,
    "start_time": "2022-02-07T10:59:18.704Z"
   },
   {
    "duration": 3631,
    "start_time": "2022-02-07T10:59:18.705Z"
   },
   {
    "duration": 3629,
    "start_time": "2022-02-07T10:59:18.707Z"
   },
   {
    "duration": 3623,
    "start_time": "2022-02-07T10:59:18.714Z"
   },
   {
    "duration": 3622,
    "start_time": "2022-02-07T10:59:18.716Z"
   },
   {
    "duration": 7,
    "start_time": "2022-02-07T11:00:02.090Z"
   },
   {
    "duration": 3,
    "start_time": "2022-02-07T11:00:13.342Z"
   },
   {
    "duration": 25,
    "start_time": "2022-02-07T11:02:14.649Z"
   },
   {
    "duration": 1274,
    "start_time": "2022-02-07T11:04:13.312Z"
   },
   {
    "duration": 26,
    "start_time": "2022-02-07T11:04:20.111Z"
   },
   {
    "duration": 26,
    "start_time": "2022-02-07T11:05:23.905Z"
   },
   {
    "duration": 27,
    "start_time": "2022-02-07T11:06:53.078Z"
   },
   {
    "duration": 25,
    "start_time": "2022-02-07T11:25:03.371Z"
   },
   {
    "duration": 6,
    "start_time": "2022-02-07T11:26:01.601Z"
   },
   {
    "duration": 87,
    "start_time": "2022-02-07T11:26:15.901Z"
   },
   {
    "duration": 4,
    "start_time": "2022-02-07T11:42:10.257Z"
   },
   {
    "duration": 86,
    "start_time": "2022-02-07T11:42:12.470Z"
   },
   {
    "duration": 5,
    "start_time": "2022-02-07T11:44:00.937Z"
   },
   {
    "duration": 87,
    "start_time": "2022-02-07T11:44:01.859Z"
   },
   {
    "duration": 131,
    "start_time": "2022-02-07T11:44:30.505Z"
   },
   {
    "duration": 90,
    "start_time": "2022-02-07T11:44:31.589Z"
   },
   {
    "duration": 4,
    "start_time": "2022-02-07T11:45:01.530Z"
   },
   {
    "duration": 87,
    "start_time": "2022-02-07T11:45:06.608Z"
   },
   {
    "duration": 5,
    "start_time": "2022-02-07T11:47:10.073Z"
   },
   {
    "duration": 85,
    "start_time": "2022-02-07T11:47:12.305Z"
   },
   {
    "duration": 4,
    "start_time": "2022-02-07T11:51:07.793Z"
   },
   {
    "duration": 33,
    "start_time": "2022-02-07T11:51:36.478Z"
   },
   {
    "duration": 16,
    "start_time": "2022-02-07T11:52:16.009Z"
   },
   {
    "duration": 11,
    "start_time": "2022-02-07T11:52:25.686Z"
   },
   {
    "duration": 6,
    "start_time": "2022-02-07T11:52:31.229Z"
   },
   {
    "duration": 27,
    "start_time": "2022-02-07T11:52:43.394Z"
   },
   {
    "duration": 7,
    "start_time": "2022-02-07T11:52:44.508Z"
   },
   {
    "duration": 21,
    "start_time": "2022-02-07T11:52:48.106Z"
   },
   {
    "duration": 4,
    "start_time": "2022-02-07T11:53:14.618Z"
   },
   {
    "duration": 3,
    "start_time": "2022-02-07T11:53:15.014Z"
   },
   {
    "duration": 27,
    "start_time": "2022-02-07T11:53:15.673Z"
   },
   {
    "duration": 1328,
    "start_time": "2022-02-07T11:53:28.175Z"
   },
   {
    "duration": 271,
    "start_time": "2022-02-07T11:53:29.505Z"
   },
   {
    "duration": 14,
    "start_time": "2022-02-07T11:53:29.778Z"
   },
   {
    "duration": 21,
    "start_time": "2022-02-07T11:53:29.794Z"
   },
   {
    "duration": 15,
    "start_time": "2022-02-07T11:53:29.816Z"
   },
   {
    "duration": 18,
    "start_time": "2022-02-07T11:53:29.833Z"
   },
   {
    "duration": 16,
    "start_time": "2022-02-07T11:53:29.852Z"
   },
   {
    "duration": 18,
    "start_time": "2022-02-07T11:53:29.869Z"
   },
   {
    "duration": 10,
    "start_time": "2022-02-07T11:53:29.890Z"
   },
   {
    "duration": 42,
    "start_time": "2022-02-07T11:53:29.901Z"
   },
   {
    "duration": 11,
    "start_time": "2022-02-07T11:53:29.945Z"
   },
   {
    "duration": 18,
    "start_time": "2022-02-07T11:53:29.957Z"
   },
   {
    "duration": 11,
    "start_time": "2022-02-07T11:53:29.977Z"
   },
   {
    "duration": 10,
    "start_time": "2022-02-07T11:53:29.989Z"
   },
   {
    "duration": 34,
    "start_time": "2022-02-07T11:53:30.000Z"
   },
   {
    "duration": 16,
    "start_time": "2022-02-07T11:53:30.035Z"
   },
   {
    "duration": 9,
    "start_time": "2022-02-07T11:53:30.053Z"
   },
   {
    "duration": 12,
    "start_time": "2022-02-07T11:53:30.063Z"
   },
   {
    "duration": 9,
    "start_time": "2022-02-07T11:53:30.076Z"
   },
   {
    "duration": 9,
    "start_time": "2022-02-07T11:53:30.086Z"
   },
   {
    "duration": 37,
    "start_time": "2022-02-07T11:53:30.096Z"
   },
   {
    "duration": 12,
    "start_time": "2022-02-07T11:53:30.134Z"
   },
   {
    "duration": 5,
    "start_time": "2022-02-07T11:53:30.147Z"
   },
   {
    "duration": 11,
    "start_time": "2022-02-07T11:53:30.153Z"
   },
   {
    "duration": 13,
    "start_time": "2022-02-07T11:53:30.165Z"
   },
   {
    "duration": 15,
    "start_time": "2022-02-07T11:53:30.179Z"
   },
   {
    "duration": 19,
    "start_time": "2022-02-07T11:53:30.198Z"
   },
   {
    "duration": 11,
    "start_time": "2022-02-07T11:53:30.219Z"
   },
   {
    "duration": 35,
    "start_time": "2022-02-07T11:53:30.231Z"
   },
   {
    "duration": 5,
    "start_time": "2022-02-07T11:53:30.267Z"
   },
   {
    "duration": 11,
    "start_time": "2022-02-07T11:53:30.273Z"
   },
   {
    "duration": 31,
    "start_time": "2022-02-07T11:53:30.285Z"
   },
   {
    "duration": 39,
    "start_time": "2022-02-07T11:53:30.318Z"
   },
   {
    "duration": 15,
    "start_time": "2022-02-07T11:53:30.359Z"
   },
   {
    "duration": 5,
    "start_time": "2022-02-07T11:53:30.376Z"
   },
   {
    "duration": 12,
    "start_time": "2022-02-07T11:53:30.383Z"
   },
   {
    "duration": 18,
    "start_time": "2022-02-07T11:53:30.396Z"
   },
   {
    "duration": 31,
    "start_time": "2022-02-07T11:53:30.415Z"
   },
   {
    "duration": 5,
    "start_time": "2022-02-07T11:53:30.448Z"
   },
   {
    "duration": 13,
    "start_time": "2022-02-07T11:53:30.455Z"
   },
   {
    "duration": 19,
    "start_time": "2022-02-07T11:53:30.470Z"
   },
   {
    "duration": 37,
    "start_time": "2022-02-07T11:53:30.490Z"
   },
   {
    "duration": 21,
    "start_time": "2022-02-07T11:53:30.529Z"
   },
   {
    "duration": 26,
    "start_time": "2022-02-07T11:53:30.551Z"
   },
   {
    "duration": 7,
    "start_time": "2022-02-07T11:53:30.579Z"
   },
   {
    "duration": 3,
    "start_time": "2022-02-07T11:53:30.588Z"
   },
   {
    "duration": 58,
    "start_time": "2022-02-07T11:53:30.593Z"
   },
   {
    "duration": 7,
    "start_time": "2022-02-07T11:53:30.653Z"
   },
   {
    "duration": 22,
    "start_time": "2022-02-07T11:53:30.662Z"
   },
   {
    "duration": 13,
    "start_time": "2022-02-07T11:53:30.685Z"
   },
   {
    "duration": 115,
    "start_time": "2022-02-07T11:53:30.699Z"
   },
   {
    "duration": 4,
    "start_time": "2022-02-07T11:55:02.114Z"
   },
   {
    "duration": 2,
    "start_time": "2022-02-07T11:55:04.538Z"
   },
   {
    "duration": 6,
    "start_time": "2022-02-07T11:55:04.929Z"
   },
   {
    "duration": 6,
    "start_time": "2022-02-07T11:55:06.009Z"
   },
   {
    "duration": 16,
    "start_time": "2022-02-07T11:55:07.975Z"
   },
   {
    "duration": 8,
    "start_time": "2022-02-07T11:55:09.983Z"
   },
   {
    "duration": 25,
    "start_time": "2022-02-07T11:55:10.253Z"
   },
   {
    "duration": 6,
    "start_time": "2022-02-07T11:55:10.425Z"
   },
   {
    "duration": 7,
    "start_time": "2022-02-07T11:55:10.804Z"
   },
   {
    "duration": 29,
    "start_time": "2022-02-07T11:55:10.973Z"
   },
   {
    "duration": 37,
    "start_time": "2022-02-07T11:55:11.178Z"
   },
   {
    "duration": 17,
    "start_time": "2022-02-07T11:55:11.381Z"
   },
   {
    "duration": 5,
    "start_time": "2022-02-07T11:55:11.574Z"
   },
   {
    "duration": 4,
    "start_time": "2022-02-07T11:55:11.743Z"
   },
   {
    "duration": 12,
    "start_time": "2022-02-07T11:55:11.932Z"
   },
   {
    "duration": 22,
    "start_time": "2022-02-07T11:55:12.115Z"
   },
   {
    "duration": 5,
    "start_time": "2022-02-07T11:55:12.295Z"
   },
   {
    "duration": 12,
    "start_time": "2022-02-07T11:55:12.491Z"
   },
   {
    "duration": 19,
    "start_time": "2022-02-07T11:55:12.682Z"
   },
   {
    "duration": 11,
    "start_time": "2022-02-07T11:55:12.861Z"
   },
   {
    "duration": 18,
    "start_time": "2022-02-07T11:55:13.052Z"
   },
   {
    "duration": 25,
    "start_time": "2022-02-07T11:55:13.244Z"
   },
   {
    "duration": 3,
    "start_time": "2022-02-07T11:55:13.424Z"
   },
   {
    "duration": 3,
    "start_time": "2022-02-07T11:55:13.963Z"
   },
   {
    "duration": 25,
    "start_time": "2022-02-07T11:55:14.423Z"
   },
   {
    "duration": 6,
    "start_time": "2022-02-07T11:55:15.227Z"
   },
   {
    "duration": 20,
    "start_time": "2022-02-07T11:55:19.299Z"
   },
   {
    "duration": 5,
    "start_time": "2022-02-07T11:55:53.560Z"
   },
   {
    "duration": 5,
    "start_time": "2022-02-07T11:56:05.197Z"
   },
   {
    "duration": 92,
    "start_time": "2022-02-07T11:56:09.135Z"
   },
   {
    "duration": 4,
    "start_time": "2022-02-07T12:03:55.336Z"
   },
   {
    "duration": 96,
    "start_time": "2022-02-07T12:03:57.401Z"
   },
   {
    "duration": 5,
    "start_time": "2022-02-07T12:04:42.026Z"
   },
   {
    "duration": 92,
    "start_time": "2022-02-07T12:04:45.467Z"
   },
   {
    "duration": 26,
    "start_time": "2022-02-07T15:24:34.477Z"
   },
   {
    "duration": 6,
    "start_time": "2022-02-07T15:24:42.166Z"
   },
   {
    "duration": 6,
    "start_time": "2022-02-07T15:24:52.817Z"
   },
   {
    "duration": 94,
    "start_time": "2022-02-07T15:25:10.821Z"
   },
   {
    "duration": 280,
    "start_time": "2022-02-07T17:20:04.910Z"
   },
   {
    "duration": 1712,
    "start_time": "2022-02-07T17:20:20.233Z"
   },
   {
    "duration": 1006,
    "start_time": "2022-02-07T17:20:35.388Z"
   },
   {
    "duration": 322,
    "start_time": "2022-02-07T17:24:51.170Z"
   },
   {
    "duration": 316,
    "start_time": "2022-02-07T17:24:55.675Z"
   },
   {
    "duration": 324,
    "start_time": "2022-02-07T17:25:02.159Z"
   },
   {
    "duration": 358,
    "start_time": "2022-02-07T17:26:29.221Z"
   },
   {
    "duration": 322,
    "start_time": "2022-02-07T17:26:38.137Z"
   },
   {
    "duration": 372,
    "start_time": "2022-02-07T17:33:16.475Z"
   },
   {
    "duration": 342,
    "start_time": "2022-02-07T17:33:36.299Z"
   },
   {
    "duration": 107,
    "start_time": "2022-02-07T17:34:08.523Z"
   },
   {
    "duration": 112,
    "start_time": "2022-02-07T17:34:13.741Z"
   },
   {
    "duration": 247,
    "start_time": "2022-02-07T17:34:21.167Z"
   },
   {
    "duration": 106,
    "start_time": "2022-02-07T17:34:33.045Z"
   },
   {
    "duration": 326,
    "start_time": "2022-02-07T17:34:37.792Z"
   },
   {
    "duration": 346,
    "start_time": "2022-02-07T17:34:44.443Z"
   },
   {
    "duration": 839,
    "start_time": "2022-02-07T17:35:03.002Z"
   },
   {
    "duration": 1761,
    "start_time": "2022-02-07T17:35:14.381Z"
   },
   {
    "duration": 1229,
    "start_time": "2022-02-07T17:35:16.144Z"
   },
   {
    "duration": 13,
    "start_time": "2022-02-07T17:35:17.376Z"
   },
   {
    "duration": 22,
    "start_time": "2022-02-07T17:35:17.391Z"
   },
   {
    "duration": 15,
    "start_time": "2022-02-07T17:35:17.414Z"
   },
   {
    "duration": 17,
    "start_time": "2022-02-07T17:35:17.430Z"
   },
   {
    "duration": 14,
    "start_time": "2022-02-07T17:35:17.449Z"
   },
   {
    "duration": 17,
    "start_time": "2022-02-07T17:35:17.464Z"
   },
   {
    "duration": 11,
    "start_time": "2022-02-07T17:35:17.483Z"
   },
   {
    "duration": 42,
    "start_time": "2022-02-07T17:35:17.496Z"
   },
   {
    "duration": 11,
    "start_time": "2022-02-07T17:35:17.540Z"
   },
   {
    "duration": 18,
    "start_time": "2022-02-07T17:35:17.552Z"
   },
   {
    "duration": 11,
    "start_time": "2022-02-07T17:35:17.571Z"
   },
   {
    "duration": 11,
    "start_time": "2022-02-07T17:35:17.583Z"
   },
   {
    "duration": 32,
    "start_time": "2022-02-07T17:35:17.595Z"
   },
   {
    "duration": 11,
    "start_time": "2022-02-07T17:35:17.628Z"
   },
   {
    "duration": 9,
    "start_time": "2022-02-07T17:35:17.641Z"
   },
   {
    "duration": 10,
    "start_time": "2022-02-07T17:35:17.652Z"
   },
   {
    "duration": 9,
    "start_time": "2022-02-07T17:35:17.664Z"
   },
   {
    "duration": 9,
    "start_time": "2022-02-07T17:35:17.674Z"
   },
   {
    "duration": 44,
    "start_time": "2022-02-07T17:35:17.684Z"
   },
   {
    "duration": 11,
    "start_time": "2022-02-07T17:35:17.730Z"
   },
   {
    "duration": 7,
    "start_time": "2022-02-07T17:35:17.743Z"
   },
   {
    "duration": 6,
    "start_time": "2022-02-07T17:35:17.751Z"
   },
   {
    "duration": 5,
    "start_time": "2022-02-07T17:35:17.758Z"
   },
   {
    "duration": 7,
    "start_time": "2022-02-07T17:35:17.764Z"
   },
   {
    "duration": 5,
    "start_time": "2022-02-07T17:35:17.774Z"
   },
   {
    "duration": 15,
    "start_time": "2022-02-07T17:35:17.781Z"
   },
   {
    "duration": 31,
    "start_time": "2022-02-07T17:35:17.797Z"
   },
   {
    "duration": 23,
    "start_time": "2022-02-07T17:35:17.830Z"
   },
   {
    "duration": 5,
    "start_time": "2022-02-07T17:35:17.855Z"
   },
   {
    "duration": 9,
    "start_time": "2022-02-07T17:35:17.862Z"
   },
   {
    "duration": 30,
    "start_time": "2022-02-07T17:35:17.873Z"
   },
   {
    "duration": 54,
    "start_time": "2022-02-07T17:35:17.905Z"
   },
   {
    "duration": 15,
    "start_time": "2022-02-07T17:35:17.960Z"
   },
   {
    "duration": 4,
    "start_time": "2022-02-07T17:35:17.977Z"
   },
   {
    "duration": 6,
    "start_time": "2022-02-07T17:35:17.983Z"
   },
   {
    "duration": 11,
    "start_time": "2022-02-07T17:35:17.990Z"
   },
   {
    "duration": 40,
    "start_time": "2022-02-07T17:35:18.003Z"
   },
   {
    "duration": 4,
    "start_time": "2022-02-07T17:35:18.045Z"
   },
   {
    "duration": 12,
    "start_time": "2022-02-07T17:35:18.050Z"
   },
   {
    "duration": 18,
    "start_time": "2022-02-07T17:35:18.063Z"
   },
   {
    "duration": 9,
    "start_time": "2022-02-07T17:35:18.083Z"
   },
   {
    "duration": 48,
    "start_time": "2022-02-07T17:35:18.094Z"
   },
   {
    "duration": 26,
    "start_time": "2022-02-07T17:35:18.144Z"
   },
   {
    "duration": 15,
    "start_time": "2022-02-07T17:35:18.172Z"
   },
   {
    "duration": 3,
    "start_time": "2022-02-07T17:35:18.188Z"
   },
   {
    "duration": 38,
    "start_time": "2022-02-07T17:35:18.192Z"
   },
   {
    "duration": 5,
    "start_time": "2022-02-07T17:35:18.232Z"
   },
   {
    "duration": 5,
    "start_time": "2022-02-07T17:35:18.238Z"
   },
   {
    "duration": 105,
    "start_time": "2022-02-07T17:35:18.244Z"
   },
   {
    "duration": 2237,
    "start_time": "2022-02-07T17:35:18.351Z"
   },
   {
    "duration": 1850,
    "start_time": "2022-02-07T17:41:11.887Z"
   },
   {
    "duration": 275,
    "start_time": "2022-02-07T17:41:13.738Z"
   },
   {
    "duration": 13,
    "start_time": "2022-02-07T17:41:14.015Z"
   },
   {
    "duration": 21,
    "start_time": "2022-02-07T17:41:14.030Z"
   },
   {
    "duration": 17,
    "start_time": "2022-02-07T17:41:14.052Z"
   },
   {
    "duration": 23,
    "start_time": "2022-02-07T17:41:14.071Z"
   },
   {
    "duration": 31,
    "start_time": "2022-02-07T17:41:14.096Z"
   },
   {
    "duration": 19,
    "start_time": "2022-02-07T17:41:14.129Z"
   },
   {
    "duration": 10,
    "start_time": "2022-02-07T17:41:14.152Z"
   },
   {
    "duration": 22,
    "start_time": "2022-02-07T17:41:14.164Z"
   },
   {
    "duration": 40,
    "start_time": "2022-02-07T17:41:14.188Z"
   },
   {
    "duration": 14,
    "start_time": "2022-02-07T17:41:14.230Z"
   },
   {
    "duration": 12,
    "start_time": "2022-02-07T17:41:14.247Z"
   },
   {
    "duration": 11,
    "start_time": "2022-02-07T17:41:14.261Z"
   },
   {
    "duration": 10,
    "start_time": "2022-02-07T17:41:14.274Z"
   },
   {
    "duration": 47,
    "start_time": "2022-02-07T17:41:14.286Z"
   },
   {
    "duration": 12,
    "start_time": "2022-02-07T17:41:14.335Z"
   },
   {
    "duration": 11,
    "start_time": "2022-02-07T17:41:14.349Z"
   },
   {
    "duration": 9,
    "start_time": "2022-02-07T17:41:14.362Z"
   },
   {
    "duration": 9,
    "start_time": "2022-02-07T17:41:14.372Z"
   },
   {
    "duration": 12,
    "start_time": "2022-02-07T17:41:14.382Z"
   },
   {
    "duration": 44,
    "start_time": "2022-02-07T17:41:14.396Z"
   },
   {
    "duration": 5,
    "start_time": "2022-02-07T17:41:14.441Z"
   },
   {
    "duration": 7,
    "start_time": "2022-02-07T17:41:14.448Z"
   },
   {
    "duration": 5,
    "start_time": "2022-02-07T17:41:14.456Z"
   },
   {
    "duration": 10,
    "start_time": "2022-02-07T17:41:14.462Z"
   },
   {
    "duration": 12,
    "start_time": "2022-02-07T17:41:14.475Z"
   },
   {
    "duration": 22,
    "start_time": "2022-02-07T17:41:14.489Z"
   },
   {
    "duration": 16,
    "start_time": "2022-02-07T17:41:14.513Z"
   },
   {
    "duration": 26,
    "start_time": "2022-02-07T17:41:14.530Z"
   },
   {
    "duration": 5,
    "start_time": "2022-02-07T17:41:14.558Z"
   },
   {
    "duration": 7,
    "start_time": "2022-02-07T17:41:14.565Z"
   },
   {
    "duration": 55,
    "start_time": "2022-02-07T17:41:14.573Z"
   },
   {
    "duration": 36,
    "start_time": "2022-02-07T17:41:14.630Z"
   },
   {
    "duration": 21,
    "start_time": "2022-02-07T17:41:14.668Z"
   },
   {
    "duration": 7,
    "start_time": "2022-02-07T17:41:14.691Z"
   },
   {
    "duration": 27,
    "start_time": "2022-02-07T17:41:14.700Z"
   },
   {
    "duration": 19,
    "start_time": "2022-02-07T17:41:14.729Z"
   },
   {
    "duration": 27,
    "start_time": "2022-02-07T17:41:14.750Z"
   },
   {
    "duration": 6,
    "start_time": "2022-02-07T17:41:14.779Z"
   },
   {
    "duration": 14,
    "start_time": "2022-02-07T17:41:14.786Z"
   },
   {
    "duration": 38,
    "start_time": "2022-02-07T17:41:14.802Z"
   },
   {
    "duration": 19,
    "start_time": "2022-02-07T17:41:14.842Z"
   },
   {
    "duration": 20,
    "start_time": "2022-02-07T17:41:14.863Z"
   },
   {
    "duration": 42,
    "start_time": "2022-02-07T17:41:14.885Z"
   },
   {
    "duration": 14,
    "start_time": "2022-02-07T17:41:14.928Z"
   },
   {
    "duration": 3,
    "start_time": "2022-02-07T17:41:14.943Z"
   },
   {
    "duration": 31,
    "start_time": "2022-02-07T17:41:14.948Z"
   },
   {
    "duration": 9,
    "start_time": "2022-02-07T17:41:14.981Z"
   },
   {
    "duration": 5,
    "start_time": "2022-02-07T17:41:14.991Z"
   },
   {
    "duration": 112,
    "start_time": "2022-02-07T17:41:14.998Z"
   },
   {
    "duration": 431,
    "start_time": "2022-02-07T17:41:15.111Z"
   },
   {
    "duration": 7,
    "start_time": "2022-02-07T17:46:04.170Z"
   },
   {
    "duration": 540,
    "start_time": "2022-02-07T17:48:39.050Z"
   },
   {
    "duration": 330,
    "start_time": "2022-02-07T17:48:50.120Z"
   },
   {
    "duration": 337,
    "start_time": "2022-02-07T17:49:30.841Z"
   },
   {
    "duration": 320,
    "start_time": "2022-02-07T17:49:57.653Z"
   },
   {
    "duration": 739,
    "start_time": "2022-02-07T17:50:50.614Z"
   },
   {
    "duration": 403,
    "start_time": "2022-02-07T17:51:07.807Z"
   },
   {
    "duration": 320,
    "start_time": "2022-02-07T17:51:39.189Z"
   },
   {
    "duration": 318,
    "start_time": "2022-02-07T17:52:05.067Z"
   },
   {
    "duration": 316,
    "start_time": "2022-02-07T17:53:27.829Z"
   },
   {
    "duration": 330,
    "start_time": "2022-02-07T17:53:37.934Z"
   },
   {
    "duration": 727,
    "start_time": "2022-02-07T17:53:46.467Z"
   },
   {
    "duration": 1020,
    "start_time": "2022-02-07T17:54:04.231Z"
   },
   {
    "duration": 368,
    "start_time": "2022-02-07T17:54:51.793Z"
   },
   {
    "duration": 169,
    "start_time": "2022-02-07T17:59:14.945Z"
   },
   {
    "duration": 121,
    "start_time": "2022-02-07T17:59:28.203Z"
   },
   {
    "duration": 322,
    "start_time": "2022-02-07T17:59:38.400Z"
   },
   {
    "duration": 2,
    "start_time": "2022-02-07T17:59:52.986Z"
   },
   {
    "duration": 1947,
    "start_time": "2022-02-07T22:51:40.853Z"
   },
   {
    "duration": 334,
    "start_time": "2022-02-07T22:51:42.803Z"
   },
   {
    "duration": 16,
    "start_time": "2022-02-07T22:51:43.139Z"
   },
   {
    "duration": 27,
    "start_time": "2022-02-07T22:51:43.157Z"
   },
   {
    "duration": 17,
    "start_time": "2022-02-07T22:51:43.186Z"
   },
   {
    "duration": 22,
    "start_time": "2022-02-07T22:51:43.207Z"
   },
   {
    "duration": 18,
    "start_time": "2022-02-07T22:51:43.231Z"
   },
   {
    "duration": 21,
    "start_time": "2022-02-07T22:51:43.252Z"
   },
   {
    "duration": 40,
    "start_time": "2022-02-07T22:51:43.276Z"
   },
   {
    "duration": 22,
    "start_time": "2022-02-07T22:51:43.318Z"
   },
   {
    "duration": 16,
    "start_time": "2022-02-07T22:51:43.342Z"
   },
   {
    "duration": 47,
    "start_time": "2022-02-07T22:51:43.360Z"
   },
   {
    "duration": 15,
    "start_time": "2022-02-07T22:51:43.409Z"
   },
   {
    "duration": 12,
    "start_time": "2022-02-07T22:51:43.426Z"
   },
   {
    "duration": 12,
    "start_time": "2022-02-07T22:51:43.440Z"
   },
   {
    "duration": 17,
    "start_time": "2022-02-07T22:51:43.453Z"
   },
   {
    "duration": 46,
    "start_time": "2022-02-07T22:51:43.471Z"
   },
   {
    "duration": 14,
    "start_time": "2022-02-07T22:51:43.520Z"
   },
   {
    "duration": 11,
    "start_time": "2022-02-07T22:51:43.536Z"
   },
   {
    "duration": 11,
    "start_time": "2022-02-07T22:51:43.549Z"
   },
   {
    "duration": 53,
    "start_time": "2022-02-07T22:51:43.561Z"
   },
   {
    "duration": 18,
    "start_time": "2022-02-07T22:51:43.617Z"
   },
   {
    "duration": 7,
    "start_time": "2022-02-07T22:51:43.639Z"
   },
   {
    "duration": 8,
    "start_time": "2022-02-07T22:51:43.648Z"
   },
   {
    "duration": 8,
    "start_time": "2022-02-07T22:51:43.658Z"
   },
   {
    "duration": 12,
    "start_time": "2022-02-07T22:51:43.668Z"
   },
   {
    "duration": 34,
    "start_time": "2022-02-07T22:51:43.681Z"
   },
   {
    "duration": 22,
    "start_time": "2022-02-07T22:51:43.717Z"
   },
   {
    "duration": 10,
    "start_time": "2022-02-07T22:51:43.740Z"
   },
   {
    "duration": 31,
    "start_time": "2022-02-07T22:51:43.752Z"
   },
   {
    "duration": 27,
    "start_time": "2022-02-07T22:51:43.785Z"
   },
   {
    "duration": 8,
    "start_time": "2022-02-07T22:51:43.814Z"
   },
   {
    "duration": 41,
    "start_time": "2022-02-07T22:51:43.824Z"
   },
   {
    "duration": 76,
    "start_time": "2022-02-07T22:51:43.866Z"
   },
   {
    "duration": 21,
    "start_time": "2022-02-07T22:51:43.944Z"
   },
   {
    "duration": 7,
    "start_time": "2022-02-07T22:51:43.968Z"
   },
   {
    "duration": 31,
    "start_time": "2022-02-07T22:51:43.976Z"
   },
   {
    "duration": 14,
    "start_time": "2022-02-07T22:51:44.010Z"
   },
   {
    "duration": 29,
    "start_time": "2022-02-07T22:51:44.026Z"
   },
   {
    "duration": 6,
    "start_time": "2022-02-07T22:51:44.057Z"
   },
   {
    "duration": 49,
    "start_time": "2022-02-07T22:51:44.065Z"
   },
   {
    "duration": 32,
    "start_time": "2022-02-07T22:51:44.116Z"
   },
   {
    "duration": 16,
    "start_time": "2022-02-07T22:51:44.151Z"
   },
   {
    "duration": 44,
    "start_time": "2022-02-07T22:51:44.169Z"
   },
   {
    "duration": 33,
    "start_time": "2022-02-07T22:51:44.214Z"
   },
   {
    "duration": 9,
    "start_time": "2022-02-07T22:51:44.249Z"
   },
   {
    "duration": 5,
    "start_time": "2022-02-07T22:51:44.260Z"
   },
   {
    "duration": 73,
    "start_time": "2022-02-07T22:51:44.267Z"
   },
   {
    "duration": 10,
    "start_time": "2022-02-07T22:51:44.342Z"
   },
   {
    "duration": 10,
    "start_time": "2022-02-07T22:51:44.354Z"
   },
   {
    "duration": 141,
    "start_time": "2022-02-07T22:51:44.366Z"
   },
   {
    "duration": 986,
    "start_time": "2022-02-07T22:51:44.509Z"
   },
   {
    "duration": 816,
    "start_time": "2022-02-07T22:53:39.721Z"
   },
   {
    "duration": 813,
    "start_time": "2022-02-07T22:54:39.729Z"
   },
   {
    "duration": 858,
    "start_time": "2022-02-07T22:54:58.774Z"
   },
   {
    "duration": 1528,
    "start_time": "2022-02-08T08:09:42.431Z"
   },
   {
    "duration": 317,
    "start_time": "2022-02-08T08:09:43.961Z"
   },
   {
    "duration": 16,
    "start_time": "2022-02-08T08:09:44.280Z"
   },
   {
    "duration": 24,
    "start_time": "2022-02-08T08:09:44.298Z"
   },
   {
    "duration": 18,
    "start_time": "2022-02-08T08:09:44.324Z"
   },
   {
    "duration": 21,
    "start_time": "2022-02-08T08:09:44.344Z"
   },
   {
    "duration": 42,
    "start_time": "2022-02-08T08:09:44.367Z"
   },
   {
    "duration": 21,
    "start_time": "2022-02-08T08:09:44.412Z"
   },
   {
    "duration": 12,
    "start_time": "2022-02-08T08:09:44.436Z"
   },
   {
    "duration": 22,
    "start_time": "2022-02-08T08:09:44.450Z"
   },
   {
    "duration": 40,
    "start_time": "2022-02-08T08:09:44.474Z"
   },
   {
    "duration": 18,
    "start_time": "2022-02-08T08:09:44.516Z"
   },
   {
    "duration": 15,
    "start_time": "2022-02-08T08:09:44.536Z"
   },
   {
    "duration": 13,
    "start_time": "2022-02-08T08:09:44.554Z"
   },
   {
    "duration": 49,
    "start_time": "2022-02-08T08:09:44.568Z"
   },
   {
    "duration": 18,
    "start_time": "2022-02-08T08:09:44.619Z"
   },
   {
    "duration": 13,
    "start_time": "2022-02-08T08:09:44.638Z"
   },
   {
    "duration": 15,
    "start_time": "2022-02-08T08:09:44.653Z"
   },
   {
    "duration": 40,
    "start_time": "2022-02-08T08:09:44.670Z"
   },
   {
    "duration": 12,
    "start_time": "2022-02-08T08:09:44.712Z"
   },
   {
    "duration": 17,
    "start_time": "2022-02-08T08:09:44.726Z"
   },
   {
    "duration": 18,
    "start_time": "2022-02-08T08:09:44.745Z"
   },
   {
    "duration": 38,
    "start_time": "2022-02-08T08:09:44.769Z"
   },
   {
    "duration": 4,
    "start_time": "2022-02-08T08:09:44.811Z"
   },
   {
    "duration": 5,
    "start_time": "2022-02-08T08:09:44.818Z"
   },
   {
    "duration": 11,
    "start_time": "2022-02-08T08:09:44.825Z"
   },
   {
    "duration": 11,
    "start_time": "2022-02-08T08:09:44.838Z"
   },
   {
    "duration": 22,
    "start_time": "2022-02-08T08:09:44.851Z"
   },
   {
    "duration": 9,
    "start_time": "2022-02-08T08:09:44.907Z"
   },
   {
    "duration": 31,
    "start_time": "2022-02-08T08:09:44.918Z"
   },
   {
    "duration": 6,
    "start_time": "2022-02-08T08:09:44.951Z"
   },
   {
    "duration": 9,
    "start_time": "2022-02-08T08:09:44.959Z"
   },
   {
    "duration": 69,
    "start_time": "2022-02-08T08:09:44.970Z"
   },
   {
    "duration": 50,
    "start_time": "2022-02-08T08:09:45.041Z"
   },
   {
    "duration": 32,
    "start_time": "2022-02-08T08:09:45.093Z"
   },
   {
    "duration": 6,
    "start_time": "2022-02-08T08:09:45.127Z"
   },
   {
    "duration": 12,
    "start_time": "2022-02-08T08:09:45.135Z"
   },
   {
    "duration": 22,
    "start_time": "2022-02-08T08:09:45.149Z"
   },
   {
    "duration": 45,
    "start_time": "2022-02-08T08:09:45.173Z"
   },
   {
    "duration": 5,
    "start_time": "2022-02-08T08:09:45.220Z"
   },
   {
    "duration": 18,
    "start_time": "2022-02-08T08:09:45.227Z"
   },
   {
    "duration": 22,
    "start_time": "2022-02-08T08:09:45.247Z"
   },
   {
    "duration": 38,
    "start_time": "2022-02-08T08:09:45.271Z"
   },
   {
    "duration": 22,
    "start_time": "2022-02-08T08:09:45.311Z"
   },
   {
    "duration": 30,
    "start_time": "2022-02-08T08:09:45.335Z"
   },
   {
    "duration": 8,
    "start_time": "2022-02-08T08:09:45.367Z"
   },
   {
    "duration": 31,
    "start_time": "2022-02-08T08:09:45.377Z"
   },
   {
    "duration": 35,
    "start_time": "2022-02-08T08:09:45.410Z"
   },
   {
    "duration": 7,
    "start_time": "2022-02-08T08:09:45.446Z"
   },
   {
    "duration": 7,
    "start_time": "2022-02-08T08:09:45.455Z"
   },
   {
    "duration": 131,
    "start_time": "2022-02-08T08:09:45.465Z"
   },
   {
    "duration": 10,
    "start_time": "2022-02-08T08:09:45.598Z"
   },
   {
    "duration": 661,
    "start_time": "2022-02-08T08:31:53.906Z"
   },
   {
    "duration": 87,
    "start_time": "2022-02-08T08:32:18.796Z"
   },
   {
    "duration": 26,
    "start_time": "2022-02-08T08:32:30.689Z"
   },
   {
    "duration": 89,
    "start_time": "2022-02-08T08:33:00.813Z"
   },
   {
    "duration": 106,
    "start_time": "2022-02-08T08:33:05.328Z"
   },
   {
    "duration": 111,
    "start_time": "2022-02-08T08:34:58.099Z"
   },
   {
    "duration": 111,
    "start_time": "2022-02-08T08:35:15.748Z"
   },
   {
    "duration": 381,
    "start_time": "2022-02-08T08:43:37.063Z"
   },
   {
    "duration": 6,
    "start_time": "2022-02-08T08:44:13.510Z"
   },
   {
    "duration": 18,
    "start_time": "2022-02-08T08:45:13.136Z"
   },
   {
    "duration": 3,
    "start_time": "2022-02-08T08:46:08.204Z"
   },
   {
    "duration": 17,
    "start_time": "2022-02-08T08:46:09.126Z"
   },
   {
    "duration": 18,
    "start_time": "2022-02-08T08:46:41.318Z"
   },
   {
    "duration": 289,
    "start_time": "2022-02-08T08:58:57.454Z"
   },
   {
    "duration": 379,
    "start_time": "2022-02-08T09:00:27.569Z"
   },
   {
    "duration": 265,
    "start_time": "2022-02-08T09:01:43.188Z"
   },
   {
    "duration": 264,
    "start_time": "2022-02-08T09:02:39.920Z"
   },
   {
    "duration": 258,
    "start_time": "2022-02-08T09:03:06.238Z"
   },
   {
    "duration": 8,
    "start_time": "2022-02-08T09:03:39.309Z"
   },
   {
    "duration": 284,
    "start_time": "2022-02-08T09:03:46.727Z"
   },
   {
    "duration": 492,
    "start_time": "2022-02-08T09:04:12.779Z"
   },
   {
    "duration": 255,
    "start_time": "2022-02-08T09:04:18.261Z"
   },
   {
    "duration": 280,
    "start_time": "2022-02-08T09:06:04.832Z"
   },
   {
    "duration": 249,
    "start_time": "2022-02-08T09:06:33.441Z"
   },
   {
    "duration": 1586,
    "start_time": "2022-02-08T09:06:38.985Z"
   },
   {
    "duration": 322,
    "start_time": "2022-02-08T09:06:40.573Z"
   },
   {
    "duration": 17,
    "start_time": "2022-02-08T09:06:40.898Z"
   },
   {
    "duration": 31,
    "start_time": "2022-02-08T09:06:40.917Z"
   },
   {
    "duration": 19,
    "start_time": "2022-02-08T09:06:40.950Z"
   },
   {
    "duration": 45,
    "start_time": "2022-02-08T09:06:40.972Z"
   },
   {
    "duration": 20,
    "start_time": "2022-02-08T09:06:41.019Z"
   },
   {
    "duration": 23,
    "start_time": "2022-02-08T09:06:41.041Z"
   },
   {
    "duration": 41,
    "start_time": "2022-02-08T09:06:41.067Z"
   },
   {
    "duration": 32,
    "start_time": "2022-02-08T09:06:41.111Z"
   },
   {
    "duration": 16,
    "start_time": "2022-02-08T09:06:41.146Z"
   },
   {
    "duration": 24,
    "start_time": "2022-02-08T09:06:41.164Z"
   },
   {
    "duration": 28,
    "start_time": "2022-02-08T09:06:41.190Z"
   },
   {
    "duration": 14,
    "start_time": "2022-02-08T09:06:41.220Z"
   },
   {
    "duration": 13,
    "start_time": "2022-02-08T09:06:41.236Z"
   },
   {
    "duration": 21,
    "start_time": "2022-02-08T09:06:41.252Z"
   },
   {
    "duration": 44,
    "start_time": "2022-02-08T09:06:41.275Z"
   },
   {
    "duration": 16,
    "start_time": "2022-02-08T09:06:41.321Z"
   },
   {
    "duration": 13,
    "start_time": "2022-02-08T09:06:41.340Z"
   },
   {
    "duration": 12,
    "start_time": "2022-02-08T09:06:41.355Z"
   },
   {
    "duration": 53,
    "start_time": "2022-02-08T09:06:41.370Z"
   },
   {
    "duration": 17,
    "start_time": "2022-02-08T09:06:41.426Z"
   },
   {
    "duration": 9,
    "start_time": "2022-02-08T09:06:41.445Z"
   },
   {
    "duration": 8,
    "start_time": "2022-02-08T09:06:41.456Z"
   },
   {
    "duration": 42,
    "start_time": "2022-02-08T09:06:41.466Z"
   },
   {
    "duration": 12,
    "start_time": "2022-02-08T09:06:41.510Z"
   },
   {
    "duration": 9,
    "start_time": "2022-02-08T09:06:41.525Z"
   },
   {
    "duration": 25,
    "start_time": "2022-02-08T09:06:41.536Z"
   },
   {
    "duration": 11,
    "start_time": "2022-02-08T09:06:41.563Z"
   },
   {
    "duration": 58,
    "start_time": "2022-02-08T09:06:41.576Z"
   },
   {
    "duration": 6,
    "start_time": "2022-02-08T09:06:41.636Z"
   },
   {
    "duration": 10,
    "start_time": "2022-02-08T09:06:41.644Z"
   },
   {
    "duration": 64,
    "start_time": "2022-02-08T09:06:41.655Z"
   },
   {
    "duration": 46,
    "start_time": "2022-02-08T09:06:41.721Z"
   },
   {
    "duration": 19,
    "start_time": "2022-02-08T09:06:41.770Z"
   },
   {
    "duration": 7,
    "start_time": "2022-02-08T09:06:41.808Z"
   },
   {
    "duration": 11,
    "start_time": "2022-02-08T09:06:41.816Z"
   },
   {
    "duration": 19,
    "start_time": "2022-02-08T09:06:41.829Z"
   },
   {
    "duration": 26,
    "start_time": "2022-02-08T09:06:41.850Z"
   },
   {
    "duration": 28,
    "start_time": "2022-02-08T09:06:41.878Z"
   },
   {
    "duration": 16,
    "start_time": "2022-02-08T09:06:41.908Z"
   },
   {
    "duration": 28,
    "start_time": "2022-02-08T09:06:41.926Z"
   },
   {
    "duration": 13,
    "start_time": "2022-02-08T09:06:41.956Z"
   },
   {
    "duration": 51,
    "start_time": "2022-02-08T09:06:41.971Z"
   },
   {
    "duration": 30,
    "start_time": "2022-02-08T09:06:42.025Z"
   },
   {
    "duration": 8,
    "start_time": "2022-02-08T09:06:42.057Z"
   },
   {
    "duration": 7,
    "start_time": "2022-02-08T09:06:42.067Z"
   },
   {
    "duration": 53,
    "start_time": "2022-02-08T09:06:42.076Z"
   },
   {
    "duration": 7,
    "start_time": "2022-02-08T09:06:42.131Z"
   },
   {
    "duration": 7,
    "start_time": "2022-02-08T09:06:42.140Z"
   },
   {
    "duration": 13,
    "start_time": "2022-02-08T09:06:42.149Z"
   },
   {
    "duration": 440,
    "start_time": "2022-02-08T09:06:42.164Z"
   },
   {
    "duration": 2247,
    "start_time": "2022-02-08T09:06:40.359Z"
   },
   {
    "duration": 2247,
    "start_time": "2022-02-08T09:06:40.360Z"
   },
   {
    "duration": 384,
    "start_time": "2022-02-08T09:08:40.227Z"
   },
   {
    "duration": 6,
    "start_time": "2022-02-08T09:08:59.957Z"
   },
   {
    "duration": 4,
    "start_time": "2022-02-08T09:09:06.510Z"
   },
   {
    "duration": 250,
    "start_time": "2022-02-08T09:09:17.331Z"
   },
   {
    "duration": 1509,
    "start_time": "2022-02-08T09:09:30.048Z"
   },
   {
    "duration": 316,
    "start_time": "2022-02-08T09:09:31.559Z"
   },
   {
    "duration": 17,
    "start_time": "2022-02-08T09:09:31.878Z"
   },
   {
    "duration": 28,
    "start_time": "2022-02-08T09:09:31.897Z"
   },
   {
    "duration": 18,
    "start_time": "2022-02-08T09:09:31.926Z"
   },
   {
    "duration": 39,
    "start_time": "2022-02-08T09:09:31.946Z"
   },
   {
    "duration": 25,
    "start_time": "2022-02-08T09:09:31.987Z"
   },
   {
    "duration": 23,
    "start_time": "2022-02-08T09:09:32.014Z"
   },
   {
    "duration": 16,
    "start_time": "2022-02-08T09:09:32.040Z"
   },
   {
    "duration": 50,
    "start_time": "2022-02-08T09:09:32.059Z"
   },
   {
    "duration": 26,
    "start_time": "2022-02-08T09:09:32.112Z"
   },
   {
    "duration": 38,
    "start_time": "2022-02-08T09:09:32.141Z"
   },
   {
    "duration": 30,
    "start_time": "2022-02-08T09:09:32.182Z"
   },
   {
    "duration": 19,
    "start_time": "2022-02-08T09:09:32.214Z"
   },
   {
    "duration": 38,
    "start_time": "2022-02-08T09:09:32.236Z"
   },
   {
    "duration": 36,
    "start_time": "2022-02-08T09:09:32.276Z"
   },
   {
    "duration": 17,
    "start_time": "2022-02-08T09:09:32.314Z"
   },
   {
    "duration": 43,
    "start_time": "2022-02-08T09:09:32.333Z"
   },
   {
    "duration": 26,
    "start_time": "2022-02-08T09:09:32.378Z"
   },
   {
    "duration": 11,
    "start_time": "2022-02-08T09:09:32.406Z"
   },
   {
    "duration": 20,
    "start_time": "2022-02-08T09:09:32.419Z"
   },
   {
    "duration": 21,
    "start_time": "2022-02-08T09:09:32.440Z"
   },
   {
    "duration": 11,
    "start_time": "2022-02-08T09:09:32.463Z"
   },
   {
    "duration": 14,
    "start_time": "2022-02-08T09:09:32.476Z"
   },
   {
    "duration": 20,
    "start_time": "2022-02-08T09:09:32.492Z"
   },
   {
    "duration": 17,
    "start_time": "2022-02-08T09:09:32.513Z"
   },
   {
    "duration": 17,
    "start_time": "2022-02-08T09:09:32.534Z"
   },
   {
    "duration": 26,
    "start_time": "2022-02-08T09:09:32.554Z"
   },
   {
    "duration": 27,
    "start_time": "2022-02-08T09:09:32.582Z"
   },
   {
    "duration": 34,
    "start_time": "2022-02-08T09:09:32.611Z"
   },
   {
    "duration": 7,
    "start_time": "2022-02-08T09:09:32.647Z"
   },
   {
    "duration": 10,
    "start_time": "2022-02-08T09:09:32.655Z"
   },
   {
    "duration": 61,
    "start_time": "2022-02-08T09:09:32.667Z"
   },
   {
    "duration": 48,
    "start_time": "2022-02-08T09:09:32.729Z"
   },
   {
    "duration": 40,
    "start_time": "2022-02-08T09:09:32.779Z"
   },
   {
    "duration": 7,
    "start_time": "2022-02-08T09:09:32.821Z"
   },
   {
    "duration": 7,
    "start_time": "2022-02-08T09:09:32.830Z"
   },
   {
    "duration": 17,
    "start_time": "2022-02-08T09:09:32.838Z"
   },
   {
    "duration": 28,
    "start_time": "2022-02-08T09:09:32.857Z"
   },
   {
    "duration": 6,
    "start_time": "2022-02-08T09:09:32.908Z"
   },
   {
    "duration": 16,
    "start_time": "2022-02-08T09:09:32.916Z"
   },
   {
    "duration": 27,
    "start_time": "2022-02-08T09:09:32.934Z"
   },
   {
    "duration": 13,
    "start_time": "2022-02-08T09:09:32.963Z"
   },
   {
    "duration": 49,
    "start_time": "2022-02-08T09:09:32.977Z"
   },
   {
    "duration": 31,
    "start_time": "2022-02-08T09:09:33.028Z"
   },
   {
    "duration": 10,
    "start_time": "2022-02-08T09:09:33.062Z"
   },
   {
    "duration": 6,
    "start_time": "2022-02-08T09:09:33.074Z"
   },
   {
    "duration": 38,
    "start_time": "2022-02-08T09:09:33.108Z"
   },
   {
    "duration": 7,
    "start_time": "2022-02-08T09:09:33.148Z"
   },
   {
    "duration": 7,
    "start_time": "2022-02-08T09:09:33.157Z"
   },
   {
    "duration": 388,
    "start_time": "2022-02-08T09:09:33.165Z"
   },
   {
    "duration": 3292,
    "start_time": "2022-02-08T09:09:30.263Z"
   },
   {
    "duration": 3291,
    "start_time": "2022-02-08T09:09:30.265Z"
   },
   {
    "duration": 3291,
    "start_time": "2022-02-08T09:09:30.266Z"
   },
   {
    "duration": 5,
    "start_time": "2022-02-08T09:09:38.278Z"
   },
   {
    "duration": 26,
    "start_time": "2022-02-08T09:09:54.799Z"
   },
   {
    "duration": 6,
    "start_time": "2022-02-08T09:10:05.425Z"
   },
   {
    "duration": 34,
    "start_time": "2022-02-08T09:10:06.618Z"
   },
   {
    "duration": 25,
    "start_time": "2022-02-08T09:10:58.182Z"
   },
   {
    "duration": 6,
    "start_time": "2022-02-08T09:11:06.391Z"
   },
   {
    "duration": 25,
    "start_time": "2022-02-08T09:11:08.612Z"
   },
   {
    "duration": 1520,
    "start_time": "2022-02-08T09:11:25.440Z"
   },
   {
    "duration": 308,
    "start_time": "2022-02-08T09:11:26.962Z"
   },
   {
    "duration": 16,
    "start_time": "2022-02-08T09:11:27.273Z"
   },
   {
    "duration": 28,
    "start_time": "2022-02-08T09:11:27.291Z"
   },
   {
    "duration": 18,
    "start_time": "2022-02-08T09:11:27.321Z"
   },
   {
    "duration": 21,
    "start_time": "2022-02-08T09:11:27.341Z"
   },
   {
    "duration": 43,
    "start_time": "2022-02-08T09:11:27.364Z"
   },
   {
    "duration": 23,
    "start_time": "2022-02-08T09:11:27.410Z"
   },
   {
    "duration": 12,
    "start_time": "2022-02-08T09:11:27.435Z"
   },
   {
    "duration": 25,
    "start_time": "2022-02-08T09:11:27.449Z"
   },
   {
    "duration": 39,
    "start_time": "2022-02-08T09:11:27.476Z"
   },
   {
    "duration": 18,
    "start_time": "2022-02-08T09:11:27.517Z"
   },
   {
    "duration": 16,
    "start_time": "2022-02-08T09:11:27.537Z"
   },
   {
    "duration": 14,
    "start_time": "2022-02-08T09:11:27.555Z"
   },
   {
    "duration": 12,
    "start_time": "2022-02-08T09:11:27.608Z"
   },
   {
    "duration": 15,
    "start_time": "2022-02-08T09:11:27.623Z"
   },
   {
    "duration": 12,
    "start_time": "2022-02-08T09:11:27.641Z"
   },
   {
    "duration": 26,
    "start_time": "2022-02-08T09:11:27.655Z"
   },
   {
    "duration": 33,
    "start_time": "2022-02-08T09:11:27.683Z"
   },
   {
    "duration": 10,
    "start_time": "2022-02-08T09:11:27.718Z"
   },
   {
    "duration": 15,
    "start_time": "2022-02-08T09:11:27.731Z"
   },
   {
    "duration": 18,
    "start_time": "2022-02-08T09:11:27.748Z"
   },
   {
    "duration": 42,
    "start_time": "2022-02-08T09:11:27.770Z"
   },
   {
    "duration": 5,
    "start_time": "2022-02-08T09:11:27.814Z"
   },
   {
    "duration": 7,
    "start_time": "2022-02-08T09:11:27.821Z"
   },
   {
    "duration": 10,
    "start_time": "2022-02-08T09:11:27.829Z"
   },
   {
    "duration": 12,
    "start_time": "2022-02-08T09:11:27.841Z"
   },
   {
    "duration": 19,
    "start_time": "2022-02-08T09:11:27.856Z"
   },
   {
    "duration": 39,
    "start_time": "2022-02-08T09:11:27.877Z"
   },
   {
    "duration": 36,
    "start_time": "2022-02-08T09:11:27.918Z"
   },
   {
    "duration": 7,
    "start_time": "2022-02-08T09:11:27.956Z"
   },
   {
    "duration": 11,
    "start_time": "2022-02-08T09:11:27.964Z"
   },
   {
    "duration": 60,
    "start_time": "2022-02-08T09:11:27.977Z"
   },
   {
    "duration": 49,
    "start_time": "2022-02-08T09:11:28.039Z"
   },
   {
    "duration": 35,
    "start_time": "2022-02-08T09:11:28.090Z"
   },
   {
    "duration": 6,
    "start_time": "2022-02-08T09:11:28.127Z"
   },
   {
    "duration": 8,
    "start_time": "2022-02-08T09:11:28.135Z"
   },
   {
    "duration": 16,
    "start_time": "2022-02-08T09:11:28.146Z"
   },
   {
    "duration": 53,
    "start_time": "2022-02-08T09:11:28.163Z"
   },
   {
    "duration": 5,
    "start_time": "2022-02-08T09:11:28.218Z"
   },
   {
    "duration": 18,
    "start_time": "2022-02-08T09:11:28.225Z"
   },
   {
    "duration": 22,
    "start_time": "2022-02-08T09:11:28.245Z"
   },
   {
    "duration": 12,
    "start_time": "2022-02-08T09:11:28.268Z"
   },
   {
    "duration": 49,
    "start_time": "2022-02-08T09:11:28.281Z"
   },
   {
    "duration": 32,
    "start_time": "2022-02-08T09:11:28.332Z"
   },
   {
    "duration": 7,
    "start_time": "2022-02-08T09:11:28.366Z"
   },
   {
    "duration": 33,
    "start_time": "2022-02-08T09:11:28.375Z"
   },
   {
    "duration": 31,
    "start_time": "2022-02-08T09:11:28.410Z"
   },
   {
    "duration": 8,
    "start_time": "2022-02-08T09:11:28.443Z"
   },
   {
    "duration": 7,
    "start_time": "2022-02-08T09:11:28.453Z"
   },
   {
    "duration": 48,
    "start_time": "2022-02-08T09:11:28.462Z"
   },
   {
    "duration": 3,
    "start_time": "2022-02-08T09:11:28.512Z"
   },
   {
    "duration": 6,
    "start_time": "2022-02-08T09:11:28.517Z"
   },
   {
    "duration": 9,
    "start_time": "2022-02-08T09:11:28.525Z"
   },
   {
    "duration": 426,
    "start_time": "2022-02-08T09:12:13.617Z"
   },
   {
    "duration": 252,
    "start_time": "2022-02-08T09:12:40.943Z"
   },
   {
    "duration": 310,
    "start_time": "2022-02-08T09:12:49.649Z"
   },
   {
    "duration": 123,
    "start_time": "2022-02-08T09:13:02.111Z"
   },
   {
    "duration": 7,
    "start_time": "2022-02-08T09:18:00.258Z"
   },
   {
    "duration": 27,
    "start_time": "2022-02-08T09:18:05.730Z"
   },
   {
    "duration": 639,
    "start_time": "2022-02-08T09:19:19.836Z"
   },
   {
    "duration": 872,
    "start_time": "2022-02-08T09:20:15.906Z"
   },
   {
    "duration": 839,
    "start_time": "2022-02-08T09:20:49.478Z"
   },
   {
    "duration": 346,
    "start_time": "2022-02-08T09:21:02.885Z"
   },
   {
    "duration": 615,
    "start_time": "2022-02-08T09:21:25.376Z"
   },
   {
    "duration": 721,
    "start_time": "2022-02-08T09:22:08.921Z"
   },
   {
    "duration": 650,
    "start_time": "2022-02-08T09:22:21.178Z"
   },
   {
    "duration": 3,
    "start_time": "2022-02-08T09:40:17.006Z"
   },
   {
    "duration": 5,
    "start_time": "2022-02-08T09:44:10.573Z"
   },
   {
    "duration": 6951,
    "start_time": "2022-02-08T09:47:08.264Z"
   },
   {
    "duration": 6916,
    "start_time": "2022-02-08T09:50:55.732Z"
   },
   {
    "duration": 4,
    "start_time": "2022-02-08T10:00:59.279Z"
   },
   {
    "duration": 7996,
    "start_time": "2022-02-08T10:01:02.502Z"
   },
   {
    "duration": 10,
    "start_time": "2022-02-08T10:01:32.587Z"
   },
   {
    "duration": 6,
    "start_time": "2022-02-08T10:01:33.675Z"
   },
   {
    "duration": 6,
    "start_time": "2022-02-08T10:01:49.471Z"
   },
   {
    "duration": 7398,
    "start_time": "2022-02-08T10:01:51.229Z"
   },
   {
    "duration": 1570,
    "start_time": "2022-02-08T10:02:14.713Z"
   },
   {
    "duration": 393,
    "start_time": "2022-02-08T10:02:16.285Z"
   },
   {
    "duration": 18,
    "start_time": "2022-02-08T10:02:16.680Z"
   },
   {
    "duration": 31,
    "start_time": "2022-02-08T10:02:16.701Z"
   },
   {
    "duration": 18,
    "start_time": "2022-02-08T10:02:16.734Z"
   },
   {
    "duration": 31,
    "start_time": "2022-02-08T10:02:16.753Z"
   },
   {
    "duration": 36,
    "start_time": "2022-02-08T10:02:16.786Z"
   },
   {
    "duration": 21,
    "start_time": "2022-02-08T10:02:16.826Z"
   },
   {
    "duration": 36,
    "start_time": "2022-02-08T10:02:16.850Z"
   },
   {
    "duration": 37,
    "start_time": "2022-02-08T10:02:16.889Z"
   },
   {
    "duration": 16,
    "start_time": "2022-02-08T10:02:16.928Z"
   },
   {
    "duration": 28,
    "start_time": "2022-02-08T10:02:16.946Z"
   },
   {
    "duration": 28,
    "start_time": "2022-02-08T10:02:16.976Z"
   },
   {
    "duration": 19,
    "start_time": "2022-02-08T10:02:17.006Z"
   },
   {
    "duration": 14,
    "start_time": "2022-02-08T10:02:17.028Z"
   },
   {
    "duration": 15,
    "start_time": "2022-02-08T10:02:17.044Z"
   },
   {
    "duration": 54,
    "start_time": "2022-02-08T10:02:17.061Z"
   },
   {
    "duration": 20,
    "start_time": "2022-02-08T10:02:17.118Z"
   },
   {
    "duration": 15,
    "start_time": "2022-02-08T10:02:17.141Z"
   },
   {
    "duration": 17,
    "start_time": "2022-02-08T10:02:17.158Z"
   },
   {
    "duration": 34,
    "start_time": "2022-02-08T10:02:17.177Z"
   },
   {
    "duration": 23,
    "start_time": "2022-02-08T10:02:17.213Z"
   },
   {
    "duration": 7,
    "start_time": "2022-02-08T10:02:17.241Z"
   },
   {
    "duration": 17,
    "start_time": "2022-02-08T10:02:17.251Z"
   },
   {
    "duration": 9,
    "start_time": "2022-02-08T10:02:17.271Z"
   },
   {
    "duration": 24,
    "start_time": "2022-02-08T10:02:17.283Z"
   },
   {
    "duration": 9,
    "start_time": "2022-02-08T10:02:17.310Z"
   },
   {
    "duration": 27,
    "start_time": "2022-02-08T10:02:17.322Z"
   },
   {
    "duration": 20,
    "start_time": "2022-02-08T10:02:17.351Z"
   },
   {
    "duration": 43,
    "start_time": "2022-02-08T10:02:17.373Z"
   },
   {
    "duration": 8,
    "start_time": "2022-02-08T10:02:17.418Z"
   },
   {
    "duration": 8,
    "start_time": "2022-02-08T10:02:17.429Z"
   },
   {
    "duration": 45,
    "start_time": "2022-02-08T10:02:17.439Z"
   },
   {
    "duration": 51,
    "start_time": "2022-02-08T10:02:17.506Z"
   },
   {
    "duration": 19,
    "start_time": "2022-02-08T10:02:17.559Z"
   },
   {
    "duration": 29,
    "start_time": "2022-02-08T10:02:17.580Z"
   },
   {
    "duration": 4,
    "start_time": "2022-02-08T10:02:17.611Z"
   },
   {
    "duration": 19,
    "start_time": "2022-02-08T10:02:17.617Z"
   },
   {
    "duration": 29,
    "start_time": "2022-02-08T10:02:17.638Z"
   },
   {
    "duration": 6,
    "start_time": "2022-02-08T10:02:17.669Z"
   },
   {
    "duration": 14,
    "start_time": "2022-02-08T10:02:17.708Z"
   },
   {
    "duration": 23,
    "start_time": "2022-02-08T10:02:17.724Z"
   },
   {
    "duration": 12,
    "start_time": "2022-02-08T10:02:17.749Z"
   },
   {
    "duration": 47,
    "start_time": "2022-02-08T10:02:17.764Z"
   },
   {
    "duration": 32,
    "start_time": "2022-02-08T10:02:17.813Z"
   },
   {
    "duration": 8,
    "start_time": "2022-02-08T10:02:17.847Z"
   },
   {
    "duration": 10,
    "start_time": "2022-02-08T10:02:17.858Z"
   },
   {
    "duration": 54,
    "start_time": "2022-02-08T10:02:17.870Z"
   },
   {
    "duration": 26,
    "start_time": "2022-02-08T10:02:17.926Z"
   },
   {
    "duration": 8,
    "start_time": "2022-02-08T10:02:17.954Z"
   },
   {
    "duration": 26,
    "start_time": "2022-02-08T10:02:17.965Z"
   },
   {
    "duration": 133,
    "start_time": "2022-02-08T10:02:17.993Z"
   },
   {
    "duration": 5,
    "start_time": "2022-02-08T10:02:18.129Z"
   },
   {
    "duration": 791,
    "start_time": "2022-02-08T10:02:18.136Z"
   },
   {
    "duration": 3,
    "start_time": "2022-02-08T10:02:18.928Z"
   },
   {
    "duration": 10,
    "start_time": "2022-02-08T10:02:18.933Z"
   },
   {
    "duration": 22,
    "start_time": "2022-02-08T10:02:18.945Z"
   },
   {
    "duration": 113,
    "start_time": "2022-02-08T10:03:03.153Z"
   },
   {
    "duration": 83,
    "start_time": "2022-02-08T10:03:27.666Z"
   },
   {
    "duration": 5,
    "start_time": "2022-02-08T10:04:40.845Z"
   },
   {
    "duration": 5,
    "start_time": "2022-02-08T10:04:55.017Z"
   },
   {
    "duration": 5,
    "start_time": "2022-02-08T10:05:52.787Z"
   },
   {
    "duration": 1090,
    "start_time": "2022-02-08T10:05:54.633Z"
   },
   {
    "duration": 212,
    "start_time": "2022-02-08T10:21:31.028Z"
   },
   {
    "duration": 201,
    "start_time": "2022-02-08T10:21:31.666Z"
   },
   {
    "duration": 196,
    "start_time": "2022-02-08T10:21:34.239Z"
   },
   {
    "duration": 194,
    "start_time": "2022-02-08T10:21:35.465Z"
   },
   {
    "duration": 399,
    "start_time": "2022-02-08T12:15:41.593Z"
   },
   {
    "duration": 250,
    "start_time": "2022-02-08T12:17:27.023Z"
   },
   {
    "duration": 237,
    "start_time": "2022-02-08T12:44:55.253Z"
   },
   {
    "duration": 882,
    "start_time": "2022-02-08T13:17:57.118Z"
   },
   {
    "duration": 1059,
    "start_time": "2022-02-08T13:21:02.015Z"
   },
   {
    "duration": 856,
    "start_time": "2022-02-08T13:21:28.565Z"
   },
   {
    "duration": 696,
    "start_time": "2022-02-08T13:47:07.968Z"
   },
   {
    "duration": 915,
    "start_time": "2022-02-08T13:48:23.006Z"
   },
   {
    "duration": 1005,
    "start_time": "2022-02-08T13:48:51.180Z"
   },
   {
    "duration": 1939,
    "start_time": "2022-02-08T19:07:23.133Z"
   },
   {
    "duration": 342,
    "start_time": "2022-02-08T19:07:25.075Z"
   },
   {
    "duration": 29,
    "start_time": "2022-02-08T19:07:25.420Z"
   },
   {
    "duration": 42,
    "start_time": "2022-02-08T19:07:25.452Z"
   },
   {
    "duration": 24,
    "start_time": "2022-02-08T19:07:25.497Z"
   },
   {
    "duration": 47,
    "start_time": "2022-02-08T19:07:25.524Z"
   },
   {
    "duration": 26,
    "start_time": "2022-02-08T19:07:25.573Z"
   },
   {
    "duration": 64,
    "start_time": "2022-02-08T19:07:25.602Z"
   },
   {
    "duration": 18,
    "start_time": "2022-02-08T19:07:25.670Z"
   },
   {
    "duration": 29,
    "start_time": "2022-02-08T19:07:25.693Z"
   },
   {
    "duration": 41,
    "start_time": "2022-02-08T19:07:25.724Z"
   },
   {
    "duration": 22,
    "start_time": "2022-02-08T19:07:25.768Z"
   },
   {
    "duration": 18,
    "start_time": "2022-02-08T19:07:25.792Z"
   },
   {
    "duration": 16,
    "start_time": "2022-02-08T19:07:25.848Z"
   },
   {
    "duration": 17,
    "start_time": "2022-02-08T19:07:25.866Z"
   },
   {
    "duration": 19,
    "start_time": "2022-02-08T19:07:25.886Z"
   },
   {
    "duration": 52,
    "start_time": "2022-02-08T19:07:25.908Z"
   },
   {
    "duration": 20,
    "start_time": "2022-02-08T19:07:25.963Z"
   },
   {
    "duration": 16,
    "start_time": "2022-02-08T19:07:25.985Z"
   },
   {
    "duration": 47,
    "start_time": "2022-02-08T19:07:26.003Z"
   },
   {
    "duration": 23,
    "start_time": "2022-02-08T19:07:26.052Z"
   },
   {
    "duration": 26,
    "start_time": "2022-02-08T19:07:26.078Z"
   },
   {
    "duration": 9,
    "start_time": "2022-02-08T19:07:26.106Z"
   },
   {
    "duration": 5,
    "start_time": "2022-02-08T19:07:26.149Z"
   },
   {
    "duration": 7,
    "start_time": "2022-02-08T19:07:26.157Z"
   },
   {
    "duration": 12,
    "start_time": "2022-02-08T19:07:26.167Z"
   },
   {
    "duration": 11,
    "start_time": "2022-02-08T19:07:26.185Z"
   },
   {
    "duration": 59,
    "start_time": "2022-02-08T19:07:26.199Z"
   },
   {
    "duration": 12,
    "start_time": "2022-02-08T19:07:26.261Z"
   },
   {
    "duration": 48,
    "start_time": "2022-02-08T19:07:26.276Z"
   },
   {
    "duration": 12,
    "start_time": "2022-02-08T19:07:26.347Z"
   },
   {
    "duration": 14,
    "start_time": "2022-02-08T19:07:26.361Z"
   },
   {
    "duration": 82,
    "start_time": "2022-02-08T19:07:26.378Z"
   },
   {
    "duration": 56,
    "start_time": "2022-02-08T19:07:26.462Z"
   },
   {
    "duration": 47,
    "start_time": "2022-02-08T19:07:26.521Z"
   },
   {
    "duration": 8,
    "start_time": "2022-02-08T19:07:26.571Z"
   },
   {
    "duration": 8,
    "start_time": "2022-02-08T19:07:26.581Z"
   },
   {
    "duration": 24,
    "start_time": "2022-02-08T19:07:26.591Z"
   },
   {
    "duration": 35,
    "start_time": "2022-02-08T19:07:26.649Z"
   },
   {
    "duration": 8,
    "start_time": "2022-02-08T19:07:26.686Z"
   },
   {
    "duration": 19,
    "start_time": "2022-02-08T19:07:26.696Z"
   },
   {
    "duration": 30,
    "start_time": "2022-02-08T19:07:26.748Z"
   },
   {
    "duration": 16,
    "start_time": "2022-02-08T19:07:26.780Z"
   },
   {
    "duration": 67,
    "start_time": "2022-02-08T19:07:26.799Z"
   },
   {
    "duration": 45,
    "start_time": "2022-02-08T19:07:26.869Z"
   },
   {
    "duration": 31,
    "start_time": "2022-02-08T19:07:26.917Z"
   },
   {
    "duration": 5,
    "start_time": "2022-02-08T19:07:26.951Z"
   },
   {
    "duration": 54,
    "start_time": "2022-02-08T19:07:26.958Z"
   },
   {
    "duration": 62,
    "start_time": "2022-02-08T19:07:27.014Z"
   },
   {
    "duration": 9,
    "start_time": "2022-02-08T19:07:27.078Z"
   },
   {
    "duration": 13,
    "start_time": "2022-02-08T19:07:27.090Z"
   },
   {
    "duration": 198,
    "start_time": "2022-02-08T19:07:27.114Z"
   },
   {
    "duration": 6,
    "start_time": "2022-02-08T19:07:27.314Z"
   },
   {
    "duration": 1201,
    "start_time": "2022-02-08T19:07:27.322Z"
   },
   {
    "duration": 300,
    "start_time": "2022-02-08T19:07:28.526Z"
   },
   {
    "duration": 307,
    "start_time": "2022-02-08T19:07:28.829Z"
   },
   {
    "duration": 396,
    "start_time": "2022-02-08T19:07:29.139Z"
   },
   {
    "duration": 306,
    "start_time": "2022-02-08T19:07:29.537Z"
   },
   {
    "duration": 1351,
    "start_time": "2022-02-08T19:07:29.846Z"
   },
   {
    "duration": 1521,
    "start_time": "2022-02-08T19:07:31.199Z"
   },
   {
    "duration": 1940,
    "start_time": "2022-02-08T19:08:20.936Z"
   },
   {
    "duration": 361,
    "start_time": "2022-02-08T19:08:22.878Z"
   },
   {
    "duration": 21,
    "start_time": "2022-02-08T19:08:23.243Z"
   },
   {
    "duration": 32,
    "start_time": "2022-02-08T19:08:23.266Z"
   },
   {
    "duration": 21,
    "start_time": "2022-02-08T19:08:23.301Z"
   },
   {
    "duration": 27,
    "start_time": "2022-02-08T19:08:23.348Z"
   },
   {
    "duration": 21,
    "start_time": "2022-02-08T19:08:23.378Z"
   },
   {
    "duration": 56,
    "start_time": "2022-02-08T19:08:23.402Z"
   },
   {
    "duration": 16,
    "start_time": "2022-02-08T19:08:23.463Z"
   },
   {
    "duration": 27,
    "start_time": "2022-02-08T19:08:23.482Z"
   },
   {
    "duration": 45,
    "start_time": "2022-02-08T19:08:23.512Z"
   },
   {
    "duration": 21,
    "start_time": "2022-02-08T19:08:23.560Z"
   },
   {
    "duration": 19,
    "start_time": "2022-02-08T19:08:23.583Z"
   },
   {
    "duration": 48,
    "start_time": "2022-02-08T19:08:23.604Z"
   },
   {
    "duration": 15,
    "start_time": "2022-02-08T19:08:23.655Z"
   },
   {
    "duration": 22,
    "start_time": "2022-02-08T19:08:23.672Z"
   },
   {
    "duration": 13,
    "start_time": "2022-02-08T19:08:23.696Z"
   },
   {
    "duration": 58,
    "start_time": "2022-02-08T19:08:23.712Z"
   },
   {
    "duration": 14,
    "start_time": "2022-02-08T19:08:23.772Z"
   },
   {
    "duration": 13,
    "start_time": "2022-02-08T19:08:23.788Z"
   },
   {
    "duration": 47,
    "start_time": "2022-02-08T19:08:23.803Z"
   },
   {
    "duration": 21,
    "start_time": "2022-02-08T19:08:23.852Z"
   },
   {
    "duration": 9,
    "start_time": "2022-02-08T19:08:23.875Z"
   },
   {
    "duration": 7,
    "start_time": "2022-02-08T19:08:23.886Z"
   },
   {
    "duration": 9,
    "start_time": "2022-02-08T19:08:23.896Z"
   },
   {
    "duration": 44,
    "start_time": "2022-02-08T19:08:23.908Z"
   },
   {
    "duration": 10,
    "start_time": "2022-02-08T19:08:23.958Z"
   },
   {
    "duration": 25,
    "start_time": "2022-02-08T19:08:23.971Z"
   },
   {
    "duration": 11,
    "start_time": "2022-02-08T19:08:23.999Z"
   },
   {
    "duration": 78,
    "start_time": "2022-02-08T19:08:24.012Z"
   },
   {
    "duration": 8,
    "start_time": "2022-02-08T19:08:24.093Z"
   },
   {
    "duration": 11,
    "start_time": "2022-02-08T19:08:24.103Z"
   },
   {
    "duration": 51,
    "start_time": "2022-02-08T19:08:24.149Z"
   },
   {
    "duration": 77,
    "start_time": "2022-02-08T19:08:24.202Z"
   },
   {
    "duration": 23,
    "start_time": "2022-02-08T19:08:24.281Z"
   },
   {
    "duration": 8,
    "start_time": "2022-02-08T19:08:24.306Z"
   },
   {
    "duration": 33,
    "start_time": "2022-02-08T19:08:24.316Z"
   },
   {
    "duration": 19,
    "start_time": "2022-02-08T19:08:24.351Z"
   },
   {
    "duration": 35,
    "start_time": "2022-02-08T19:08:24.373Z"
   },
   {
    "duration": 40,
    "start_time": "2022-02-08T19:08:24.410Z"
   },
   {
    "duration": 21,
    "start_time": "2022-02-08T19:08:24.453Z"
   },
   {
    "duration": 32,
    "start_time": "2022-02-08T19:08:24.477Z"
   },
   {
    "duration": 46,
    "start_time": "2022-02-08T19:08:24.511Z"
   },
   {
    "duration": 42,
    "start_time": "2022-02-08T19:08:24.560Z"
   },
   {
    "duration": 61,
    "start_time": "2022-02-08T19:08:24.604Z"
   },
   {
    "duration": 11,
    "start_time": "2022-02-08T19:08:24.668Z"
   },
   {
    "duration": 4,
    "start_time": "2022-02-08T19:08:24.682Z"
   },
   {
    "duration": 65,
    "start_time": "2022-02-08T19:08:24.688Z"
   },
   {
    "duration": 36,
    "start_time": "2022-02-08T19:08:24.755Z"
   },
   {
    "duration": 9,
    "start_time": "2022-02-08T19:08:24.794Z"
   },
   {
    "duration": 9,
    "start_time": "2022-02-08T19:08:24.805Z"
   },
   {
    "duration": 171,
    "start_time": "2022-02-08T19:08:24.849Z"
   },
   {
    "duration": 5,
    "start_time": "2022-02-08T19:08:25.023Z"
   },
   {
    "duration": 1195,
    "start_time": "2022-02-08T19:08:25.030Z"
   },
   {
    "duration": 312,
    "start_time": "2022-02-08T19:08:26.228Z"
   },
   {
    "duration": 306,
    "start_time": "2022-02-08T19:08:26.547Z"
   },
   {
    "duration": 398,
    "start_time": "2022-02-08T19:08:26.856Z"
   },
   {
    "duration": 315,
    "start_time": "2022-02-08T19:08:27.257Z"
   },
   {
    "duration": 1300,
    "start_time": "2022-02-08T19:08:27.575Z"
   },
   {
    "duration": 1258,
    "start_time": "2022-02-08T19:08:28.878Z"
   },
   {
    "duration": 465,
    "start_time": "2022-02-08T19:08:30.148Z"
   },
   {
    "duration": -83,
    "start_time": "2022-02-08T19:08:30.699Z"
   },
   {
    "duration": -87,
    "start_time": "2022-02-08T19:08:30.705Z"
   },
   {
    "duration": -86,
    "start_time": "2022-02-08T19:08:30.706Z"
   },
   {
    "duration": -86,
    "start_time": "2022-02-08T19:08:30.707Z"
   },
   {
    "duration": -85,
    "start_time": "2022-02-08T19:08:30.708Z"
   },
   {
    "duration": 5,
    "start_time": "2022-02-08T19:16:57.441Z"
   },
   {
    "duration": 350,
    "start_time": "2022-02-08T19:16:58.707Z"
   },
   {
    "duration": 2315,
    "start_time": "2022-02-08T19:17:05.836Z"
   },
   {
    "duration": 370,
    "start_time": "2022-02-08T19:17:08.154Z"
   },
   {
    "duration": 31,
    "start_time": "2022-02-08T19:17:08.526Z"
   },
   {
    "duration": 43,
    "start_time": "2022-02-08T19:17:08.560Z"
   },
   {
    "duration": 21,
    "start_time": "2022-02-08T19:17:08.606Z"
   },
   {
    "duration": 49,
    "start_time": "2022-02-08T19:17:08.630Z"
   },
   {
    "duration": 23,
    "start_time": "2022-02-08T19:17:08.682Z"
   },
   {
    "duration": 52,
    "start_time": "2022-02-08T19:17:08.708Z"
   },
   {
    "duration": 21,
    "start_time": "2022-02-08T19:17:08.765Z"
   },
   {
    "duration": 31,
    "start_time": "2022-02-08T19:17:08.789Z"
   },
   {
    "duration": 54,
    "start_time": "2022-02-08T19:17:08.822Z"
   },
   {
    "duration": 25,
    "start_time": "2022-02-08T19:17:08.879Z"
   },
   {
    "duration": 18,
    "start_time": "2022-02-08T19:17:08.906Z"
   },
   {
    "duration": 41,
    "start_time": "2022-02-08T19:17:08.926Z"
   },
   {
    "duration": 17,
    "start_time": "2022-02-08T19:17:08.970Z"
   },
   {
    "duration": 19,
    "start_time": "2022-02-08T19:17:08.990Z"
   },
   {
    "duration": 60,
    "start_time": "2022-02-08T19:17:09.012Z"
   },
   {
    "duration": 27,
    "start_time": "2022-02-08T19:17:09.075Z"
   },
   {
    "duration": 58,
    "start_time": "2022-02-08T19:17:09.105Z"
   },
   {
    "duration": 13,
    "start_time": "2022-02-08T19:17:09.166Z"
   },
   {
    "duration": 40,
    "start_time": "2022-02-08T19:17:09.182Z"
   },
   {
    "duration": 37,
    "start_time": "2022-02-08T19:17:09.225Z"
   },
   {
    "duration": 14,
    "start_time": "2022-02-08T19:17:09.275Z"
   },
   {
    "duration": 9,
    "start_time": "2022-02-08T19:17:09.294Z"
   },
   {
    "duration": 4,
    "start_time": "2022-02-08T19:17:09.306Z"
   },
   {
    "duration": 47,
    "start_time": "2022-02-08T19:17:09.313Z"
   },
   {
    "duration": 17,
    "start_time": "2022-02-08T19:17:09.362Z"
   },
   {
    "duration": 29,
    "start_time": "2022-02-08T19:17:09.381Z"
   },
   {
    "duration": 37,
    "start_time": "2022-02-08T19:17:09.413Z"
   },
   {
    "duration": 49,
    "start_time": "2022-02-08T19:17:09.452Z"
   },
   {
    "duration": 10,
    "start_time": "2022-02-08T19:17:09.504Z"
   },
   {
    "duration": 38,
    "start_time": "2022-02-08T19:17:09.517Z"
   },
   {
    "duration": 57,
    "start_time": "2022-02-08T19:17:09.560Z"
   },
   {
    "duration": 77,
    "start_time": "2022-02-08T19:17:09.620Z"
   },
   {
    "duration": 50,
    "start_time": "2022-02-08T19:17:09.700Z"
   },
   {
    "duration": 13,
    "start_time": "2022-02-08T19:17:09.757Z"
   },
   {
    "duration": 8,
    "start_time": "2022-02-08T19:17:09.774Z"
   },
   {
    "duration": 28,
    "start_time": "2022-02-08T19:17:09.785Z"
   },
   {
    "duration": 67,
    "start_time": "2022-02-08T19:17:09.816Z"
   },
   {
    "duration": 8,
    "start_time": "2022-02-08T19:17:09.885Z"
   },
   {
    "duration": 32,
    "start_time": "2022-02-08T19:17:09.896Z"
   },
   {
    "duration": 37,
    "start_time": "2022-02-08T19:17:09.948Z"
   },
   {
    "duration": 18,
    "start_time": "2022-02-08T19:17:09.988Z"
   },
   {
    "duration": 63,
    "start_time": "2022-02-08T19:17:10.008Z"
   },
   {
    "duration": 46,
    "start_time": "2022-02-08T19:17:10.073Z"
   },
   {
    "duration": 37,
    "start_time": "2022-02-08T19:17:10.122Z"
   },
   {
    "duration": 10,
    "start_time": "2022-02-08T19:17:10.161Z"
   },
   {
    "duration": 54,
    "start_time": "2022-02-08T19:17:10.174Z"
   },
   {
    "duration": 57,
    "start_time": "2022-02-08T19:17:10.230Z"
   },
   {
    "duration": 8,
    "start_time": "2022-02-08T19:17:10.290Z"
   },
   {
    "duration": 8,
    "start_time": "2022-02-08T19:17:10.300Z"
   },
   {
    "duration": 214,
    "start_time": "2022-02-08T19:17:10.311Z"
   },
   {
    "duration": 5,
    "start_time": "2022-02-08T19:17:10.527Z"
   },
   {
    "duration": 1224,
    "start_time": "2022-02-08T19:17:10.549Z"
   },
   {
    "duration": 332,
    "start_time": "2022-02-08T19:17:11.776Z"
   },
   {
    "duration": 351,
    "start_time": "2022-02-08T19:17:12.110Z"
   },
   {
    "duration": 416,
    "start_time": "2022-02-08T19:17:12.464Z"
   },
   {
    "duration": 329,
    "start_time": "2022-02-08T19:17:12.883Z"
   },
   {
    "duration": 1350,
    "start_time": "2022-02-08T19:17:13.216Z"
   },
   {
    "duration": 1324,
    "start_time": "2022-02-08T19:17:14.569Z"
   },
   {
    "duration": 490,
    "start_time": "2022-02-08T19:17:15.895Z"
   },
   {
    "duration": -79,
    "start_time": "2022-02-08T19:17:16.467Z"
   },
   {
    "duration": -79,
    "start_time": "2022-02-08T19:17:16.469Z"
   },
   {
    "duration": -79,
    "start_time": "2022-02-08T19:17:16.470Z"
   },
   {
    "duration": -79,
    "start_time": "2022-02-08T19:17:16.471Z"
   },
   {
    "duration": -79,
    "start_time": "2022-02-08T19:17:16.472Z"
   },
   {
    "duration": 339,
    "start_time": "2022-02-08T19:17:56.289Z"
   },
   {
    "duration": 4,
    "start_time": "2022-02-08T19:18:15.563Z"
   },
   {
    "duration": 366,
    "start_time": "2022-02-08T19:18:18.669Z"
   },
   {
    "duration": 18,
    "start_time": "2022-02-08T19:18:20.322Z"
   },
   {
    "duration": 34,
    "start_time": "2022-02-08T19:18:20.605Z"
   },
   {
    "duration": 22,
    "start_time": "2022-02-08T19:18:21.077Z"
   },
   {
    "duration": 28,
    "start_time": "2022-02-08T19:18:21.292Z"
   },
   {
    "duration": 23,
    "start_time": "2022-02-08T19:18:21.489Z"
   },
   {
    "duration": 27,
    "start_time": "2022-02-08T19:18:21.662Z"
   },
   {
    "duration": 19,
    "start_time": "2022-02-08T19:18:22.166Z"
   },
   {
    "duration": 31,
    "start_time": "2022-02-08T19:18:22.194Z"
   },
   {
    "duration": 19,
    "start_time": "2022-02-08T19:18:22.229Z"
   },
   {
    "duration": 29,
    "start_time": "2022-02-08T19:18:22.257Z"
   },
   {
    "duration": 18,
    "start_time": "2022-02-08T19:18:22.289Z"
   },
   {
    "duration": 27,
    "start_time": "2022-02-08T19:18:22.321Z"
   },
   {
    "duration": 18,
    "start_time": "2022-02-08T19:18:22.356Z"
   },
   {
    "duration": 20,
    "start_time": "2022-02-08T19:18:22.377Z"
   },
   {
    "duration": 15,
    "start_time": "2022-02-08T19:18:22.408Z"
   },
   {
    "duration": 23,
    "start_time": "2022-02-08T19:18:22.449Z"
   },
   {
    "duration": 16,
    "start_time": "2022-02-08T19:18:22.475Z"
   },
   {
    "duration": 14,
    "start_time": "2022-02-08T19:18:22.495Z"
   },
   {
    "duration": 42,
    "start_time": "2022-02-08T19:18:22.525Z"
   },
   {
    "duration": 21,
    "start_time": "2022-02-08T19:18:22.570Z"
   },
   {
    "duration": 9,
    "start_time": "2022-02-08T19:18:22.594Z"
   },
   {
    "duration": 4,
    "start_time": "2022-02-08T19:18:22.617Z"
   },
   {
    "duration": 8,
    "start_time": "2022-02-08T19:18:22.648Z"
   },
   {
    "duration": 9,
    "start_time": "2022-02-08T19:18:22.687Z"
   },
   {
    "duration": 9,
    "start_time": "2022-02-08T19:18:22.711Z"
   },
   {
    "duration": 30,
    "start_time": "2022-02-08T19:18:22.742Z"
   },
   {
    "duration": 11,
    "start_time": "2022-02-08T19:18:22.780Z"
   },
   {
    "duration": 66,
    "start_time": "2022-02-08T19:18:22.800Z"
   },
   {
    "duration": 8,
    "start_time": "2022-02-08T19:18:22.869Z"
   },
   {
    "duration": 8,
    "start_time": "2022-02-08T19:18:22.889Z"
   },
   {
    "duration": 56,
    "start_time": "2022-02-08T19:18:22.920Z"
   },
   {
    "duration": 73,
    "start_time": "2022-02-08T19:18:22.978Z"
   },
   {
    "duration": 28,
    "start_time": "2022-02-08T19:18:23.054Z"
   },
   {
    "duration": 8,
    "start_time": "2022-02-08T19:18:23.084Z"
   },
   {
    "duration": 6,
    "start_time": "2022-02-08T19:18:23.095Z"
   },
   {
    "duration": 63,
    "start_time": "2022-02-08T19:18:23.104Z"
   },
   {
    "duration": 35,
    "start_time": "2022-02-08T19:18:23.169Z"
   },
   {
    "duration": 8,
    "start_time": "2022-02-08T19:18:23.238Z"
   },
   {
    "duration": 21,
    "start_time": "2022-02-08T19:18:23.748Z"
   },
   {
    "duration": 28,
    "start_time": "2022-02-08T19:18:23.775Z"
   },
   {
    "duration": 17,
    "start_time": "2022-02-08T19:18:23.807Z"
   },
   {
    "duration": 35,
    "start_time": "2022-02-08T19:18:23.850Z"
   },
   {
    "duration": 75,
    "start_time": "2022-02-08T19:18:23.888Z"
   },
   {
    "duration": 5,
    "start_time": "2022-02-08T19:18:23.965Z"
   },
   {
    "duration": 5,
    "start_time": "2022-02-08T19:18:23.973Z"
   },
   {
    "duration": 80,
    "start_time": "2022-02-08T19:18:23.981Z"
   },
   {
    "duration": 41,
    "start_time": "2022-02-08T19:18:24.065Z"
   },
   {
    "duration": 43,
    "start_time": "2022-02-08T19:18:24.110Z"
   },
   {
    "duration": 12,
    "start_time": "2022-02-08T19:18:24.156Z"
   },
   {
    "duration": 191,
    "start_time": "2022-02-08T19:18:24.171Z"
   },
   {
    "duration": 6,
    "start_time": "2022-02-08T19:18:24.366Z"
   },
   {
    "duration": 1338,
    "start_time": "2022-02-08T19:18:24.374Z"
   },
   {
    "duration": 307,
    "start_time": "2022-02-08T19:18:25.714Z"
   },
   {
    "duration": 310,
    "start_time": "2022-02-08T19:18:26.025Z"
   },
   {
    "duration": 304,
    "start_time": "2022-02-08T19:18:26.338Z"
   },
   {
    "duration": 318,
    "start_time": "2022-02-08T19:18:26.649Z"
   },
   {
    "duration": 1560,
    "start_time": "2022-02-08T19:18:26.970Z"
   },
   {
    "duration": 1543,
    "start_time": "2022-02-08T19:18:28.533Z"
   },
   {
    "duration": 312,
    "start_time": "2022-02-08T19:18:35.429Z"
   },
   {
    "duration": 5,
    "start_time": "2022-02-08T19:22:41.400Z"
   },
   {
    "duration": 1880,
    "start_time": "2022-02-08T19:22:49.196Z"
   },
   {
    "duration": 341,
    "start_time": "2022-02-08T19:22:51.079Z"
   },
   {
    "duration": 22,
    "start_time": "2022-02-08T19:22:51.423Z"
   },
   {
    "duration": 50,
    "start_time": "2022-02-08T19:22:51.448Z"
   },
   {
    "duration": 22,
    "start_time": "2022-02-08T19:22:51.500Z"
   },
   {
    "duration": 40,
    "start_time": "2022-02-08T19:22:51.525Z"
   },
   {
    "duration": 22,
    "start_time": "2022-02-08T19:22:51.567Z"
   },
   {
    "duration": 25,
    "start_time": "2022-02-08T19:22:51.591Z"
   },
   {
    "duration": 45,
    "start_time": "2022-02-08T19:22:51.620Z"
   },
   {
    "duration": 28,
    "start_time": "2022-02-08T19:22:51.668Z"
   },
   {
    "duration": 17,
    "start_time": "2022-02-08T19:22:51.699Z"
   },
   {
    "duration": 59,
    "start_time": "2022-02-08T19:22:51.718Z"
   },
   {
    "duration": 18,
    "start_time": "2022-02-08T19:22:51.779Z"
   },
   {
    "duration": 16,
    "start_time": "2022-02-08T19:22:51.799Z"
   },
   {
    "duration": 47,
    "start_time": "2022-02-08T19:22:51.817Z"
   },
   {
    "duration": 18,
    "start_time": "2022-02-08T19:22:51.867Z"
   },
   {
    "duration": 14,
    "start_time": "2022-02-08T19:22:51.888Z"
   },
   {
    "duration": 60,
    "start_time": "2022-02-08T19:22:51.904Z"
   },
   {
    "duration": 14,
    "start_time": "2022-02-08T19:22:51.966Z"
   },
   {
    "duration": 13,
    "start_time": "2022-02-08T19:22:51.983Z"
   },
   {
    "duration": 20,
    "start_time": "2022-02-08T19:22:51.998Z"
   },
   {
    "duration": 54,
    "start_time": "2022-02-08T19:22:52.020Z"
   },
   {
    "duration": 12,
    "start_time": "2022-02-08T19:22:52.076Z"
   },
   {
    "duration": 9,
    "start_time": "2022-02-08T19:22:52.091Z"
   },
   {
    "duration": 7,
    "start_time": "2022-02-08T19:22:52.102Z"
   },
   {
    "duration": 47,
    "start_time": "2022-02-08T19:22:52.111Z"
   },
   {
    "duration": 14,
    "start_time": "2022-02-08T19:22:52.168Z"
   },
   {
    "duration": 33,
    "start_time": "2022-02-08T19:22:52.185Z"
   },
   {
    "duration": 39,
    "start_time": "2022-02-08T19:22:52.220Z"
   },
   {
    "duration": 48,
    "start_time": "2022-02-08T19:22:52.262Z"
   },
   {
    "duration": 37,
    "start_time": "2022-02-08T19:22:52.313Z"
   },
   {
    "duration": 18,
    "start_time": "2022-02-08T19:22:52.352Z"
   },
   {
    "duration": 57,
    "start_time": "2022-02-08T19:22:52.372Z"
   },
   {
    "duration": 74,
    "start_time": "2022-02-08T19:22:52.431Z"
   },
   {
    "duration": 54,
    "start_time": "2022-02-08T19:22:52.507Z"
   },
   {
    "duration": 8,
    "start_time": "2022-02-08T19:22:52.563Z"
   },
   {
    "duration": 9,
    "start_time": "2022-02-08T19:22:52.574Z"
   },
   {
    "duration": 19,
    "start_time": "2022-02-08T19:22:52.585Z"
   },
   {
    "duration": 70,
    "start_time": "2022-02-08T19:22:52.607Z"
   },
   {
    "duration": 7,
    "start_time": "2022-02-08T19:22:52.680Z"
   },
   {
    "duration": 24,
    "start_time": "2022-02-08T19:22:52.689Z"
   },
   {
    "duration": 55,
    "start_time": "2022-02-08T19:22:52.715Z"
   },
   {
    "duration": 17,
    "start_time": "2022-02-08T19:22:52.772Z"
   },
   {
    "duration": 31,
    "start_time": "2022-02-08T19:22:52.791Z"
   },
   {
    "duration": 69,
    "start_time": "2022-02-08T19:22:52.824Z"
   },
   {
    "duration": 10,
    "start_time": "2022-02-08T19:22:52.896Z"
   },
   {
    "duration": 5,
    "start_time": "2022-02-08T19:22:52.909Z"
   },
   {
    "duration": 69,
    "start_time": "2022-02-08T19:22:52.916Z"
   },
   {
    "duration": 37,
    "start_time": "2022-02-08T19:22:52.987Z"
   },
   {
    "duration": 30,
    "start_time": "2022-02-08T19:22:53.027Z"
   },
   {
    "duration": 10,
    "start_time": "2022-02-08T19:22:53.061Z"
   },
   {
    "duration": 185,
    "start_time": "2022-02-08T19:22:53.074Z"
   },
   {
    "duration": 5,
    "start_time": "2022-02-08T19:22:53.261Z"
   },
   {
    "duration": 1209,
    "start_time": "2022-02-08T19:22:53.268Z"
   },
   {
    "duration": 304,
    "start_time": "2022-02-08T19:22:54.480Z"
   },
   {
    "duration": 325,
    "start_time": "2022-02-08T19:22:54.787Z"
   },
   {
    "duration": 400,
    "start_time": "2022-02-08T19:22:55.115Z"
   },
   {
    "duration": 314,
    "start_time": "2022-02-08T19:22:55.517Z"
   },
   {
    "duration": 1320,
    "start_time": "2022-02-08T19:22:55.833Z"
   },
   {
    "duration": 1599,
    "start_time": "2022-02-08T19:22:57.158Z"
   },
   {
    "duration": 8,
    "start_time": "2022-02-08T19:22:58.759Z"
   },
   {
    "duration": 10,
    "start_time": "2022-02-08T19:22:58.769Z"
   },
   {
    "duration": 7,
    "start_time": "2022-02-08T19:22:58.782Z"
   },
   {
    "duration": 14,
    "start_time": "2022-02-08T19:22:58.792Z"
   },
   {
    "duration": 48,
    "start_time": "2022-02-08T19:22:58.808Z"
   },
   {
    "duration": 478,
    "start_time": "2022-02-08T19:22:58.859Z"
   },
   {
    "duration": 6,
    "start_time": "2022-02-08T19:25:24.622Z"
   },
   {
    "duration": 7,
    "start_time": "2022-02-08T19:25:25.276Z"
   },
   {
    "duration": 8,
    "start_time": "2022-02-08T19:25:25.974Z"
   },
   {
    "duration": 345,
    "start_time": "2022-02-08T19:25:26.671Z"
   },
   {
    "duration": 277,
    "start_time": "2022-02-08T19:26:42.836Z"
   },
   {
    "duration": 10,
    "start_time": "2022-02-08T19:27:06.389Z"
   },
   {
    "duration": 10,
    "start_time": "2022-02-08T19:54:00.300Z"
   },
   {
    "duration": 10,
    "start_time": "2022-02-08T19:54:16.725Z"
   },
   {
    "duration": 10,
    "start_time": "2022-02-08T19:54:28.375Z"
   },
   {
    "duration": 9,
    "start_time": "2022-02-08T19:54:41.570Z"
   },
   {
    "duration": 10,
    "start_time": "2022-02-08T19:54:53.939Z"
   },
   {
    "duration": 10,
    "start_time": "2022-02-08T19:55:05.693Z"
   },
   {
    "duration": 9,
    "start_time": "2022-02-08T19:55:27.477Z"
   },
   {
    "duration": 8,
    "start_time": "2022-02-08T19:57:20.192Z"
   },
   {
    "duration": 9,
    "start_time": "2022-02-08T19:57:36.768Z"
   },
   {
    "duration": 9,
    "start_time": "2022-02-08T19:57:47.668Z"
   },
   {
    "duration": 44,
    "start_time": "2022-02-08T20:00:27.188Z"
   },
   {
    "duration": 100,
    "start_time": "2022-02-08T20:02:37.271Z"
   },
   {
    "duration": 92,
    "start_time": "2022-02-08T20:02:44.356Z"
   },
   {
    "duration": 10,
    "start_time": "2022-02-08T20:02:58.535Z"
   },
   {
    "duration": 10,
    "start_time": "2022-02-08T20:03:13.277Z"
   },
   {
    "duration": 9,
    "start_time": "2022-02-08T20:03:43.122Z"
   },
   {
    "duration": 9,
    "start_time": "2022-02-08T20:04:30.303Z"
   },
   {
    "duration": 205,
    "start_time": "2022-02-08T20:11:13.258Z"
   },
   {
    "duration": 331,
    "start_time": "2022-02-08T20:12:09.486Z"
   },
   {
    "duration": 333,
    "start_time": "2022-02-08T20:12:16.889Z"
   },
   {
    "duration": 577,
    "start_time": "2022-02-08T20:14:41.462Z"
   },
   {
    "duration": 586,
    "start_time": "2022-02-08T20:15:24.270Z"
   },
   {
    "duration": 2514,
    "start_time": "2022-02-08T20:15:44.059Z"
   },
   {
    "duration": 518,
    "start_time": "2022-02-08T20:15:46.577Z"
   },
   {
    "duration": 30,
    "start_time": "2022-02-08T20:15:47.099Z"
   },
   {
    "duration": 47,
    "start_time": "2022-02-08T20:15:47.132Z"
   },
   {
    "duration": 35,
    "start_time": "2022-02-08T20:15:47.182Z"
   },
   {
    "duration": 65,
    "start_time": "2022-02-08T20:15:47.220Z"
   },
   {
    "duration": 29,
    "start_time": "2022-02-08T20:15:47.289Z"
   },
   {
    "duration": 59,
    "start_time": "2022-02-08T20:15:47.324Z"
   },
   {
    "duration": 20,
    "start_time": "2022-02-08T20:15:47.385Z"
   },
   {
    "duration": 62,
    "start_time": "2022-02-08T20:15:47.407Z"
   },
   {
    "duration": 19,
    "start_time": "2022-02-08T20:15:47.472Z"
   },
   {
    "duration": 23,
    "start_time": "2022-02-08T20:15:47.494Z"
   },
   {
    "duration": 44,
    "start_time": "2022-02-08T20:15:47.520Z"
   },
   {
    "duration": 17,
    "start_time": "2022-02-08T20:15:47.566Z"
   },
   {
    "duration": 15,
    "start_time": "2022-02-08T20:15:47.585Z"
   },
   {
    "duration": 68,
    "start_time": "2022-02-08T20:15:47.603Z"
   },
   {
    "duration": 16,
    "start_time": "2022-02-08T20:15:47.674Z"
   },
   {
    "duration": 19,
    "start_time": "2022-02-08T20:15:47.693Z"
   },
   {
    "duration": 39,
    "start_time": "2022-02-08T20:15:47.715Z"
   },
   {
    "duration": 17,
    "start_time": "2022-02-08T20:15:47.757Z"
   },
   {
    "duration": 22,
    "start_time": "2022-02-08T20:15:47.776Z"
   },
   {
    "duration": 63,
    "start_time": "2022-02-08T20:15:47.801Z"
   },
   {
    "duration": 8,
    "start_time": "2022-02-08T20:15:47.871Z"
   },
   {
    "duration": 12,
    "start_time": "2022-02-08T20:15:47.884Z"
   },
   {
    "duration": 8,
    "start_time": "2022-02-08T20:15:47.899Z"
   },
   {
    "duration": 15,
    "start_time": "2022-02-08T20:15:47.910Z"
   },
   {
    "duration": 12,
    "start_time": "2022-02-08T20:15:47.957Z"
   },
   {
    "duration": 30,
    "start_time": "2022-02-08T20:15:47.972Z"
   },
   {
    "duration": 13,
    "start_time": "2022-02-08T20:15:48.005Z"
   },
   {
    "duration": 86,
    "start_time": "2022-02-08T20:15:48.021Z"
   },
   {
    "duration": 9,
    "start_time": "2022-02-08T20:15:48.110Z"
   },
   {
    "duration": 26,
    "start_time": "2022-02-08T20:15:48.122Z"
   },
   {
    "duration": 57,
    "start_time": "2022-02-08T20:15:48.157Z"
   },
   {
    "duration": 79,
    "start_time": "2022-02-08T20:15:48.216Z"
   },
   {
    "duration": 27,
    "start_time": "2022-02-08T20:15:48.298Z"
   },
   {
    "duration": 27,
    "start_time": "2022-02-08T20:15:48.328Z"
   },
   {
    "duration": 17,
    "start_time": "2022-02-08T20:15:48.357Z"
   },
   {
    "duration": 25,
    "start_time": "2022-02-08T20:15:48.376Z"
   },
   {
    "duration": 60,
    "start_time": "2022-02-08T20:15:48.404Z"
   },
   {
    "duration": 9,
    "start_time": "2022-02-08T20:15:48.467Z"
   },
   {
    "duration": 23,
    "start_time": "2022-02-08T20:15:48.479Z"
   },
   {
    "duration": 73,
    "start_time": "2022-02-08T20:15:48.505Z"
   },
   {
    "duration": 18,
    "start_time": "2022-02-08T20:15:48.581Z"
   },
   {
    "duration": 65,
    "start_time": "2022-02-08T20:15:48.602Z"
   },
   {
    "duration": 48,
    "start_time": "2022-02-08T20:15:48.670Z"
   },
   {
    "duration": 34,
    "start_time": "2022-02-08T20:15:48.722Z"
   },
   {
    "duration": 5,
    "start_time": "2022-02-08T20:15:48.767Z"
   },
   {
    "duration": 63,
    "start_time": "2022-02-08T20:15:48.774Z"
   },
   {
    "duration": 43,
    "start_time": "2022-02-08T20:15:48.839Z"
   },
   {
    "duration": 12,
    "start_time": "2022-02-08T20:15:48.885Z"
   },
   {
    "duration": 16,
    "start_time": "2022-02-08T20:15:48.900Z"
   },
   {
    "duration": 223,
    "start_time": "2022-02-08T20:15:48.918Z"
   },
   {
    "duration": 6,
    "start_time": "2022-02-08T20:15:49.143Z"
   },
   {
    "duration": 1261,
    "start_time": "2022-02-08T20:15:49.151Z"
   },
   {
    "duration": 361,
    "start_time": "2022-02-08T20:15:50.415Z"
   },
   {
    "duration": 417,
    "start_time": "2022-02-08T20:15:50.779Z"
   },
   {
    "duration": 416,
    "start_time": "2022-02-08T20:15:51.199Z"
   },
   {
    "duration": 333,
    "start_time": "2022-02-08T20:15:51.618Z"
   },
   {
    "duration": 1501,
    "start_time": "2022-02-08T20:15:51.954Z"
   },
   {
    "duration": 1469,
    "start_time": "2022-02-08T20:15:53.459Z"
   },
   {
    "duration": 22,
    "start_time": "2022-02-08T20:15:54.931Z"
   },
   {
    "duration": 38,
    "start_time": "2022-02-08T20:15:54.961Z"
   },
   {
    "duration": 28,
    "start_time": "2022-02-08T20:15:55.002Z"
   },
   {
    "duration": 19,
    "start_time": "2022-02-08T20:15:55.033Z"
   },
   {
    "duration": 35,
    "start_time": "2022-02-08T20:15:55.056Z"
   },
   {
    "duration": 18,
    "start_time": "2022-02-08T20:15:55.094Z"
   },
   {
    "duration": 74,
    "start_time": "2022-02-08T20:15:55.114Z"
   },
   {
    "duration": 1074,
    "start_time": "2022-02-08T20:15:55.199Z"
   },
   {
    "duration": -101,
    "start_time": "2022-02-08T20:15:56.377Z"
   },
   {
    "duration": -228,
    "start_time": "2022-02-08T20:15:56.506Z"
   },
   {
    "duration": 73,
    "start_time": "2022-02-08T20:17:03.339Z"
   },
   {
    "duration": 402,
    "start_time": "2022-02-09T09:51:55.102Z"
   },
   {
    "duration": 389,
    "start_time": "2022-02-09T09:52:03.906Z"
   },
   {
    "duration": 2794,
    "start_time": "2022-02-09T09:52:01.508Z"
   },
   {
    "duration": 2792,
    "start_time": "2022-02-09T09:52:01.512Z"
   },
   {
    "duration": 2707,
    "start_time": "2022-02-09T09:52:01.599Z"
   },
   {
    "duration": 2707,
    "start_time": "2022-02-09T09:52:01.601Z"
   },
   {
    "duration": 2708,
    "start_time": "2022-02-09T09:52:01.602Z"
   },
   {
    "duration": 2708,
    "start_time": "2022-02-09T09:52:01.604Z"
   },
   {
    "duration": 2708,
    "start_time": "2022-02-09T09:52:01.605Z"
   },
   {
    "duration": 2708,
    "start_time": "2022-02-09T09:52:01.607Z"
   },
   {
    "duration": 2708,
    "start_time": "2022-02-09T09:52:01.608Z"
   },
   {
    "duration": 2709,
    "start_time": "2022-02-09T09:52:01.609Z"
   },
   {
    "duration": 2708,
    "start_time": "2022-02-09T09:52:01.611Z"
   },
   {
    "duration": 2708,
    "start_time": "2022-02-09T09:52:01.612Z"
   },
   {
    "duration": 2709,
    "start_time": "2022-02-09T09:52:01.613Z"
   },
   {
    "duration": 2709,
    "start_time": "2022-02-09T09:52:01.614Z"
   },
   {
    "duration": 2705,
    "start_time": "2022-02-09T09:52:01.619Z"
   },
   {
    "duration": 2705,
    "start_time": "2022-02-09T09:52:01.621Z"
   },
   {
    "duration": 2702,
    "start_time": "2022-02-09T09:52:01.625Z"
   },
   {
    "duration": 2703,
    "start_time": "2022-02-09T09:52:01.626Z"
   },
   {
    "duration": 2703,
    "start_time": "2022-02-09T09:52:01.627Z"
   },
   {
    "duration": 2704,
    "start_time": "2022-02-09T09:52:01.628Z"
   },
   {
    "duration": 2704,
    "start_time": "2022-02-09T09:52:01.629Z"
   },
   {
    "duration": 2705,
    "start_time": "2022-02-09T09:52:01.630Z"
   },
   {
    "duration": 2626,
    "start_time": "2022-02-09T09:52:01.710Z"
   },
   {
    "duration": 2614,
    "start_time": "2022-02-09T09:52:01.723Z"
   },
   {
    "duration": 2615,
    "start_time": "2022-02-09T09:52:01.724Z"
   },
   {
    "duration": 2615,
    "start_time": "2022-02-09T09:52:01.725Z"
   },
   {
    "duration": 2615,
    "start_time": "2022-02-09T09:52:01.726Z"
   },
   {
    "duration": 2615,
    "start_time": "2022-02-09T09:52:01.727Z"
   },
   {
    "duration": 2616,
    "start_time": "2022-02-09T09:52:01.728Z"
   },
   {
    "duration": 2616,
    "start_time": "2022-02-09T09:52:01.729Z"
   },
   {
    "duration": 2615,
    "start_time": "2022-02-09T09:52:01.731Z"
   },
   {
    "duration": 2616,
    "start_time": "2022-02-09T09:52:01.732Z"
   },
   {
    "duration": 2616,
    "start_time": "2022-02-09T09:52:01.733Z"
   },
   {
    "duration": 2616,
    "start_time": "2022-02-09T09:52:01.734Z"
   },
   {
    "duration": 2616,
    "start_time": "2022-02-09T09:52:01.735Z"
   },
   {
    "duration": 2617,
    "start_time": "2022-02-09T09:52:01.736Z"
   },
   {
    "duration": 2617,
    "start_time": "2022-02-09T09:52:01.737Z"
   },
   {
    "duration": 2617,
    "start_time": "2022-02-09T09:52:01.738Z"
   },
   {
    "duration": 2618,
    "start_time": "2022-02-09T09:52:01.739Z"
   },
   {
    "duration": 2618,
    "start_time": "2022-02-09T09:52:01.740Z"
   },
   {
    "duration": 2605,
    "start_time": "2022-02-09T09:52:01.754Z"
   },
   {
    "duration": 2606,
    "start_time": "2022-02-09T09:52:01.755Z"
   },
   {
    "duration": 2606,
    "start_time": "2022-02-09T09:52:01.756Z"
   },
   {
    "duration": 2666,
    "start_time": "2022-02-09T09:52:01.757Z"
   },
   {
    "duration": 2665,
    "start_time": "2022-02-09T09:52:01.759Z"
   },
   {
    "duration": 2666,
    "start_time": "2022-02-09T09:52:01.760Z"
   },
   {
    "duration": 2662,
    "start_time": "2022-02-09T09:52:01.765Z"
   },
   {
    "duration": 2660,
    "start_time": "2022-02-09T09:52:01.769Z"
   },
   {
    "duration": 2660,
    "start_time": "2022-02-09T09:52:01.770Z"
   },
   {
    "duration": 2660,
    "start_time": "2022-02-09T09:52:01.772Z"
   },
   {
    "duration": 2660,
    "start_time": "2022-02-09T09:52:01.773Z"
   },
   {
    "duration": 2661,
    "start_time": "2022-02-09T09:52:01.774Z"
   },
   {
    "duration": 2661,
    "start_time": "2022-02-09T09:52:01.775Z"
   },
   {
    "duration": 2659,
    "start_time": "2022-02-09T09:52:01.779Z"
   },
   {
    "duration": 2619,
    "start_time": "2022-02-09T09:52:01.821Z"
   },
   {
    "duration": 2619,
    "start_time": "2022-02-09T09:52:01.822Z"
   },
   {
    "duration": 2619,
    "start_time": "2022-02-09T09:52:01.824Z"
   },
   {
    "duration": 2619,
    "start_time": "2022-02-09T09:52:01.825Z"
   },
   {
    "duration": 2620,
    "start_time": "2022-02-09T09:52:01.826Z"
   },
   {
    "duration": 2621,
    "start_time": "2022-02-09T09:52:01.827Z"
   },
   {
    "duration": 2621,
    "start_time": "2022-02-09T09:52:01.828Z"
   },
   {
    "duration": 2622,
    "start_time": "2022-02-09T09:52:01.829Z"
   },
   {
    "duration": 2622,
    "start_time": "2022-02-09T09:52:01.830Z"
   },
   {
    "duration": 2622,
    "start_time": "2022-02-09T09:52:01.831Z"
   },
   {
    "duration": 2623,
    "start_time": "2022-02-09T09:52:01.832Z"
   },
   {
    "duration": 2623,
    "start_time": "2022-02-09T09:52:01.833Z"
   },
   {
    "duration": 2623,
    "start_time": "2022-02-09T09:52:01.834Z"
   },
   {
    "duration": 2623,
    "start_time": "2022-02-09T09:52:01.835Z"
   },
   {
    "duration": 286,
    "start_time": "2022-02-09T09:52:26.502Z"
   },
   {
    "duration": 343,
    "start_time": "2022-02-09T09:52:49.585Z"
   },
   {
    "duration": 2792,
    "start_time": "2022-02-09T09:52:47.142Z"
   },
   {
    "duration": 2791,
    "start_time": "2022-02-09T09:52:47.144Z"
   },
   {
    "duration": 2792,
    "start_time": "2022-02-09T09:52:47.145Z"
   },
   {
    "duration": 2678,
    "start_time": "2022-02-09T09:52:47.260Z"
   },
   {
    "duration": 2677,
    "start_time": "2022-02-09T09:52:47.262Z"
   },
   {
    "duration": 2678,
    "start_time": "2022-02-09T09:52:47.263Z"
   },
   {
    "duration": 2678,
    "start_time": "2022-02-09T09:52:47.264Z"
   },
   {
    "duration": 2678,
    "start_time": "2022-02-09T09:52:47.266Z"
   },
   {
    "duration": 2679,
    "start_time": "2022-02-09T09:52:47.267Z"
   },
   {
    "duration": 2679,
    "start_time": "2022-02-09T09:52:47.268Z"
   },
   {
    "duration": 2680,
    "start_time": "2022-02-09T09:52:47.269Z"
   },
   {
    "duration": 2679,
    "start_time": "2022-02-09T09:52:47.271Z"
   },
   {
    "duration": 2679,
    "start_time": "2022-02-09T09:52:47.272Z"
   },
   {
    "duration": 2680,
    "start_time": "2022-02-09T09:52:47.273Z"
   },
   {
    "duration": 2680,
    "start_time": "2022-02-09T09:52:47.274Z"
   },
   {
    "duration": 2681,
    "start_time": "2022-02-09T09:52:47.275Z"
   },
   {
    "duration": 2680,
    "start_time": "2022-02-09T09:52:47.277Z"
   },
   {
    "duration": 2681,
    "start_time": "2022-02-09T09:52:47.278Z"
   },
   {
    "duration": 2682,
    "start_time": "2022-02-09T09:52:47.279Z"
   },
   {
    "duration": 2682,
    "start_time": "2022-02-09T09:52:47.280Z"
   },
   {
    "duration": 2683,
    "start_time": "2022-02-09T09:52:47.281Z"
   },
   {
    "duration": 2684,
    "start_time": "2022-02-09T09:52:47.282Z"
   },
   {
    "duration": 2684,
    "start_time": "2022-02-09T09:52:47.283Z"
   },
   {
    "duration": 2680,
    "start_time": "2022-02-09T09:52:47.289Z"
   },
   {
    "duration": 2680,
    "start_time": "2022-02-09T09:52:47.290Z"
   },
   {
    "duration": 2641,
    "start_time": "2022-02-09T09:52:47.382Z"
   },
   {
    "duration": 2643,
    "start_time": "2022-02-09T09:52:47.383Z"
   },
   {
    "duration": 2644,
    "start_time": "2022-02-09T09:52:47.384Z"
   },
   {
    "duration": 2645,
    "start_time": "2022-02-09T09:52:47.385Z"
   },
   {
    "duration": 2647,
    "start_time": "2022-02-09T09:52:47.386Z"
   },
   {
    "duration": 2647,
    "start_time": "2022-02-09T09:52:47.388Z"
   },
   {
    "duration": 2648,
    "start_time": "2022-02-09T09:52:47.389Z"
   },
   {
    "duration": 2649,
    "start_time": "2022-02-09T09:52:47.390Z"
   },
   {
    "duration": 2651,
    "start_time": "2022-02-09T09:52:47.391Z"
   },
   {
    "duration": 2652,
    "start_time": "2022-02-09T09:52:47.392Z"
   },
   {
    "duration": 2653,
    "start_time": "2022-02-09T09:52:47.393Z"
   },
   {
    "duration": 2655,
    "start_time": "2022-02-09T09:52:47.394Z"
   },
   {
    "duration": 2656,
    "start_time": "2022-02-09T09:52:47.395Z"
   },
   {
    "duration": 2657,
    "start_time": "2022-02-09T09:52:47.396Z"
   },
   {
    "duration": 2658,
    "start_time": "2022-02-09T09:52:47.397Z"
   },
   {
    "duration": 2659,
    "start_time": "2022-02-09T09:52:47.398Z"
   },
   {
    "duration": 2661,
    "start_time": "2022-02-09T09:52:47.399Z"
   },
   {
    "duration": 2662,
    "start_time": "2022-02-09T09:52:47.400Z"
   },
   {
    "duration": 2637,
    "start_time": "2022-02-09T09:52:47.426Z"
   },
   {
    "duration": 2633,
    "start_time": "2022-02-09T09:52:47.432Z"
   },
   {
    "duration": 2691,
    "start_time": "2022-02-09T09:52:47.433Z"
   },
   {
    "duration": 2691,
    "start_time": "2022-02-09T09:52:47.435Z"
   },
   {
    "duration": 2692,
    "start_time": "2022-02-09T09:52:47.436Z"
   },
   {
    "duration": 2693,
    "start_time": "2022-02-09T09:52:47.437Z"
   },
   {
    "duration": 2694,
    "start_time": "2022-02-09T09:52:47.438Z"
   },
   {
    "duration": 2696,
    "start_time": "2022-02-09T09:52:47.439Z"
   },
   {
    "duration": 2698,
    "start_time": "2022-02-09T09:52:47.440Z"
   },
   {
    "duration": 2660,
    "start_time": "2022-02-09T09:52:47.480Z"
   },
   {
    "duration": 2657,
    "start_time": "2022-02-09T09:52:47.485Z"
   },
   {
    "duration": 2657,
    "start_time": "2022-02-09T09:52:47.487Z"
   },
   {
    "duration": 2658,
    "start_time": "2022-02-09T09:52:47.488Z"
   },
   {
    "duration": 2659,
    "start_time": "2022-02-09T09:52:47.489Z"
   },
   {
    "duration": 2659,
    "start_time": "2022-02-09T09:52:47.491Z"
   },
   {
    "duration": 2660,
    "start_time": "2022-02-09T09:52:47.492Z"
   },
   {
    "duration": 2661,
    "start_time": "2022-02-09T09:52:47.493Z"
   },
   {
    "duration": 2661,
    "start_time": "2022-02-09T09:52:47.495Z"
   },
   {
    "duration": 2662,
    "start_time": "2022-02-09T09:52:47.496Z"
   },
   {
    "duration": 2663,
    "start_time": "2022-02-09T09:52:47.497Z"
   },
   {
    "duration": 2663,
    "start_time": "2022-02-09T09:52:47.498Z"
   },
   {
    "duration": 2725,
    "start_time": "2022-02-09T09:52:47.499Z"
   },
   {
    "duration": 2725,
    "start_time": "2022-02-09T09:52:47.500Z"
   },
   {
    "duration": 2725,
    "start_time": "2022-02-09T09:52:47.501Z"
   },
   {
    "duration": 2726,
    "start_time": "2022-02-09T09:52:47.502Z"
   },
   {
    "duration": 1943,
    "start_time": "2022-02-09T09:53:11.946Z"
   },
   {
    "duration": 347,
    "start_time": "2022-02-09T09:53:13.891Z"
   },
   {
    "duration": 22,
    "start_time": "2022-02-09T09:53:14.241Z"
   },
   {
    "duration": 30,
    "start_time": "2022-02-09T09:53:14.266Z"
   },
   {
    "duration": 37,
    "start_time": "2022-02-09T09:53:14.298Z"
   },
   {
    "duration": 27,
    "start_time": "2022-02-09T09:53:14.338Z"
   },
   {
    "duration": 25,
    "start_time": "2022-02-09T09:53:14.368Z"
   },
   {
    "duration": 51,
    "start_time": "2022-02-09T09:53:14.396Z"
   },
   {
    "duration": 17,
    "start_time": "2022-02-09T09:53:14.453Z"
   },
   {
    "duration": 61,
    "start_time": "2022-02-09T09:53:14.475Z"
   },
   {
    "duration": 20,
    "start_time": "2022-02-09T09:53:14.539Z"
   },
   {
    "duration": 22,
    "start_time": "2022-02-09T09:53:14.562Z"
   },
   {
    "duration": 50,
    "start_time": "2022-02-09T09:53:14.587Z"
   },
   {
    "duration": 16,
    "start_time": "2022-02-09T09:53:14.640Z"
   },
   {
    "duration": 16,
    "start_time": "2022-02-09T09:53:14.658Z"
   },
   {
    "duration": 49,
    "start_time": "2022-02-09T09:53:14.676Z"
   },
   {
    "duration": 14,
    "start_time": "2022-02-09T09:53:14.728Z"
   },
   {
    "duration": 18,
    "start_time": "2022-02-09T09:53:14.744Z"
   },
   {
    "duration": 16,
    "start_time": "2022-02-09T09:53:14.765Z"
   },
   {
    "duration": 47,
    "start_time": "2022-02-09T09:53:14.783Z"
   },
   {
    "duration": 21,
    "start_time": "2022-02-09T09:53:14.833Z"
   },
   {
    "duration": 25,
    "start_time": "2022-02-09T09:53:14.857Z"
   },
   {
    "duration": 45,
    "start_time": "2022-02-09T09:53:14.884Z"
   },
   {
    "duration": 9,
    "start_time": "2022-02-09T09:53:14.931Z"
   },
   {
    "duration": 9,
    "start_time": "2022-02-09T09:53:14.943Z"
   },
   {
    "duration": 11,
    "start_time": "2022-02-09T09:53:14.954Z"
   },
   {
    "duration": 8,
    "start_time": "2022-02-09T09:53:14.974Z"
   },
   {
    "duration": 62,
    "start_time": "2022-02-09T09:53:14.987Z"
   },
   {
    "duration": 14,
    "start_time": "2022-02-09T09:53:15.052Z"
   },
   {
    "duration": 87,
    "start_time": "2022-02-09T09:53:15.069Z"
   },
   {
    "duration": 11,
    "start_time": "2022-02-09T09:53:15.159Z"
   },
   {
    "duration": 28,
    "start_time": "2022-02-09T09:53:15.173Z"
   },
   {
    "duration": 62,
    "start_time": "2022-02-09T09:53:15.204Z"
   },
   {
    "duration": 69,
    "start_time": "2022-02-09T09:53:15.268Z"
   },
   {
    "duration": 26,
    "start_time": "2022-02-09T09:53:15.339Z"
   },
   {
    "duration": 8,
    "start_time": "2022-02-09T09:53:15.367Z"
   },
   {
    "duration": 6,
    "start_time": "2022-02-09T09:53:15.377Z"
   },
   {
    "duration": 47,
    "start_time": "2022-02-09T09:53:15.385Z"
   },
   {
    "duration": 34,
    "start_time": "2022-02-09T09:53:15.435Z"
   },
   {
    "duration": 7,
    "start_time": "2022-02-09T09:53:15.472Z"
   },
   {
    "duration": 55,
    "start_time": "2022-02-09T09:53:15.481Z"
   },
   {
    "duration": 29,
    "start_time": "2022-02-09T09:53:15.538Z"
   },
   {
    "duration": 17,
    "start_time": "2022-02-09T09:53:15.570Z"
   },
   {
    "duration": 59,
    "start_time": "2022-02-09T09:53:15.591Z"
   },
   {
    "duration": 47,
    "start_time": "2022-02-09T09:53:15.653Z"
   },
   {
    "duration": 36,
    "start_time": "2022-02-09T09:53:15.703Z"
   },
   {
    "duration": 6,
    "start_time": "2022-02-09T09:53:15.741Z"
   },
   {
    "duration": 49,
    "start_time": "2022-02-09T09:53:15.749Z"
   },
   {
    "duration": 57,
    "start_time": "2022-02-09T09:53:15.800Z"
   },
   {
    "duration": 8,
    "start_time": "2022-02-09T09:53:15.860Z"
   },
   {
    "duration": 8,
    "start_time": "2022-02-09T09:53:15.871Z"
   },
   {
    "duration": 208,
    "start_time": "2022-02-09T09:53:15.882Z"
   },
   {
    "duration": 5,
    "start_time": "2022-02-09T09:53:16.092Z"
   },
   {
    "duration": 1281,
    "start_time": "2022-02-09T09:53:16.100Z"
   },
   {
    "duration": 310,
    "start_time": "2022-02-09T09:53:17.383Z"
   },
   {
    "duration": 322,
    "start_time": "2022-02-09T09:53:17.695Z"
   },
   {
    "duration": 383,
    "start_time": "2022-02-09T09:53:18.023Z"
   },
   {
    "duration": 418,
    "start_time": "2022-02-09T09:53:18.408Z"
   },
   {
    "duration": 1299,
    "start_time": "2022-02-09T09:53:18.829Z"
   },
   {
    "duration": 1320,
    "start_time": "2022-02-09T09:53:20.130Z"
   },
   {
    "duration": 7,
    "start_time": "2022-02-09T09:53:21.452Z"
   },
   {
    "duration": 19,
    "start_time": "2022-02-09T09:53:21.463Z"
   },
   {
    "duration": 8,
    "start_time": "2022-02-09T09:53:21.485Z"
   },
   {
    "duration": 38,
    "start_time": "2022-02-09T09:53:21.495Z"
   },
   {
    "duration": 12,
    "start_time": "2022-02-09T09:53:21.535Z"
   },
   {
    "duration": 13,
    "start_time": "2022-02-09T09:53:21.550Z"
   },
   {
    "duration": 78,
    "start_time": "2022-02-09T09:53:21.565Z"
   },
   {
    "duration": 234,
    "start_time": "2022-02-09T09:53:21.646Z"
   },
   {
    "duration": 488,
    "start_time": "2022-02-09T09:53:21.882Z"
   },
   {
    "duration": 207,
    "start_time": "2022-02-09T09:54:15.835Z"
   },
   {
    "duration": 283,
    "start_time": "2022-02-09T09:56:00.870Z"
   },
   {
    "duration": 383,
    "start_time": "2022-02-09T09:56:08.863Z"
   },
   {
    "duration": 275,
    "start_time": "2022-02-09T09:56:18.494Z"
   },
   {
    "duration": 206,
    "start_time": "2022-02-09T09:57:13.496Z"
   },
   {
    "duration": 213,
    "start_time": "2022-02-09T09:57:42.546Z"
   },
   {
    "duration": 230,
    "start_time": "2022-02-09T09:57:50.216Z"
   },
   {
    "duration": 291,
    "start_time": "2022-02-09T09:57:58.614Z"
   },
   {
    "duration": 212,
    "start_time": "2022-02-09T09:58:07.910Z"
   },
   {
    "duration": 220,
    "start_time": "2022-02-09T09:58:16.103Z"
   },
   {
    "duration": 204,
    "start_time": "2022-02-09T09:58:23.003Z"
   },
   {
    "duration": 194,
    "start_time": "2022-02-09T09:58:52.705Z"
   },
   {
    "duration": 200,
    "start_time": "2022-02-09T09:58:57.297Z"
   },
   {
    "duration": 259,
    "start_time": "2022-02-09T09:59:02.288Z"
   },
   {
    "duration": 258,
    "start_time": "2022-02-09T09:59:07.567Z"
   },
   {
    "duration": 277,
    "start_time": "2022-02-09T09:59:15.195Z"
   },
   {
    "duration": 217,
    "start_time": "2022-02-09T09:59:20.947Z"
   },
   {
    "duration": 212,
    "start_time": "2022-02-09T09:59:25.244Z"
   },
   {
    "duration": 326,
    "start_time": "2022-02-09T09:59:30.360Z"
   },
   {
    "duration": 210,
    "start_time": "2022-02-09T09:59:34.915Z"
   },
   {
    "duration": 200,
    "start_time": "2022-02-09T09:59:39.250Z"
   },
   {
    "duration": 198,
    "start_time": "2022-02-09T09:59:44.446Z"
   },
   {
    "duration": 216,
    "start_time": "2022-02-09T09:59:49.321Z"
   },
   {
    "duration": 205,
    "start_time": "2022-02-09T09:59:54.146Z"
   },
   {
    "duration": 229,
    "start_time": "2022-02-09T10:00:00.894Z"
   },
   {
    "duration": 220,
    "start_time": "2022-02-09T10:00:04.811Z"
   },
   {
    "duration": 212,
    "start_time": "2022-02-09T10:00:09.975Z"
   },
   {
    "duration": 223,
    "start_time": "2022-02-09T10:00:14.857Z"
   },
   {
    "duration": 265,
    "start_time": "2022-02-09T10:00:25.086Z"
   },
   {
    "duration": 260,
    "start_time": "2022-02-09T10:00:29.951Z"
   },
   {
    "duration": 256,
    "start_time": "2022-02-09T10:00:36.046Z"
   },
   {
    "duration": 208,
    "start_time": "2022-02-09T10:00:42.805Z"
   },
   {
    "duration": 201,
    "start_time": "2022-02-09T10:00:54.071Z"
   },
   {
    "duration": 196,
    "start_time": "2022-02-09T10:00:59.548Z"
   },
   {
    "duration": 314,
    "start_time": "2022-02-09T10:01:05.071Z"
   },
   {
    "duration": 211,
    "start_time": "2022-02-09T10:01:26.758Z"
   },
   {
    "duration": 327,
    "start_time": "2022-02-09T10:01:41.032Z"
   },
   {
    "duration": 216,
    "start_time": "2022-02-09T10:02:07.242Z"
   },
   {
    "duration": 216,
    "start_time": "2022-02-09T10:03:04.273Z"
   },
   {
    "duration": 257,
    "start_time": "2022-02-09T10:04:06.060Z"
   },
   {
    "duration": 268,
    "start_time": "2022-02-09T10:04:17.837Z"
   },
   {
    "duration": 259,
    "start_time": "2022-02-09T10:04:32.055Z"
   },
   {
    "duration": 312,
    "start_time": "2022-02-09T10:04:39.026Z"
   },
   {
    "duration": 839,
    "start_time": "2022-02-09T11:29:52.459Z"
   },
   {
    "duration": 304,
    "start_time": "2022-02-09T11:30:05.145Z"
   },
   {
    "duration": 294,
    "start_time": "2022-02-09T11:31:53.129Z"
   },
   {
    "duration": 365,
    "start_time": "2022-02-09T11:32:08.892Z"
   },
   {
    "duration": 359,
    "start_time": "2022-02-09T11:32:24.506Z"
   },
   {
    "duration": 53,
    "start_time": "2022-02-09T11:59:22.117Z"
   },
   {
    "duration": 9,
    "start_time": "2022-02-09T11:59:40.148Z"
   },
   {
    "duration": 1811,
    "start_time": "2022-02-09T14:21:18.444Z"
   },
   {
    "duration": 356,
    "start_time": "2022-02-09T14:21:20.257Z"
   },
   {
    "duration": 21,
    "start_time": "2022-02-09T14:21:20.617Z"
   },
   {
    "duration": 30,
    "start_time": "2022-02-09T14:21:20.641Z"
   },
   {
    "duration": 21,
    "start_time": "2022-02-09T14:21:20.674Z"
   },
   {
    "duration": 27,
    "start_time": "2022-02-09T14:21:20.723Z"
   },
   {
    "duration": 22,
    "start_time": "2022-02-09T14:21:20.753Z"
   },
   {
    "duration": 54,
    "start_time": "2022-02-09T14:21:20.777Z"
   },
   {
    "duration": 17,
    "start_time": "2022-02-09T14:21:20.835Z"
   },
   {
    "duration": 33,
    "start_time": "2022-02-09T14:21:20.855Z"
   },
   {
    "duration": 42,
    "start_time": "2022-02-09T14:21:20.890Z"
   },
   {
    "duration": 21,
    "start_time": "2022-02-09T14:21:20.934Z"
   },
   {
    "duration": 17,
    "start_time": "2022-02-09T14:21:20.958Z"
   },
   {
    "duration": 46,
    "start_time": "2022-02-09T14:21:20.977Z"
   },
   {
    "duration": 17,
    "start_time": "2022-02-09T14:21:21.026Z"
   },
   {
    "duration": 20,
    "start_time": "2022-02-09T14:21:21.045Z"
   },
   {
    "duration": 14,
    "start_time": "2022-02-09T14:21:21.067Z"
   },
   {
    "duration": 50,
    "start_time": "2022-02-09T14:21:21.084Z"
   },
   {
    "duration": 14,
    "start_time": "2022-02-09T14:21:21.136Z"
   },
   {
    "duration": 13,
    "start_time": "2022-02-09T14:21:21.153Z"
   },
   {
    "duration": 55,
    "start_time": "2022-02-09T14:21:21.168Z"
   },
   {
    "duration": 24,
    "start_time": "2022-02-09T14:21:21.225Z"
   },
   {
    "duration": 12,
    "start_time": "2022-02-09T14:21:21.251Z"
   },
   {
    "duration": 5,
    "start_time": "2022-02-09T14:21:21.265Z"
   },
   {
    "duration": 3,
    "start_time": "2022-02-09T14:21:21.273Z"
   },
   {
    "duration": 47,
    "start_time": "2022-02-09T14:21:21.279Z"
   },
   {
    "duration": 10,
    "start_time": "2022-02-09T14:21:21.333Z"
   },
   {
    "duration": 26,
    "start_time": "2022-02-09T14:21:21.346Z"
   },
   {
    "duration": 12,
    "start_time": "2022-02-09T14:21:21.374Z"
   },
   {
    "duration": 46,
    "start_time": "2022-02-09T14:21:21.424Z"
   },
   {
    "duration": 8,
    "start_time": "2022-02-09T14:21:21.472Z"
   },
   {
    "duration": 43,
    "start_time": "2022-02-09T14:21:21.483Z"
   },
   {
    "duration": 47,
    "start_time": "2022-02-09T14:21:21.528Z"
   },
   {
    "duration": 81,
    "start_time": "2022-02-09T14:21:21.577Z"
   },
   {
    "duration": 25,
    "start_time": "2022-02-09T14:21:21.661Z"
   },
   {
    "duration": 8,
    "start_time": "2022-02-09T14:21:21.688Z"
   },
   {
    "duration": 28,
    "start_time": "2022-02-09T14:21:21.698Z"
   },
   {
    "duration": 19,
    "start_time": "2022-02-09T14:21:21.728Z"
   },
   {
    "duration": 36,
    "start_time": "2022-02-09T14:21:21.750Z"
   },
   {
    "duration": 34,
    "start_time": "2022-02-09T14:21:21.788Z"
   },
   {
    "duration": 18,
    "start_time": "2022-02-09T14:21:21.824Z"
   },
   {
    "duration": 28,
    "start_time": "2022-02-09T14:21:21.845Z"
   },
   {
    "duration": 53,
    "start_time": "2022-02-09T14:21:21.875Z"
   },
   {
    "duration": 27,
    "start_time": "2022-02-09T14:21:21.931Z"
   },
   {
    "duration": 67,
    "start_time": "2022-02-09T14:21:21.960Z"
   },
   {
    "duration": 10,
    "start_time": "2022-02-09T14:21:22.029Z"
   },
   {
    "duration": 4,
    "start_time": "2022-02-09T14:21:22.041Z"
   },
   {
    "duration": 45,
    "start_time": "2022-02-09T14:21:22.047Z"
   },
   {
    "duration": 34,
    "start_time": "2022-02-09T14:21:22.095Z"
   },
   {
    "duration": 36,
    "start_time": "2022-02-09T14:21:22.132Z"
   },
   {
    "duration": 9,
    "start_time": "2022-02-09T14:21:22.170Z"
   },
   {
    "duration": 41,
    "start_time": "2022-02-09T14:21:22.182Z"
   },
   {
    "duration": 179,
    "start_time": "2022-02-09T14:21:22.226Z"
   },
   {
    "duration": 5,
    "start_time": "2022-02-09T14:21:22.408Z"
   },
   {
    "duration": 1183,
    "start_time": "2022-02-09T14:21:22.415Z"
   },
   {
    "duration": 293,
    "start_time": "2022-02-09T14:21:23.600Z"
   },
   {
    "duration": 306,
    "start_time": "2022-02-09T14:21:23.895Z"
   },
   {
    "duration": 387,
    "start_time": "2022-02-09T14:21:24.203Z"
   },
   {
    "duration": 409,
    "start_time": "2022-02-09T14:21:24.593Z"
   },
   {
    "duration": 1304,
    "start_time": "2022-02-09T14:21:25.005Z"
   },
   {
    "duration": 1293,
    "start_time": "2022-02-09T14:21:26.311Z"
   },
   {
    "duration": 20,
    "start_time": "2022-02-09T14:21:27.607Z"
   },
   {
    "duration": 9,
    "start_time": "2022-02-09T14:21:27.630Z"
   },
   {
    "duration": 7,
    "start_time": "2022-02-09T14:21:27.641Z"
   },
   {
    "duration": 8,
    "start_time": "2022-02-09T14:21:27.651Z"
   },
   {
    "duration": 7,
    "start_time": "2022-02-09T14:21:27.661Z"
   },
   {
    "duration": 56,
    "start_time": "2022-02-09T14:21:27.670Z"
   },
   {
    "duration": 52,
    "start_time": "2022-02-09T14:21:27.728Z"
   },
   {
    "duration": 227,
    "start_time": "2022-02-09T14:21:27.783Z"
   },
   {
    "duration": 223,
    "start_time": "2022-02-09T14:21:28.013Z"
   },
   {
    "duration": 227,
    "start_time": "2022-02-09T14:21:28.239Z"
   },
   {
    "duration": 311,
    "start_time": "2022-02-09T14:21:28.468Z"
   },
   {
    "duration": 3,
    "start_time": "2022-02-09T14:24:38.449Z"
   },
   {
    "duration": 4,
    "start_time": "2022-02-09T14:33:52.753Z"
   },
   {
    "duration": 97,
    "start_time": "2022-02-09T15:04:03.322Z"
   },
   {
    "duration": 10,
    "start_time": "2022-02-09T15:09:24.451Z"
   },
   {
    "duration": 47,
    "start_time": "2022-02-09T15:10:33.887Z"
   },
   {
    "duration": 11,
    "start_time": "2022-02-09T15:10:36.743Z"
   },
   {
    "duration": 8404,
    "start_time": "2022-02-09T15:24:16.392Z"
   },
   {
    "duration": 1788,
    "start_time": "2022-02-09T15:24:43.073Z"
   },
   {
    "duration": 350,
    "start_time": "2022-02-09T15:24:44.864Z"
   },
   {
    "duration": 22,
    "start_time": "2022-02-09T15:24:45.217Z"
   },
   {
    "duration": 37,
    "start_time": "2022-02-09T15:24:45.241Z"
   },
   {
    "duration": 46,
    "start_time": "2022-02-09T15:24:45.280Z"
   },
   {
    "duration": 28,
    "start_time": "2022-02-09T15:24:45.328Z"
   },
   {
    "duration": 22,
    "start_time": "2022-02-09T15:24:45.358Z"
   },
   {
    "duration": 55,
    "start_time": "2022-02-09T15:24:45.383Z"
   },
   {
    "duration": 17,
    "start_time": "2022-02-09T15:24:45.443Z"
   },
   {
    "duration": 31,
    "start_time": "2022-02-09T15:24:45.464Z"
   },
   {
    "duration": 19,
    "start_time": "2022-02-09T15:24:45.524Z"
   },
   {
    "duration": 24,
    "start_time": "2022-02-09T15:24:45.545Z"
   },
   {
    "duration": 18,
    "start_time": "2022-02-09T15:24:45.571Z"
   },
   {
    "duration": 19,
    "start_time": "2022-02-09T15:24:45.623Z"
   },
   {
    "duration": 16,
    "start_time": "2022-02-09T15:24:45.645Z"
   },
   {
    "duration": 18,
    "start_time": "2022-02-09T15:24:45.664Z"
   },
   {
    "duration": 50,
    "start_time": "2022-02-09T15:24:45.685Z"
   },
   {
    "duration": 21,
    "start_time": "2022-02-09T15:24:45.739Z"
   },
   {
    "duration": 15,
    "start_time": "2022-02-09T15:24:45.762Z"
   },
   {
    "duration": 50,
    "start_time": "2022-02-09T15:24:45.779Z"
   },
   {
    "duration": 31,
    "start_time": "2022-02-09T15:24:45.832Z"
   },
   {
    "duration": 28,
    "start_time": "2022-02-09T15:24:45.866Z"
   },
   {
    "duration": 10,
    "start_time": "2022-02-09T15:24:45.924Z"
   },
   {
    "duration": 6,
    "start_time": "2022-02-09T15:24:45.937Z"
   },
   {
    "duration": 10,
    "start_time": "2022-02-09T15:24:45.945Z"
   },
   {
    "duration": 12,
    "start_time": "2022-02-09T15:24:45.957Z"
   },
   {
    "duration": 66,
    "start_time": "2022-02-09T15:24:45.975Z"
   },
   {
    "duration": 14,
    "start_time": "2022-02-09T15:24:46.044Z"
   },
   {
    "duration": 71,
    "start_time": "2022-02-09T15:24:46.060Z"
   },
   {
    "duration": 10,
    "start_time": "2022-02-09T15:24:46.134Z"
   },
   {
    "duration": 12,
    "start_time": "2022-02-09T15:24:46.146Z"
   },
   {
    "duration": 80,
    "start_time": "2022-02-09T15:24:46.161Z"
   },
   {
    "duration": 57,
    "start_time": "2022-02-09T15:24:46.244Z"
   },
   {
    "duration": 43,
    "start_time": "2022-02-09T15:24:46.303Z"
   },
   {
    "duration": 8,
    "start_time": "2022-02-09T15:24:46.348Z"
   },
   {
    "duration": 6,
    "start_time": "2022-02-09T15:24:46.358Z"
   },
   {
    "duration": 20,
    "start_time": "2022-02-09T15:24:46.366Z"
   },
   {
    "duration": 68,
    "start_time": "2022-02-09T15:24:46.389Z"
   },
   {
    "duration": 7,
    "start_time": "2022-02-09T15:24:46.460Z"
   },
   {
    "duration": 18,
    "start_time": "2022-02-09T15:24:46.469Z"
   },
   {
    "duration": 61,
    "start_time": "2022-02-09T15:24:46.490Z"
   },
   {
    "duration": 18,
    "start_time": "2022-02-09T15:24:46.553Z"
   },
   {
    "duration": 56,
    "start_time": "2022-02-09T15:24:46.574Z"
   },
   {
    "duration": 44,
    "start_time": "2022-02-09T15:24:46.633Z"
   },
   {
    "duration": 15,
    "start_time": "2022-02-09T15:24:46.679Z"
   },
   {
    "duration": 5,
    "start_time": "2022-02-09T15:24:46.697Z"
   },
   {
    "duration": 46,
    "start_time": "2022-02-09T15:24:46.724Z"
   },
   {
    "duration": 9,
    "start_time": "2022-02-09T15:24:46.773Z"
   },
   {
    "duration": 65,
    "start_time": "2022-02-09T15:24:46.784Z"
   },
   {
    "duration": 8,
    "start_time": "2022-02-09T15:24:46.853Z"
   },
   {
    "duration": 8,
    "start_time": "2022-02-09T15:24:46.865Z"
   },
   {
    "duration": 198,
    "start_time": "2022-02-09T15:24:46.876Z"
   },
   {
    "duration": 5,
    "start_time": "2022-02-09T15:24:47.076Z"
   },
   {
    "duration": 1183,
    "start_time": "2022-02-09T15:24:47.084Z"
   },
   {
    "duration": 314,
    "start_time": "2022-02-09T15:24:48.269Z"
   },
   {
    "duration": 304,
    "start_time": "2022-02-09T15:24:48.585Z"
   },
   {
    "duration": 388,
    "start_time": "2022-02-09T15:24:48.892Z"
   },
   {
    "duration": 304,
    "start_time": "2022-02-09T15:24:49.282Z"
   },
   {
    "duration": 1335,
    "start_time": "2022-02-09T15:24:49.589Z"
   },
   {
    "duration": 1277,
    "start_time": "2022-02-09T15:24:50.927Z"
   },
   {
    "duration": 18,
    "start_time": "2022-02-09T15:24:52.207Z"
   },
   {
    "duration": 11,
    "start_time": "2022-02-09T15:24:52.227Z"
   },
   {
    "duration": 9,
    "start_time": "2022-02-09T15:24:52.240Z"
   },
   {
    "duration": 8,
    "start_time": "2022-02-09T15:24:52.252Z"
   },
   {
    "duration": 9,
    "start_time": "2022-02-09T15:24:52.262Z"
   },
   {
    "duration": 10,
    "start_time": "2022-02-09T15:24:52.273Z"
   },
   {
    "duration": 53,
    "start_time": "2022-02-09T15:24:52.323Z"
   },
   {
    "duration": 229,
    "start_time": "2022-02-09T15:24:52.378Z"
   },
   {
    "duration": 215,
    "start_time": "2022-02-09T15:24:52.609Z"
   },
   {
    "duration": 207,
    "start_time": "2022-02-09T15:24:52.827Z"
   },
   {
    "duration": 321,
    "start_time": "2022-02-09T15:24:53.037Z"
   },
   {
    "duration": 1950,
    "start_time": "2022-02-09T15:47:55.400Z"
   },
   {
    "duration": 347,
    "start_time": "2022-02-09T15:47:57.355Z"
   },
   {
    "duration": 21,
    "start_time": "2022-02-09T15:47:57.705Z"
   },
   {
    "duration": 32,
    "start_time": "2022-02-09T15:47:57.729Z"
   },
   {
    "duration": 24,
    "start_time": "2022-02-09T15:47:57.764Z"
   },
   {
    "duration": 58,
    "start_time": "2022-02-09T15:47:57.791Z"
   },
   {
    "duration": 25,
    "start_time": "2022-02-09T15:47:57.852Z"
   },
   {
    "duration": 57,
    "start_time": "2022-02-09T15:47:57.882Z"
   },
   {
    "duration": 17,
    "start_time": "2022-02-09T15:47:57.943Z"
   },
   {
    "duration": 60,
    "start_time": "2022-02-09T15:47:57.963Z"
   },
   {
    "duration": 17,
    "start_time": "2022-02-09T15:47:58.026Z"
   },
   {
    "duration": 21,
    "start_time": "2022-02-09T15:47:58.046Z"
   },
   {
    "duration": 18,
    "start_time": "2022-02-09T15:47:58.069Z"
   },
   {
    "duration": 15,
    "start_time": "2022-02-09T15:47:58.123Z"
   },
   {
    "duration": 18,
    "start_time": "2022-02-09T15:47:58.140Z"
   },
   {
    "duration": 21,
    "start_time": "2022-02-09T15:47:58.162Z"
   },
   {
    "duration": 22,
    "start_time": "2022-02-09T15:47:58.225Z"
   },
   {
    "duration": 27,
    "start_time": "2022-02-09T15:47:58.250Z"
   },
   {
    "duration": 54,
    "start_time": "2022-02-09T15:47:58.280Z"
   },
   {
    "duration": 21,
    "start_time": "2022-02-09T15:47:58.337Z"
   },
   {
    "duration": 26,
    "start_time": "2022-02-09T15:47:58.362Z"
   },
   {
    "duration": 66,
    "start_time": "2022-02-09T15:47:58.392Z"
   },
   {
    "duration": 9,
    "start_time": "2022-02-09T15:47:58.465Z"
   },
   {
    "duration": 6,
    "start_time": "2022-02-09T15:47:58.478Z"
   },
   {
    "duration": 42,
    "start_time": "2022-02-09T15:47:58.487Z"
   },
   {
    "duration": 13,
    "start_time": "2022-02-09T15:47:58.531Z"
   },
   {
    "duration": 25,
    "start_time": "2022-02-09T15:47:58.547Z"
   },
   {
    "duration": 48,
    "start_time": "2022-02-09T15:47:58.575Z"
   },
   {
    "duration": 42,
    "start_time": "2022-02-09T15:47:58.625Z"
   },
   {
    "duration": 9,
    "start_time": "2022-02-09T15:47:58.669Z"
   },
   {
    "duration": 16,
    "start_time": "2022-02-09T15:47:58.681Z"
   },
   {
    "duration": 51,
    "start_time": "2022-02-09T15:47:58.723Z"
   },
   {
    "duration": 81,
    "start_time": "2022-02-09T15:47:58.776Z"
   },
   {
    "duration": 24,
    "start_time": "2022-02-09T15:47:58.859Z"
   },
   {
    "duration": 9,
    "start_time": "2022-02-09T15:47:58.885Z"
   },
   {
    "duration": 29,
    "start_time": "2022-02-09T15:47:58.896Z"
   },
   {
    "duration": 20,
    "start_time": "2022-02-09T15:47:58.928Z"
   },
   {
    "duration": 36,
    "start_time": "2022-02-09T15:47:58.951Z"
   },
   {
    "duration": 36,
    "start_time": "2022-02-09T15:47:58.990Z"
   },
   {
    "duration": 31,
    "start_time": "2022-02-09T15:47:59.029Z"
   },
   {
    "duration": 79,
    "start_time": "2022-02-09T15:47:59.064Z"
   },
   {
    "duration": 21,
    "start_time": "2022-02-09T15:47:59.146Z"
   },
   {
    "duration": 57,
    "start_time": "2022-02-09T15:47:59.169Z"
   },
   {
    "duration": 46,
    "start_time": "2022-02-09T15:47:59.228Z"
   },
   {
    "duration": 10,
    "start_time": "2022-02-09T15:47:59.276Z"
   },
   {
    "duration": 35,
    "start_time": "2022-02-09T15:47:59.288Z"
   },
   {
    "duration": 48,
    "start_time": "2022-02-09T15:47:59.325Z"
   },
   {
    "duration": 13,
    "start_time": "2022-02-09T15:47:59.377Z"
   },
   {
    "duration": 38,
    "start_time": "2022-02-09T15:47:59.424Z"
   },
   {
    "duration": 9,
    "start_time": "2022-02-09T15:47:59.465Z"
   },
   {
    "duration": 9,
    "start_time": "2022-02-09T15:47:59.477Z"
   },
   {
    "duration": 177,
    "start_time": "2022-02-09T15:47:59.525Z"
   },
   {
    "duration": 18,
    "start_time": "2022-02-09T15:47:59.706Z"
   },
   {
    "duration": 1218,
    "start_time": "2022-02-09T15:47:59.727Z"
   },
   {
    "duration": 304,
    "start_time": "2022-02-09T15:48:00.947Z"
   },
   {
    "duration": 337,
    "start_time": "2022-02-09T15:48:01.254Z"
   },
   {
    "duration": 409,
    "start_time": "2022-02-09T15:48:01.594Z"
   },
   {
    "duration": 320,
    "start_time": "2022-02-09T15:48:02.005Z"
   },
   {
    "duration": 1304,
    "start_time": "2022-02-09T15:48:02.328Z"
   },
   {
    "duration": 1349,
    "start_time": "2022-02-09T15:48:03.635Z"
   },
   {
    "duration": 561,
    "start_time": "2022-02-09T15:48:04.986Z"
   },
   {
    "duration": -194,
    "start_time": "2022-02-09T15:48:05.744Z"
   },
   {
    "duration": -195,
    "start_time": "2022-02-09T15:48:05.746Z"
   },
   {
    "duration": -196,
    "start_time": "2022-02-09T15:48:05.748Z"
   },
   {
    "duration": -195,
    "start_time": "2022-02-09T15:48:05.749Z"
   },
   {
    "duration": -199,
    "start_time": "2022-02-09T15:48:05.754Z"
   },
   {
    "duration": -200,
    "start_time": "2022-02-09T15:48:05.756Z"
   },
   {
    "duration": -207,
    "start_time": "2022-02-09T15:48:05.765Z"
   },
   {
    "duration": -306,
    "start_time": "2022-02-09T15:48:05.865Z"
   },
   {
    "duration": -309,
    "start_time": "2022-02-09T15:48:05.869Z"
   },
   {
    "duration": -310,
    "start_time": "2022-02-09T15:48:05.871Z"
   },
   {
    "duration": 1919,
    "start_time": "2022-02-09T15:48:58.951Z"
   },
   {
    "duration": 392,
    "start_time": "2022-02-09T15:49:00.873Z"
   },
   {
    "duration": 23,
    "start_time": "2022-02-09T15:49:01.269Z"
   },
   {
    "duration": 33,
    "start_time": "2022-02-09T15:49:01.294Z"
   },
   {
    "duration": 22,
    "start_time": "2022-02-09T15:49:01.329Z"
   },
   {
    "duration": 31,
    "start_time": "2022-02-09T15:49:01.354Z"
   },
   {
    "duration": 43,
    "start_time": "2022-02-09T15:49:01.387Z"
   },
   {
    "duration": 26,
    "start_time": "2022-02-09T15:49:01.433Z"
   },
   {
    "duration": 20,
    "start_time": "2022-02-09T15:49:01.464Z"
   },
   {
    "duration": 78,
    "start_time": "2022-02-09T15:49:01.490Z"
   },
   {
    "duration": 18,
    "start_time": "2022-02-09T15:49:01.571Z"
   },
   {
    "duration": 42,
    "start_time": "2022-02-09T15:49:01.592Z"
   },
   {
    "duration": 20,
    "start_time": "2022-02-09T15:49:01.637Z"
   },
   {
    "duration": 16,
    "start_time": "2022-02-09T15:49:01.659Z"
   },
   {
    "duration": 46,
    "start_time": "2022-02-09T15:49:01.677Z"
   },
   {
    "duration": 27,
    "start_time": "2022-02-09T15:49:01.726Z"
   },
   {
    "duration": 17,
    "start_time": "2022-02-09T15:49:01.756Z"
   },
   {
    "duration": 50,
    "start_time": "2022-02-09T15:49:01.776Z"
   },
   {
    "duration": 17,
    "start_time": "2022-02-09T15:49:01.829Z"
   },
   {
    "duration": 13,
    "start_time": "2022-02-09T15:49:01.849Z"
   },
   {
    "duration": 22,
    "start_time": "2022-02-09T15:49:01.865Z"
   },
   {
    "duration": 55,
    "start_time": "2022-02-09T15:49:01.890Z"
   },
   {
    "duration": 12,
    "start_time": "2022-02-09T15:49:01.947Z"
   },
   {
    "duration": 10,
    "start_time": "2022-02-09T15:49:01.962Z"
   },
   {
    "duration": 49,
    "start_time": "2022-02-09T15:49:01.974Z"
   },
   {
    "duration": 10,
    "start_time": "2022-02-09T15:49:02.025Z"
   },
   {
    "duration": 25,
    "start_time": "2022-02-09T15:49:02.042Z"
   },
   {
    "duration": 11,
    "start_time": "2022-02-09T15:49:02.071Z"
   },
   {
    "duration": 81,
    "start_time": "2022-02-09T15:49:02.084Z"
   },
   {
    "duration": 13,
    "start_time": "2022-02-09T15:49:02.168Z"
   },
   {
    "duration": 43,
    "start_time": "2022-02-09T15:49:02.184Z"
   },
   {
    "duration": 54,
    "start_time": "2022-02-09T15:49:02.229Z"
   },
   {
    "duration": 89,
    "start_time": "2022-02-09T15:49:02.285Z"
   },
   {
    "duration": 51,
    "start_time": "2022-02-09T15:49:02.376Z"
   },
   {
    "duration": 10,
    "start_time": "2022-02-09T15:49:02.430Z"
   },
   {
    "duration": 12,
    "start_time": "2022-02-09T15:49:02.442Z"
   },
   {
    "duration": 20,
    "start_time": "2022-02-09T15:49:02.457Z"
   },
   {
    "duration": 75,
    "start_time": "2022-02-09T15:49:02.479Z"
   },
   {
    "duration": 7,
    "start_time": "2022-02-09T15:49:02.557Z"
   },
   {
    "duration": 21,
    "start_time": "2022-02-09T15:49:02.567Z"
   },
   {
    "duration": 61,
    "start_time": "2022-02-09T15:49:02.590Z"
   },
   {
    "duration": 18,
    "start_time": "2022-02-09T15:49:02.653Z"
   },
   {
    "duration": 70,
    "start_time": "2022-02-09T15:49:02.673Z"
   },
   {
    "duration": 46,
    "start_time": "2022-02-09T15:49:02.745Z"
   },
   {
    "duration": 38,
    "start_time": "2022-02-09T15:49:02.793Z"
   },
   {
    "duration": 5,
    "start_time": "2022-02-09T15:49:02.833Z"
   },
   {
    "duration": 50,
    "start_time": "2022-02-09T15:49:02.840Z"
   },
   {
    "duration": 35,
    "start_time": "2022-02-09T15:49:02.892Z"
   },
   {
    "duration": 36,
    "start_time": "2022-02-09T15:49:02.930Z"
   },
   {
    "duration": 9,
    "start_time": "2022-02-09T15:49:02.969Z"
   },
   {
    "duration": 8,
    "start_time": "2022-02-09T15:49:02.981Z"
   },
   {
    "duration": 201,
    "start_time": "2022-02-09T15:49:03.023Z"
   },
   {
    "duration": 6,
    "start_time": "2022-02-09T15:49:03.227Z"
   },
   {
    "duration": 1300,
    "start_time": "2022-02-09T15:49:03.235Z"
   },
   {
    "duration": 303,
    "start_time": "2022-02-09T15:49:04.537Z"
   },
   {
    "duration": 567,
    "start_time": "2022-02-09T15:49:04.844Z"
   },
   {
    "duration": 680,
    "start_time": "2022-02-09T15:49:05.414Z"
   },
   {
    "duration": 543,
    "start_time": "2022-02-09T15:49:06.097Z"
   },
   {
    "duration": 2324,
    "start_time": "2022-02-09T15:49:06.644Z"
   },
   {
    "duration": 2367,
    "start_time": "2022-02-09T15:49:08.971Z"
   },
   {
    "duration": 11,
    "start_time": "2022-02-09T15:49:11.342Z"
   },
   {
    "duration": 14,
    "start_time": "2022-02-09T15:49:11.357Z"
   },
   {
    "duration": 48,
    "start_time": "2022-02-09T15:49:11.375Z"
   },
   {
    "duration": 11,
    "start_time": "2022-02-09T15:49:11.427Z"
   },
   {
    "duration": 12,
    "start_time": "2022-02-09T15:49:11.442Z"
   },
   {
    "duration": 121,
    "start_time": "2022-02-09T15:49:11.457Z"
   },
   {
    "duration": 15,
    "start_time": "2022-02-09T15:49:11.581Z"
   },
   {
    "duration": 398,
    "start_time": "2022-02-09T15:49:11.599Z"
   },
   {
    "duration": 376,
    "start_time": "2022-02-09T15:49:12.001Z"
   },
   {
    "duration": 365,
    "start_time": "2022-02-09T15:49:12.380Z"
   },
   {
    "duration": 333,
    "start_time": "2022-02-09T15:49:12.748Z"
   },
   {
    "duration": 96,
    "start_time": "2022-02-09T15:50:20.728Z"
   },
   {
    "duration": 63,
    "start_time": "2022-02-09T15:50:36.002Z"
   },
   {
    "duration": 54,
    "start_time": "2022-02-09T15:50:37.077Z"
   },
   {
    "duration": 2094,
    "start_time": "2022-02-09T15:51:38.937Z"
   },
   {
    "duration": 369,
    "start_time": "2022-02-09T15:51:41.033Z"
   },
   {
    "duration": 37,
    "start_time": "2022-02-09T15:51:41.407Z"
   },
   {
    "duration": 34,
    "start_time": "2022-02-09T15:51:41.448Z"
   },
   {
    "duration": 46,
    "start_time": "2022-02-09T15:51:41.486Z"
   },
   {
    "duration": 26,
    "start_time": "2022-02-09T15:51:41.535Z"
   },
   {
    "duration": 23,
    "start_time": "2022-02-09T15:51:41.564Z"
   },
   {
    "duration": 55,
    "start_time": "2022-02-09T15:51:41.589Z"
   },
   {
    "duration": 16,
    "start_time": "2022-02-09T15:51:41.651Z"
   },
   {
    "duration": 62,
    "start_time": "2022-02-09T15:51:41.670Z"
   },
   {
    "duration": 19,
    "start_time": "2022-02-09T15:51:41.735Z"
   },
   {
    "duration": 23,
    "start_time": "2022-02-09T15:51:41.757Z"
   },
   {
    "duration": 54,
    "start_time": "2022-02-09T15:51:41.782Z"
   },
   {
    "duration": 15,
    "start_time": "2022-02-09T15:51:41.839Z"
   },
   {
    "duration": 15,
    "start_time": "2022-02-09T15:51:41.857Z"
   },
   {
    "duration": 58,
    "start_time": "2022-02-09T15:51:41.875Z"
   },
   {
    "duration": 16,
    "start_time": "2022-02-09T15:51:41.935Z"
   },
   {
    "duration": 24,
    "start_time": "2022-02-09T15:51:41.953Z"
   },
   {
    "duration": 61,
    "start_time": "2022-02-09T15:51:41.980Z"
   },
   {
    "duration": 13,
    "start_time": "2022-02-09T15:51:42.044Z"
   },
   {
    "duration": 23,
    "start_time": "2022-02-09T15:51:42.060Z"
   },
   {
    "duration": 48,
    "start_time": "2022-02-09T15:51:42.086Z"
   },
   {
    "duration": 9,
    "start_time": "2022-02-09T15:51:42.137Z"
   },
   {
    "duration": 5,
    "start_time": "2022-02-09T15:51:42.149Z"
   },
   {
    "duration": 9,
    "start_time": "2022-02-09T15:51:42.157Z"
   },
   {
    "duration": 54,
    "start_time": "2022-02-09T15:51:42.169Z"
   },
   {
    "duration": 27,
    "start_time": "2022-02-09T15:51:42.230Z"
   },
   {
    "duration": 11,
    "start_time": "2022-02-09T15:51:42.261Z"
   },
   {
    "duration": 72,
    "start_time": "2022-02-09T15:51:42.274Z"
   },
   {
    "duration": 10,
    "start_time": "2022-02-09T15:51:42.348Z"
   },
   {
    "duration": 9,
    "start_time": "2022-02-09T15:51:42.361Z"
   },
   {
    "duration": 87,
    "start_time": "2022-02-09T15:51:42.373Z"
   },
   {
    "duration": 67,
    "start_time": "2022-02-09T15:51:42.463Z"
   },
   {
    "duration": 25,
    "start_time": "2022-02-09T15:51:42.533Z"
   },
   {
    "duration": 8,
    "start_time": "2022-02-09T15:51:42.561Z"
   },
   {
    "duration": 5,
    "start_time": "2022-02-09T15:51:42.571Z"
   },
   {
    "duration": 58,
    "start_time": "2022-02-09T15:51:42.579Z"
   },
   {
    "duration": 33,
    "start_time": "2022-02-09T15:51:42.640Z"
   },
   {
    "duration": 7,
    "start_time": "2022-02-09T15:51:42.676Z"
   },
   {
    "duration": 52,
    "start_time": "2022-02-09T15:51:42.686Z"
   },
   {
    "duration": 29,
    "start_time": "2022-02-09T15:51:42.741Z"
   },
   {
    "duration": 50,
    "start_time": "2022-02-09T15:51:42.773Z"
   },
   {
    "duration": 31,
    "start_time": "2022-02-09T15:51:42.825Z"
   },
   {
    "duration": 83,
    "start_time": "2022-02-09T15:51:42.859Z"
   },
   {
    "duration": 10,
    "start_time": "2022-02-09T15:51:42.944Z"
   },
   {
    "duration": 4,
    "start_time": "2022-02-09T15:51:42.957Z"
   },
   {
    "duration": 76,
    "start_time": "2022-02-09T15:51:42.963Z"
   },
   {
    "duration": 10,
    "start_time": "2022-02-09T15:51:43.042Z"
   },
   {
    "duration": 71,
    "start_time": "2022-02-09T15:51:43.054Z"
   },
   {
    "duration": 9,
    "start_time": "2022-02-09T15:51:43.127Z"
   },
   {
    "duration": 9,
    "start_time": "2022-02-09T15:51:43.139Z"
   },
   {
    "duration": 206,
    "start_time": "2022-02-09T15:51:43.150Z"
   },
   {
    "duration": 5,
    "start_time": "2022-02-09T15:51:43.358Z"
   },
   {
    "duration": 1241,
    "start_time": "2022-02-09T15:51:43.365Z"
   },
   {
    "duration": 315,
    "start_time": "2022-02-09T15:51:44.608Z"
   },
   {
    "duration": 318,
    "start_time": "2022-02-09T15:51:44.926Z"
   },
   {
    "duration": 412,
    "start_time": "2022-02-09T15:51:45.247Z"
   },
   {
    "duration": 315,
    "start_time": "2022-02-09T15:51:45.661Z"
   },
   {
    "duration": 1323,
    "start_time": "2022-02-09T15:51:45.978Z"
   },
   {
    "duration": 1343,
    "start_time": "2022-02-09T15:51:47.303Z"
   },
   {
    "duration": 7,
    "start_time": "2022-02-09T15:51:48.649Z"
   },
   {
    "duration": 11,
    "start_time": "2022-02-09T15:51:48.659Z"
   },
   {
    "duration": 7,
    "start_time": "2022-02-09T15:51:48.673Z"
   },
   {
    "duration": 40,
    "start_time": "2022-02-09T15:51:48.683Z"
   },
   {
    "duration": 8,
    "start_time": "2022-02-09T15:51:48.726Z"
   },
   {
    "duration": 12,
    "start_time": "2022-02-09T15:51:48.737Z"
   },
   {
    "duration": 251,
    "start_time": "2022-02-09T15:51:48.751Z"
   },
   {
    "duration": 219,
    "start_time": "2022-02-09T15:51:49.006Z"
   },
   {
    "duration": 221,
    "start_time": "2022-02-09T15:51:49.228Z"
   },
   {
    "duration": 338,
    "start_time": "2022-02-09T15:51:49.453Z"
   },
   {
    "duration": 327,
    "start_time": "2022-02-10T09:15:29.795Z"
   },
   {
    "duration": 1986,
    "start_time": "2022-02-10T09:15:37.413Z"
   },
   {
    "duration": 296,
    "start_time": "2022-02-10T09:15:39.401Z"
   },
   {
    "duration": 17,
    "start_time": "2022-02-10T09:15:39.700Z"
   },
   {
    "duration": 29,
    "start_time": "2022-02-10T09:15:39.719Z"
   },
   {
    "duration": 18,
    "start_time": "2022-02-10T09:15:39.750Z"
   },
   {
    "duration": 43,
    "start_time": "2022-02-10T09:15:39.770Z"
   },
   {
    "duration": 24,
    "start_time": "2022-02-10T09:15:39.815Z"
   },
   {
    "duration": 19,
    "start_time": "2022-02-10T09:15:39.842Z"
   },
   {
    "duration": 46,
    "start_time": "2022-02-10T09:15:39.863Z"
   },
   {
    "duration": 12,
    "start_time": "2022-02-10T09:15:39.912Z"
   },
   {
    "duration": 38,
    "start_time": "2022-02-10T09:15:39.926Z"
   },
   {
    "duration": 20,
    "start_time": "2022-02-10T09:15:39.966Z"
   },
   {
    "duration": 35,
    "start_time": "2022-02-10T09:15:39.988Z"
   },
   {
    "duration": 17,
    "start_time": "2022-02-10T09:15:40.025Z"
   },
   {
    "duration": 17,
    "start_time": "2022-02-10T09:15:40.045Z"
   },
   {
    "duration": 17,
    "start_time": "2022-02-10T09:15:40.064Z"
   },
   {
    "duration": 31,
    "start_time": "2022-02-10T09:15:40.083Z"
   },
   {
    "duration": 24,
    "start_time": "2022-02-10T09:15:40.116Z"
   },
   {
    "duration": 22,
    "start_time": "2022-02-10T09:15:40.142Z"
   },
   {
    "duration": 15,
    "start_time": "2022-02-10T09:15:40.167Z"
   },
   {
    "duration": 37,
    "start_time": "2022-02-10T09:15:40.184Z"
   },
   {
    "duration": 19,
    "start_time": "2022-02-10T09:15:40.223Z"
   },
   {
    "duration": 20,
    "start_time": "2022-02-10T09:15:40.248Z"
   },
   {
    "duration": 48,
    "start_time": "2022-02-10T09:15:40.271Z"
   },
   {
    "duration": 9,
    "start_time": "2022-02-10T09:15:40.321Z"
   },
   {
    "duration": 11,
    "start_time": "2022-02-10T09:15:40.332Z"
   },
   {
    "duration": 12,
    "start_time": "2022-02-10T09:15:40.345Z"
   },
   {
    "duration": 24,
    "start_time": "2022-02-10T09:15:40.359Z"
   },
   {
    "duration": 28,
    "start_time": "2022-02-10T09:15:40.385Z"
   },
   {
    "duration": 33,
    "start_time": "2022-02-10T09:15:40.415Z"
   },
   {
    "duration": 8,
    "start_time": "2022-02-10T09:15:40.450Z"
   },
   {
    "duration": 10,
    "start_time": "2022-02-10T09:15:40.460Z"
   },
   {
    "duration": 82,
    "start_time": "2022-02-10T09:15:40.473Z"
   },
   {
    "duration": 87,
    "start_time": "2022-02-10T09:15:40.557Z"
   },
   {
    "duration": 29,
    "start_time": "2022-02-10T09:15:40.647Z"
   },
   {
    "duration": 9,
    "start_time": "2022-02-10T09:15:40.678Z"
   },
   {
    "duration": 5,
    "start_time": "2022-02-10T09:15:40.709Z"
   },
   {
    "duration": 24,
    "start_time": "2022-02-10T09:15:40.717Z"
   },
   {
    "duration": 42,
    "start_time": "2022-02-10T09:15:40.744Z"
   },
   {
    "duration": 6,
    "start_time": "2022-02-10T09:15:40.808Z"
   },
   {
    "duration": 19,
    "start_time": "2022-02-10T09:15:40.816Z"
   },
   {
    "duration": 32,
    "start_time": "2022-02-10T09:15:40.837Z"
   },
   {
    "duration": 37,
    "start_time": "2022-02-10T09:15:40.872Z"
   },
   {
    "duration": 26,
    "start_time": "2022-02-10T09:15:40.911Z"
   },
   {
    "duration": 37,
    "start_time": "2022-02-10T09:15:40.939Z"
   },
   {
    "duration": 5,
    "start_time": "2022-02-10T09:15:40.978Z"
   },
   {
    "duration": 4,
    "start_time": "2022-02-10T09:15:41.008Z"
   },
   {
    "duration": 44,
    "start_time": "2022-02-10T09:15:41.014Z"
   },
   {
    "duration": 23,
    "start_time": "2022-02-10T09:15:41.060Z"
   },
   {
    "duration": 32,
    "start_time": "2022-02-10T09:15:41.085Z"
   },
   {
    "duration": 7,
    "start_time": "2022-02-10T09:15:41.119Z"
   },
   {
    "duration": 24,
    "start_time": "2022-02-10T09:15:41.129Z"
   },
   {
    "duration": 135,
    "start_time": "2022-02-10T09:15:41.155Z"
   },
   {
    "duration": 5,
    "start_time": "2022-02-10T09:15:41.294Z"
   },
   {
    "duration": 824,
    "start_time": "2022-02-10T09:15:41.307Z"
   },
   {
    "duration": 239,
    "start_time": "2022-02-10T09:15:42.133Z"
   },
   {
    "duration": 223,
    "start_time": "2022-02-10T09:15:42.374Z"
   },
   {
    "duration": 300,
    "start_time": "2022-02-10T09:15:42.599Z"
   },
   {
    "duration": 214,
    "start_time": "2022-02-10T09:15:42.907Z"
   },
   {
    "duration": 884,
    "start_time": "2022-02-10T09:15:43.123Z"
   },
   {
    "duration": 870,
    "start_time": "2022-02-10T09:15:44.010Z"
   },
   {
    "duration": 7,
    "start_time": "2022-02-10T09:15:44.882Z"
   },
   {
    "duration": 21,
    "start_time": "2022-02-10T09:15:44.891Z"
   },
   {
    "duration": 11,
    "start_time": "2022-02-10T09:15:44.914Z"
   },
   {
    "duration": 8,
    "start_time": "2022-02-10T09:15:44.927Z"
   },
   {
    "duration": 11,
    "start_time": "2022-02-10T09:15:44.937Z"
   },
   {
    "duration": 8,
    "start_time": "2022-02-10T09:15:44.951Z"
   },
   {
    "duration": 189,
    "start_time": "2022-02-10T09:15:44.965Z"
   },
   {
    "duration": 152,
    "start_time": "2022-02-10T09:15:45.157Z"
   },
   {
    "duration": 149,
    "start_time": "2022-02-10T09:15:45.311Z"
   },
   {
    "duration": 247,
    "start_time": "2022-02-10T09:15:45.463Z"
   },
   {
    "duration": 23,
    "start_time": "2022-02-10T09:17:48.052Z"
   },
   {
    "duration": 665,
    "start_time": "2022-02-10T09:18:01.768Z"
   },
   {
    "duration": 261,
    "start_time": "2022-02-10T09:18:33.470Z"
   },
   {
    "duration": 13,
    "start_time": "2022-02-10T09:18:43.908Z"
   },
   {
    "duration": 15,
    "start_time": "2022-02-10T09:19:14.875Z"
   },
   {
    "duration": 11,
    "start_time": "2022-02-10T09:19:40.453Z"
   },
   {
    "duration": 7,
    "start_time": "2022-02-10T09:20:33.257Z"
   },
   {
    "duration": 1618,
    "start_time": "2022-02-10T11:17:20.770Z"
   },
   {
    "duration": 307,
    "start_time": "2022-02-10T11:17:22.391Z"
   },
   {
    "duration": 17,
    "start_time": "2022-02-10T11:17:22.701Z"
   },
   {
    "duration": 32,
    "start_time": "2022-02-10T11:17:22.721Z"
   },
   {
    "duration": 20,
    "start_time": "2022-02-10T11:17:22.755Z"
   },
   {
    "duration": 39,
    "start_time": "2022-02-10T11:17:22.777Z"
   },
   {
    "duration": 25,
    "start_time": "2022-02-10T11:17:22.818Z"
   },
   {
    "duration": 19,
    "start_time": "2022-02-10T11:17:22.845Z"
   },
   {
    "duration": 46,
    "start_time": "2022-02-10T11:17:22.868Z"
   },
   {
    "duration": 15,
    "start_time": "2022-02-10T11:17:22.917Z"
   },
   {
    "duration": 47,
    "start_time": "2022-02-10T11:17:22.934Z"
   },
   {
    "duration": 26,
    "start_time": "2022-02-10T11:17:22.983Z"
   },
   {
    "duration": 26,
    "start_time": "2022-02-10T11:17:23.011Z"
   },
   {
    "duration": 15,
    "start_time": "2022-02-10T11:17:23.039Z"
   },
   {
    "duration": 19,
    "start_time": "2022-02-10T11:17:23.056Z"
   },
   {
    "duration": 31,
    "start_time": "2022-02-10T11:17:23.077Z"
   },
   {
    "duration": 12,
    "start_time": "2022-02-10T11:17:23.110Z"
   },
   {
    "duration": 39,
    "start_time": "2022-02-10T11:17:23.124Z"
   },
   {
    "duration": 42,
    "start_time": "2022-02-10T11:17:23.166Z"
   },
   {
    "duration": 27,
    "start_time": "2022-02-10T11:17:23.210Z"
   },
   {
    "duration": 38,
    "start_time": "2022-02-10T11:17:23.239Z"
   },
   {
    "duration": 15,
    "start_time": "2022-02-10T11:17:23.279Z"
   },
   {
    "duration": 15,
    "start_time": "2022-02-10T11:17:23.296Z"
   },
   {
    "duration": 25,
    "start_time": "2022-02-10T11:17:23.314Z"
   },
   {
    "duration": 57,
    "start_time": "2022-02-10T11:17:23.342Z"
   },
   {
    "duration": 14,
    "start_time": "2022-02-10T11:17:23.401Z"
   },
   {
    "duration": 18,
    "start_time": "2022-02-10T11:17:23.420Z"
   },
   {
    "duration": 10,
    "start_time": "2022-02-10T11:17:23.440Z"
   },
   {
    "duration": 22,
    "start_time": "2022-02-10T11:17:23.452Z"
   },
   {
    "duration": 19,
    "start_time": "2022-02-10T11:17:23.476Z"
   },
   {
    "duration": 35,
    "start_time": "2022-02-10T11:17:23.497Z"
   },
   {
    "duration": 10,
    "start_time": "2022-02-10T11:17:23.535Z"
   },
   {
    "duration": 34,
    "start_time": "2022-02-10T11:17:23.547Z"
   },
   {
    "duration": 7,
    "start_time": "2022-02-10T11:17:23.583Z"
   },
   {
    "duration": 22,
    "start_time": "2022-02-10T11:17:23.593Z"
   },
   {
    "duration": 41,
    "start_time": "2022-02-10T11:17:23.617Z"
   },
   {
    "duration": 69,
    "start_time": "2022-02-10T11:17:23.660Z"
   },
   {
    "duration": 20,
    "start_time": "2022-02-10T11:17:23.731Z"
   },
   {
    "duration": 6,
    "start_time": "2022-02-10T11:17:23.753Z"
   },
   {
    "duration": 13,
    "start_time": "2022-02-10T11:17:23.761Z"
   },
   {
    "duration": 37,
    "start_time": "2022-02-10T11:17:23.776Z"
   },
   {
    "duration": 30,
    "start_time": "2022-02-10T11:17:23.816Z"
   },
   {
    "duration": 7,
    "start_time": "2022-02-10T11:17:23.848Z"
   },
   {
    "duration": 27,
    "start_time": "2022-02-10T11:17:23.857Z"
   },
   {
    "duration": 35,
    "start_time": "2022-02-10T11:17:23.886Z"
   },
   {
    "duration": 17,
    "start_time": "2022-02-10T11:17:23.924Z"
   },
   {
    "duration": 63,
    "start_time": "2022-02-10T11:17:23.943Z"
   },
   {
    "duration": 33,
    "start_time": "2022-02-10T11:17:24.008Z"
   },
   {
    "duration": 3,
    "start_time": "2022-02-10T11:17:24.043Z"
   },
   {
    "duration": 24,
    "start_time": "2022-02-10T11:17:24.048Z"
   },
   {
    "duration": 45,
    "start_time": "2022-02-10T11:17:24.074Z"
   },
   {
    "duration": 7,
    "start_time": "2022-02-10T11:17:24.121Z"
   },
   {
    "duration": 29,
    "start_time": "2022-02-10T11:17:24.130Z"
   },
   {
    "duration": 7,
    "start_time": "2022-02-10T11:17:24.160Z"
   },
   {
    "duration": 11,
    "start_time": "2022-02-10T11:17:24.170Z"
   },
   {
    "duration": 142,
    "start_time": "2022-02-10T11:17:24.183Z"
   },
   {
    "duration": 4,
    "start_time": "2022-02-10T11:17:24.328Z"
   },
   {
    "duration": 885,
    "start_time": "2022-02-10T11:17:24.335Z"
   },
   {
    "duration": 210,
    "start_time": "2022-02-10T11:17:25.222Z"
   },
   {
    "duration": 213,
    "start_time": "2022-02-10T11:17:25.434Z"
   },
   {
    "duration": 315,
    "start_time": "2022-02-10T11:17:25.650Z"
   },
   {
    "duration": 365,
    "start_time": "2022-02-10T11:17:25.967Z"
   },
   {
    "duration": 906,
    "start_time": "2022-02-10T11:17:26.335Z"
   },
   {
    "duration": 883,
    "start_time": "2022-02-10T11:17:27.243Z"
   },
   {
    "duration": 7,
    "start_time": "2022-02-10T11:17:28.128Z"
   },
   {
    "duration": 7,
    "start_time": "2022-02-10T11:17:28.137Z"
   },
   {
    "duration": 6,
    "start_time": "2022-02-10T11:17:28.146Z"
   },
   {
    "duration": 11,
    "start_time": "2022-02-10T11:17:28.154Z"
   },
   {
    "duration": 11,
    "start_time": "2022-02-10T11:17:28.167Z"
   },
   {
    "duration": 33,
    "start_time": "2022-02-10T11:17:28.180Z"
   },
   {
    "duration": 3,
    "start_time": "2022-02-11T09:01:37.319Z"
   },
   {
    "duration": 269,
    "start_time": "2022-02-11T09:01:37.324Z"
   },
   {
    "duration": 12,
    "start_time": "2022-02-11T09:01:37.595Z"
   },
   {
    "duration": 26,
    "start_time": "2022-02-11T09:01:37.609Z"
   },
   {
    "duration": 17,
    "start_time": "2022-02-11T09:01:37.637Z"
   },
   {
    "duration": 18,
    "start_time": "2022-02-11T09:01:37.656Z"
   },
   {
    "duration": 44,
    "start_time": "2022-02-11T09:01:37.677Z"
   },
   {
    "duration": 17,
    "start_time": "2022-02-11T09:01:37.723Z"
   },
   {
    "duration": 18,
    "start_time": "2022-02-11T09:01:37.742Z"
   },
   {
    "duration": 12,
    "start_time": "2022-02-11T09:01:37.762Z"
   },
   {
    "duration": 44,
    "start_time": "2022-02-11T09:01:37.776Z"
   },
   {
    "duration": 14,
    "start_time": "2022-02-11T09:01:37.822Z"
   },
   {
    "duration": 16,
    "start_time": "2022-02-11T09:01:37.837Z"
   },
   {
    "duration": 13,
    "start_time": "2022-02-11T09:01:37.855Z"
   },
   {
    "duration": 11,
    "start_time": "2022-02-11T09:01:37.870Z"
   },
   {
    "duration": 40,
    "start_time": "2022-02-11T09:01:37.883Z"
   },
   {
    "duration": 10,
    "start_time": "2022-02-11T09:01:37.925Z"
   },
   {
    "duration": 13,
    "start_time": "2022-02-11T09:01:37.937Z"
   },
   {
    "duration": 29,
    "start_time": "2022-02-11T09:01:37.952Z"
   },
   {
    "duration": 12,
    "start_time": "2022-02-11T09:01:37.982Z"
   },
   {
    "duration": 29,
    "start_time": "2022-02-11T09:01:37.995Z"
   },
   {
    "duration": 11,
    "start_time": "2022-02-11T09:01:38.026Z"
   },
   {
    "duration": 10,
    "start_time": "2022-02-11T09:01:38.038Z"
   },
   {
    "duration": 14,
    "start_time": "2022-02-11T09:01:38.050Z"
   },
   {
    "duration": 15,
    "start_time": "2022-02-11T09:01:38.066Z"
   },
   {
    "duration": 35,
    "start_time": "2022-02-11T09:01:38.083Z"
   },
   {
    "duration": 19,
    "start_time": "2022-02-11T09:01:38.120Z"
   },
   {
    "duration": 7,
    "start_time": "2022-02-11T09:01:38.141Z"
   },
   {
    "duration": 10,
    "start_time": "2022-02-11T09:01:38.150Z"
   },
   {
    "duration": 17,
    "start_time": "2022-02-11T09:01:38.162Z"
   },
   {
    "duration": 18,
    "start_time": "2022-02-11T09:01:38.181Z"
   },
   {
    "duration": 11,
    "start_time": "2022-02-11T09:01:38.200Z"
   },
   {
    "duration": 30,
    "start_time": "2022-02-11T09:01:38.213Z"
   },
   {
    "duration": 5,
    "start_time": "2022-02-11T09:01:38.245Z"
   },
   {
    "duration": 10,
    "start_time": "2022-02-11T09:01:38.252Z"
   },
   {
    "duration": 56,
    "start_time": "2022-02-11T09:01:38.263Z"
   },
   {
    "duration": 43,
    "start_time": "2022-02-11T09:01:38.321Z"
   },
   {
    "duration": 17,
    "start_time": "2022-02-11T09:01:38.365Z"
   },
   {
    "duration": 14,
    "start_time": "2022-02-11T09:01:38.384Z"
   },
   {
    "duration": 19,
    "start_time": "2022-02-11T09:01:38.399Z"
   },
   {
    "duration": 29,
    "start_time": "2022-02-11T09:01:38.420Z"
   },
   {
    "duration": 31,
    "start_time": "2022-02-11T09:01:38.451Z"
   },
   {
    "duration": 5,
    "start_time": "2022-02-11T09:01:38.483Z"
   },
   {
    "duration": 21,
    "start_time": "2022-02-11T09:01:38.489Z"
   },
   {
    "duration": 24,
    "start_time": "2022-02-11T09:01:38.511Z"
   },
   {
    "duration": 10,
    "start_time": "2022-02-11T09:01:38.537Z"
   },
   {
    "duration": 26,
    "start_time": "2022-02-11T09:01:38.549Z"
   },
   {
    "duration": 55,
    "start_time": "2022-02-11T09:01:38.577Z"
   },
   {
    "duration": 3,
    "start_time": "2022-02-11T09:01:38.635Z"
   },
   {
    "duration": 8,
    "start_time": "2022-02-11T09:01:38.640Z"
   },
   {
    "duration": 39,
    "start_time": "2022-02-11T09:01:38.650Z"
   },
   {
    "duration": 7,
    "start_time": "2022-02-11T09:01:38.690Z"
   },
   {
    "duration": 38,
    "start_time": "2022-02-11T09:01:38.698Z"
   },
   {
    "duration": 8,
    "start_time": "2022-02-11T09:01:38.739Z"
   },
   {
    "duration": 9,
    "start_time": "2022-02-11T09:01:38.749Z"
   },
   {
    "duration": 127,
    "start_time": "2022-02-11T09:01:38.760Z"
   },
   {
    "duration": 4,
    "start_time": "2022-02-11T09:01:38.890Z"
   },
   {
    "duration": 870,
    "start_time": "2022-02-11T09:01:38.896Z"
   },
   {
    "duration": 191,
    "start_time": "2022-02-11T09:01:39.768Z"
   },
   {
    "duration": 241,
    "start_time": "2022-02-11T09:01:39.961Z"
   },
   {
    "duration": 207,
    "start_time": "2022-02-11T09:01:40.204Z"
   },
   {
    "duration": 217,
    "start_time": "2022-02-11T09:01:40.412Z"
   },
   {
    "duration": 814,
    "start_time": "2022-02-11T09:01:40.631Z"
   },
   {
    "duration": 919,
    "start_time": "2022-02-11T09:01:41.447Z"
   },
   {
    "duration": 5,
    "start_time": "2022-02-11T09:01:42.368Z"
   },
   {
    "duration": 12,
    "start_time": "2022-02-11T09:01:42.375Z"
   },
   {
    "duration": 8,
    "start_time": "2022-02-11T09:01:42.389Z"
   },
   {
    "duration": 6,
    "start_time": "2022-02-11T09:01:42.418Z"
   },
   {
    "duration": 8,
    "start_time": "2022-02-11T09:01:42.425Z"
   },
   {
    "duration": 8,
    "start_time": "2022-02-11T09:01:42.435Z"
   },
   {
    "duration": 24,
    "start_time": "2022-02-11T09:08:30.150Z"
   },
   {
    "duration": 376,
    "start_time": "2022-02-12T17:56:25.659Z"
   },
   {
    "duration": 2123,
    "start_time": "2022-02-12T17:56:58.390Z"
   },
   {
    "duration": 372,
    "start_time": "2022-02-12T17:57:00.516Z"
   },
   {
    "duration": 24,
    "start_time": "2022-02-12T17:57:00.891Z"
   },
   {
    "duration": 43,
    "start_time": "2022-02-12T17:57:00.918Z"
   },
   {
    "duration": 25,
    "start_time": "2022-02-12T17:57:00.964Z"
   },
   {
    "duration": 47,
    "start_time": "2022-02-12T17:57:00.991Z"
   },
   {
    "duration": 40,
    "start_time": "2022-02-12T17:57:01.040Z"
   },
   {
    "duration": 27,
    "start_time": "2022-02-12T17:57:01.084Z"
   },
   {
    "duration": 61,
    "start_time": "2022-02-12T17:57:01.115Z"
   },
   {
    "duration": 18,
    "start_time": "2022-02-12T17:57:01.178Z"
   },
   {
    "duration": 62,
    "start_time": "2022-02-12T17:57:01.199Z"
   },
   {
    "duration": 19,
    "start_time": "2022-02-12T17:57:01.264Z"
   },
   {
    "duration": 24,
    "start_time": "2022-02-12T17:57:01.286Z"
   },
   {
    "duration": 50,
    "start_time": "2022-02-12T17:57:01.312Z"
   },
   {
    "duration": 20,
    "start_time": "2022-02-12T17:57:01.365Z"
   },
   {
    "duration": 15,
    "start_time": "2022-02-12T17:57:01.387Z"
   },
   {
    "duration": 47,
    "start_time": "2022-02-12T17:57:01.405Z"
   },
   {
    "duration": 23,
    "start_time": "2022-02-12T17:57:01.455Z"
   },
   {
    "duration": 23,
    "start_time": "2022-02-12T17:57:01.480Z"
   },
   {
    "duration": 51,
    "start_time": "2022-02-12T17:57:01.505Z"
   },
   {
    "duration": 36,
    "start_time": "2022-02-12T17:57:01.559Z"
   },
   {
    "duration": 15,
    "start_time": "2022-02-12T17:57:01.598Z"
   },
   {
    "duration": 14,
    "start_time": "2022-02-12T17:57:01.621Z"
   },
   {
    "duration": 36,
    "start_time": "2022-02-12T17:57:01.638Z"
   },
   {
    "duration": 24,
    "start_time": "2022-02-12T17:57:01.678Z"
   },
   {
    "duration": 50,
    "start_time": "2022-02-12T17:57:01.705Z"
   },
   {
    "duration": 25,
    "start_time": "2022-02-12T17:57:01.757Z"
   },
   {
    "duration": 12,
    "start_time": "2022-02-12T17:57:01.785Z"
   },
   {
    "duration": 15,
    "start_time": "2022-02-12T17:57:01.799Z"
   },
   {
    "duration": 15,
    "start_time": "2022-02-12T17:57:01.817Z"
   },
   {
    "duration": 41,
    "start_time": "2022-02-12T17:57:01.834Z"
   },
   {
    "duration": 13,
    "start_time": "2022-02-12T17:57:01.877Z"
   },
   {
    "duration": 71,
    "start_time": "2022-02-12T17:57:01.892Z"
   },
   {
    "duration": 9,
    "start_time": "2022-02-12T17:57:01.966Z"
   },
   {
    "duration": 26,
    "start_time": "2022-02-12T17:57:01.978Z"
   },
   {
    "duration": 75,
    "start_time": "2022-02-12T17:57:02.007Z"
   },
   {
    "duration": 87,
    "start_time": "2022-02-12T17:57:02.085Z"
   },
   {
    "duration": 30,
    "start_time": "2022-02-12T17:57:02.175Z"
   },
   {
    "duration": 9,
    "start_time": "2022-02-12T17:57:02.208Z"
   },
   {
    "duration": 22,
    "start_time": "2022-02-12T17:57:02.251Z"
   },
   {
    "duration": 24,
    "start_time": "2022-02-12T17:57:02.276Z"
   },
   {
    "duration": 53,
    "start_time": "2022-02-12T17:57:02.303Z"
   },
   {
    "duration": 15,
    "start_time": "2022-02-12T17:57:02.359Z"
   },
   {
    "duration": 23,
    "start_time": "2022-02-12T17:57:02.377Z"
   },
   {
    "duration": 71,
    "start_time": "2022-02-12T17:57:02.403Z"
   },
   {
    "duration": 18,
    "start_time": "2022-02-12T17:57:02.476Z"
   },
   {
    "duration": 58,
    "start_time": "2022-02-12T17:57:02.498Z"
   },
   {
    "duration": 65,
    "start_time": "2022-02-12T17:57:02.561Z"
   },
   {
    "duration": 5,
    "start_time": "2022-02-12T17:57:02.628Z"
   },
   {
    "duration": 40,
    "start_time": "2022-02-12T17:57:02.636Z"
   },
   {
    "duration": 66,
    "start_time": "2022-02-12T17:57:02.679Z"
   },
   {
    "duration": 19,
    "start_time": "2022-02-12T17:57:02.748Z"
   },
   {
    "duration": 66,
    "start_time": "2022-02-12T17:57:02.770Z"
   },
   {
    "duration": 11,
    "start_time": "2022-02-12T17:57:02.839Z"
   },
   {
    "duration": 29,
    "start_time": "2022-02-12T17:57:02.853Z"
   },
   {
    "duration": 220,
    "start_time": "2022-02-12T17:57:02.885Z"
   },
   {
    "duration": 5,
    "start_time": "2022-02-12T17:57:03.107Z"
   },
   {
    "duration": 1353,
    "start_time": "2022-02-12T17:57:03.115Z"
   },
   {
    "duration": 316,
    "start_time": "2022-02-12T17:57:04.471Z"
   },
   {
    "duration": 332,
    "start_time": "2022-02-12T17:57:04.790Z"
   },
   {
    "duration": 419,
    "start_time": "2022-02-12T17:57:05.125Z"
   },
   {
    "duration": 318,
    "start_time": "2022-02-12T17:57:05.549Z"
   },
   {
    "duration": 1407,
    "start_time": "2022-02-12T17:57:05.870Z"
   },
   {
    "duration": 1378,
    "start_time": "2022-02-12T17:57:07.280Z"
   },
   {
    "duration": 13,
    "start_time": "2022-02-12T17:57:08.661Z"
   },
   {
    "duration": 17,
    "start_time": "2022-02-12T17:57:08.681Z"
   },
   {
    "duration": 8,
    "start_time": "2022-02-12T17:57:08.701Z"
   },
   {
    "duration": 36,
    "start_time": "2022-02-12T17:57:08.716Z"
   },
   {
    "duration": 11,
    "start_time": "2022-02-12T17:57:08.755Z"
   },
   {
    "duration": 14,
    "start_time": "2022-02-12T17:57:08.769Z"
   },
   {
    "duration": 832,
    "start_time": "2022-02-12T17:57:08.787Z"
   },
   {
    "duration": 4,
    "start_time": "2022-02-12T17:57:27.546Z"
   },
   {
    "duration": 7,
    "start_time": "2022-02-12T17:57:41.311Z"
   },
   {
    "duration": 6,
    "start_time": "2022-02-12T17:57:59.390Z"
   },
   {
    "duration": 7,
    "start_time": "2022-02-12T17:58:58.863Z"
   },
   {
    "duration": 19,
    "start_time": "2022-02-12T17:59:03.177Z"
   },
   {
    "duration": 39,
    "start_time": "2022-02-12T17:59:11.461Z"
   },
   {
    "duration": 6,
    "start_time": "2022-02-12T18:01:42.313Z"
   },
   {
    "duration": 39,
    "start_time": "2022-02-12T18:02:20.403Z"
   },
   {
    "duration": 7,
    "start_time": "2022-02-12T18:03:22.736Z"
   },
   {
    "duration": 8,
    "start_time": "2022-02-12T18:03:51.179Z"
   },
   {
    "duration": 9,
    "start_time": "2022-02-12T18:06:57.706Z"
   },
   {
    "duration": 9,
    "start_time": "2022-02-12T18:26:10.804Z"
   },
   {
    "duration": 1944,
    "start_time": "2022-02-12T18:54:29.252Z"
   },
   {
    "duration": 355,
    "start_time": "2022-02-12T18:54:31.198Z"
   },
   {
    "duration": 22,
    "start_time": "2022-02-12T18:54:31.556Z"
   },
   {
    "duration": 32,
    "start_time": "2022-02-12T18:54:31.582Z"
   },
   {
    "duration": 46,
    "start_time": "2022-02-12T18:54:31.616Z"
   },
   {
    "duration": 27,
    "start_time": "2022-02-12T18:54:31.665Z"
   },
   {
    "duration": 30,
    "start_time": "2022-02-12T18:54:31.694Z"
   },
   {
    "duration": 38,
    "start_time": "2022-02-12T18:54:31.727Z"
   },
   {
    "duration": 29,
    "start_time": "2022-02-12T18:54:31.768Z"
   },
   {
    "duration": 16,
    "start_time": "2022-02-12T18:54:31.800Z"
   },
   {
    "duration": 30,
    "start_time": "2022-02-12T18:54:31.849Z"
   },
   {
    "duration": 28,
    "start_time": "2022-02-12T18:54:31.883Z"
   },
   {
    "duration": 50,
    "start_time": "2022-02-12T18:54:31.914Z"
   },
   {
    "duration": 18,
    "start_time": "2022-02-12T18:54:31.967Z"
   },
   {
    "duration": 15,
    "start_time": "2022-02-12T18:54:31.987Z"
   },
   {
    "duration": 47,
    "start_time": "2022-02-12T18:54:32.004Z"
   },
   {
    "duration": 19,
    "start_time": "2022-02-12T18:54:32.053Z"
   },
   {
    "duration": 20,
    "start_time": "2022-02-12T18:54:32.075Z"
   },
   {
    "duration": 51,
    "start_time": "2022-02-12T18:54:32.098Z"
   },
   {
    "duration": 15,
    "start_time": "2022-02-12T18:54:32.153Z"
   },
   {
    "duration": 24,
    "start_time": "2022-02-12T18:54:32.170Z"
   },
   {
    "duration": 14,
    "start_time": "2022-02-12T18:54:32.197Z"
   },
   {
    "duration": 16,
    "start_time": "2022-02-12T18:54:32.249Z"
   },
   {
    "duration": 21,
    "start_time": "2022-02-12T18:54:32.269Z"
   },
   {
    "duration": 26,
    "start_time": "2022-02-12T18:54:32.293Z"
   },
   {
    "duration": 9,
    "start_time": "2022-02-12T18:54:32.349Z"
   },
   {
    "duration": 12,
    "start_time": "2022-02-12T18:54:32.362Z"
   },
   {
    "duration": 8,
    "start_time": "2022-02-12T18:54:32.377Z"
   },
   {
    "duration": 13,
    "start_time": "2022-02-12T18:54:32.388Z"
   },
   {
    "duration": 52,
    "start_time": "2022-02-12T18:54:32.404Z"
   },
   {
    "duration": 34,
    "start_time": "2022-02-12T18:54:32.459Z"
   },
   {
    "duration": 13,
    "start_time": "2022-02-12T18:54:32.496Z"
   },
   {
    "duration": 75,
    "start_time": "2022-02-12T18:54:32.512Z"
   },
   {
    "duration": 9,
    "start_time": "2022-02-12T18:54:32.590Z"
   },
   {
    "duration": 13,
    "start_time": "2022-02-12T18:54:32.603Z"
   },
   {
    "duration": 90,
    "start_time": "2022-02-12T18:54:32.618Z"
   },
   {
    "duration": 89,
    "start_time": "2022-02-12T18:54:32.711Z"
   },
   {
    "duration": 45,
    "start_time": "2022-02-12T18:54:32.803Z"
   },
   {
    "duration": 9,
    "start_time": "2022-02-12T18:54:32.852Z"
   },
   {
    "duration": 12,
    "start_time": "2022-02-12T18:54:32.864Z"
   },
   {
    "duration": 22,
    "start_time": "2022-02-12T18:54:32.878Z"
   },
   {
    "duration": 62,
    "start_time": "2022-02-12T18:54:32.902Z"
   },
   {
    "duration": 8,
    "start_time": "2022-02-12T18:54:32.967Z"
   },
   {
    "duration": 25,
    "start_time": "2022-02-12T18:54:32.977Z"
   },
   {
    "duration": 60,
    "start_time": "2022-02-12T18:54:33.004Z"
   },
   {
    "duration": 16,
    "start_time": "2022-02-12T18:54:33.066Z"
   },
   {
    "duration": 33,
    "start_time": "2022-02-12T18:54:33.085Z"
   },
   {
    "duration": 77,
    "start_time": "2022-02-12T18:54:33.121Z"
   },
   {
    "duration": 5,
    "start_time": "2022-02-12T18:54:33.200Z"
   },
   {
    "duration": 16,
    "start_time": "2022-02-12T18:54:33.207Z"
   },
   {
    "duration": 64,
    "start_time": "2022-02-12T18:54:33.226Z"
   },
   {
    "duration": 12,
    "start_time": "2022-02-12T18:54:33.293Z"
   },
   {
    "duration": 64,
    "start_time": "2022-02-12T18:54:33.308Z"
   },
   {
    "duration": 10,
    "start_time": "2022-02-12T18:54:33.375Z"
   },
   {
    "duration": 9,
    "start_time": "2022-02-12T18:54:33.388Z"
   },
   {
    "duration": 198,
    "start_time": "2022-02-12T18:54:33.400Z"
   },
   {
    "duration": 6,
    "start_time": "2022-02-12T18:54:33.601Z"
   },
   {
    "duration": 1238,
    "start_time": "2022-02-12T18:54:33.610Z"
   },
   {
    "duration": 290,
    "start_time": "2022-02-12T18:54:34.851Z"
   },
   {
    "duration": 298,
    "start_time": "2022-02-12T18:54:35.144Z"
   },
   {
    "duration": 391,
    "start_time": "2022-02-12T18:54:35.444Z"
   },
   {
    "duration": 303,
    "start_time": "2022-02-12T18:54:35.838Z"
   },
   {
    "duration": 1340,
    "start_time": "2022-02-12T18:54:36.148Z"
   },
   {
    "duration": 1262,
    "start_time": "2022-02-12T18:54:37.491Z"
   },
   {
    "duration": 7,
    "start_time": "2022-02-12T18:54:38.756Z"
   },
   {
    "duration": 13,
    "start_time": "2022-02-12T18:54:38.766Z"
   },
   {
    "duration": 7,
    "start_time": "2022-02-12T18:54:38.781Z"
   },
   {
    "duration": 6,
    "start_time": "2022-02-12T18:54:38.795Z"
   },
   {
    "duration": 47,
    "start_time": "2022-02-12T18:54:38.803Z"
   },
   {
    "duration": 12,
    "start_time": "2022-02-12T18:54:38.852Z"
   },
   {
    "duration": 12,
    "start_time": "2022-02-12T18:54:38.866Z"
   },
   {
    "duration": 41,
    "start_time": "2022-02-12T18:54:38.880Z"
   },
   {
    "duration": 26,
    "start_time": "2022-02-12T18:54:38.924Z"
   },
   {
    "duration": 42,
    "start_time": "2022-02-12T18:54:38.953Z"
   },
   {
    "duration": 10,
    "start_time": "2022-02-12T18:54:38.998Z"
   },
   {
    "duration": 39,
    "start_time": "2022-02-12T18:54:39.011Z"
   },
   {
    "duration": 1875,
    "start_time": "2022-02-12T18:58:42.500Z"
   },
   {
    "duration": 405,
    "start_time": "2022-02-12T18:58:44.378Z"
   },
   {
    "duration": 23,
    "start_time": "2022-02-12T18:58:44.786Z"
   },
   {
    "duration": 41,
    "start_time": "2022-02-12T18:58:44.812Z"
   },
   {
    "duration": 22,
    "start_time": "2022-02-12T18:58:44.856Z"
   },
   {
    "duration": 30,
    "start_time": "2022-02-12T18:58:44.881Z"
   },
   {
    "duration": 37,
    "start_time": "2022-02-12T18:58:44.914Z"
   },
   {
    "duration": 25,
    "start_time": "2022-02-12T18:58:44.956Z"
   },
   {
    "duration": 34,
    "start_time": "2022-02-12T18:58:44.985Z"
   },
   {
    "duration": 29,
    "start_time": "2022-02-12T18:58:45.022Z"
   },
   {
    "duration": 35,
    "start_time": "2022-02-12T18:58:45.054Z"
   },
   {
    "duration": 21,
    "start_time": "2022-02-12T18:58:45.092Z"
   },
   {
    "duration": 23,
    "start_time": "2022-02-12T18:58:45.115Z"
   },
   {
    "duration": 18,
    "start_time": "2022-02-12T18:58:45.148Z"
   },
   {
    "duration": 15,
    "start_time": "2022-02-12T18:58:45.168Z"
   },
   {
    "duration": 13,
    "start_time": "2022-02-12T18:58:45.185Z"
   },
   {
    "duration": 15,
    "start_time": "2022-02-12T18:58:45.200Z"
   },
   {
    "duration": 31,
    "start_time": "2022-02-12T18:58:45.217Z"
   },
   {
    "duration": 14,
    "start_time": "2022-02-12T18:58:45.252Z"
   },
   {
    "duration": 14,
    "start_time": "2022-02-12T18:58:45.268Z"
   },
   {
    "duration": 17,
    "start_time": "2022-02-12T18:58:45.285Z"
   },
   {
    "duration": 16,
    "start_time": "2022-02-12T18:58:45.305Z"
   },
   {
    "duration": 12,
    "start_time": "2022-02-12T18:58:45.348Z"
   },
   {
    "duration": 22,
    "start_time": "2022-02-12T18:58:45.365Z"
   },
   {
    "duration": 21,
    "start_time": "2022-02-12T18:58:45.389Z"
   },
   {
    "duration": 8,
    "start_time": "2022-02-12T18:58:45.412Z"
   },
   {
    "duration": 21,
    "start_time": "2022-02-12T18:58:45.422Z"
   },
   {
    "duration": 11,
    "start_time": "2022-02-12T18:58:45.446Z"
   },
   {
    "duration": 12,
    "start_time": "2022-02-12T18:58:45.459Z"
   },
   {
    "duration": 11,
    "start_time": "2022-02-12T18:58:45.474Z"
   },
   {
    "duration": 26,
    "start_time": "2022-02-12T18:58:45.488Z"
   },
   {
    "duration": 11,
    "start_time": "2022-02-12T18:58:45.517Z"
   },
   {
    "duration": 52,
    "start_time": "2022-02-12T18:58:45.531Z"
   },
   {
    "duration": 13,
    "start_time": "2022-02-12T18:58:45.586Z"
   },
   {
    "duration": 9,
    "start_time": "2022-02-12T18:58:45.603Z"
   },
   {
    "duration": 67,
    "start_time": "2022-02-12T18:58:45.614Z"
   },
   {
    "duration": 65,
    "start_time": "2022-02-12T18:58:45.683Z"
   },
   {
    "duration": 26,
    "start_time": "2022-02-12T18:58:45.751Z"
   },
   {
    "duration": 9,
    "start_time": "2022-02-12T18:58:45.779Z"
   },
   {
    "duration": 10,
    "start_time": "2022-02-12T18:58:45.790Z"
   },
   {
    "duration": 20,
    "start_time": "2022-02-12T18:58:45.802Z"
   },
   {
    "duration": 53,
    "start_time": "2022-02-12T18:58:45.825Z"
   },
   {
    "duration": 8,
    "start_time": "2022-02-12T18:58:45.881Z"
   },
   {
    "duration": 82,
    "start_time": "2022-02-12T18:58:45.892Z"
   },
   {
    "duration": 91,
    "start_time": "2022-02-12T18:58:45.977Z"
   },
   {
    "duration": 81,
    "start_time": "2022-02-12T18:58:46.071Z"
   },
   {
    "duration": 30,
    "start_time": "2022-02-12T18:58:46.154Z"
   },
   {
    "duration": 97,
    "start_time": "2022-02-12T18:58:46.186Z"
   },
   {
    "duration": 4,
    "start_time": "2022-02-12T18:58:46.285Z"
   },
   {
    "duration": 59,
    "start_time": "2022-02-12T18:58:46.292Z"
   },
   {
    "duration": 100,
    "start_time": "2022-02-12T18:58:46.354Z"
   },
   {
    "duration": 10,
    "start_time": "2022-02-12T18:58:46.457Z"
   },
   {
    "duration": 109,
    "start_time": "2022-02-12T18:58:46.470Z"
   },
   {
    "duration": 12,
    "start_time": "2022-02-12T18:58:46.582Z"
   },
   {
    "duration": 10,
    "start_time": "2022-02-12T18:58:46.650Z"
   },
   {
    "duration": 215,
    "start_time": "2022-02-12T18:58:46.662Z"
   },
   {
    "duration": 5,
    "start_time": "2022-02-12T18:58:46.879Z"
   },
   {
    "duration": 1950,
    "start_time": "2022-02-12T18:58:46.886Z"
   },
   {
    "duration": 350,
    "start_time": "2022-02-12T18:58:48.848Z"
   },
   {
    "duration": 316,
    "start_time": "2022-02-12T18:58:49.201Z"
   },
   {
    "duration": 404,
    "start_time": "2022-02-12T18:58:49.519Z"
   },
   {
    "duration": 314,
    "start_time": "2022-02-12T18:58:49.926Z"
   },
   {
    "duration": 1355,
    "start_time": "2022-02-12T18:58:50.248Z"
   },
   {
    "duration": 1488,
    "start_time": "2022-02-12T18:58:51.605Z"
   },
   {
    "duration": 8,
    "start_time": "2022-02-12T18:58:53.096Z"
   },
   {
    "duration": 14,
    "start_time": "2022-02-12T18:58:53.106Z"
   },
   {
    "duration": 7,
    "start_time": "2022-02-12T18:58:53.148Z"
   },
   {
    "duration": 7,
    "start_time": "2022-02-12T18:58:53.162Z"
   },
   {
    "duration": 10,
    "start_time": "2022-02-12T18:58:53.171Z"
   },
   {
    "duration": 9,
    "start_time": "2022-02-12T18:58:53.184Z"
   },
   {
    "duration": 9,
    "start_time": "2022-02-12T18:58:53.195Z"
   },
   {
    "duration": 73,
    "start_time": "2022-02-12T18:58:53.206Z"
   },
   {
    "duration": 5,
    "start_time": "2022-02-12T18:58:53.282Z"
   },
   {
    "duration": 60,
    "start_time": "2022-02-12T18:58:53.290Z"
   },
   {
    "duration": 8,
    "start_time": "2022-02-12T18:58:53.352Z"
   },
   {
    "duration": 13,
    "start_time": "2022-02-12T18:58:53.363Z"
   },
   {
    "duration": 1439,
    "start_time": "2022-07-17T17:31:11.716Z"
   },
   {
    "duration": 807,
    "start_time": "2022-07-17T17:31:13.157Z"
   },
   {
    "duration": 18,
    "start_time": "2022-07-17T17:31:13.966Z"
   },
   {
    "duration": 32,
    "start_time": "2022-07-17T17:31:13.986Z"
   },
   {
    "duration": 21,
    "start_time": "2022-07-17T17:31:14.021Z"
   },
   {
    "duration": 17,
    "start_time": "2022-07-17T17:31:14.044Z"
   },
   {
    "duration": 52,
    "start_time": "2022-07-17T17:31:14.063Z"
   },
   {
    "duration": 20,
    "start_time": "2022-07-17T17:31:14.118Z"
   },
   {
    "duration": 24,
    "start_time": "2022-07-17T17:31:14.141Z"
   },
   {
    "duration": 40,
    "start_time": "2022-07-17T17:31:14.167Z"
   },
   {
    "duration": 40,
    "start_time": "2022-07-17T17:31:14.208Z"
   },
   {
    "duration": 18,
    "start_time": "2022-07-17T17:31:14.249Z"
   },
   {
    "duration": 19,
    "start_time": "2022-07-17T17:31:14.269Z"
   },
   {
    "duration": 18,
    "start_time": "2022-07-17T17:31:14.303Z"
   },
   {
    "duration": 22,
    "start_time": "2022-07-17T17:31:14.323Z"
   },
   {
    "duration": 16,
    "start_time": "2022-07-17T17:31:14.347Z"
   },
   {
    "duration": 15,
    "start_time": "2022-07-17T17:31:14.365Z"
   },
   {
    "duration": 47,
    "start_time": "2022-07-17T17:31:14.381Z"
   },
   {
    "duration": 22,
    "start_time": "2022-07-17T17:31:14.430Z"
   },
   {
    "duration": 17,
    "start_time": "2022-07-17T17:31:14.454Z"
   },
   {
    "duration": 23,
    "start_time": "2022-07-17T17:31:14.473Z"
   },
   {
    "duration": 19,
    "start_time": "2022-07-17T17:31:14.499Z"
   },
   {
    "duration": 17,
    "start_time": "2022-07-17T17:31:14.520Z"
   },
   {
    "duration": 18,
    "start_time": "2022-07-17T17:31:14.538Z"
   },
   {
    "duration": 27,
    "start_time": "2022-07-17T17:31:14.558Z"
   },
   {
    "duration": 39,
    "start_time": "2022-07-17T17:31:14.587Z"
   },
   {
    "duration": 18,
    "start_time": "2022-07-17T17:31:14.627Z"
   },
   {
    "duration": 21,
    "start_time": "2022-07-17T17:31:14.647Z"
   },
   {
    "duration": 20,
    "start_time": "2022-07-17T17:31:14.670Z"
   },
   {
    "duration": 19,
    "start_time": "2022-07-17T17:31:14.692Z"
   },
   {
    "duration": 30,
    "start_time": "2022-07-17T17:31:14.713Z"
   },
   {
    "duration": 14,
    "start_time": "2022-07-17T17:31:14.745Z"
   },
   {
    "duration": 32,
    "start_time": "2022-07-17T17:31:14.760Z"
   },
   {
    "duration": 22,
    "start_time": "2022-07-17T17:31:14.794Z"
   },
   {
    "duration": 13,
    "start_time": "2022-07-17T17:31:14.819Z"
   },
   {
    "duration": 53,
    "start_time": "2022-07-17T17:31:14.834Z"
   },
   {
    "duration": 82,
    "start_time": "2022-07-17T17:31:14.889Z"
   },
   {
    "duration": 42,
    "start_time": "2022-07-17T17:31:14.973Z"
   },
   {
    "duration": 7,
    "start_time": "2022-07-17T17:31:15.017Z"
   },
   {
    "duration": 19,
    "start_time": "2022-07-17T17:31:15.026Z"
   },
   {
    "duration": 18,
    "start_time": "2022-07-17T17:31:15.051Z"
   },
   {
    "duration": 52,
    "start_time": "2022-07-17T17:31:15.071Z"
   },
   {
    "duration": 6,
    "start_time": "2022-07-17T17:31:15.125Z"
   },
   {
    "duration": 32,
    "start_time": "2022-07-17T17:31:15.133Z"
   },
   {
    "duration": 24,
    "start_time": "2022-07-17T17:31:15.167Z"
   },
   {
    "duration": 17,
    "start_time": "2022-07-17T17:31:15.205Z"
   },
   {
    "duration": 31,
    "start_time": "2022-07-17T17:31:15.223Z"
   },
   {
    "duration": 48,
    "start_time": "2022-07-17T17:31:15.256Z"
   },
   {
    "duration": 5,
    "start_time": "2022-07-17T17:31:15.306Z"
   },
   {
    "duration": 20,
    "start_time": "2022-07-17T17:31:15.312Z"
   },
   {
    "duration": 50,
    "start_time": "2022-07-17T17:31:15.334Z"
   },
   {
    "duration": 9,
    "start_time": "2022-07-17T17:31:15.385Z"
   },
   {
    "duration": 45,
    "start_time": "2022-07-17T17:31:15.395Z"
   },
   {
    "duration": 8,
    "start_time": "2022-07-17T17:31:15.442Z"
   },
   {
    "duration": 12,
    "start_time": "2022-07-17T17:31:15.452Z"
   },
   {
    "duration": 98,
    "start_time": "2022-07-17T17:31:15.465Z"
   },
   {
    "duration": 4,
    "start_time": "2022-07-17T17:31:15.565Z"
   },
   {
    "duration": 650,
    "start_time": "2022-07-17T17:31:15.571Z"
   },
   {
    "duration": 162,
    "start_time": "2022-07-17T17:31:16.223Z"
   },
   {
    "duration": 178,
    "start_time": "2022-07-17T17:31:16.387Z"
   },
   {
    "duration": 291,
    "start_time": "2022-07-17T17:31:16.568Z"
   },
   {
    "duration": 179,
    "start_time": "2022-07-17T17:31:16.861Z"
   },
   {
    "duration": 741,
    "start_time": "2022-07-17T17:31:17.042Z"
   },
   {
    "duration": 755,
    "start_time": "2022-07-17T17:31:17.786Z"
   },
   {
    "duration": 6,
    "start_time": "2022-07-17T17:31:18.543Z"
   },
   {
    "duration": 57,
    "start_time": "2022-07-17T17:31:18.550Z"
   },
   {
    "duration": 31,
    "start_time": "2022-07-17T17:31:18.609Z"
   },
   {
    "duration": 37,
    "start_time": "2022-07-17T17:31:18.642Z"
   },
   {
    "duration": 18,
    "start_time": "2022-07-17T17:31:18.681Z"
   },
   {
    "duration": 21,
    "start_time": "2022-07-17T17:31:18.700Z"
   },
   {
    "duration": 24,
    "start_time": "2022-07-17T17:31:18.723Z"
   },
   {
    "duration": 41,
    "start_time": "2022-07-17T17:31:18.749Z"
   },
   {
    "duration": 17,
    "start_time": "2022-07-17T17:31:18.792Z"
   },
   {
    "duration": 43,
    "start_time": "2022-07-17T17:31:18.811Z"
   },
   {
    "duration": 6,
    "start_time": "2022-07-17T17:31:18.856Z"
   },
   {
    "duration": 13,
    "start_time": "2022-07-17T17:31:18.863Z"
   }
  ],
  "kernelspec": {
   "display_name": "Python 3 (ipykernel)",
   "language": "python",
   "name": "python3"
  },
  "language_info": {
   "codemirror_mode": {
    "name": "ipython",
    "version": 3
   },
   "file_extension": ".py",
   "mimetype": "text/x-python",
   "name": "python",
   "nbconvert_exporter": "python",
   "pygments_lexer": "ipython3",
   "version": "3.9.5"
  },
  "toc": {
   "base_numbering": 1,
   "nav_menu": {},
   "number_sections": true,
   "sideBar": true,
   "skip_h1_title": true,
   "title_cell": "Table of Contents",
   "title_sidebar": "Contents",
   "toc_cell": false,
   "toc_position": {},
   "toc_section_display": true,
   "toc_window_display": false
  }
 },
 "nbformat": 4,
 "nbformat_minor": 4
}
